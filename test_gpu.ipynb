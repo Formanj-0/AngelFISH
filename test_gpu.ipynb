{
 "cells": [
  {
   "cell_type": "code",
   "execution_count": 1,
   "id": "2c103cce",
   "metadata": {},
   "outputs": [
    {
     "name": "stdout",
     "output_type": "stream",
     "text": [
      "GPU Available: True\n",
      "Number of GPUs: 2\n",
      "\n",
      "GPU 0:\n",
      "  Name: NVIDIA GeForce RTX 2070\n",
      "  Total Memory: 8.00 GB\n",
      "  Current Memory Allocated: 0.00 MB\n",
      "  Current Memory Cached: 0.00 MB\n",
      "  Capability: 7.5\n",
      "\n",
      "GPU 1:\n",
      "  Name: NVIDIA GeForce RTX 2070\n",
      "  Total Memory: 8.00 GB\n",
      "  Current Memory Allocated: 0.00 MB\n",
      "  Current Memory Cached: 0.00 MB\n",
      "  Capability: 7.5\n"
     ]
    }
   ],
   "source": [
    "import torch\n",
    "\n",
    "def gpu_stats():\n",
    "    gpu_available = torch.cuda.is_available()\n",
    "    num_gpus = torch.cuda.device_count()\n",
    "    print(f\"GPU Available: {gpu_available}\")\n",
    "    print(f\"Number of GPUs: {num_gpus}\")\n",
    "    if gpu_available and num_gpus > 0:\n",
    "        for i in range(num_gpus):\n",
    "            print(f\"\\nGPU {i}:\")\n",
    "            print(f\"  Name: {torch.cuda.get_device_name(i)}\")\n",
    "            print(f\"  Total Memory: {torch.cuda.get_device_properties(i).total_memory / (1024 ** 3):.2f} GB\")\n",
    "            print(f\"  Current Memory Allocated: {torch.cuda.memory_allocated(i) / (1024 ** 2):.2f} MB\")\n",
    "            print(f\"  Current Memory Cached: {torch.cuda.memory_reserved(i) / (1024 ** 2):.2f} MB\")\n",
    "            print(f\"  Capability: {torch.cuda.get_device_properties(i).major}.{torch.cuda.get_device_properties(i).minor}\")\n",
    "\n",
    "gpu_stats()"
   ]
  },
  {
   "cell_type": "code",
   "execution_count": null,
   "id": "edf1e9ef",
   "metadata": {},
   "outputs": [],
   "source": []
  }
 ],
 "metadata": {
  "kernelspec": {
   "display_name": ".venv",
   "language": "python",
   "name": "python3"
  },
  "language_info": {
   "codemirror_mode": {
    "name": "ipython",
    "version": 3
   },
   "file_extension": ".py",
   "mimetype": "text/x-python",
   "name": "python",
   "nbconvert_exporter": "python",
   "pygments_lexer": "ipython3",
   "version": "3.12.10"
  }
 },
 "nbformat": 4,
 "nbformat_minor": 5
}
