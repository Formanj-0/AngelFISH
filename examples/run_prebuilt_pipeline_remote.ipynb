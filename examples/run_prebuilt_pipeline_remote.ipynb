{
 "cells": [
  {
   "cell_type": "code",
   "execution_count": null,
   "id": "b36c4807",
   "metadata": {},
   "outputs": [],
   "source": [
    "# %%\n",
    "import sys\n",
    "import os\n",
    "import luigi\n",
    "import sciluigi as sl\n",
    "import logging\n",
    "\n",
    "sys.path.append('..')\n",
    "# everyone needs to be quite \n",
    "logging.getLogger().setLevel(logging.WARNING)\n",
    "logging.getLogger('SMB').setLevel(logging.WARNING)\n",
    "logging.getLogger('napari').setLevel(logging.WARNING)\n",
    "logging.getLogger('matplotlib').setLevel(logging.WARNING)\n",
    "logging.getLogger('in_n_out').setLevel(logging.WARNING)\n",
    "logging.getLogger('numcodecs').setLevel(logging.WARNING)\n",
    "logging.getLogger('numba').setLevel(logging.WARNING)\n",
    "logging.getLogger('luigi').setLevel(logging.WARNING)\n",
    "logging.getLogger('numexpr').setLevel(logging.WARNING)\n",
    "logging.getLogger('luigi-interface').setLevel(logging.WARNING)\n",
    "logging.getLogger('sciluigi-interface').setLevel(logging.WARNING)\n",
    "logging.getLogger('cellpose').setLevel(logging.WARNING)\n",
    "\n",
    "\n",
    "\n",
    "from src import Receipt\n",
    "from src.steps import get_task"
   ]
  },
  {
   "cell_type": "code",
   "execution_count": null,
   "id": "f02fec92",
   "metadata": {},
   "outputs": [],
   "source": [
    "from luigi.contrib.ssh import RemoteTarget\n",
    "\n",
    "class AngelFISHLuigiTask(sl.ExternalTask):\n",
    "    receipt_path = luigi.Parameter()\n",
    "    step_name = luigi.Parameter()\n",
    "    output_path = luigi.Parameter()\n",
    "\n",
    "    @property\n",
    "    def task_name(self):\n",
    "        return self.step_name\n",
    "\n",
    "    def out_doneflag(self):\n",
    "        return RemoteTarget(self, self.output_path)\n",
    "\n",
    "    def run(self):\n",
    "        receipt = Receipt(path=self.receipt_path)\n",
    "        task_class = get_task(receipt['steps'][self.step_name]['task_name'])\n",
    "        task = task_class(receipt, self.step_name)\n",
    "\n",
    "        command = f\"sbatch run_step.sh {self.receipt_path} {self.step_name}\"\n",
    "        subprocess.run(['ssh', 'user@remote-hpc', command], check=True)"
   ]
  },
  {
   "cell_type": "code",
   "execution_count": null,
   "id": "124da091",
   "metadata": {},
   "outputs": [],
   "source": [
    "class Upload_Task(sl.ExternalTask):\n",
    "    pass # this needs to upload receipt_path to the cluster"
   ]
  },
  {
   "cell_type": "code",
   "execution_count": null,
   "id": "ed5eb320",
   "metadata": {},
   "outputs": [],
   "source": [
    "class AngelFISHWorkflow(sl.WorkflowTask):\n",
    "    receipt_path = luigi.Parameter() # this location will get change along the execution of the workflow\n",
    "\n",
    "    def workflow(self):\n",
    "        # upload \n",
    "\n",
    "\n",
    "\n",
    "\n",
    "\n",
    "\n",
    "        receipt = Receipt(path=self.receipt_path)\n",
    "        step_order = receipt['step_order']\n",
    "\n",
    "        previous_task = None\n",
    "        task_refs = []\n",
    "        for step_name in step_order:\n",
    "            path = os.path.join(receipt['dirs']['status_dir'], f'step_{step_name}.txt') # we need this to match the computer we are on\n",
    "            step_task = self.new_task(\n",
    "                step_name,\n",
    "                AngelFISHLuigiTask,\n",
    "                receipt_path=self.receipt_path,\n",
    "                step_name=step_name,\n",
    "                output_path=path\n",
    "            )\n",
    "\n",
    "            # Add dependency chain\n",
    "            if previous_task is not None:\n",
    "                step_task.in_upstream = previous_task.out_doneflag\n",
    "            previous_task = step_task\n",
    "            task_refs.append(step_task)\n",
    "        return task_refs"
   ]
  },
  {
   "cell_type": "code",
   "execution_count": null,
   "id": "1d7fb971",
   "metadata": {},
   "outputs": [],
   "source": []
  },
  {
   "cell_type": "code",
   "execution_count": 4,
   "id": "893cfdd4",
   "metadata": {},
   "outputs": [
    {
     "name": "stderr",
     "output_type": "stream",
     "text": [
      "DEBUG: Checking if AngelFISHLuigiTask(workflow_task=AngelFISHWorkflow(instance_name=sciluigi_workflow, receipt_path=C:\\Users\\formanj\\GitHub\\AngelFISH\\examples\\new_pipeline.json), instance_name=download_data, receipt_path=C:\\Users\\formanj\\GitHub\\AngelFISH\\examples\\new_pipeline.json, step_name=download_data, output_path=c:\\Users\\formanj\\GitHub\\AngelFISH\\database\\SS004_10min_100nM_7\\default_name\\status\\step_download_data.txt) is complete\n",
      "DEBUG:luigi-interface:Checking if AngelFISHLuigiTask(workflow_task=AngelFISHWorkflow(instance_name=sciluigi_workflow, receipt_path=C:\\Users\\formanj\\GitHub\\AngelFISH\\examples\\new_pipeline.json), instance_name=download_data, receipt_path=C:\\Users\\formanj\\GitHub\\AngelFISH\\examples\\new_pipeline.json, step_name=download_data, output_path=c:\\Users\\formanj\\GitHub\\AngelFISH\\database\\SS004_10min_100nM_7\\default_name\\status\\step_download_data.txt) is complete\n",
      "2025-07-30 14:05:38 |     INFO | Informed scheduler that task   AngelFISHLuigiTask_download_data_c__Users_formanj_C__Users_formanj_2ae5d09ef9   has status   PENDING\n",
      "INFO: Informed scheduler that task   AngelFISHLuigiTask_download_data_c__Users_formanj_C__Users_formanj_2ae5d09ef9   has status   PENDING\n",
      "INFO:luigi-interface:Informed scheduler that task   AngelFISHLuigiTask_download_data_c__Users_formanj_C__Users_formanj_2ae5d09ef9   has status   PENDING\n",
      "DEBUG: Checking if AngelFISHLuigiTask(workflow_task=AngelFISHWorkflow(instance_name=sciluigi_workflow, receipt_path=C:\\Users\\formanj\\GitHub\\AngelFISH\\examples\\new_pipeline.json), instance_name=segment_nuc, receipt_path=C:\\Users\\formanj\\GitHub\\AngelFISH\\examples\\new_pipeline.json, step_name=segment_nuc, output_path=c:\\Users\\formanj\\GitHub\\AngelFISH\\database\\SS004_10min_100nM_7\\default_name\\status\\step_segment_nuc.txt) is complete\n",
      "DEBUG:luigi-interface:Checking if AngelFISHLuigiTask(workflow_task=AngelFISHWorkflow(instance_name=sciluigi_workflow, receipt_path=C:\\Users\\formanj\\GitHub\\AngelFISH\\examples\\new_pipeline.json), instance_name=segment_nuc, receipt_path=C:\\Users\\formanj\\GitHub\\AngelFISH\\examples\\new_pipeline.json, step_name=segment_nuc, output_path=c:\\Users\\formanj\\GitHub\\AngelFISH\\database\\SS004_10min_100nM_7\\default_name\\status\\step_segment_nuc.txt) is complete\n",
      "DEBUG: Checking if AngelFISHLuigiTask(workflow_task=AngelFISHWorkflow(instance_name=sciluigi_workflow, receipt_path=C:\\Users\\formanj\\GitHub\\AngelFISH\\examples\\new_pipeline.json), instance_name=download_data, receipt_path=C:\\Users\\formanj\\GitHub\\AngelFISH\\examples\\new_pipeline.json, step_name=download_data, output_path=c:\\Users\\formanj\\GitHub\\AngelFISH\\database\\SS004_10min_100nM_7\\default_name\\status\\step_download_data.txt) is complete\n",
      "DEBUG:luigi-interface:Checking if AngelFISHLuigiTask(workflow_task=AngelFISHWorkflow(instance_name=sciluigi_workflow, receipt_path=C:\\Users\\formanj\\GitHub\\AngelFISH\\examples\\new_pipeline.json), instance_name=download_data, receipt_path=C:\\Users\\formanj\\GitHub\\AngelFISH\\examples\\new_pipeline.json, step_name=download_data, output_path=c:\\Users\\formanj\\GitHub\\AngelFISH\\database\\SS004_10min_100nM_7\\default_name\\status\\step_download_data.txt) is complete\n",
      "2025-07-30 14:05:38 |     INFO | Informed scheduler that task   AngelFISHLuigiTask_segment_nuc_c__Users_formanj_C__Users_formanj_ee01b719d6   has status   PENDING\n",
      "INFO: Informed scheduler that task   AngelFISHLuigiTask_segment_nuc_c__Users_formanj_C__Users_formanj_ee01b719d6   has status   PENDING\n",
      "INFO:luigi-interface:Informed scheduler that task   AngelFISHLuigiTask_segment_nuc_c__Users_formanj_C__Users_formanj_ee01b719d6   has status   PENDING\n",
      "2025-07-30 14:05:38 |     INFO | Informed scheduler that task   AngelFISHLuigiTask_download_data_c__Users_formanj_C__Users_formanj_2ae5d09ef9   has status   PENDING\n",
      "INFO: Informed scheduler that task   AngelFISHLuigiTask_download_data_c__Users_formanj_C__Users_formanj_2ae5d09ef9   has status   PENDING\n",
      "INFO:luigi-interface:Informed scheduler that task   AngelFISHLuigiTask_download_data_c__Users_formanj_C__Users_formanj_2ae5d09ef9   has status   PENDING\n",
      "DEBUG: Checking if AngelFISHLuigiTask(workflow_task=AngelFISHWorkflow(instance_name=sciluigi_workflow, receipt_path=C:\\Users\\formanj\\GitHub\\AngelFISH\\examples\\new_pipeline.json), instance_name=segment_cyto, receipt_path=C:\\Users\\formanj\\GitHub\\AngelFISH\\examples\\new_pipeline.json, step_name=segment_cyto, output_path=c:\\Users\\formanj\\GitHub\\AngelFISH\\database\\SS004_10min_100nM_7\\default_name\\status\\step_segment_cyto.txt) is complete\n",
      "DEBUG:luigi-interface:Checking if AngelFISHLuigiTask(workflow_task=AngelFISHWorkflow(instance_name=sciluigi_workflow, receipt_path=C:\\Users\\formanj\\GitHub\\AngelFISH\\examples\\new_pipeline.json), instance_name=segment_cyto, receipt_path=C:\\Users\\formanj\\GitHub\\AngelFISH\\examples\\new_pipeline.json, step_name=segment_cyto, output_path=c:\\Users\\formanj\\GitHub\\AngelFISH\\database\\SS004_10min_100nM_7\\default_name\\status\\step_segment_cyto.txt) is complete\n",
      "DEBUG: Checking if AngelFISHLuigiTask(workflow_task=AngelFISHWorkflow(instance_name=sciluigi_workflow, receipt_path=C:\\Users\\formanj\\GitHub\\AngelFISH\\examples\\new_pipeline.json), instance_name=segment_nuc, receipt_path=C:\\Users\\formanj\\GitHub\\AngelFISH\\examples\\new_pipeline.json, step_name=segment_nuc, output_path=c:\\Users\\formanj\\GitHub\\AngelFISH\\database\\SS004_10min_100nM_7\\default_name\\status\\step_segment_nuc.txt) is complete\n",
      "DEBUG:luigi-interface:Checking if AngelFISHLuigiTask(workflow_task=AngelFISHWorkflow(instance_name=sciluigi_workflow, receipt_path=C:\\Users\\formanj\\GitHub\\AngelFISH\\examples\\new_pipeline.json), instance_name=segment_nuc, receipt_path=C:\\Users\\formanj\\GitHub\\AngelFISH\\examples\\new_pipeline.json, step_name=segment_nuc, output_path=c:\\Users\\formanj\\GitHub\\AngelFISH\\database\\SS004_10min_100nM_7\\default_name\\status\\step_segment_nuc.txt) is complete\n",
      "2025-07-30 14:05:38 |     INFO | Informed scheduler that task   AngelFISHLuigiTask_segment_cyto_c__Users_formanj_C__Users_formanj_ce8a063edc   has status   PENDING\n",
      "INFO: Informed scheduler that task   AngelFISHLuigiTask_segment_cyto_c__Users_formanj_C__Users_formanj_ce8a063edc   has status   PENDING\n",
      "INFO:luigi-interface:Informed scheduler that task   AngelFISHLuigiTask_segment_cyto_c__Users_formanj_C__Users_formanj_ce8a063edc   has status   PENDING\n",
      "DEBUG: Checking if AngelFISHLuigiTask(workflow_task=AngelFISHWorkflow(instance_name=sciluigi_workflow, receipt_path=C:\\Users\\formanj\\GitHub\\AngelFISH\\examples\\new_pipeline.json), instance_name=download_data, receipt_path=C:\\Users\\formanj\\GitHub\\AngelFISH\\examples\\new_pipeline.json, step_name=download_data, output_path=c:\\Users\\formanj\\GitHub\\AngelFISH\\database\\SS004_10min_100nM_7\\default_name\\status\\step_download_data.txt) is complete\n",
      "DEBUG:luigi-interface:Checking if AngelFISHLuigiTask(workflow_task=AngelFISHWorkflow(instance_name=sciluigi_workflow, receipt_path=C:\\Users\\formanj\\GitHub\\AngelFISH\\examples\\new_pipeline.json), instance_name=download_data, receipt_path=C:\\Users\\formanj\\GitHub\\AngelFISH\\examples\\new_pipeline.json, step_name=download_data, output_path=c:\\Users\\formanj\\GitHub\\AngelFISH\\database\\SS004_10min_100nM_7\\default_name\\status\\step_download_data.txt) is complete\n",
      "2025-07-30 14:05:38 |     INFO | Informed scheduler that task   AngelFISHLuigiTask_segment_nuc_c__Users_formanj_C__Users_formanj_ee01b719d6   has status   PENDING\n",
      "INFO: Informed scheduler that task   AngelFISHLuigiTask_segment_nuc_c__Users_formanj_C__Users_formanj_ee01b719d6   has status   PENDING\n",
      "INFO:luigi-interface:Informed scheduler that task   AngelFISHLuigiTask_segment_nuc_c__Users_formanj_C__Users_formanj_ee01b719d6   has status   PENDING\n",
      "2025-07-30 14:05:38 |     INFO | Informed scheduler that task   AngelFISHLuigiTask_download_data_c__Users_formanj_C__Users_formanj_2ae5d09ef9   has status   PENDING\n",
      "INFO: Informed scheduler that task   AngelFISHLuigiTask_download_data_c__Users_formanj_C__Users_formanj_2ae5d09ef9   has status   PENDING\n",
      "INFO:luigi-interface:Informed scheduler that task   AngelFISHLuigiTask_download_data_c__Users_formanj_C__Users_formanj_2ae5d09ef9   has status   PENDING\n",
      "DEBUG: Checking if AngelFISHLuigiTask(workflow_task=AngelFISHWorkflow(instance_name=sciluigi_workflow, receipt_path=C:\\Users\\formanj\\GitHub\\AngelFISH\\examples\\new_pipeline.json), instance_name=match_cyto_and_nuc, receipt_path=C:\\Users\\formanj\\GitHub\\AngelFISH\\examples\\new_pipeline.json, step_name=match_cyto_and_nuc, output_path=c:\\Users\\formanj\\GitHub\\AngelFISH\\database\\SS004_10min_100nM_7\\default_name\\status\\step_match_cyto_and_nuc.txt) is complete\n",
      "DEBUG:luigi-interface:Checking if AngelFISHLuigiTask(workflow_task=AngelFISHWorkflow(instance_name=sciluigi_workflow, receipt_path=C:\\Users\\formanj\\GitHub\\AngelFISH\\examples\\new_pipeline.json), instance_name=match_cyto_and_nuc, receipt_path=C:\\Users\\formanj\\GitHub\\AngelFISH\\examples\\new_pipeline.json, step_name=match_cyto_and_nuc, output_path=c:\\Users\\formanj\\GitHub\\AngelFISH\\database\\SS004_10min_100nM_7\\default_name\\status\\step_match_cyto_and_nuc.txt) is complete\n",
      "DEBUG: Checking if AngelFISHLuigiTask(workflow_task=AngelFISHWorkflow(instance_name=sciluigi_workflow, receipt_path=C:\\Users\\formanj\\GitHub\\AngelFISH\\examples\\new_pipeline.json), instance_name=segment_cyto, receipt_path=C:\\Users\\formanj\\GitHub\\AngelFISH\\examples\\new_pipeline.json, step_name=segment_cyto, output_path=c:\\Users\\formanj\\GitHub\\AngelFISH\\database\\SS004_10min_100nM_7\\default_name\\status\\step_segment_cyto.txt) is complete\n",
      "DEBUG:luigi-interface:Checking if AngelFISHLuigiTask(workflow_task=AngelFISHWorkflow(instance_name=sciluigi_workflow, receipt_path=C:\\Users\\formanj\\GitHub\\AngelFISH\\examples\\new_pipeline.json), instance_name=segment_cyto, receipt_path=C:\\Users\\formanj\\GitHub\\AngelFISH\\examples\\new_pipeline.json, step_name=segment_cyto, output_path=c:\\Users\\formanj\\GitHub\\AngelFISH\\database\\SS004_10min_100nM_7\\default_name\\status\\step_segment_cyto.txt) is complete\n",
      "2025-07-30 14:05:38 |     INFO | Informed scheduler that task   AngelFISHLuigiTask_match_cyto_and_n_c__Users_formanj_C__Users_formanj_a2c66b5bf1   has status   PENDING\n",
      "INFO: Informed scheduler that task   AngelFISHLuigiTask_match_cyto_and_n_c__Users_formanj_C__Users_formanj_a2c66b5bf1   has status   PENDING\n",
      "INFO:luigi-interface:Informed scheduler that task   AngelFISHLuigiTask_match_cyto_and_n_c__Users_formanj_C__Users_formanj_a2c66b5bf1   has status   PENDING\n",
      "DEBUG: Checking if AngelFISHLuigiTask(workflow_task=AngelFISHWorkflow(instance_name=sciluigi_workflow, receipt_path=C:\\Users\\formanj\\GitHub\\AngelFISH\\examples\\new_pipeline.json), instance_name=segment_nuc, receipt_path=C:\\Users\\formanj\\GitHub\\AngelFISH\\examples\\new_pipeline.json, step_name=segment_nuc, output_path=c:\\Users\\formanj\\GitHub\\AngelFISH\\database\\SS004_10min_100nM_7\\default_name\\status\\step_segment_nuc.txt) is complete\n",
      "DEBUG:luigi-interface:Checking if AngelFISHLuigiTask(workflow_task=AngelFISHWorkflow(instance_name=sciluigi_workflow, receipt_path=C:\\Users\\formanj\\GitHub\\AngelFISH\\examples\\new_pipeline.json), instance_name=segment_nuc, receipt_path=C:\\Users\\formanj\\GitHub\\AngelFISH\\examples\\new_pipeline.json, step_name=segment_nuc, output_path=c:\\Users\\formanj\\GitHub\\AngelFISH\\database\\SS004_10min_100nM_7\\default_name\\status\\step_segment_nuc.txt) is complete\n",
      "2025-07-30 14:05:38 |     INFO | Informed scheduler that task   AngelFISHLuigiTask_segment_cyto_c__Users_formanj_C__Users_formanj_ce8a063edc   has status   PENDING\n",
      "INFO: Informed scheduler that task   AngelFISHLuigiTask_segment_cyto_c__Users_formanj_C__Users_formanj_ce8a063edc   has status   PENDING\n",
      "INFO:luigi-interface:Informed scheduler that task   AngelFISHLuigiTask_segment_cyto_c__Users_formanj_C__Users_formanj_ce8a063edc   has status   PENDING\n",
      "DEBUG: Checking if AngelFISHLuigiTask(workflow_task=AngelFISHWorkflow(instance_name=sciluigi_workflow, receipt_path=C:\\Users\\formanj\\GitHub\\AngelFISH\\examples\\new_pipeline.json), instance_name=download_data, receipt_path=C:\\Users\\formanj\\GitHub\\AngelFISH\\examples\\new_pipeline.json, step_name=download_data, output_path=c:\\Users\\formanj\\GitHub\\AngelFISH\\database\\SS004_10min_100nM_7\\default_name\\status\\step_download_data.txt) is complete\n",
      "DEBUG:luigi-interface:Checking if AngelFISHLuigiTask(workflow_task=AngelFISHWorkflow(instance_name=sciluigi_workflow, receipt_path=C:\\Users\\formanj\\GitHub\\AngelFISH\\examples\\new_pipeline.json), instance_name=download_data, receipt_path=C:\\Users\\formanj\\GitHub\\AngelFISH\\examples\\new_pipeline.json, step_name=download_data, output_path=c:\\Users\\formanj\\GitHub\\AngelFISH\\database\\SS004_10min_100nM_7\\default_name\\status\\step_download_data.txt) is complete\n",
      "2025-07-30 14:05:38 |     INFO | Informed scheduler that task   AngelFISHLuigiTask_segment_nuc_c__Users_formanj_C__Users_formanj_ee01b719d6   has status   PENDING\n",
      "INFO: Informed scheduler that task   AngelFISHLuigiTask_segment_nuc_c__Users_formanj_C__Users_formanj_ee01b719d6   has status   PENDING\n",
      "INFO:luigi-interface:Informed scheduler that task   AngelFISHLuigiTask_segment_nuc_c__Users_formanj_C__Users_formanj_ee01b719d6   has status   PENDING\n",
      "2025-07-30 14:05:38 |     INFO | Informed scheduler that task   AngelFISHLuigiTask_download_data_c__Users_formanj_C__Users_formanj_2ae5d09ef9   has status   PENDING\n",
      "INFO: Informed scheduler that task   AngelFISHLuigiTask_download_data_c__Users_formanj_C__Users_formanj_2ae5d09ef9   has status   PENDING\n",
      "INFO:luigi-interface:Informed scheduler that task   AngelFISHLuigiTask_download_data_c__Users_formanj_C__Users_formanj_2ae5d09ef9   has status   PENDING\n",
      "DEBUG: Checking if AngelFISHLuigiTask(workflow_task=AngelFISHWorkflow(instance_name=sciluigi_workflow, receipt_path=C:\\Users\\formanj\\GitHub\\AngelFISH\\examples\\new_pipeline.json), instance_name=detect_dusp1, receipt_path=C:\\Users\\formanj\\GitHub\\AngelFISH\\examples\\new_pipeline.json, step_name=detect_dusp1, output_path=c:\\Users\\formanj\\GitHub\\AngelFISH\\database\\SS004_10min_100nM_7\\default_name\\status\\step_detect_dusp1.txt) is complete\n",
      "DEBUG:luigi-interface:Checking if AngelFISHLuigiTask(workflow_task=AngelFISHWorkflow(instance_name=sciluigi_workflow, receipt_path=C:\\Users\\formanj\\GitHub\\AngelFISH\\examples\\new_pipeline.json), instance_name=detect_dusp1, receipt_path=C:\\Users\\formanj\\GitHub\\AngelFISH\\examples\\new_pipeline.json, step_name=detect_dusp1, output_path=c:\\Users\\formanj\\GitHub\\AngelFISH\\database\\SS004_10min_100nM_7\\default_name\\status\\step_detect_dusp1.txt) is complete\n",
      "DEBUG: Checking if AngelFISHLuigiTask(workflow_task=AngelFISHWorkflow(instance_name=sciluigi_workflow, receipt_path=C:\\Users\\formanj\\GitHub\\AngelFISH\\examples\\new_pipeline.json), instance_name=match_cyto_and_nuc, receipt_path=C:\\Users\\formanj\\GitHub\\AngelFISH\\examples\\new_pipeline.json, step_name=match_cyto_and_nuc, output_path=c:\\Users\\formanj\\GitHub\\AngelFISH\\database\\SS004_10min_100nM_7\\default_name\\status\\step_match_cyto_and_nuc.txt) is complete\n",
      "DEBUG:luigi-interface:Checking if AngelFISHLuigiTask(workflow_task=AngelFISHWorkflow(instance_name=sciluigi_workflow, receipt_path=C:\\Users\\formanj\\GitHub\\AngelFISH\\examples\\new_pipeline.json), instance_name=match_cyto_and_nuc, receipt_path=C:\\Users\\formanj\\GitHub\\AngelFISH\\examples\\new_pipeline.json, step_name=match_cyto_and_nuc, output_path=c:\\Users\\formanj\\GitHub\\AngelFISH\\database\\SS004_10min_100nM_7\\default_name\\status\\step_match_cyto_and_nuc.txt) is complete\n",
      "2025-07-30 14:05:38 |     INFO | Informed scheduler that task   AngelFISHLuigiTask_detect_dusp1_c__Users_formanj_C__Users_formanj_e66b5fa357   has status   PENDING\n",
      "INFO: Informed scheduler that task   AngelFISHLuigiTask_detect_dusp1_c__Users_formanj_C__Users_formanj_e66b5fa357   has status   PENDING\n",
      "INFO:luigi-interface:Informed scheduler that task   AngelFISHLuigiTask_detect_dusp1_c__Users_formanj_C__Users_formanj_e66b5fa357   has status   PENDING\n",
      "DEBUG: Checking if AngelFISHLuigiTask(workflow_task=AngelFISHWorkflow(instance_name=sciluigi_workflow, receipt_path=C:\\Users\\formanj\\GitHub\\AngelFISH\\examples\\new_pipeline.json), instance_name=segment_cyto, receipt_path=C:\\Users\\formanj\\GitHub\\AngelFISH\\examples\\new_pipeline.json, step_name=segment_cyto, output_path=c:\\Users\\formanj\\GitHub\\AngelFISH\\database\\SS004_10min_100nM_7\\default_name\\status\\step_segment_cyto.txt) is complete\n",
      "DEBUG:luigi-interface:Checking if AngelFISHLuigiTask(workflow_task=AngelFISHWorkflow(instance_name=sciluigi_workflow, receipt_path=C:\\Users\\formanj\\GitHub\\AngelFISH\\examples\\new_pipeline.json), instance_name=segment_cyto, receipt_path=C:\\Users\\formanj\\GitHub\\AngelFISH\\examples\\new_pipeline.json, step_name=segment_cyto, output_path=c:\\Users\\formanj\\GitHub\\AngelFISH\\database\\SS004_10min_100nM_7\\default_name\\status\\step_segment_cyto.txt) is complete\n",
      "2025-07-30 14:05:38 |     INFO | Informed scheduler that task   AngelFISHLuigiTask_match_cyto_and_n_c__Users_formanj_C__Users_formanj_a2c66b5bf1   has status   PENDING\n",
      "INFO: Informed scheduler that task   AngelFISHLuigiTask_match_cyto_and_n_c__Users_formanj_C__Users_formanj_a2c66b5bf1   has status   PENDING\n",
      "INFO:luigi-interface:Informed scheduler that task   AngelFISHLuigiTask_match_cyto_and_n_c__Users_formanj_C__Users_formanj_a2c66b5bf1   has status   PENDING\n",
      "DEBUG: Checking if AngelFISHLuigiTask(workflow_task=AngelFISHWorkflow(instance_name=sciluigi_workflow, receipt_path=C:\\Users\\formanj\\GitHub\\AngelFISH\\examples\\new_pipeline.json), instance_name=segment_nuc, receipt_path=C:\\Users\\formanj\\GitHub\\AngelFISH\\examples\\new_pipeline.json, step_name=segment_nuc, output_path=c:\\Users\\formanj\\GitHub\\AngelFISH\\database\\SS004_10min_100nM_7\\default_name\\status\\step_segment_nuc.txt) is complete\n",
      "DEBUG:luigi-interface:Checking if AngelFISHLuigiTask(workflow_task=AngelFISHWorkflow(instance_name=sciluigi_workflow, receipt_path=C:\\Users\\formanj\\GitHub\\AngelFISH\\examples\\new_pipeline.json), instance_name=segment_nuc, receipt_path=C:\\Users\\formanj\\GitHub\\AngelFISH\\examples\\new_pipeline.json, step_name=segment_nuc, output_path=c:\\Users\\formanj\\GitHub\\AngelFISH\\database\\SS004_10min_100nM_7\\default_name\\status\\step_segment_nuc.txt) is complete\n",
      "2025-07-30 14:05:38 |     INFO | Informed scheduler that task   AngelFISHLuigiTask_segment_cyto_c__Users_formanj_C__Users_formanj_ce8a063edc   has status   PENDING\n",
      "INFO: Informed scheduler that task   AngelFISHLuigiTask_segment_cyto_c__Users_formanj_C__Users_formanj_ce8a063edc   has status   PENDING\n",
      "INFO:luigi-interface:Informed scheduler that task   AngelFISHLuigiTask_segment_cyto_c__Users_formanj_C__Users_formanj_ce8a063edc   has status   PENDING\n",
      "DEBUG: Checking if AngelFISHLuigiTask(workflow_task=AngelFISHWorkflow(instance_name=sciluigi_workflow, receipt_path=C:\\Users\\formanj\\GitHub\\AngelFISH\\examples\\new_pipeline.json), instance_name=download_data, receipt_path=C:\\Users\\formanj\\GitHub\\AngelFISH\\examples\\new_pipeline.json, step_name=download_data, output_path=c:\\Users\\formanj\\GitHub\\AngelFISH\\database\\SS004_10min_100nM_7\\default_name\\status\\step_download_data.txt) is complete\n",
      "DEBUG:luigi-interface:Checking if AngelFISHLuigiTask(workflow_task=AngelFISHWorkflow(instance_name=sciluigi_workflow, receipt_path=C:\\Users\\formanj\\GitHub\\AngelFISH\\examples\\new_pipeline.json), instance_name=download_data, receipt_path=C:\\Users\\formanj\\GitHub\\AngelFISH\\examples\\new_pipeline.json, step_name=download_data, output_path=c:\\Users\\formanj\\GitHub\\AngelFISH\\database\\SS004_10min_100nM_7\\default_name\\status\\step_download_data.txt) is complete\n",
      "2025-07-30 14:05:38 |     INFO | Informed scheduler that task   AngelFISHLuigiTask_segment_nuc_c__Users_formanj_C__Users_formanj_ee01b719d6   has status   PENDING\n",
      "INFO: Informed scheduler that task   AngelFISHLuigiTask_segment_nuc_c__Users_formanj_C__Users_formanj_ee01b719d6   has status   PENDING\n",
      "INFO:luigi-interface:Informed scheduler that task   AngelFISHLuigiTask_segment_nuc_c__Users_formanj_C__Users_formanj_ee01b719d6   has status   PENDING\n",
      "2025-07-30 14:05:38 |     INFO | Informed scheduler that task   AngelFISHLuigiTask_download_data_c__Users_formanj_C__Users_formanj_2ae5d09ef9   has status   PENDING\n",
      "INFO: Informed scheduler that task   AngelFISHLuigiTask_download_data_c__Users_formanj_C__Users_formanj_2ae5d09ef9   has status   PENDING\n",
      "INFO:luigi-interface:Informed scheduler that task   AngelFISHLuigiTask_download_data_c__Users_formanj_C__Users_formanj_2ae5d09ef9   has status   PENDING\n",
      "DEBUG: Checking if AngelFISHLuigiTask(workflow_task=AngelFISHWorkflow(instance_name=sciluigi_workflow, receipt_path=C:\\Users\\formanj\\GitHub\\AngelFISH\\examples\\new_pipeline.json), instance_name=measure_cell_props, receipt_path=C:\\Users\\formanj\\GitHub\\AngelFISH\\examples\\new_pipeline.json, step_name=measure_cell_props, output_path=c:\\Users\\formanj\\GitHub\\AngelFISH\\database\\SS004_10min_100nM_7\\default_name\\status\\step_measure_cell_props.txt) is complete\n",
      "DEBUG:luigi-interface:Checking if AngelFISHLuigiTask(workflow_task=AngelFISHWorkflow(instance_name=sciluigi_workflow, receipt_path=C:\\Users\\formanj\\GitHub\\AngelFISH\\examples\\new_pipeline.json), instance_name=measure_cell_props, receipt_path=C:\\Users\\formanj\\GitHub\\AngelFISH\\examples\\new_pipeline.json, step_name=measure_cell_props, output_path=c:\\Users\\formanj\\GitHub\\AngelFISH\\database\\SS004_10min_100nM_7\\default_name\\status\\step_measure_cell_props.txt) is complete\n",
      "DEBUG: Checking if AngelFISHLuigiTask(workflow_task=AngelFISHWorkflow(instance_name=sciluigi_workflow, receipt_path=C:\\Users\\formanj\\GitHub\\AngelFISH\\examples\\new_pipeline.json), instance_name=detect_dusp1, receipt_path=C:\\Users\\formanj\\GitHub\\AngelFISH\\examples\\new_pipeline.json, step_name=detect_dusp1, output_path=c:\\Users\\formanj\\GitHub\\AngelFISH\\database\\SS004_10min_100nM_7\\default_name\\status\\step_detect_dusp1.txt) is complete\n",
      "DEBUG:luigi-interface:Checking if AngelFISHLuigiTask(workflow_task=AngelFISHWorkflow(instance_name=sciluigi_workflow, receipt_path=C:\\Users\\formanj\\GitHub\\AngelFISH\\examples\\new_pipeline.json), instance_name=detect_dusp1, receipt_path=C:\\Users\\formanj\\GitHub\\AngelFISH\\examples\\new_pipeline.json, step_name=detect_dusp1, output_path=c:\\Users\\formanj\\GitHub\\AngelFISH\\database\\SS004_10min_100nM_7\\default_name\\status\\step_detect_dusp1.txt) is complete\n",
      "2025-07-30 14:05:38 |     INFO | Informed scheduler that task   AngelFISHLuigiTask_measure_cell_pro_c__Users_formanj_C__Users_formanj_232fe361f6   has status   PENDING\n",
      "INFO: Informed scheduler that task   AngelFISHLuigiTask_measure_cell_pro_c__Users_formanj_C__Users_formanj_232fe361f6   has status   PENDING\n",
      "INFO:luigi-interface:Informed scheduler that task   AngelFISHLuigiTask_measure_cell_pro_c__Users_formanj_C__Users_formanj_232fe361f6   has status   PENDING\n",
      "DEBUG: Checking if AngelFISHLuigiTask(workflow_task=AngelFISHWorkflow(instance_name=sciluigi_workflow, receipt_path=C:\\Users\\formanj\\GitHub\\AngelFISH\\examples\\new_pipeline.json), instance_name=match_cyto_and_nuc, receipt_path=C:\\Users\\formanj\\GitHub\\AngelFISH\\examples\\new_pipeline.json, step_name=match_cyto_and_nuc, output_path=c:\\Users\\formanj\\GitHub\\AngelFISH\\database\\SS004_10min_100nM_7\\default_name\\status\\step_match_cyto_and_nuc.txt) is complete\n",
      "DEBUG:luigi-interface:Checking if AngelFISHLuigiTask(workflow_task=AngelFISHWorkflow(instance_name=sciluigi_workflow, receipt_path=C:\\Users\\formanj\\GitHub\\AngelFISH\\examples\\new_pipeline.json), instance_name=match_cyto_and_nuc, receipt_path=C:\\Users\\formanj\\GitHub\\AngelFISH\\examples\\new_pipeline.json, step_name=match_cyto_and_nuc, output_path=c:\\Users\\formanj\\GitHub\\AngelFISH\\database\\SS004_10min_100nM_7\\default_name\\status\\step_match_cyto_and_nuc.txt) is complete\n",
      "2025-07-30 14:05:38 |     INFO | Informed scheduler that task   AngelFISHLuigiTask_detect_dusp1_c__Users_formanj_C__Users_formanj_e66b5fa357   has status   PENDING\n",
      "INFO: Informed scheduler that task   AngelFISHLuigiTask_detect_dusp1_c__Users_formanj_C__Users_formanj_e66b5fa357   has status   PENDING\n",
      "INFO:luigi-interface:Informed scheduler that task   AngelFISHLuigiTask_detect_dusp1_c__Users_formanj_C__Users_formanj_e66b5fa357   has status   PENDING\n",
      "DEBUG: Checking if AngelFISHLuigiTask(workflow_task=AngelFISHWorkflow(instance_name=sciluigi_workflow, receipt_path=C:\\Users\\formanj\\GitHub\\AngelFISH\\examples\\new_pipeline.json), instance_name=segment_cyto, receipt_path=C:\\Users\\formanj\\GitHub\\AngelFISH\\examples\\new_pipeline.json, step_name=segment_cyto, output_path=c:\\Users\\formanj\\GitHub\\AngelFISH\\database\\SS004_10min_100nM_7\\default_name\\status\\step_segment_cyto.txt) is complete\n",
      "DEBUG:luigi-interface:Checking if AngelFISHLuigiTask(workflow_task=AngelFISHWorkflow(instance_name=sciluigi_workflow, receipt_path=C:\\Users\\formanj\\GitHub\\AngelFISH\\examples\\new_pipeline.json), instance_name=segment_cyto, receipt_path=C:\\Users\\formanj\\GitHub\\AngelFISH\\examples\\new_pipeline.json, step_name=segment_cyto, output_path=c:\\Users\\formanj\\GitHub\\AngelFISH\\database\\SS004_10min_100nM_7\\default_name\\status\\step_segment_cyto.txt) is complete\n",
      "2025-07-30 14:05:38 |     INFO | Informed scheduler that task   AngelFISHLuigiTask_match_cyto_and_n_c__Users_formanj_C__Users_formanj_a2c66b5bf1   has status   PENDING\n",
      "INFO: Informed scheduler that task   AngelFISHLuigiTask_match_cyto_and_n_c__Users_formanj_C__Users_formanj_a2c66b5bf1   has status   PENDING\n",
      "INFO:luigi-interface:Informed scheduler that task   AngelFISHLuigiTask_match_cyto_and_n_c__Users_formanj_C__Users_formanj_a2c66b5bf1   has status   PENDING\n",
      "DEBUG: Checking if AngelFISHLuigiTask(workflow_task=AngelFISHWorkflow(instance_name=sciluigi_workflow, receipt_path=C:\\Users\\formanj\\GitHub\\AngelFISH\\examples\\new_pipeline.json), instance_name=segment_nuc, receipt_path=C:\\Users\\formanj\\GitHub\\AngelFISH\\examples\\new_pipeline.json, step_name=segment_nuc, output_path=c:\\Users\\formanj\\GitHub\\AngelFISH\\database\\SS004_10min_100nM_7\\default_name\\status\\step_segment_nuc.txt) is complete\n",
      "DEBUG:luigi-interface:Checking if AngelFISHLuigiTask(workflow_task=AngelFISHWorkflow(instance_name=sciluigi_workflow, receipt_path=C:\\Users\\formanj\\GitHub\\AngelFISH\\examples\\new_pipeline.json), instance_name=segment_nuc, receipt_path=C:\\Users\\formanj\\GitHub\\AngelFISH\\examples\\new_pipeline.json, step_name=segment_nuc, output_path=c:\\Users\\formanj\\GitHub\\AngelFISH\\database\\SS004_10min_100nM_7\\default_name\\status\\step_segment_nuc.txt) is complete\n",
      "2025-07-30 14:05:38 |     INFO | Informed scheduler that task   AngelFISHLuigiTask_segment_cyto_c__Users_formanj_C__Users_formanj_ce8a063edc   has status   PENDING\n",
      "INFO: Informed scheduler that task   AngelFISHLuigiTask_segment_cyto_c__Users_formanj_C__Users_formanj_ce8a063edc   has status   PENDING\n",
      "INFO:luigi-interface:Informed scheduler that task   AngelFISHLuigiTask_segment_cyto_c__Users_formanj_C__Users_formanj_ce8a063edc   has status   PENDING\n",
      "DEBUG: Checking if AngelFISHLuigiTask(workflow_task=AngelFISHWorkflow(instance_name=sciluigi_workflow, receipt_path=C:\\Users\\formanj\\GitHub\\AngelFISH\\examples\\new_pipeline.json), instance_name=download_data, receipt_path=C:\\Users\\formanj\\GitHub\\AngelFISH\\examples\\new_pipeline.json, step_name=download_data, output_path=c:\\Users\\formanj\\GitHub\\AngelFISH\\database\\SS004_10min_100nM_7\\default_name\\status\\step_download_data.txt) is complete\n",
      "DEBUG:luigi-interface:Checking if AngelFISHLuigiTask(workflow_task=AngelFISHWorkflow(instance_name=sciluigi_workflow, receipt_path=C:\\Users\\formanj\\GitHub\\AngelFISH\\examples\\new_pipeline.json), instance_name=download_data, receipt_path=C:\\Users\\formanj\\GitHub\\AngelFISH\\examples\\new_pipeline.json, step_name=download_data, output_path=c:\\Users\\formanj\\GitHub\\AngelFISH\\database\\SS004_10min_100nM_7\\default_name\\status\\step_download_data.txt) is complete\n",
      "2025-07-30 14:05:38 |     INFO | Informed scheduler that task   AngelFISHLuigiTask_segment_nuc_c__Users_formanj_C__Users_formanj_ee01b719d6   has status   PENDING\n",
      "INFO: Informed scheduler that task   AngelFISHLuigiTask_segment_nuc_c__Users_formanj_C__Users_formanj_ee01b719d6   has status   PENDING\n",
      "INFO:luigi-interface:Informed scheduler that task   AngelFISHLuigiTask_segment_nuc_c__Users_formanj_C__Users_formanj_ee01b719d6   has status   PENDING\n",
      "2025-07-30 14:05:38 |     INFO | Informed scheduler that task   AngelFISHLuigiTask_download_data_c__Users_formanj_C__Users_formanj_2ae5d09ef9   has status   PENDING\n",
      "INFO: Informed scheduler that task   AngelFISHLuigiTask_download_data_c__Users_formanj_C__Users_formanj_2ae5d09ef9   has status   PENDING\n",
      "INFO:luigi-interface:Informed scheduler that task   AngelFISHLuigiTask_download_data_c__Users_formanj_C__Users_formanj_2ae5d09ef9   has status   PENDING\n",
      "DEBUG: Checking if AngelFISHLuigiTask(workflow_task=AngelFISHWorkflow(instance_name=sciluigi_workflow, receipt_path=C:\\Users\\formanj\\GitHub\\AngelFISH\\examples\\new_pipeline.json), instance_name=return_data, receipt_path=C:\\Users\\formanj\\GitHub\\AngelFISH\\examples\\new_pipeline.json, step_name=return_data, output_path=c:\\Users\\formanj\\GitHub\\AngelFISH\\database\\SS004_10min_100nM_7\\default_name\\status\\step_return_data.txt) is complete\n",
      "DEBUG:luigi-interface:Checking if AngelFISHLuigiTask(workflow_task=AngelFISHWorkflow(instance_name=sciluigi_workflow, receipt_path=C:\\Users\\formanj\\GitHub\\AngelFISH\\examples\\new_pipeline.json), instance_name=return_data, receipt_path=C:\\Users\\formanj\\GitHub\\AngelFISH\\examples\\new_pipeline.json, step_name=return_data, output_path=c:\\Users\\formanj\\GitHub\\AngelFISH\\database\\SS004_10min_100nM_7\\default_name\\status\\step_return_data.txt) is complete\n",
      "DEBUG: Checking if AngelFISHLuigiTask(workflow_task=AngelFISHWorkflow(instance_name=sciluigi_workflow, receipt_path=C:\\Users\\formanj\\GitHub\\AngelFISH\\examples\\new_pipeline.json), instance_name=measure_cell_props, receipt_path=C:\\Users\\formanj\\GitHub\\AngelFISH\\examples\\new_pipeline.json, step_name=measure_cell_props, output_path=c:\\Users\\formanj\\GitHub\\AngelFISH\\database\\SS004_10min_100nM_7\\default_name\\status\\step_measure_cell_props.txt) is complete\n",
      "DEBUG:luigi-interface:Checking if AngelFISHLuigiTask(workflow_task=AngelFISHWorkflow(instance_name=sciluigi_workflow, receipt_path=C:\\Users\\formanj\\GitHub\\AngelFISH\\examples\\new_pipeline.json), instance_name=measure_cell_props, receipt_path=C:\\Users\\formanj\\GitHub\\AngelFISH\\examples\\new_pipeline.json, step_name=measure_cell_props, output_path=c:\\Users\\formanj\\GitHub\\AngelFISH\\database\\SS004_10min_100nM_7\\default_name\\status\\step_measure_cell_props.txt) is complete\n",
      "2025-07-30 14:05:38 |     INFO | Informed scheduler that task   AngelFISHLuigiTask_return_data_c__Users_formanj_C__Users_formanj_559fa7439b   has status   PENDING\n",
      "INFO: Informed scheduler that task   AngelFISHLuigiTask_return_data_c__Users_formanj_C__Users_formanj_559fa7439b   has status   PENDING\n",
      "INFO:luigi-interface:Informed scheduler that task   AngelFISHLuigiTask_return_data_c__Users_formanj_C__Users_formanj_559fa7439b   has status   PENDING\n",
      "DEBUG: Checking if AngelFISHLuigiTask(workflow_task=AngelFISHWorkflow(instance_name=sciluigi_workflow, receipt_path=C:\\Users\\formanj\\GitHub\\AngelFISH\\examples\\new_pipeline.json), instance_name=detect_dusp1, receipt_path=C:\\Users\\formanj\\GitHub\\AngelFISH\\examples\\new_pipeline.json, step_name=detect_dusp1, output_path=c:\\Users\\formanj\\GitHub\\AngelFISH\\database\\SS004_10min_100nM_7\\default_name\\status\\step_detect_dusp1.txt) is complete\n",
      "DEBUG:luigi-interface:Checking if AngelFISHLuigiTask(workflow_task=AngelFISHWorkflow(instance_name=sciluigi_workflow, receipt_path=C:\\Users\\formanj\\GitHub\\AngelFISH\\examples\\new_pipeline.json), instance_name=detect_dusp1, receipt_path=C:\\Users\\formanj\\GitHub\\AngelFISH\\examples\\new_pipeline.json, step_name=detect_dusp1, output_path=c:\\Users\\formanj\\GitHub\\AngelFISH\\database\\SS004_10min_100nM_7\\default_name\\status\\step_detect_dusp1.txt) is complete\n",
      "2025-07-30 14:05:38 |     INFO | Informed scheduler that task   AngelFISHLuigiTask_measure_cell_pro_c__Users_formanj_C__Users_formanj_232fe361f6   has status   PENDING\n",
      "INFO: Informed scheduler that task   AngelFISHLuigiTask_measure_cell_pro_c__Users_formanj_C__Users_formanj_232fe361f6   has status   PENDING\n",
      "INFO:luigi-interface:Informed scheduler that task   AngelFISHLuigiTask_measure_cell_pro_c__Users_formanj_C__Users_formanj_232fe361f6   has status   PENDING\n",
      "DEBUG: Checking if AngelFISHLuigiTask(workflow_task=AngelFISHWorkflow(instance_name=sciluigi_workflow, receipt_path=C:\\Users\\formanj\\GitHub\\AngelFISH\\examples\\new_pipeline.json), instance_name=match_cyto_and_nuc, receipt_path=C:\\Users\\formanj\\GitHub\\AngelFISH\\examples\\new_pipeline.json, step_name=match_cyto_and_nuc, output_path=c:\\Users\\formanj\\GitHub\\AngelFISH\\database\\SS004_10min_100nM_7\\default_name\\status\\step_match_cyto_and_nuc.txt) is complete\n",
      "DEBUG:luigi-interface:Checking if AngelFISHLuigiTask(workflow_task=AngelFISHWorkflow(instance_name=sciluigi_workflow, receipt_path=C:\\Users\\formanj\\GitHub\\AngelFISH\\examples\\new_pipeline.json), instance_name=match_cyto_and_nuc, receipt_path=C:\\Users\\formanj\\GitHub\\AngelFISH\\examples\\new_pipeline.json, step_name=match_cyto_and_nuc, output_path=c:\\Users\\formanj\\GitHub\\AngelFISH\\database\\SS004_10min_100nM_7\\default_name\\status\\step_match_cyto_and_nuc.txt) is complete\n",
      "2025-07-30 14:05:38 |     INFO | Informed scheduler that task   AngelFISHLuigiTask_detect_dusp1_c__Users_formanj_C__Users_formanj_e66b5fa357   has status   PENDING\n",
      "INFO: Informed scheduler that task   AngelFISHLuigiTask_detect_dusp1_c__Users_formanj_C__Users_formanj_e66b5fa357   has status   PENDING\n",
      "INFO:luigi-interface:Informed scheduler that task   AngelFISHLuigiTask_detect_dusp1_c__Users_formanj_C__Users_formanj_e66b5fa357   has status   PENDING\n",
      "DEBUG: Checking if AngelFISHLuigiTask(workflow_task=AngelFISHWorkflow(instance_name=sciluigi_workflow, receipt_path=C:\\Users\\formanj\\GitHub\\AngelFISH\\examples\\new_pipeline.json), instance_name=segment_cyto, receipt_path=C:\\Users\\formanj\\GitHub\\AngelFISH\\examples\\new_pipeline.json, step_name=segment_cyto, output_path=c:\\Users\\formanj\\GitHub\\AngelFISH\\database\\SS004_10min_100nM_7\\default_name\\status\\step_segment_cyto.txt) is complete\n",
      "DEBUG:luigi-interface:Checking if AngelFISHLuigiTask(workflow_task=AngelFISHWorkflow(instance_name=sciluigi_workflow, receipt_path=C:\\Users\\formanj\\GitHub\\AngelFISH\\examples\\new_pipeline.json), instance_name=segment_cyto, receipt_path=C:\\Users\\formanj\\GitHub\\AngelFISH\\examples\\new_pipeline.json, step_name=segment_cyto, output_path=c:\\Users\\formanj\\GitHub\\AngelFISH\\database\\SS004_10min_100nM_7\\default_name\\status\\step_segment_cyto.txt) is complete\n",
      "2025-07-30 14:05:38 |     INFO | Informed scheduler that task   AngelFISHLuigiTask_match_cyto_and_n_c__Users_formanj_C__Users_formanj_a2c66b5bf1   has status   PENDING\n",
      "INFO: Informed scheduler that task   AngelFISHLuigiTask_match_cyto_and_n_c__Users_formanj_C__Users_formanj_a2c66b5bf1   has status   PENDING\n",
      "INFO:luigi-interface:Informed scheduler that task   AngelFISHLuigiTask_match_cyto_and_n_c__Users_formanj_C__Users_formanj_a2c66b5bf1   has status   PENDING\n",
      "DEBUG: Checking if AngelFISHLuigiTask(workflow_task=AngelFISHWorkflow(instance_name=sciluigi_workflow, receipt_path=C:\\Users\\formanj\\GitHub\\AngelFISH\\examples\\new_pipeline.json), instance_name=segment_nuc, receipt_path=C:\\Users\\formanj\\GitHub\\AngelFISH\\examples\\new_pipeline.json, step_name=segment_nuc, output_path=c:\\Users\\formanj\\GitHub\\AngelFISH\\database\\SS004_10min_100nM_7\\default_name\\status\\step_segment_nuc.txt) is complete\n",
      "DEBUG:luigi-interface:Checking if AngelFISHLuigiTask(workflow_task=AngelFISHWorkflow(instance_name=sciluigi_workflow, receipt_path=C:\\Users\\formanj\\GitHub\\AngelFISH\\examples\\new_pipeline.json), instance_name=segment_nuc, receipt_path=C:\\Users\\formanj\\GitHub\\AngelFISH\\examples\\new_pipeline.json, step_name=segment_nuc, output_path=c:\\Users\\formanj\\GitHub\\AngelFISH\\database\\SS004_10min_100nM_7\\default_name\\status\\step_segment_nuc.txt) is complete\n",
      "2025-07-30 14:05:38 |     INFO | Informed scheduler that task   AngelFISHLuigiTask_segment_cyto_c__Users_formanj_C__Users_formanj_ce8a063edc   has status   PENDING\n",
      "INFO: Informed scheduler that task   AngelFISHLuigiTask_segment_cyto_c__Users_formanj_C__Users_formanj_ce8a063edc   has status   PENDING\n",
      "INFO:luigi-interface:Informed scheduler that task   AngelFISHLuigiTask_segment_cyto_c__Users_formanj_C__Users_formanj_ce8a063edc   has status   PENDING\n",
      "DEBUG: Checking if AngelFISHLuigiTask(workflow_task=AngelFISHWorkflow(instance_name=sciluigi_workflow, receipt_path=C:\\Users\\formanj\\GitHub\\AngelFISH\\examples\\new_pipeline.json), instance_name=download_data, receipt_path=C:\\Users\\formanj\\GitHub\\AngelFISH\\examples\\new_pipeline.json, step_name=download_data, output_path=c:\\Users\\formanj\\GitHub\\AngelFISH\\database\\SS004_10min_100nM_7\\default_name\\status\\step_download_data.txt) is complete\n",
      "DEBUG:luigi-interface:Checking if AngelFISHLuigiTask(workflow_task=AngelFISHWorkflow(instance_name=sciluigi_workflow, receipt_path=C:\\Users\\formanj\\GitHub\\AngelFISH\\examples\\new_pipeline.json), instance_name=download_data, receipt_path=C:\\Users\\formanj\\GitHub\\AngelFISH\\examples\\new_pipeline.json, step_name=download_data, output_path=c:\\Users\\formanj\\GitHub\\AngelFISH\\database\\SS004_10min_100nM_7\\default_name\\status\\step_download_data.txt) is complete\n",
      "2025-07-30 14:05:38 |     INFO | Informed scheduler that task   AngelFISHLuigiTask_segment_nuc_c__Users_formanj_C__Users_formanj_ee01b719d6   has status   PENDING\n",
      "INFO: Informed scheduler that task   AngelFISHLuigiTask_segment_nuc_c__Users_formanj_C__Users_formanj_ee01b719d6   has status   PENDING\n",
      "INFO:luigi-interface:Informed scheduler that task   AngelFISHLuigiTask_segment_nuc_c__Users_formanj_C__Users_formanj_ee01b719d6   has status   PENDING\n",
      "2025-07-30 14:05:38 |     INFO | Informed scheduler that task   AngelFISHLuigiTask_download_data_c__Users_formanj_C__Users_formanj_2ae5d09ef9   has status   PENDING\n",
      "INFO: Informed scheduler that task   AngelFISHLuigiTask_download_data_c__Users_formanj_C__Users_formanj_2ae5d09ef9   has status   PENDING\n",
      "INFO:luigi-interface:Informed scheduler that task   AngelFISHLuigiTask_download_data_c__Users_formanj_C__Users_formanj_2ae5d09ef9   has status   PENDING\n",
      "2025-07-30 14:05:38 |     INFO | Done scheduling tasks\n",
      "INFO: Done scheduling tasks\n",
      "INFO:luigi-interface:Done scheduling tasks\n",
      "2025-07-30 14:05:38 |     INFO | Running Worker with 1 processes\n",
      "INFO: Running Worker with 1 processes\n",
      "INFO:luigi-interface:Running Worker with 1 processes\n",
      "DEBUG: Asking scheduler for work...\n",
      "DEBUG:luigi-interface:Asking scheduler for work...\n",
      "DEBUG: Pending tasks: 7\n",
      "DEBUG:luigi-interface:Pending tasks: 7\n",
      "2025-07-30 14:05:38 |     INFO | [pid 25180] Worker Worker(salt=2959556853, workers=1, host=ens13487, username=formanj, pid=25180) running   AngelFISHLuigiTask(workflow_task=AngelFISHWorkflow(instance_name=sciluigi_workflow, receipt_path=C:\\Users\\formanj\\GitHub\\AngelFISH\\examples\\new_pipeline.json), instance_name=download_data, receipt_path=C:\\Users\\formanj\\GitHub\\AngelFISH\\examples\\new_pipeline.json, step_name=download_data, output_path=c:\\Users\\formanj\\GitHub\\AngelFISH\\database\\SS004_10min_100nM_7\\default_name\\status\\step_download_data.txt)\n",
      "INFO: [pid 25180] Worker Worker(salt=2959556853, workers=1, host=ens13487, username=formanj, pid=25180) running   AngelFISHLuigiTask(workflow_task=AngelFISHWorkflow(instance_name=sciluigi_workflow, receipt_path=C:\\Users\\formanj\\GitHub\\AngelFISH\\examples\\new_pipeline.json), instance_name=download_data, receipt_path=C:\\Users\\formanj\\GitHub\\AngelFISH\\examples\\new_pipeline.json, step_name=download_data, output_path=c:\\Users\\formanj\\GitHub\\AngelFISH\\database\\SS004_10min_100nM_7\\default_name\\status\\step_download_data.txt)\n",
      "INFO:luigi-interface:[pid 25180] Worker Worker(salt=2959556853, workers=1, host=ens13487, username=formanj, pid=25180) running   AngelFISHLuigiTask(workflow_task=AngelFISHWorkflow(instance_name=sciluigi_workflow, receipt_path=C:\\Users\\formanj\\GitHub\\AngelFISH\\examples\\new_pipeline.json), instance_name=download_data, receipt_path=C:\\Users\\formanj\\GitHub\\AngelFISH\\examples\\new_pipeline.json, step_name=download_data, output_path=c:\\Users\\formanj\\GitHub\\AngelFISH\\database\\SS004_10min_100nM_7\\default_name\\status\\step_download_data.txt)\n",
      "2025-07-30 14:05:38 |     INFO | Task download_data started\n",
      "INFO:sciluigi-interface:Task download_data started\n"
     ]
    },
    {
     "name": "stdout",
     "output_type": "stream",
     "text": [
      "Connection established\n",
      "File Downloaded : NDTiffStack.tif\n"
     ]
    },
    {
     "name": "stderr",
     "output_type": "stream",
     "text": [
      "2025-07-30 14:05:47 |     INFO | Task download_data finished after 9.196s\n",
      "INFO:sciluigi-interface:Task download_data finished after 9.196s\n"
     ]
    },
    {
     "name": "stdout",
     "output_type": "stream",
     "text": [
      "File Downloaded : NDTiff.index\n",
      "Files downloaded to: c:\\Users\\formanj\\GitHub\\AngelFISH\\database\\SS004_10min_100nM_7\n"
     ]
    },
    {
     "name": "stderr",
     "output_type": "stream",
     "text": [
      "2025-07-30 14:05:48 |     INFO | [pid 25180] Worker Worker(salt=2959556853, workers=1, host=ens13487, username=formanj, pid=25180) done      AngelFISHLuigiTask(workflow_task=AngelFISHWorkflow(instance_name=sciluigi_workflow, receipt_path=C:\\Users\\formanj\\GitHub\\AngelFISH\\examples\\new_pipeline.json), instance_name=download_data, receipt_path=C:\\Users\\formanj\\GitHub\\AngelFISH\\examples\\new_pipeline.json, step_name=download_data, output_path=c:\\Users\\formanj\\GitHub\\AngelFISH\\database\\SS004_10min_100nM_7\\default_name\\status\\step_download_data.txt)\n",
      "INFO: [pid 25180] Worker Worker(salt=2959556853, workers=1, host=ens13487, username=formanj, pid=25180) done      AngelFISHLuigiTask(workflow_task=AngelFISHWorkflow(instance_name=sciluigi_workflow, receipt_path=C:\\Users\\formanj\\GitHub\\AngelFISH\\examples\\new_pipeline.json), instance_name=download_data, receipt_path=C:\\Users\\formanj\\GitHub\\AngelFISH\\examples\\new_pipeline.json, step_name=download_data, output_path=c:\\Users\\formanj\\GitHub\\AngelFISH\\database\\SS004_10min_100nM_7\\default_name\\status\\step_download_data.txt)\n",
      "INFO:luigi-interface:[pid 25180] Worker Worker(salt=2959556853, workers=1, host=ens13487, username=formanj, pid=25180) done      AngelFISHLuigiTask(workflow_task=AngelFISHWorkflow(instance_name=sciluigi_workflow, receipt_path=C:\\Users\\formanj\\GitHub\\AngelFISH\\examples\\new_pipeline.json), instance_name=download_data, receipt_path=C:\\Users\\formanj\\GitHub\\AngelFISH\\examples\\new_pipeline.json, step_name=download_data, output_path=c:\\Users\\formanj\\GitHub\\AngelFISH\\database\\SS004_10min_100nM_7\\default_name\\status\\step_download_data.txt)\n",
      "DEBUG: 1 running tasks, waiting for next task to finish\n",
      "DEBUG:luigi-interface:1 running tasks, waiting for next task to finish\n",
      "2025-07-30 14:05:48 |     INFO | Informed scheduler that task   AngelFISHLuigiTask_download_data_c__Users_formanj_C__Users_formanj_2ae5d09ef9   has status   DONE\n",
      "INFO: Informed scheduler that task   AngelFISHLuigiTask_download_data_c__Users_formanj_C__Users_formanj_2ae5d09ef9   has status   DONE\n",
      "INFO:luigi-interface:Informed scheduler that task   AngelFISHLuigiTask_download_data_c__Users_formanj_C__Users_formanj_2ae5d09ef9   has status   DONE\n",
      "DEBUG: Asking scheduler for work...\n",
      "DEBUG:luigi-interface:Asking scheduler for work...\n",
      "DEBUG: Pending tasks: 6\n",
      "DEBUG:luigi-interface:Pending tasks: 6\n",
      "2025-07-30 14:05:48 |     INFO | [pid 25180] Worker Worker(salt=2959556853, workers=1, host=ens13487, username=formanj, pid=25180) running   AngelFISHLuigiTask(workflow_task=AngelFISHWorkflow(instance_name=sciluigi_workflow, receipt_path=C:\\Users\\formanj\\GitHub\\AngelFISH\\examples\\new_pipeline.json), instance_name=segment_nuc, receipt_path=C:\\Users\\formanj\\GitHub\\AngelFISH\\examples\\new_pipeline.json, step_name=segment_nuc, output_path=c:\\Users\\formanj\\GitHub\\AngelFISH\\database\\SS004_10min_100nM_7\\default_name\\status\\step_segment_nuc.txt)\n",
      "INFO: [pid 25180] Worker Worker(salt=2959556853, workers=1, host=ens13487, username=formanj, pid=25180) running   AngelFISHLuigiTask(workflow_task=AngelFISHWorkflow(instance_name=sciluigi_workflow, receipt_path=C:\\Users\\formanj\\GitHub\\AngelFISH\\examples\\new_pipeline.json), instance_name=segment_nuc, receipt_path=C:\\Users\\formanj\\GitHub\\AngelFISH\\examples\\new_pipeline.json, step_name=segment_nuc, output_path=c:\\Users\\formanj\\GitHub\\AngelFISH\\database\\SS004_10min_100nM_7\\default_name\\status\\step_segment_nuc.txt)\n",
      "INFO:luigi-interface:[pid 25180] Worker Worker(salt=2959556853, workers=1, host=ens13487, username=formanj, pid=25180) running   AngelFISHLuigiTask(workflow_task=AngelFISHWorkflow(instance_name=sciluigi_workflow, receipt_path=C:\\Users\\formanj\\GitHub\\AngelFISH\\examples\\new_pipeline.json), instance_name=segment_nuc, receipt_path=C:\\Users\\formanj\\GitHub\\AngelFISH\\examples\\new_pipeline.json, step_name=segment_nuc, output_path=c:\\Users\\formanj\\GitHub\\AngelFISH\\database\\SS004_10min_100nM_7\\default_name\\status\\step_segment_nuc.txt)\n",
      "2025-07-30 14:05:48 |     INFO | Task segment_nuc started\n",
      "INFO:sciluigi-interface:Task segment_nuc started\n"
     ]
    },
    {
     "name": "stdout",
     "output_type": "stream",
     "text": [
      "Dataset opened                \n",
      "running image processing\n"
     ]
    },
    {
     "name": "stderr",
     "output_type": "stream",
     "text": [
      "c:\\Users\\formanj\\GitHub\\AngelFISH\\.venv\\Lib\\site-packages\\cellpose\\resnet_torch.py:271: FutureWarning: You are using `torch.load` with `weights_only=False` (the current default value), which uses the default pickle module implicitly. It is possible to construct malicious pickle data which will execute arbitrary code during unpickling (See https://github.com/pytorch/pytorch/blob/main/SECURITY.md#untrusted-models for more details). In a future release, the default value for `weights_only` will be flipped to `True`. This limits the functions that could be executed during unpickling. Arbitrary objects will no longer be allowed to be loaded via this mode unless they are explicitly allowlisted by the user via `torch.serialization.add_safe_globals`. We recommend you start setting `weights_only=True` for any use case where you don't have full control of the loaded file. Please open an issue on GitHub for any issues related to this experimental feature.\n",
      "  state_dict = torch.load(filename, map_location=device)\n"
     ]
    },
    {
     "name": "stdout",
     "output_type": "stream",
     "text": [
      "running image processing\n",
      "running image processing\n",
      "running image processing\n",
      "running image processing\n",
      "running image processing\n",
      "running image processing\n",
      "running image processing\n",
      "running image processing\n",
      "running image processing\n",
      "running image processing\n",
      "running image processing\n",
      "running image processing\n",
      "running image processing\n",
      "running image processing\n",
      "running image processing\n",
      "running image processing\n",
      "running image processing\n",
      "running image processing\n",
      "running image processing\n",
      "running image processing\n",
      "running image processing\n",
      "running image processing\n",
      "running image processing\n",
      "running image processing\n"
     ]
    },
    {
     "name": "stderr",
     "output_type": "stream",
     "text": [
      "2025-07-30 14:06:31 |     INFO | Task segment_nuc finished after 43.077s\n",
      "INFO:sciluigi-interface:Task segment_nuc finished after 43.077s\n",
      "2025-07-30 14:06:31 |     INFO | [pid 25180] Worker Worker(salt=2959556853, workers=1, host=ens13487, username=formanj, pid=25180) done      AngelFISHLuigiTask(workflow_task=AngelFISHWorkflow(instance_name=sciluigi_workflow, receipt_path=C:\\Users\\formanj\\GitHub\\AngelFISH\\examples\\new_pipeline.json), instance_name=segment_nuc, receipt_path=C:\\Users\\formanj\\GitHub\\AngelFISH\\examples\\new_pipeline.json, step_name=segment_nuc, output_path=c:\\Users\\formanj\\GitHub\\AngelFISH\\database\\SS004_10min_100nM_7\\default_name\\status\\step_segment_nuc.txt)\n",
      "INFO: [pid 25180] Worker Worker(salt=2959556853, workers=1, host=ens13487, username=formanj, pid=25180) done      AngelFISHLuigiTask(workflow_task=AngelFISHWorkflow(instance_name=sciluigi_workflow, receipt_path=C:\\Users\\formanj\\GitHub\\AngelFISH\\examples\\new_pipeline.json), instance_name=segment_nuc, receipt_path=C:\\Users\\formanj\\GitHub\\AngelFISH\\examples\\new_pipeline.json, step_name=segment_nuc, output_path=c:\\Users\\formanj\\GitHub\\AngelFISH\\database\\SS004_10min_100nM_7\\default_name\\status\\step_segment_nuc.txt)\n",
      "INFO:luigi-interface:[pid 25180] Worker Worker(salt=2959556853, workers=1, host=ens13487, username=formanj, pid=25180) done      AngelFISHLuigiTask(workflow_task=AngelFISHWorkflow(instance_name=sciluigi_workflow, receipt_path=C:\\Users\\formanj\\GitHub\\AngelFISH\\examples\\new_pipeline.json), instance_name=segment_nuc, receipt_path=C:\\Users\\formanj\\GitHub\\AngelFISH\\examples\\new_pipeline.json, step_name=segment_nuc, output_path=c:\\Users\\formanj\\GitHub\\AngelFISH\\database\\SS004_10min_100nM_7\\default_name\\status\\step_segment_nuc.txt)\n",
      "DEBUG: 1 running tasks, waiting for next task to finish\n",
      "DEBUG:luigi-interface:1 running tasks, waiting for next task to finish\n",
      "2025-07-30 14:06:31 |     INFO | Informed scheduler that task   AngelFISHLuigiTask_segment_nuc_c__Users_formanj_C__Users_formanj_ee01b719d6   has status   DONE\n",
      "INFO: Informed scheduler that task   AngelFISHLuigiTask_segment_nuc_c__Users_formanj_C__Users_formanj_ee01b719d6   has status   DONE\n",
      "INFO:luigi-interface:Informed scheduler that task   AngelFISHLuigiTask_segment_nuc_c__Users_formanj_C__Users_formanj_ee01b719d6   has status   DONE\n",
      "DEBUG: Asking scheduler for work...\n",
      "DEBUG:luigi-interface:Asking scheduler for work...\n",
      "DEBUG: Pending tasks: 5\n",
      "DEBUG:luigi-interface:Pending tasks: 5\n",
      "2025-07-30 14:06:31 |     INFO | [pid 25180] Worker Worker(salt=2959556853, workers=1, host=ens13487, username=formanj, pid=25180) running   AngelFISHLuigiTask(workflow_task=AngelFISHWorkflow(instance_name=sciluigi_workflow, receipt_path=C:\\Users\\formanj\\GitHub\\AngelFISH\\examples\\new_pipeline.json), instance_name=segment_cyto, receipt_path=C:\\Users\\formanj\\GitHub\\AngelFISH\\examples\\new_pipeline.json, step_name=segment_cyto, output_path=c:\\Users\\formanj\\GitHub\\AngelFISH\\database\\SS004_10min_100nM_7\\default_name\\status\\step_segment_cyto.txt)\n",
      "INFO: [pid 25180] Worker Worker(salt=2959556853, workers=1, host=ens13487, username=formanj, pid=25180) running   AngelFISHLuigiTask(workflow_task=AngelFISHWorkflow(instance_name=sciluigi_workflow, receipt_path=C:\\Users\\formanj\\GitHub\\AngelFISH\\examples\\new_pipeline.json), instance_name=segment_cyto, receipt_path=C:\\Users\\formanj\\GitHub\\AngelFISH\\examples\\new_pipeline.json, step_name=segment_cyto, output_path=c:\\Users\\formanj\\GitHub\\AngelFISH\\database\\SS004_10min_100nM_7\\default_name\\status\\step_segment_cyto.txt)\n",
      "INFO:luigi-interface:[pid 25180] Worker Worker(salt=2959556853, workers=1, host=ens13487, username=formanj, pid=25180) running   AngelFISHLuigiTask(workflow_task=AngelFISHWorkflow(instance_name=sciluigi_workflow, receipt_path=C:\\Users\\formanj\\GitHub\\AngelFISH\\examples\\new_pipeline.json), instance_name=segment_cyto, receipt_path=C:\\Users\\formanj\\GitHub\\AngelFISH\\examples\\new_pipeline.json, step_name=segment_cyto, output_path=c:\\Users\\formanj\\GitHub\\AngelFISH\\database\\SS004_10min_100nM_7\\default_name\\status\\step_segment_cyto.txt)\n",
      "2025-07-30 14:06:31 |     INFO | Task segment_cyto started\n",
      "INFO:sciluigi-interface:Task segment_cyto started\n"
     ]
    },
    {
     "name": "stdout",
     "output_type": "stream",
     "text": [
      "Dataset opened                \n",
      "running image processing\n"
     ]
    },
    {
     "name": "stderr",
     "output_type": "stream",
     "text": [
      "c:\\Users\\formanj\\GitHub\\AngelFISH\\.venv\\Lib\\site-packages\\cellpose\\resnet_torch.py:271: FutureWarning: You are using `torch.load` with `weights_only=False` (the current default value), which uses the default pickle module implicitly. It is possible to construct malicious pickle data which will execute arbitrary code during unpickling (See https://github.com/pytorch/pytorch/blob/main/SECURITY.md#untrusted-models for more details). In a future release, the default value for `weights_only` will be flipped to `True`. This limits the functions that could be executed during unpickling. Arbitrary objects will no longer be allowed to be loaded via this mode unless they are explicitly allowlisted by the user via `torch.serialization.add_safe_globals`. We recommend you start setting `weights_only=True` for any use case where you don't have full control of the loaded file. Please open an issue on GitHub for any issues related to this experimental feature.\n",
      "  state_dict = torch.load(filename, map_location=device)\n"
     ]
    },
    {
     "name": "stdout",
     "output_type": "stream",
     "text": [
      "running image processing\n",
      "running image processing\n",
      "running image processing\n",
      "running image processing\n",
      "running image processing\n",
      "running image processing\n",
      "running image processing\n",
      "running image processing\n",
      "running image processing\n",
      "running image processing\n",
      "running image processing\n",
      "running image processing\n",
      "running image processing\n",
      "running image processing\n",
      "running image processing\n",
      "running image processing\n",
      "running image processing\n",
      "running image processing\n",
      "running image processing\n",
      "running image processing\n",
      "running image processing\n",
      "running image processing\n",
      "running image processing\n",
      "running image processing\n"
     ]
    },
    {
     "name": "stderr",
     "output_type": "stream",
     "text": [
      "2025-07-30 14:07:10 |     INFO | Task segment_cyto finished after 38.425s\n",
      "INFO:sciluigi-interface:Task segment_cyto finished after 38.425s\n",
      "2025-07-30 14:07:10 |     INFO | [pid 25180] Worker Worker(salt=2959556853, workers=1, host=ens13487, username=formanj, pid=25180) done      AngelFISHLuigiTask(workflow_task=AngelFISHWorkflow(instance_name=sciluigi_workflow, receipt_path=C:\\Users\\formanj\\GitHub\\AngelFISH\\examples\\new_pipeline.json), instance_name=segment_cyto, receipt_path=C:\\Users\\formanj\\GitHub\\AngelFISH\\examples\\new_pipeline.json, step_name=segment_cyto, output_path=c:\\Users\\formanj\\GitHub\\AngelFISH\\database\\SS004_10min_100nM_7\\default_name\\status\\step_segment_cyto.txt)\n",
      "INFO: [pid 25180] Worker Worker(salt=2959556853, workers=1, host=ens13487, username=formanj, pid=25180) done      AngelFISHLuigiTask(workflow_task=AngelFISHWorkflow(instance_name=sciluigi_workflow, receipt_path=C:\\Users\\formanj\\GitHub\\AngelFISH\\examples\\new_pipeline.json), instance_name=segment_cyto, receipt_path=C:\\Users\\formanj\\GitHub\\AngelFISH\\examples\\new_pipeline.json, step_name=segment_cyto, output_path=c:\\Users\\formanj\\GitHub\\AngelFISH\\database\\SS004_10min_100nM_7\\default_name\\status\\step_segment_cyto.txt)\n",
      "INFO:luigi-interface:[pid 25180] Worker Worker(salt=2959556853, workers=1, host=ens13487, username=formanj, pid=25180) done      AngelFISHLuigiTask(workflow_task=AngelFISHWorkflow(instance_name=sciluigi_workflow, receipt_path=C:\\Users\\formanj\\GitHub\\AngelFISH\\examples\\new_pipeline.json), instance_name=segment_cyto, receipt_path=C:\\Users\\formanj\\GitHub\\AngelFISH\\examples\\new_pipeline.json, step_name=segment_cyto, output_path=c:\\Users\\formanj\\GitHub\\AngelFISH\\database\\SS004_10min_100nM_7\\default_name\\status\\step_segment_cyto.txt)\n",
      "DEBUG: 1 running tasks, waiting for next task to finish\n",
      "DEBUG:luigi-interface:1 running tasks, waiting for next task to finish\n",
      "2025-07-30 14:07:10 |     INFO | Informed scheduler that task   AngelFISHLuigiTask_segment_cyto_c__Users_formanj_C__Users_formanj_ce8a063edc   has status   DONE\n",
      "INFO: Informed scheduler that task   AngelFISHLuigiTask_segment_cyto_c__Users_formanj_C__Users_formanj_ce8a063edc   has status   DONE\n",
      "INFO:luigi-interface:Informed scheduler that task   AngelFISHLuigiTask_segment_cyto_c__Users_formanj_C__Users_formanj_ce8a063edc   has status   DONE\n",
      "DEBUG: Asking scheduler for work...\n",
      "DEBUG:luigi-interface:Asking scheduler for work...\n",
      "DEBUG: Pending tasks: 4\n",
      "DEBUG:luigi-interface:Pending tasks: 4\n",
      "2025-07-30 14:07:10 |     INFO | [pid 25180] Worker Worker(salt=2959556853, workers=1, host=ens13487, username=formanj, pid=25180) running   AngelFISHLuigiTask(workflow_task=AngelFISHWorkflow(instance_name=sciluigi_workflow, receipt_path=C:\\Users\\formanj\\GitHub\\AngelFISH\\examples\\new_pipeline.json), instance_name=match_cyto_and_nuc, receipt_path=C:\\Users\\formanj\\GitHub\\AngelFISH\\examples\\new_pipeline.json, step_name=match_cyto_and_nuc, output_path=c:\\Users\\formanj\\GitHub\\AngelFISH\\database\\SS004_10min_100nM_7\\default_name\\status\\step_match_cyto_and_nuc.txt)\n",
      "INFO: [pid 25180] Worker Worker(salt=2959556853, workers=1, host=ens13487, username=formanj, pid=25180) running   AngelFISHLuigiTask(workflow_task=AngelFISHWorkflow(instance_name=sciluigi_workflow, receipt_path=C:\\Users\\formanj\\GitHub\\AngelFISH\\examples\\new_pipeline.json), instance_name=match_cyto_and_nuc, receipt_path=C:\\Users\\formanj\\GitHub\\AngelFISH\\examples\\new_pipeline.json, step_name=match_cyto_and_nuc, output_path=c:\\Users\\formanj\\GitHub\\AngelFISH\\database\\SS004_10min_100nM_7\\default_name\\status\\step_match_cyto_and_nuc.txt)\n",
      "INFO:luigi-interface:[pid 25180] Worker Worker(salt=2959556853, workers=1, host=ens13487, username=formanj, pid=25180) running   AngelFISHLuigiTask(workflow_task=AngelFISHWorkflow(instance_name=sciluigi_workflow, receipt_path=C:\\Users\\formanj\\GitHub\\AngelFISH\\examples\\new_pipeline.json), instance_name=match_cyto_and_nuc, receipt_path=C:\\Users\\formanj\\GitHub\\AngelFISH\\examples\\new_pipeline.json, step_name=match_cyto_and_nuc, output_path=c:\\Users\\formanj\\GitHub\\AngelFISH\\database\\SS004_10min_100nM_7\\default_name\\status\\step_match_cyto_and_nuc.txt)\n",
      "2025-07-30 14:07:10 |     INFO | Task match_cyto_and_nuc started\n",
      "INFO:sciluigi-interface:Task match_cyto_and_nuc started\n"
     ]
    },
    {
     "name": "stdout",
     "output_type": "stream",
     "text": [
      "Dataset opened                \n"
     ]
    },
    {
     "name": "stderr",
     "output_type": "stream",
     "text": [
      "2025-07-30 14:07:13 |     INFO | Task match_cyto_and_nuc finished after 2.851s\n",
      "INFO:sciluigi-interface:Task match_cyto_and_nuc finished after 2.851s\n",
      "2025-07-30 14:07:13 |     INFO | [pid 25180] Worker Worker(salt=2959556853, workers=1, host=ens13487, username=formanj, pid=25180) done      AngelFISHLuigiTask(workflow_task=AngelFISHWorkflow(instance_name=sciluigi_workflow, receipt_path=C:\\Users\\formanj\\GitHub\\AngelFISH\\examples\\new_pipeline.json), instance_name=match_cyto_and_nuc, receipt_path=C:\\Users\\formanj\\GitHub\\AngelFISH\\examples\\new_pipeline.json, step_name=match_cyto_and_nuc, output_path=c:\\Users\\formanj\\GitHub\\AngelFISH\\database\\SS004_10min_100nM_7\\default_name\\status\\step_match_cyto_and_nuc.txt)\n",
      "INFO: [pid 25180] Worker Worker(salt=2959556853, workers=1, host=ens13487, username=formanj, pid=25180) done      AngelFISHLuigiTask(workflow_task=AngelFISHWorkflow(instance_name=sciluigi_workflow, receipt_path=C:\\Users\\formanj\\GitHub\\AngelFISH\\examples\\new_pipeline.json), instance_name=match_cyto_and_nuc, receipt_path=C:\\Users\\formanj\\GitHub\\AngelFISH\\examples\\new_pipeline.json, step_name=match_cyto_and_nuc, output_path=c:\\Users\\formanj\\GitHub\\AngelFISH\\database\\SS004_10min_100nM_7\\default_name\\status\\step_match_cyto_and_nuc.txt)\n",
      "INFO:luigi-interface:[pid 25180] Worker Worker(salt=2959556853, workers=1, host=ens13487, username=formanj, pid=25180) done      AngelFISHLuigiTask(workflow_task=AngelFISHWorkflow(instance_name=sciluigi_workflow, receipt_path=C:\\Users\\formanj\\GitHub\\AngelFISH\\examples\\new_pipeline.json), instance_name=match_cyto_and_nuc, receipt_path=C:\\Users\\formanj\\GitHub\\AngelFISH\\examples\\new_pipeline.json, step_name=match_cyto_and_nuc, output_path=c:\\Users\\formanj\\GitHub\\AngelFISH\\database\\SS004_10min_100nM_7\\default_name\\status\\step_match_cyto_and_nuc.txt)\n",
      "DEBUG: 1 running tasks, waiting for next task to finish\n",
      "DEBUG:luigi-interface:1 running tasks, waiting for next task to finish\n",
      "2025-07-30 14:07:13 |     INFO | Informed scheduler that task   AngelFISHLuigiTask_match_cyto_and_n_c__Users_formanj_C__Users_formanj_a2c66b5bf1   has status   DONE\n",
      "INFO: Informed scheduler that task   AngelFISHLuigiTask_match_cyto_and_n_c__Users_formanj_C__Users_formanj_a2c66b5bf1   has status   DONE\n",
      "INFO:luigi-interface:Informed scheduler that task   AngelFISHLuigiTask_match_cyto_and_n_c__Users_formanj_C__Users_formanj_a2c66b5bf1   has status   DONE\n",
      "DEBUG: Asking scheduler for work...\n",
      "DEBUG:luigi-interface:Asking scheduler for work...\n",
      "DEBUG: Pending tasks: 3\n",
      "DEBUG:luigi-interface:Pending tasks: 3\n",
      "2025-07-30 14:07:13 |     INFO | [pid 25180] Worker Worker(salt=2959556853, workers=1, host=ens13487, username=formanj, pid=25180) running   AngelFISHLuigiTask(workflow_task=AngelFISHWorkflow(instance_name=sciluigi_workflow, receipt_path=C:\\Users\\formanj\\GitHub\\AngelFISH\\examples\\new_pipeline.json), instance_name=detect_dusp1, receipt_path=C:\\Users\\formanj\\GitHub\\AngelFISH\\examples\\new_pipeline.json, step_name=detect_dusp1, output_path=c:\\Users\\formanj\\GitHub\\AngelFISH\\database\\SS004_10min_100nM_7\\default_name\\status\\step_detect_dusp1.txt)\n",
      "INFO: [pid 25180] Worker Worker(salt=2959556853, workers=1, host=ens13487, username=formanj, pid=25180) running   AngelFISHLuigiTask(workflow_task=AngelFISHWorkflow(instance_name=sciluigi_workflow, receipt_path=C:\\Users\\formanj\\GitHub\\AngelFISH\\examples\\new_pipeline.json), instance_name=detect_dusp1, receipt_path=C:\\Users\\formanj\\GitHub\\AngelFISH\\examples\\new_pipeline.json, step_name=detect_dusp1, output_path=c:\\Users\\formanj\\GitHub\\AngelFISH\\database\\SS004_10min_100nM_7\\default_name\\status\\step_detect_dusp1.txt)\n",
      "INFO:luigi-interface:[pid 25180] Worker Worker(salt=2959556853, workers=1, host=ens13487, username=formanj, pid=25180) running   AngelFISHLuigiTask(workflow_task=AngelFISHWorkflow(instance_name=sciluigi_workflow, receipt_path=C:\\Users\\formanj\\GitHub\\AngelFISH\\examples\\new_pipeline.json), instance_name=detect_dusp1, receipt_path=C:\\Users\\formanj\\GitHub\\AngelFISH\\examples\\new_pipeline.json, step_name=detect_dusp1, output_path=c:\\Users\\formanj\\GitHub\\AngelFISH\\database\\SS004_10min_100nM_7\\default_name\\status\\step_detect_dusp1.txt)\n",
      "2025-07-30 14:07:13 |     INFO | Task detect_dusp1 started\n",
      "INFO:sciluigi-interface:Task detect_dusp1 started\n"
     ]
    },
    {
     "name": "stdout",
     "output_type": "stream",
     "text": [
      "Dataset opened                \n",
      "Detecting Spots\n"
     ]
    },
    {
     "name": "stderr",
     "output_type": "stream",
     "text": [
      "c:\\Users\\formanj\\GitHub\\AngelFISH\\examples\\..\\src\\steps\\Detect_Spots.py:912: RuntimeWarning: overflow encountered in scalar negative\n",
      "  spot_background[:, edge_background_yx:-edge_background_yx, edge_background_yx:-edge_background_yx] = -1\n"
     ]
    },
    {
     "name": "stdout",
     "output_type": "stream",
     "text": [
      "median SNR: 6.5956525263435815\n",
      "mean SNR: 7.725858918174421\n",
      "SNR threshold: None\n",
      "Extracting Cell Results from masks\n",
      "Computing Spot Properties\n",
      "Standardizing Data\n",
      "Complete Spot Detection\n",
      "Detecting Spots\n"
     ]
    },
    {
     "name": "stderr",
     "output_type": "stream",
     "text": [
      "c:\\Users\\formanj\\GitHub\\AngelFISH\\examples\\..\\src\\steps\\Detect_Spots.py:912: RuntimeWarning: overflow encountered in scalar negative\n",
      "  spot_background[:, edge_background_yx:-edge_background_yx, edge_background_yx:-edge_background_yx] = -1\n",
      "c:\\Users\\formanj\\GitHub\\AngelFISH\\examples\\..\\src\\steps\\Detect_Spots.py:912: RuntimeWarning: overflow encountered in scalar negative\n",
      "  spot_background[:, edge_background_yx:-edge_background_yx, edge_background_yx:-edge_background_yx] = -1\n"
     ]
    },
    {
     "name": "stdout",
     "output_type": "stream",
     "text": [
      "median SNR: 3.866003921751719\n",
      "mean SNR: 4.735413515787303\n",
      "SNR threshold: None\n",
      "Extracting Cell Results from masks\n",
      "Computing Spot Properties\n",
      "Standardizing Data\n",
      "Complete Spot Detection\n",
      "Detecting Spots\n"
     ]
    },
    {
     "name": "stderr",
     "output_type": "stream",
     "text": [
      "c:\\Users\\formanj\\GitHub\\AngelFISH\\examples\\..\\src\\steps\\Detect_Spots.py:912: RuntimeWarning: overflow encountered in scalar negative\n",
      "  spot_background[:, edge_background_yx:-edge_background_yx, edge_background_yx:-edge_background_yx] = -1\n",
      "c:\\Users\\formanj\\GitHub\\AngelFISH\\examples\\..\\src\\steps\\Detect_Spots.py:912: RuntimeWarning: overflow encountered in scalar negative\n",
      "  spot_background[:, edge_background_yx:-edge_background_yx, edge_background_yx:-edge_background_yx] = -1\n"
     ]
    },
    {
     "name": "stdout",
     "output_type": "stream",
     "text": [
      "median SNR: 4.407499704876611\n",
      "mean SNR: 5.524491867256868\n",
      "SNR threshold: None\n",
      "Extracting Cell Results from masks\n",
      "Computing Spot Properties\n",
      "Standardizing Data\n",
      "Complete Spot Detection\n",
      "Detecting Spots\n"
     ]
    },
    {
     "name": "stderr",
     "output_type": "stream",
     "text": [
      "c:\\Users\\formanj\\GitHub\\AngelFISH\\examples\\..\\src\\steps\\Detect_Spots.py:912: RuntimeWarning: overflow encountered in scalar negative\n",
      "  spot_background[:, edge_background_yx:-edge_background_yx, edge_background_yx:-edge_background_yx] = -1\n",
      "c:\\Users\\formanj\\GitHub\\AngelFISH\\examples\\..\\src\\steps\\Detect_Spots.py:912: RuntimeWarning: overflow encountered in scalar negative\n",
      "  spot_background[:, edge_background_yx:-edge_background_yx, edge_background_yx:-edge_background_yx] = -1\n"
     ]
    },
    {
     "name": "stdout",
     "output_type": "stream",
     "text": [
      "median SNR: 7.580446226422835\n",
      "mean SNR: 8.536184022182173\n",
      "SNR threshold: None\n",
      "Extracting Cell Results from masks\n",
      "Computing Spot Properties\n",
      "Standardizing Data\n",
      "Complete Spot Detection\n",
      "Detecting Spots\n"
     ]
    },
    {
     "name": "stderr",
     "output_type": "stream",
     "text": [
      "c:\\Users\\formanj\\GitHub\\AngelFISH\\examples\\..\\src\\steps\\Detect_Spots.py:912: RuntimeWarning: overflow encountered in scalar negative\n",
      "  spot_background[:, edge_background_yx:-edge_background_yx, edge_background_yx:-edge_background_yx] = -1\n",
      "c:\\Users\\formanj\\GitHub\\AngelFISH\\examples\\..\\src\\steps\\Detect_Spots.py:912: RuntimeWarning: overflow encountered in scalar negative\n",
      "  spot_background[:, edge_background_yx:-edge_background_yx, edge_background_yx:-edge_background_yx] = -1\n"
     ]
    },
    {
     "name": "stdout",
     "output_type": "stream",
     "text": [
      "median SNR: 4.5598400680938145\n",
      "mean SNR: 5.827898290338313\n",
      "SNR threshold: None\n",
      "Extracting Cell Results from masks\n",
      "Computing Spot Properties\n",
      "Standardizing Data\n",
      "Complete Spot Detection\n",
      "Detecting Spots\n"
     ]
    },
    {
     "name": "stderr",
     "output_type": "stream",
     "text": [
      "c:\\Users\\formanj\\GitHub\\AngelFISH\\examples\\..\\src\\steps\\Detect_Spots.py:912: RuntimeWarning: overflow encountered in scalar negative\n",
      "  spot_background[:, edge_background_yx:-edge_background_yx, edge_background_yx:-edge_background_yx] = -1\n",
      "c:\\Users\\formanj\\GitHub\\AngelFISH\\examples\\..\\src\\steps\\Detect_Spots.py:912: RuntimeWarning: overflow encountered in scalar negative\n",
      "  spot_background[:, edge_background_yx:-edge_background_yx, edge_background_yx:-edge_background_yx] = -1\n"
     ]
    },
    {
     "name": "stdout",
     "output_type": "stream",
     "text": [
      "median SNR: 5.660246957346172\n",
      "mean SNR: 7.302410319234357\n",
      "SNR threshold: None\n",
      "Extracting Cell Results from masks\n",
      "Computing Spot Properties\n",
      "Standardizing Data\n",
      "Complete Spot Detection\n",
      "Detecting Spots\n"
     ]
    },
    {
     "name": "stderr",
     "output_type": "stream",
     "text": [
      "c:\\Users\\formanj\\GitHub\\AngelFISH\\examples\\..\\src\\steps\\Detect_Spots.py:912: RuntimeWarning: overflow encountered in scalar negative\n",
      "  spot_background[:, edge_background_yx:-edge_background_yx, edge_background_yx:-edge_background_yx] = -1\n",
      "c:\\Users\\formanj\\GitHub\\AngelFISH\\examples\\..\\src\\steps\\Detect_Spots.py:912: RuntimeWarning: overflow encountered in scalar negative\n",
      "  spot_background[:, edge_background_yx:-edge_background_yx, edge_background_yx:-edge_background_yx] = -1\n"
     ]
    },
    {
     "name": "stdout",
     "output_type": "stream",
     "text": [
      "median SNR: 6.430732524496986\n",
      "mean SNR: 8.399981104256877\n",
      "SNR threshold: None\n",
      "Extracting Cell Results from masks\n",
      "Computing Spot Properties\n",
      "Standardizing Data\n",
      "Complete Spot Detection\n",
      "Detecting Spots\n"
     ]
    },
    {
     "name": "stderr",
     "output_type": "stream",
     "text": [
      "c:\\Users\\formanj\\GitHub\\AngelFISH\\examples\\..\\src\\steps\\Detect_Spots.py:912: RuntimeWarning: overflow encountered in scalar negative\n",
      "  spot_background[:, edge_background_yx:-edge_background_yx, edge_background_yx:-edge_background_yx] = -1\n",
      "c:\\Users\\formanj\\GitHub\\AngelFISH\\examples\\..\\src\\steps\\Detect_Spots.py:912: RuntimeWarning: overflow encountered in scalar negative\n",
      "  spot_background[:, edge_background_yx:-edge_background_yx, edge_background_yx:-edge_background_yx] = -1\n"
     ]
    },
    {
     "name": "stdout",
     "output_type": "stream",
     "text": [
      "median SNR: 5.477617400810852\n",
      "mean SNR: 6.449356082045346\n",
      "SNR threshold: None\n",
      "Extracting Cell Results from masks\n",
      "Computing Spot Properties\n",
      "Standardizing Data\n",
      "Complete Spot Detection\n",
      "Detecting Spots\n"
     ]
    },
    {
     "name": "stderr",
     "output_type": "stream",
     "text": [
      "c:\\Users\\formanj\\GitHub\\AngelFISH\\examples\\..\\src\\steps\\Detect_Spots.py:912: RuntimeWarning: overflow encountered in scalar negative\n",
      "  spot_background[:, edge_background_yx:-edge_background_yx, edge_background_yx:-edge_background_yx] = -1\n",
      "c:\\Users\\formanj\\GitHub\\AngelFISH\\examples\\..\\src\\steps\\Detect_Spots.py:912: RuntimeWarning: overflow encountered in scalar negative\n",
      "  spot_background[:, edge_background_yx:-edge_background_yx, edge_background_yx:-edge_background_yx] = -1\n"
     ]
    },
    {
     "name": "stdout",
     "output_type": "stream",
     "text": [
      "median SNR: 4.9193396131850395\n",
      "mean SNR: 5.711326832437101\n",
      "SNR threshold: None\n",
      "Extracting Cell Results from masks\n",
      "Computing Spot Properties\n",
      "Standardizing Data\n",
      "Complete Spot Detection\n",
      "Detecting Spots\n"
     ]
    },
    {
     "name": "stderr",
     "output_type": "stream",
     "text": [
      "c:\\Users\\formanj\\GitHub\\AngelFISH\\examples\\..\\src\\steps\\Detect_Spots.py:912: RuntimeWarning: overflow encountered in scalar negative\n",
      "  spot_background[:, edge_background_yx:-edge_background_yx, edge_background_yx:-edge_background_yx] = -1\n",
      "c:\\Users\\formanj\\GitHub\\AngelFISH\\examples\\..\\src\\steps\\Detect_Spots.py:912: RuntimeWarning: overflow encountered in scalar negative\n",
      "  spot_background[:, edge_background_yx:-edge_background_yx, edge_background_yx:-edge_background_yx] = -1\n"
     ]
    },
    {
     "name": "stdout",
     "output_type": "stream",
     "text": [
      "median SNR: 4.7173651932635\n",
      "mean SNR: 5.5637810596634205\n",
      "SNR threshold: None\n",
      "Extracting Cell Results from masks\n",
      "Computing Spot Properties\n",
      "Standardizing Data\n",
      "Complete Spot Detection\n",
      "Detecting Spots\n"
     ]
    },
    {
     "name": "stderr",
     "output_type": "stream",
     "text": [
      "c:\\Users\\formanj\\GitHub\\AngelFISH\\examples\\..\\src\\steps\\Detect_Spots.py:912: RuntimeWarning: overflow encountered in scalar negative\n",
      "  spot_background[:, edge_background_yx:-edge_background_yx, edge_background_yx:-edge_background_yx] = -1\n",
      "c:\\Users\\formanj\\GitHub\\AngelFISH\\examples\\..\\src\\steps\\Detect_Spots.py:912: RuntimeWarning: overflow encountered in scalar negative\n",
      "  spot_background[:, edge_background_yx:-edge_background_yx, edge_background_yx:-edge_background_yx] = -1\n"
     ]
    },
    {
     "name": "stdout",
     "output_type": "stream",
     "text": [
      "median SNR: 5.221592199917314\n",
      "mean SNR: 6.571506750812326\n",
      "SNR threshold: None\n",
      "Extracting Cell Results from masks\n",
      "Computing Spot Properties\n",
      "Standardizing Data\n",
      "Complete Spot Detection\n",
      "Detecting Spots\n"
     ]
    },
    {
     "name": "stderr",
     "output_type": "stream",
     "text": [
      "c:\\Users\\formanj\\GitHub\\AngelFISH\\examples\\..\\src\\steps\\Detect_Spots.py:912: RuntimeWarning: overflow encountered in scalar negative\n",
      "  spot_background[:, edge_background_yx:-edge_background_yx, edge_background_yx:-edge_background_yx] = -1\n",
      "c:\\Users\\formanj\\GitHub\\AngelFISH\\examples\\..\\src\\steps\\Detect_Spots.py:912: RuntimeWarning: overflow encountered in scalar negative\n",
      "  spot_background[:, edge_background_yx:-edge_background_yx, edge_background_yx:-edge_background_yx] = -1\n"
     ]
    },
    {
     "name": "stdout",
     "output_type": "stream",
     "text": [
      "median SNR: 6.520564409220814\n",
      "mean SNR: 8.111375750554245\n",
      "SNR threshold: None\n",
      "Extracting Cell Results from masks\n",
      "Computing Spot Properties\n",
      "Standardizing Data\n",
      "Complete Spot Detection\n",
      "Detecting Spots\n"
     ]
    },
    {
     "name": "stderr",
     "output_type": "stream",
     "text": [
      "c:\\Users\\formanj\\GitHub\\AngelFISH\\examples\\..\\src\\steps\\Detect_Spots.py:912: RuntimeWarning: overflow encountered in scalar negative\n",
      "  spot_background[:, edge_background_yx:-edge_background_yx, edge_background_yx:-edge_background_yx] = -1\n",
      "c:\\Users\\formanj\\GitHub\\AngelFISH\\examples\\..\\src\\steps\\Detect_Spots.py:912: RuntimeWarning: overflow encountered in scalar negative\n",
      "  spot_background[:, edge_background_yx:-edge_background_yx, edge_background_yx:-edge_background_yx] = -1\n"
     ]
    },
    {
     "name": "stdout",
     "output_type": "stream",
     "text": [
      "median SNR: 6.0487627628145075\n",
      "mean SNR: 7.204697674652757\n",
      "SNR threshold: None\n",
      "Extracting Cell Results from masks\n",
      "Computing Spot Properties\n",
      "Standardizing Data\n",
      "Complete Spot Detection\n",
      "Detecting Spots\n"
     ]
    },
    {
     "name": "stderr",
     "output_type": "stream",
     "text": [
      "c:\\Users\\formanj\\GitHub\\AngelFISH\\examples\\..\\src\\steps\\Detect_Spots.py:912: RuntimeWarning: overflow encountered in scalar negative\n",
      "  spot_background[:, edge_background_yx:-edge_background_yx, edge_background_yx:-edge_background_yx] = -1\n",
      "c:\\Users\\formanj\\GitHub\\AngelFISH\\examples\\..\\src\\steps\\Detect_Spots.py:912: RuntimeWarning: overflow encountered in scalar negative\n",
      "  spot_background[:, edge_background_yx:-edge_background_yx, edge_background_yx:-edge_background_yx] = -1\n"
     ]
    },
    {
     "name": "stdout",
     "output_type": "stream",
     "text": [
      "median SNR: 7.944388359820105\n",
      "mean SNR: 9.181924749542913\n",
      "SNR threshold: None\n",
      "Extracting Cell Results from masks\n",
      "Computing Spot Properties\n",
      "Standardizing Data\n",
      "Complete Spot Detection\n",
      "Detecting Spots\n"
     ]
    },
    {
     "name": "stderr",
     "output_type": "stream",
     "text": [
      "c:\\Users\\formanj\\GitHub\\AngelFISH\\examples\\..\\src\\steps\\Detect_Spots.py:912: RuntimeWarning: overflow encountered in scalar negative\n",
      "  spot_background[:, edge_background_yx:-edge_background_yx, edge_background_yx:-edge_background_yx] = -1\n",
      "c:\\Users\\formanj\\GitHub\\AngelFISH\\examples\\..\\src\\steps\\Detect_Spots.py:912: RuntimeWarning: overflow encountered in scalar negative\n",
      "  spot_background[:, edge_background_yx:-edge_background_yx, edge_background_yx:-edge_background_yx] = -1\n"
     ]
    },
    {
     "name": "stdout",
     "output_type": "stream",
     "text": [
      "median SNR: 4.746745820739841\n",
      "mean SNR: 6.175207597871318\n",
      "SNR threshold: None\n",
      "Extracting Cell Results from masks\n",
      "Computing Spot Properties\n",
      "Standardizing Data\n",
      "Complete Spot Detection\n",
      "Detecting Spots\n"
     ]
    },
    {
     "name": "stderr",
     "output_type": "stream",
     "text": [
      "c:\\Users\\formanj\\GitHub\\AngelFISH\\examples\\..\\src\\steps\\Detect_Spots.py:912: RuntimeWarning: overflow encountered in scalar negative\n",
      "  spot_background[:, edge_background_yx:-edge_background_yx, edge_background_yx:-edge_background_yx] = -1\n",
      "c:\\Users\\formanj\\GitHub\\AngelFISH\\examples\\..\\src\\steps\\Detect_Spots.py:912: RuntimeWarning: overflow encountered in scalar negative\n",
      "  spot_background[:, edge_background_yx:-edge_background_yx, edge_background_yx:-edge_background_yx] = -1\n"
     ]
    },
    {
     "name": "stdout",
     "output_type": "stream",
     "text": [
      "median SNR: 7.279243944821041\n",
      "mean SNR: 8.332397407093037\n",
      "SNR threshold: None\n",
      "Extracting Cell Results from masks\n",
      "Computing Spot Properties\n",
      "Standardizing Data\n",
      "Complete Spot Detection\n",
      "Detecting Spots\n"
     ]
    },
    {
     "name": "stderr",
     "output_type": "stream",
     "text": [
      "c:\\Users\\formanj\\GitHub\\AngelFISH\\examples\\..\\src\\steps\\Detect_Spots.py:912: RuntimeWarning: overflow encountered in scalar negative\n",
      "  spot_background[:, edge_background_yx:-edge_background_yx, edge_background_yx:-edge_background_yx] = -1\n",
      "c:\\Users\\formanj\\GitHub\\AngelFISH\\examples\\..\\src\\steps\\Detect_Spots.py:912: RuntimeWarning: overflow encountered in scalar negative\n",
      "  spot_background[:, edge_background_yx:-edge_background_yx, edge_background_yx:-edge_background_yx] = -1\n"
     ]
    },
    {
     "name": "stdout",
     "output_type": "stream",
     "text": [
      "median SNR: 4.4484924187444115\n",
      "mean SNR: 5.64380553151227\n",
      "SNR threshold: None\n",
      "Extracting Cell Results from masks\n",
      "Computing Spot Properties\n",
      "Standardizing Data\n",
      "Complete Spot Detection\n",
      "Detecting Spots\n"
     ]
    },
    {
     "name": "stderr",
     "output_type": "stream",
     "text": [
      "c:\\Users\\formanj\\GitHub\\AngelFISH\\examples\\..\\src\\steps\\Detect_Spots.py:912: RuntimeWarning: overflow encountered in scalar negative\n",
      "  spot_background[:, edge_background_yx:-edge_background_yx, edge_background_yx:-edge_background_yx] = -1\n",
      "c:\\Users\\formanj\\GitHub\\AngelFISH\\examples\\..\\src\\steps\\Detect_Spots.py:912: RuntimeWarning: overflow encountered in scalar negative\n",
      "  spot_background[:, edge_background_yx:-edge_background_yx, edge_background_yx:-edge_background_yx] = -1\n"
     ]
    },
    {
     "name": "stdout",
     "output_type": "stream",
     "text": [
      "median SNR: 3.624405833511492\n",
      "mean SNR: 4.42691779180668\n",
      "SNR threshold: None\n",
      "Extracting Cell Results from masks\n",
      "Computing Spot Properties\n",
      "Standardizing Data\n",
      "Complete Spot Detection\n",
      "Detecting Spots\n"
     ]
    },
    {
     "name": "stderr",
     "output_type": "stream",
     "text": [
      "c:\\Users\\formanj\\GitHub\\AngelFISH\\examples\\..\\src\\steps\\Detect_Spots.py:912: RuntimeWarning: overflow encountered in scalar negative\n",
      "  spot_background[:, edge_background_yx:-edge_background_yx, edge_background_yx:-edge_background_yx] = -1\n",
      "c:\\Users\\formanj\\GitHub\\AngelFISH\\examples\\..\\src\\steps\\Detect_Spots.py:912: RuntimeWarning: overflow encountered in scalar negative\n",
      "  spot_background[:, edge_background_yx:-edge_background_yx, edge_background_yx:-edge_background_yx] = -1\n"
     ]
    },
    {
     "name": "stdout",
     "output_type": "stream",
     "text": [
      "median SNR: 6.4728941086029845\n",
      "mean SNR: 8.279209856898772\n",
      "SNR threshold: None\n",
      "Extracting Cell Results from masks\n",
      "Computing Spot Properties\n",
      "Standardizing Data\n",
      "Complete Spot Detection\n",
      "Detecting Spots\n"
     ]
    },
    {
     "name": "stderr",
     "output_type": "stream",
     "text": [
      "c:\\Users\\formanj\\GitHub\\AngelFISH\\examples\\..\\src\\steps\\Detect_Spots.py:912: RuntimeWarning: overflow encountered in scalar negative\n",
      "  spot_background[:, edge_background_yx:-edge_background_yx, edge_background_yx:-edge_background_yx] = -1\n",
      "c:\\Users\\formanj\\GitHub\\AngelFISH\\examples\\..\\src\\steps\\Detect_Spots.py:912: RuntimeWarning: overflow encountered in scalar negative\n",
      "  spot_background[:, edge_background_yx:-edge_background_yx, edge_background_yx:-edge_background_yx] = -1\n"
     ]
    },
    {
     "name": "stdout",
     "output_type": "stream",
     "text": [
      "median SNR: 7.942264749266379\n",
      "mean SNR: 9.246956376274175\n",
      "SNR threshold: None\n",
      "Extracting Cell Results from masks\n",
      "Computing Spot Properties\n",
      "Standardizing Data\n",
      "Complete Spot Detection\n",
      "Detecting Spots\n"
     ]
    },
    {
     "name": "stderr",
     "output_type": "stream",
     "text": [
      "c:\\Users\\formanj\\GitHub\\AngelFISH\\examples\\..\\src\\steps\\Detect_Spots.py:912: RuntimeWarning: overflow encountered in scalar negative\n",
      "  spot_background[:, edge_background_yx:-edge_background_yx, edge_background_yx:-edge_background_yx] = -1\n",
      "c:\\Users\\formanj\\GitHub\\AngelFISH\\examples\\..\\src\\steps\\Detect_Spots.py:912: RuntimeWarning: overflow encountered in scalar negative\n",
      "  spot_background[:, edge_background_yx:-edge_background_yx, edge_background_yx:-edge_background_yx] = -1\n"
     ]
    },
    {
     "name": "stdout",
     "output_type": "stream",
     "text": [
      "median SNR: 4.884123261628635\n",
      "mean SNR: 6.497938122841754\n",
      "SNR threshold: None\n",
      "Extracting Cell Results from masks\n",
      "Computing Spot Properties\n",
      "Standardizing Data\n",
      "Complete Spot Detection\n",
      "Detecting Spots\n"
     ]
    },
    {
     "name": "stderr",
     "output_type": "stream",
     "text": [
      "c:\\Users\\formanj\\GitHub\\AngelFISH\\examples\\..\\src\\steps\\Detect_Spots.py:912: RuntimeWarning: overflow encountered in scalar negative\n",
      "  spot_background[:, edge_background_yx:-edge_background_yx, edge_background_yx:-edge_background_yx] = -1\n",
      "c:\\Users\\formanj\\GitHub\\AngelFISH\\examples\\..\\src\\steps\\Detect_Spots.py:912: RuntimeWarning: overflow encountered in scalar negative\n",
      "  spot_background[:, edge_background_yx:-edge_background_yx, edge_background_yx:-edge_background_yx] = -1\n"
     ]
    },
    {
     "name": "stdout",
     "output_type": "stream",
     "text": [
      "median SNR: 5.621246196899722\n",
      "mean SNR: 6.970866656060581\n",
      "SNR threshold: None\n",
      "Extracting Cell Results from masks\n",
      "Computing Spot Properties\n",
      "Standardizing Data\n",
      "Complete Spot Detection\n",
      "Detecting Spots\n"
     ]
    },
    {
     "name": "stderr",
     "output_type": "stream",
     "text": [
      "c:\\Users\\formanj\\GitHub\\AngelFISH\\examples\\..\\src\\steps\\Detect_Spots.py:912: RuntimeWarning: overflow encountered in scalar negative\n",
      "  spot_background[:, edge_background_yx:-edge_background_yx, edge_background_yx:-edge_background_yx] = -1\n",
      "c:\\Users\\formanj\\GitHub\\AngelFISH\\examples\\..\\src\\steps\\Detect_Spots.py:912: RuntimeWarning: overflow encountered in scalar negative\n",
      "  spot_background[:, edge_background_yx:-edge_background_yx, edge_background_yx:-edge_background_yx] = -1\n"
     ]
    },
    {
     "name": "stdout",
     "output_type": "stream",
     "text": [
      "median SNR: 4.824597746535516\n",
      "mean SNR: 6.18726792348303\n",
      "SNR threshold: None\n",
      "Extracting Cell Results from masks\n",
      "Computing Spot Properties\n",
      "Standardizing Data\n",
      "Complete Spot Detection\n",
      "Detecting Spots\n"
     ]
    },
    {
     "name": "stderr",
     "output_type": "stream",
     "text": [
      "c:\\Users\\formanj\\GitHub\\AngelFISH\\examples\\..\\src\\steps\\Detect_Spots.py:912: RuntimeWarning: overflow encountered in scalar negative\n",
      "  spot_background[:, edge_background_yx:-edge_background_yx, edge_background_yx:-edge_background_yx] = -1\n",
      "c:\\Users\\formanj\\GitHub\\AngelFISH\\examples\\..\\src\\steps\\Detect_Spots.py:912: RuntimeWarning: overflow encountered in scalar negative\n",
      "  spot_background[:, edge_background_yx:-edge_background_yx, edge_background_yx:-edge_background_yx] = -1\n"
     ]
    },
    {
     "name": "stdout",
     "output_type": "stream",
     "text": [
      "median SNR: 4.275169384315449\n",
      "mean SNR: 5.5841937680084\n",
      "SNR threshold: None\n",
      "Extracting Cell Results from masks\n",
      "Computing Spot Properties\n",
      "Standardizing Data\n",
      "Complete Spot Detection\n",
      "Detecting Spots\n"
     ]
    },
    {
     "name": "stderr",
     "output_type": "stream",
     "text": [
      "c:\\Users\\formanj\\GitHub\\AngelFISH\\examples\\..\\src\\steps\\Detect_Spots.py:912: RuntimeWarning: overflow encountered in scalar negative\n",
      "  spot_background[:, edge_background_yx:-edge_background_yx, edge_background_yx:-edge_background_yx] = -1\n",
      "c:\\Users\\formanj\\GitHub\\AngelFISH\\examples\\..\\src\\steps\\Detect_Spots.py:912: RuntimeWarning: overflow encountered in scalar negative\n",
      "  spot_background[:, edge_background_yx:-edge_background_yx, edge_background_yx:-edge_background_yx] = -1\n"
     ]
    },
    {
     "name": "stdout",
     "output_type": "stream",
     "text": [
      "median SNR: 5.6297939904692065\n",
      "mean SNR: 7.311774698314391\n",
      "SNR threshold: None\n",
      "Extracting Cell Results from masks\n",
      "Computing Spot Properties\n",
      "Standardizing Data\n",
      "Complete Spot Detection\n"
     ]
    },
    {
     "name": "stderr",
     "output_type": "stream",
     "text": [
      "c:\\Users\\formanj\\GitHub\\AngelFISH\\examples\\..\\src\\steps\\Detect_Spots.py:912: RuntimeWarning: overflow encountered in scalar negative\n",
      "  spot_background[:, edge_background_yx:-edge_background_yx, edge_background_yx:-edge_background_yx] = -1\n",
      "2025-07-30 14:08:07 |     INFO | Task detect_dusp1 finished after 54.103s\n",
      "INFO:sciluigi-interface:Task detect_dusp1 finished after 54.103s\n",
      "2025-07-30 14:08:07 |     INFO | [pid 25180] Worker Worker(salt=2959556853, workers=1, host=ens13487, username=formanj, pid=25180) done      AngelFISHLuigiTask(workflow_task=AngelFISHWorkflow(instance_name=sciluigi_workflow, receipt_path=C:\\Users\\formanj\\GitHub\\AngelFISH\\examples\\new_pipeline.json), instance_name=detect_dusp1, receipt_path=C:\\Users\\formanj\\GitHub\\AngelFISH\\examples\\new_pipeline.json, step_name=detect_dusp1, output_path=c:\\Users\\formanj\\GitHub\\AngelFISH\\database\\SS004_10min_100nM_7\\default_name\\status\\step_detect_dusp1.txt)\n",
      "INFO: [pid 25180] Worker Worker(salt=2959556853, workers=1, host=ens13487, username=formanj, pid=25180) done      AngelFISHLuigiTask(workflow_task=AngelFISHWorkflow(instance_name=sciluigi_workflow, receipt_path=C:\\Users\\formanj\\GitHub\\AngelFISH\\examples\\new_pipeline.json), instance_name=detect_dusp1, receipt_path=C:\\Users\\formanj\\GitHub\\AngelFISH\\examples\\new_pipeline.json, step_name=detect_dusp1, output_path=c:\\Users\\formanj\\GitHub\\AngelFISH\\database\\SS004_10min_100nM_7\\default_name\\status\\step_detect_dusp1.txt)\n",
      "INFO:luigi-interface:[pid 25180] Worker Worker(salt=2959556853, workers=1, host=ens13487, username=formanj, pid=25180) done      AngelFISHLuigiTask(workflow_task=AngelFISHWorkflow(instance_name=sciluigi_workflow, receipt_path=C:\\Users\\formanj\\GitHub\\AngelFISH\\examples\\new_pipeline.json), instance_name=detect_dusp1, receipt_path=C:\\Users\\formanj\\GitHub\\AngelFISH\\examples\\new_pipeline.json, step_name=detect_dusp1, output_path=c:\\Users\\formanj\\GitHub\\AngelFISH\\database\\SS004_10min_100nM_7\\default_name\\status\\step_detect_dusp1.txt)\n",
      "DEBUG: 1 running tasks, waiting for next task to finish\n",
      "DEBUG:luigi-interface:1 running tasks, waiting for next task to finish\n",
      "2025-07-30 14:08:07 |     INFO | Informed scheduler that task   AngelFISHLuigiTask_detect_dusp1_c__Users_formanj_C__Users_formanj_e66b5fa357   has status   DONE\n",
      "INFO: Informed scheduler that task   AngelFISHLuigiTask_detect_dusp1_c__Users_formanj_C__Users_formanj_e66b5fa357   has status   DONE\n",
      "INFO:luigi-interface:Informed scheduler that task   AngelFISHLuigiTask_detect_dusp1_c__Users_formanj_C__Users_formanj_e66b5fa357   has status   DONE\n",
      "DEBUG: Asking scheduler for work...\n",
      "DEBUG:luigi-interface:Asking scheduler for work...\n",
      "DEBUG: Pending tasks: 2\n",
      "DEBUG:luigi-interface:Pending tasks: 2\n",
      "2025-07-30 14:08:07 |     INFO | [pid 25180] Worker Worker(salt=2959556853, workers=1, host=ens13487, username=formanj, pid=25180) running   AngelFISHLuigiTask(workflow_task=AngelFISHWorkflow(instance_name=sciluigi_workflow, receipt_path=C:\\Users\\formanj\\GitHub\\AngelFISH\\examples\\new_pipeline.json), instance_name=measure_cell_props, receipt_path=C:\\Users\\formanj\\GitHub\\AngelFISH\\examples\\new_pipeline.json, step_name=measure_cell_props, output_path=c:\\Users\\formanj\\GitHub\\AngelFISH\\database\\SS004_10min_100nM_7\\default_name\\status\\step_measure_cell_props.txt)\n",
      "INFO: [pid 25180] Worker Worker(salt=2959556853, workers=1, host=ens13487, username=formanj, pid=25180) running   AngelFISHLuigiTask(workflow_task=AngelFISHWorkflow(instance_name=sciluigi_workflow, receipt_path=C:\\Users\\formanj\\GitHub\\AngelFISH\\examples\\new_pipeline.json), instance_name=measure_cell_props, receipt_path=C:\\Users\\formanj\\GitHub\\AngelFISH\\examples\\new_pipeline.json, step_name=measure_cell_props, output_path=c:\\Users\\formanj\\GitHub\\AngelFISH\\database\\SS004_10min_100nM_7\\default_name\\status\\step_measure_cell_props.txt)\n",
      "INFO:luigi-interface:[pid 25180] Worker Worker(salt=2959556853, workers=1, host=ens13487, username=formanj, pid=25180) running   AngelFISHLuigiTask(workflow_task=AngelFISHWorkflow(instance_name=sciluigi_workflow, receipt_path=C:\\Users\\formanj\\GitHub\\AngelFISH\\examples\\new_pipeline.json), instance_name=measure_cell_props, receipt_path=C:\\Users\\formanj\\GitHub\\AngelFISH\\examples\\new_pipeline.json, step_name=measure_cell_props, output_path=c:\\Users\\formanj\\GitHub\\AngelFISH\\database\\SS004_10min_100nM_7\\default_name\\status\\step_measure_cell_props.txt)\n",
      "2025-07-30 14:08:07 |     INFO | Task measure_cell_props started\n",
      "INFO:sciluigi-interface:Task measure_cell_props started\n"
     ]
    },
    {
     "name": "stdout",
     "output_type": "stream",
     "text": [
      "Dataset opened                \n"
     ]
    },
    {
     "name": "stderr",
     "output_type": "stream",
     "text": [
      "2025-07-30 14:08:09 |     INFO | Task measure_cell_props finished after 2.012s\n",
      "INFO:sciluigi-interface:Task measure_cell_props finished after 2.012s\n",
      "2025-07-30 14:08:09 |     INFO | [pid 25180] Worker Worker(salt=2959556853, workers=1, host=ens13487, username=formanj, pid=25180) done      AngelFISHLuigiTask(workflow_task=AngelFISHWorkflow(instance_name=sciluigi_workflow, receipt_path=C:\\Users\\formanj\\GitHub\\AngelFISH\\examples\\new_pipeline.json), instance_name=measure_cell_props, receipt_path=C:\\Users\\formanj\\GitHub\\AngelFISH\\examples\\new_pipeline.json, step_name=measure_cell_props, output_path=c:\\Users\\formanj\\GitHub\\AngelFISH\\database\\SS004_10min_100nM_7\\default_name\\status\\step_measure_cell_props.txt)\n",
      "INFO: [pid 25180] Worker Worker(salt=2959556853, workers=1, host=ens13487, username=formanj, pid=25180) done      AngelFISHLuigiTask(workflow_task=AngelFISHWorkflow(instance_name=sciluigi_workflow, receipt_path=C:\\Users\\formanj\\GitHub\\AngelFISH\\examples\\new_pipeline.json), instance_name=measure_cell_props, receipt_path=C:\\Users\\formanj\\GitHub\\AngelFISH\\examples\\new_pipeline.json, step_name=measure_cell_props, output_path=c:\\Users\\formanj\\GitHub\\AngelFISH\\database\\SS004_10min_100nM_7\\default_name\\status\\step_measure_cell_props.txt)\n",
      "INFO:luigi-interface:[pid 25180] Worker Worker(salt=2959556853, workers=1, host=ens13487, username=formanj, pid=25180) done      AngelFISHLuigiTask(workflow_task=AngelFISHWorkflow(instance_name=sciluigi_workflow, receipt_path=C:\\Users\\formanj\\GitHub\\AngelFISH\\examples\\new_pipeline.json), instance_name=measure_cell_props, receipt_path=C:\\Users\\formanj\\GitHub\\AngelFISH\\examples\\new_pipeline.json, step_name=measure_cell_props, output_path=c:\\Users\\formanj\\GitHub\\AngelFISH\\database\\SS004_10min_100nM_7\\default_name\\status\\step_measure_cell_props.txt)\n",
      "DEBUG: 1 running tasks, waiting for next task to finish\n",
      "DEBUG:luigi-interface:1 running tasks, waiting for next task to finish\n",
      "2025-07-30 14:08:09 |     INFO | Informed scheduler that task   AngelFISHLuigiTask_measure_cell_pro_c__Users_formanj_C__Users_formanj_232fe361f6   has status   DONE\n",
      "INFO: Informed scheduler that task   AngelFISHLuigiTask_measure_cell_pro_c__Users_formanj_C__Users_formanj_232fe361f6   has status   DONE\n",
      "INFO:luigi-interface:Informed scheduler that task   AngelFISHLuigiTask_measure_cell_pro_c__Users_formanj_C__Users_formanj_232fe361f6   has status   DONE\n",
      "DEBUG: Asking scheduler for work...\n",
      "DEBUG:luigi-interface:Asking scheduler for work...\n",
      "DEBUG: Pending tasks: 1\n",
      "DEBUG:luigi-interface:Pending tasks: 1\n",
      "2025-07-30 14:08:09 |     INFO | [pid 25180] Worker Worker(salt=2959556853, workers=1, host=ens13487, username=formanj, pid=25180) running   AngelFISHLuigiTask(workflow_task=AngelFISHWorkflow(instance_name=sciluigi_workflow, receipt_path=C:\\Users\\formanj\\GitHub\\AngelFISH\\examples\\new_pipeline.json), instance_name=return_data, receipt_path=C:\\Users\\formanj\\GitHub\\AngelFISH\\examples\\new_pipeline.json, step_name=return_data, output_path=c:\\Users\\formanj\\GitHub\\AngelFISH\\database\\SS004_10min_100nM_7\\default_name\\status\\step_return_data.txt)\n",
      "INFO: [pid 25180] Worker Worker(salt=2959556853, workers=1, host=ens13487, username=formanj, pid=25180) running   AngelFISHLuigiTask(workflow_task=AngelFISHWorkflow(instance_name=sciluigi_workflow, receipt_path=C:\\Users\\formanj\\GitHub\\AngelFISH\\examples\\new_pipeline.json), instance_name=return_data, receipt_path=C:\\Users\\formanj\\GitHub\\AngelFISH\\examples\\new_pipeline.json, step_name=return_data, output_path=c:\\Users\\formanj\\GitHub\\AngelFISH\\database\\SS004_10min_100nM_7\\default_name\\status\\step_return_data.txt)\n",
      "INFO:luigi-interface:[pid 25180] Worker Worker(salt=2959556853, workers=1, host=ens13487, username=formanj, pid=25180) running   AngelFISHLuigiTask(workflow_task=AngelFISHWorkflow(instance_name=sciluigi_workflow, receipt_path=C:\\Users\\formanj\\GitHub\\AngelFISH\\examples\\new_pipeline.json), instance_name=return_data, receipt_path=C:\\Users\\formanj\\GitHub\\AngelFISH\\examples\\new_pipeline.json, step_name=return_data, output_path=c:\\Users\\formanj\\GitHub\\AngelFISH\\database\\SS004_10min_100nM_7\\default_name\\status\\step_return_data.txt)\n",
      "2025-07-30 14:08:09 |     INFO | Task return_data started\n",
      "INFO:sciluigi-interface:Task return_data started\n"
     ]
    },
    {
     "name": "stdout",
     "output_type": "stream",
     "text": [
      "Uploaded: cyto_masks.tiff\n",
      "Uploaded: nuc_masks.tiff\n",
      "Uploaded: cellproperties.csv\n",
      "Uploaded: dusp1_cellresults.csv\n",
      "Uploaded: dusp1_clusterresults.csv\n",
      "Uploaded: dusp1_spotresults.csv\n",
      "Uploaded: step_detect_dusp1.txt\n",
      "Uploaded: step_download_data.txt\n"
     ]
    },
    {
     "name": "stderr",
     "output_type": "stream",
     "text": [
      "2025-07-30 14:08:16 |     INFO | Task return_data finished after 7.272s\n",
      "INFO:sciluigi-interface:Task return_data finished after 7.272s\n",
      "2025-07-30 14:08:16 |     INFO | [pid 25180] Worker Worker(salt=2959556853, workers=1, host=ens13487, username=formanj, pid=25180) done      AngelFISHLuigiTask(workflow_task=AngelFISHWorkflow(instance_name=sciluigi_workflow, receipt_path=C:\\Users\\formanj\\GitHub\\AngelFISH\\examples\\new_pipeline.json), instance_name=return_data, receipt_path=C:\\Users\\formanj\\GitHub\\AngelFISH\\examples\\new_pipeline.json, step_name=return_data, output_path=c:\\Users\\formanj\\GitHub\\AngelFISH\\database\\SS004_10min_100nM_7\\default_name\\status\\step_return_data.txt)\n",
      "INFO: [pid 25180] Worker Worker(salt=2959556853, workers=1, host=ens13487, username=formanj, pid=25180) done      AngelFISHLuigiTask(workflow_task=AngelFISHWorkflow(instance_name=sciluigi_workflow, receipt_path=C:\\Users\\formanj\\GitHub\\AngelFISH\\examples\\new_pipeline.json), instance_name=return_data, receipt_path=C:\\Users\\formanj\\GitHub\\AngelFISH\\examples\\new_pipeline.json, step_name=return_data, output_path=c:\\Users\\formanj\\GitHub\\AngelFISH\\database\\SS004_10min_100nM_7\\default_name\\status\\step_return_data.txt)\n",
      "INFO:luigi-interface:[pid 25180] Worker Worker(salt=2959556853, workers=1, host=ens13487, username=formanj, pid=25180) done      AngelFISHLuigiTask(workflow_task=AngelFISHWorkflow(instance_name=sciluigi_workflow, receipt_path=C:\\Users\\formanj\\GitHub\\AngelFISH\\examples\\new_pipeline.json), instance_name=return_data, receipt_path=C:\\Users\\formanj\\GitHub\\AngelFISH\\examples\\new_pipeline.json, step_name=return_data, output_path=c:\\Users\\formanj\\GitHub\\AngelFISH\\database\\SS004_10min_100nM_7\\default_name\\status\\step_return_data.txt)\n",
      "DEBUG: 1 running tasks, waiting for next task to finish\n",
      "DEBUG:luigi-interface:1 running tasks, waiting for next task to finish\n",
      "2025-07-30 14:08:16 |     INFO | Informed scheduler that task   AngelFISHLuigiTask_return_data_c__Users_formanj_C__Users_formanj_559fa7439b   has status   DONE\n",
      "INFO: Informed scheduler that task   AngelFISHLuigiTask_return_data_c__Users_formanj_C__Users_formanj_559fa7439b   has status   DONE\n",
      "INFO:luigi-interface:Informed scheduler that task   AngelFISHLuigiTask_return_data_c__Users_formanj_C__Users_formanj_559fa7439b   has status   DONE\n",
      "DEBUG: Asking scheduler for work...\n",
      "DEBUG:luigi-interface:Asking scheduler for work...\n",
      "DEBUG: Done\n",
      "DEBUG:luigi-interface:Done\n",
      "DEBUG: There are no more tasks to run at this time\n",
      "DEBUG:luigi-interface:There are no more tasks to run at this time\n",
      "2025-07-30 14:08:16 |     INFO | Worker Worker(salt=2959556853, workers=1, host=ens13487, username=formanj, pid=25180) was stopped. Shutting down Keep-Alive thread\n",
      "INFO: Worker Worker(salt=2959556853, workers=1, host=ens13487, username=formanj, pid=25180) was stopped. Shutting down Keep-Alive thread\n",
      "INFO:luigi-interface:Worker Worker(salt=2959556853, workers=1, host=ens13487, username=formanj, pid=25180) was stopped. Shutting down Keep-Alive thread\n",
      "2025-07-30 14:08:16 |     INFO | \n",
      "===== Luigi Execution Summary =====\n",
      "\n",
      "Scheduled 7 tasks of which:\n",
      "* 7 ran successfully:\n",
      "    - 7 AngelFISHLuigiTask(...)\n",
      "\n",
      "This progress looks :) because there were no failed tasks or missing dependencies\n",
      "\n",
      "===== Luigi Execution Summary =====\n",
      "\n",
      "INFO: \n",
      "===== Luigi Execution Summary =====\n",
      "\n",
      "Scheduled 7 tasks of which:\n",
      "* 7 ran successfully:\n",
      "    - 7 AngelFISHLuigiTask(...)\n",
      "\n",
      "This progress looks :) because there were no failed tasks or missing dependencies\n",
      "\n",
      "===== Luigi Execution Summary =====\n",
      "\n",
      "INFO:luigi-interface:\n",
      "===== Luigi Execution Summary =====\n",
      "\n",
      "Scheduled 7 tasks of which:\n",
      "* 7 ran successfully:\n",
      "    - 7 AngelFISHLuigiTask(...)\n",
      "\n",
      "This progress looks :) because there were no failed tasks or missing dependencies\n",
      "\n",
      "===== Luigi Execution Summary =====\n",
      "\n"
     ]
    },
    {
     "name": "stdout",
     "output_type": "stream",
     "text": [
      "Uploaded: step_match_cyto_and_nuc.txt\n",
      "Uploaded: step_measure_cell_props.txt\n",
      "Uploaded: step_segment_cyto.txt\n",
      "Uploaded: step_segment_nuc.txt\n"
     ]
    },
    {
     "data": {
      "text/plain": [
       "True"
      ]
     },
     "execution_count": 4,
     "metadata": {},
     "output_type": "execute_result"
    }
   ],
   "source": [
    "luigi.build(AngelFISHWorkflow(receipt_path=r'C:\\Users\\formanj\\GitHub\\AngelFISH\\examples\\new_pipeline.json').workflow(), local_scheduler=True)"
   ]
  },
  {
   "cell_type": "code",
   "execution_count": null,
   "id": "deaa2a47",
   "metadata": {},
   "outputs": [],
   "source": []
  }
 ],
 "metadata": {
  "kernelspec": {
   "display_name": ".venv",
   "language": "python",
   "name": "python3"
  },
  "language_info": {
   "codemirror_mode": {
    "name": "ipython",
    "version": 3
   },
   "file_extension": ".py",
   "mimetype": "text/x-python",
   "name": "python",
   "nbconvert_exporter": "python",
   "pygments_lexer": "ipython3",
   "version": "3.12.3"
  }
 },
 "nbformat": 4,
 "nbformat_minor": 5
}
