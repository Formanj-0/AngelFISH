{
 "cells": [
  {
   "cell_type": "code",
   "execution_count": null,
   "id": "75c6b33c",
   "metadata": {},
   "outputs": [],
   "source": [
    "# %%\n",
    "import sys\n",
    "import os\n",
    "import luigi\n",
    "import sciluigi as sl\n",
    "import logging\n",
    "\n",
    "sys.path.append('..')\n",
    "logging.getLogger().setLevel(logging.WARNING)\n",
    "logging.getLogger('SMB').setLevel(logging.WARNING)\n",
    "logging.getLogger('napari').setLevel(logging.WARNING)\n",
    "logging.getLogger('matplotlib').setLevel(logging.WARNING)\n",
    "logging.getLogger('in_n_out').setLevel(logging.WARNING)\n",
    "logging.getLogger('numcodecs').setLevel(logging.WARNING)\n",
    "logging.getLogger('numba').setLevel(logging.WARNING)\n",
    "logging.getLogger('luigi').setLevel(logging.WARNING)\n",
    "logging.getLogger('numexpr').setLevel(logging.WARNING)\n",
    "logging.getLogger('luigi-interface').setLevel(logging.WARNING)\n",
    "logging.getLogger('sciluigi-interface').setLevel(logging.WARNING)\n",
    "logging.getLogger('cellpose').setLevel(logging.WARNING)\n",
    "\n",
    "from src import Receipt\n",
    "from src.steps import get_task"
   ]
  },
  {
   "cell_type": "code",
   "execution_count": null,
   "id": "4130876f",
   "metadata": {},
   "outputs": [],
   "source": [
    "class AngelFISHLuigiTask(sl.ExternalTask):\n",
    "    receipt_path = luigi.Parameter()\n",
    "    step_name = luigi.Parameter()\n",
    "    output_path = luigi.Parameter()\n",
    "\n",
    "    @property\n",
    "    def task_name(self):\n",
    "        return self.step_name\n",
    "\n",
    "    def out_doneflag(self):\n",
    "        return sl.TargetInfo(self, self.output_path)\n",
    "\n",
    "    def run(self):\n",
    "        receipt = Receipt(path=self.receipt_path)\n",
    "        task_class = get_task(receipt['steps'][self.step_name]['task_name'])\n",
    "        task = task_class(receipt, self.step_name)\n",
    "        task.process()  # this creates the .txt file"
   ]
  },
  {
   "cell_type": "code",
   "execution_count": null,
   "id": "b755ce8c",
   "metadata": {},
   "outputs": [],
   "source": [
    "class AngelFISHWorkflow(sl.WorkflowTask):\n",
    "    receipt_path = luigi.Parameter()\n",
    "\n",
    "    def out_doneflag(self):\n",
    "        receipt = Receipt(path=self.receipt_path)\n",
    "        return sl.TargetInfo(self, f'{receipt['meta_arguments']['analysis_name']}.txt')\n",
    "\n",
    "    def workflow(self):\n",
    "        receipt = Receipt(path=self.receipt_path)\n",
    "        step_order = receipt['step_order']\n",
    "\n",
    "        previous_task = None\n",
    "        task_refs = []\n",
    "        for step_name in step_order:\n",
    "            path = os.path.join(receipt['dirs']['status_dir'], f'step_{step_name}.txt')\n",
    "            step_task = self.new_task(\n",
    "                step_name,\n",
    "                AngelFISHLuigiTask,\n",
    "                receipt_path=self.receipt_path,\n",
    "                step_name=step_name,\n",
    "                output_path=path\n",
    "            )\n",
    "\n",
    "            # Add dependency chain\n",
    "            if previous_task is not None:\n",
    "                step_task.in_upstream = previous_task.out_doneflag\n",
    "\n",
    "            previous_task = step_task\n",
    "            task_refs.append(step_task)\n",
    "            \n",
    "        return task_refs"
   ]
  },
  {
   "cell_type": "code",
   "execution_count": null,
   "id": "56f20deb",
   "metadata": {},
   "outputs": [],
   "source": [
    "luigi.build(AngelFISHWorkflow(receipt_path=r'C:\\Users\\formanj\\GitHub\\AngelFISH\\examples\\new_pipeline.json').workflow(), local_scheduler=True)"
   ]
  },
  {
   "cell_type": "code",
   "execution_count": null,
   "id": "6670c564",
   "metadata": {},
   "outputs": [],
   "source": []
  }
 ],
 "metadata": {
  "kernelspec": {
   "display_name": ".venv",
   "language": "python",
   "name": "python3"
  },
  "language_info": {
   "codemirror_mode": {
    "name": "ipython",
    "version": 3
   },
   "file_extension": ".py",
   "mimetype": "text/x-python",
   "name": "python",
   "nbconvert_exporter": "python",
   "pygments_lexer": "ipython3",
   "version": "3.12.7"
  }
 },
 "nbformat": 4,
 "nbformat_minor": 5
}
