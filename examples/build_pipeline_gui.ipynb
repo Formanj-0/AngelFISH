{
 "cells": [
  {
   "cell_type": "code",
   "execution_count": 1,
   "id": "c5e6ea2c",
   "metadata": {},
   "outputs": [
    {
     "name": "stderr",
     "output_type": "stream",
     "text": [
      "INFO:numexpr.utils:Note: NumExpr detected 32 cores but \"NUMEXPR_MAX_THREADS\" not set, so enforcing safe limit of 16.\n",
      "INFO:numexpr.utils:NumExpr defaulting to 16 threads.\n"
     ]
    }
   ],
   "source": [
    "import matplotlib.pyplot as plt\n",
    "import sys\n",
    "import logging\n",
    "sys.path.append('..')\n",
    "logging.getLogger().setLevel(logging.WARNING)\n",
    "logging.getLogger('napari').setLevel(logging.WARNING)\n",
    "logging.getLogger('in_n_out').setLevel(logging.WARNING)\n",
    "logging.getLogger('numcodecs').setLevel(logging.WARNING)\n",
    "logging.getLogger('numba').setLevel(logging.WARNING)\n",
    "\n",
    "from src import Receipt, load_data\n",
    "from src.steps import download_data, segment, detect_spots, get_cell_properties, return_data, clear_local_data"
   ]
  },
  {
   "cell_type": "code",
   "execution_count": 2,
   "id": "18fbb8e8",
   "metadata": {},
   "outputs": [],
   "source": [
    "receipt = Receipt(\n",
    "    analysis_name = 'default_name',\n",
    "    nas_location = r'Users/Jack/_ImageDatasets/Sia/SS004_07212025_TroubleShooting/SS004_10min_100nM_7',\n",
    "    local_location = None,\n",
    "    data_loader = 'pycromanager_data_loader'\n",
    "    )\n"
   ]
  },
  {
   "cell_type": "code",
   "execution_count": 3,
   "id": "ed336622",
   "metadata": {},
   "outputs": [
    {
     "name": "stdout",
     "output_type": "stream",
     "text": [
      "local file already exist\n"
     ]
    }
   ],
   "source": [
    "dd = download_data(receipt, 'download_data')\n",
    "receipt = dd.process()"
   ]
  },
  {
   "cell_type": "code",
   "execution_count": null,
   "id": "84f8f3f1",
   "metadata": {},
   "outputs": [
    {
     "name": "stdout",
     "output_type": "stream",
     "text": [
      "Dataset opened                \n"
     ]
    },
    {
     "name": "stderr",
     "output_type": "stream",
     "text": [
      "INFO:cellpose.models:>> cyto3 << model set to be used\n"
     ]
    },
    {
     "name": "stdout",
     "output_type": "stream",
     "text": [
      "0 0\n",
      "running image processing\n"
     ]
    },
    {
     "name": "stderr",
     "output_type": "stream",
     "text": [
      "INFO:cellpose.core:** TORCH CUDA version installed and working. **\n",
      "INFO:cellpose.core:>>>> using GPU (CUDA)\n",
      "INFO:cellpose.models:>>>> loading model C:\\Users\\formanj\\.cellpose\\models\\cyto3\n",
      "c:\\Users\\formanj\\GitHub\\AngelFISH\\.venv\\Lib\\site-packages\\cellpose\\resnet_torch.py:271: FutureWarning: You are using `torch.load` with `weights_only=False` (the current default value), which uses the default pickle module implicitly. It is possible to construct malicious pickle data which will execute arbitrary code during unpickling (See https://github.com/pytorch/pytorch/blob/main/SECURITY.md#untrusted-models for more details). In a future release, the default value for `weights_only` will be flipped to `True`. This limits the functions that could be executed during unpickling. Arbitrary objects will no longer be allowed to be loaded via this mode unless they are explicitly allowlisted by the user via `torch.serialization.add_safe_globals`. We recommend you start setting `weights_only=True` for any use case where you don't have full control of the loaded file. Please open an issue on GitHub for any issues related to this experimental feature.\n",
      "  state_dict = torch.load(filename, map_location=device)\n",
      "INFO:cellpose.models:>>>> model diam_mean =  30.000 (ROIs rescaled to this size during training)\n",
      "INFO:cellpose.core:** TORCH CUDA version installed and working. **\n",
      "INFO:cellpose.core:>>>> using GPU (CUDA)\n",
      "INFO:cellpose.models:>> cyto3 << model set to be used\n",
      "INFO:cellpose.models:>>>> loading model C:\\Users\\formanj\\.cellpose\\models\\cyto3\n",
      "INFO:cellpose.models:>>>> model diam_mean =  30.000 (ROIs rescaled to this size during training)\n",
      "INFO:cellpose.models:channels set to [0, 0]\n",
      "INFO:cellpose.models:~~~ FINDING MASKS ~~~\n",
      "INFO:cellpose.models:>>>> TOTAL TIME 5.39 sec\n",
      "INFO:cellpose.models:>> cyto3 << model set to be used\n",
      "INFO:cellpose.core:** TORCH CUDA version installed and working. **\n",
      "INFO:cellpose.core:>>>> using GPU (CUDA)\n",
      "INFO:cellpose.models:>>>> loading model C:\\Users\\formanj\\.cellpose\\models\\cyto3\n",
      "c:\\Users\\formanj\\GitHub\\AngelFISH\\.venv\\Lib\\site-packages\\cellpose\\resnet_torch.py:271: FutureWarning: You are using `torch.load` with `weights_only=False` (the current default value), which uses the default pickle module implicitly. It is possible to construct malicious pickle data which will execute arbitrary code during unpickling (See https://github.com/pytorch/pytorch/blob/main/SECURITY.md#untrusted-models for more details). In a future release, the default value for `weights_only` will be flipped to `True`. This limits the functions that could be executed during unpickling. Arbitrary objects will no longer be allowed to be loaded via this mode unless they are explicitly allowlisted by the user via `torch.serialization.add_safe_globals`. We recommend you start setting `weights_only=True` for any use case where you don't have full control of the loaded file. Please open an issue on GitHub for any issues related to this experimental feature.\n",
      "  state_dict = torch.load(filename, map_location=device)\n",
      "INFO:cellpose.models:>>>> model diam_mean =  30.000 (ROIs rescaled to this size during training)\n"
     ]
    },
    {
     "name": "stdout",
     "output_type": "stream",
     "text": [
      "0 0\n",
      "running image processing\n"
     ]
    },
    {
     "name": "stderr",
     "output_type": "stream",
     "text": [
      "INFO:cellpose.core:** TORCH CUDA version installed and working. **\n",
      "INFO:cellpose.core:>>>> using GPU (CUDA)\n",
      "INFO:cellpose.models:>> cyto3 << model set to be used\n",
      "INFO:cellpose.models:>>>> loading model C:\\Users\\formanj\\.cellpose\\models\\cyto3\n",
      "INFO:cellpose.models:>>>> model diam_mean =  30.000 (ROIs rescaled to this size during training)\n",
      "INFO:cellpose.models:channels set to [0, 0]\n",
      "INFO:cellpose.models:~~~ FINDING MASKS ~~~\n",
      "INFO:cellpose.models:>>>> TOTAL TIME 0.20 sec\n"
     ]
    },
    {
     "name": "stdout",
     "output_type": "stream",
     "text": [
      "cleaning up\n"
     ]
    }
   ],
   "source": [
    "nuc_seg = segment(receipt, 'segment_nuc')\n",
    "receipt = nuc_seg.gui()"
   ]
  },
  {
   "cell_type": "markdown",
   "id": "aa4a66b6",
   "metadata": {},
   "source": [
    "ZPosition_um_Intended\n",
    "YPosition_um_Intended\n",
    "PixelSizeUm\n",
    "PixelSize_um"
   ]
  },
  {
   "cell_type": "code",
   "execution_count": null,
   "id": "2d8bbef4",
   "metadata": {},
   "outputs": [],
   "source": [
    "cyto_seg = segment(receipt, 'segment_cyto')\n",
    "receipt = cyto_seg.gui()"
   ]
  },
  {
   "cell_type": "code",
   "execution_count": 5,
   "id": "c824d788",
   "metadata": {},
   "outputs": [
    {
     "name": "stdout",
     "output_type": "stream",
     "text": [
      "Dataset opened                \n"
     ]
    },
    {
     "name": "stdout",
     "output_type": "stream",
     "text": [
      "[Error] Exception during segmentation: name 'voxel_size_yx' is not defined\n"
     ]
    }
   ],
   "source": [
    "dusp1_detection = detect_spots(receipt, 'detect_dusp1')\n",
    "receipt = dusp1_detection.gui()"
   ]
  },
  {
   "cell_type": "code",
   "execution_count": null,
   "id": "37399843",
   "metadata": {},
   "outputs": [],
   "source": [
    "measure_cell_props = get_cell_properties(receipt, 'measure_cell_props')\n",
    "receipt = measure_cell_props.gui()"
   ]
  },
  {
   "cell_type": "code",
   "execution_count": null,
   "id": "9d5b5294",
   "metadata": {},
   "outputs": [],
   "source": [
    "receipt = return_data(receipt, 'return_data').process()"
   ]
  },
  {
   "cell_type": "code",
   "execution_count": null,
   "id": "930b2a00",
   "metadata": {},
   "outputs": [],
   "source": [
    "receipt"
   ]
  },
  {
   "cell_type": "code",
   "execution_count": null,
   "id": "9c05c34b",
   "metadata": {},
   "outputs": [],
   "source": [
    "receipt.save('new_pipeline.json')"
   ]
  }
 ],
 "metadata": {
  "kernelspec": {
   "display_name": ".venv",
   "language": "python",
   "name": "python3"
  },
  "language_info": {
   "codemirror_mode": {
    "name": "ipython",
    "version": 3
   },
   "file_extension": ".py",
   "mimetype": "text/x-python",
   "name": "python",
   "nbconvert_exporter": "python",
   "pygments_lexer": "ipython3",
   "version": "3.12.3"
  }
 },
 "nbformat": 4,
 "nbformat_minor": 5
}
