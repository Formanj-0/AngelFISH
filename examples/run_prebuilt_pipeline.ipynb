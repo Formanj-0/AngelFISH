{
 "cells": [
  {
   "cell_type": "code",
   "execution_count": null,
   "id": "7e03f2a1",
   "metadata": {},
   "outputs": [],
   "source": [
    "import sys\n",
    "import logging\n",
    "sys.path.append('..')\n",
    "logging.getLogger().setLevel(logging.WARNING)\n",
    "logging.getLogger('napari').setLevel(logging.WARNING)\n",
    "logging.getLogger('matplotlib').setLevel(logging.WARNING)\n",
    "logging.getLogger('in_n_out').setLevel(logging.WARNING)\n",
    "logging.getLogger('numcodecs').setLevel(logging.WARNING)\n",
    "logging.getLogger('numba').setLevel(logging.WARNING)\n",
    "\n",
    "from src import Receipt, load_data\n",
    "from src.steps import get_task"
   ]
  },
  {
   "cell_type": "code",
   "execution_count": null,
   "id": "472830d5",
   "metadata": {},
   "outputs": [],
   "source": [
    "receipt_path = r'new_pipeline.json'\n",
    "receipt = Receipt(path=receipt_path)"
   ]
  },
  {
   "cell_type": "code",
   "execution_count": null,
   "id": "9b8a6184",
   "metadata": {},
   "outputs": [],
   "source": [
    "step_names = receipt['step_order']\n",
    "num_steps = len(step_names)\n"
   ]
  },
  {
   "cell_type": "code",
   "execution_count": null,
   "id": "8f193ca4",
   "metadata": {},
   "outputs": [],
   "source": [
    "step_names"
   ]
  },
  {
   "cell_type": "code",
   "execution_count": null,
   "id": "92717c71",
   "metadata": {},
   "outputs": [],
   "source": [
    "for i in range(num_steps):\n",
    "    step_name = step_names[i]\n",
    "    task_class = get_task(receipt['steps'][step_name]['task_name'])\n",
    "    task = task_class(receipt, step_name)\n",
    "    task.process()"
   ]
  }
 ],
 "metadata": {
  "kernelspec": {
   "display_name": ".venv",
   "language": "python",
   "name": "python3"
  },
  "language_info": {
   "codemirror_mode": {
    "name": "ipython",
    "version": 3
   },
   "file_extension": ".py",
   "mimetype": "text/x-python",
   "name": "python",
   "nbconvert_exporter": "python",
   "pygments_lexer": "ipython3",
   "version": "3.12.7"
  }
 },
 "nbformat": 4,
 "nbformat_minor": 5
}
