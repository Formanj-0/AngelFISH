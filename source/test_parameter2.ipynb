{
 "cells": [
  {
   "cell_type": "code",
   "execution_count": 1,
   "id": "ee182572",
   "metadata": {},
   "outputs": [],
   "source": [
    "import joblib \n",
    "from Parameters import Parameters, Data\n"
   ]
  },
  {
   "cell_type": "code",
   "execution_count": 2,
   "id": "fc92473d",
   "metadata": {},
   "outputs": [
    {
     "name": "stdout",
     "output_type": "stream",
     "text": [
      "<Parameters.Parameters object at 0x00000193C9CC0080>\n",
      "Data(zarr_path=Testing_Zarr_Data, loaded=True, dataset_keys=['df_test', 'large_array'])\n",
      "{'voxel_size_yx': 130, 'voxel_size_z': 500, 'spot_z': 500, 'spot_yx': 360, 'local_dataset_location': None, 'clear_after_error': True, 'analysis_name': 'analysis_name', 'number_of_cores': 4, 'num_chunks_to_run': 100000, 'connection_config_location': '', 'display_plots': True, 'load_in_mask': True, 'order': 'pt', 'state': 'global', 'share_name': 'share', 'log_location': 'Users\\\\Jack\\\\All_Analysis', 'initial_data_location': None, 'nucChannel': None, 'cytoChannel': None, 'FISHChannel': None, 'experimental_params': [{}], 'timestep_s': None}\n",
      "{'_zarr_path': WindowsPath('Testing_Zarr_Data'), '_ds': <zarr.hierarchy.Group '/'>, '_loaded': True}\n"
     ]
    }
   ],
   "source": [
    "params = Parameters()\n",
    "data = Data('Testing_Zarr_Data')\n",
    "\n",
    "params.analysis_name = 'analysis_name'\n",
    "\n",
    "print(params)\n",
    "print(data)\n",
    "\n",
    "print(params.__dict__)\n",
    "print(data.__dict__)\n",
    "\n"
   ]
  },
  {
   "cell_type": "code",
   "execution_count": 3,
   "id": "5c730fcf",
   "metadata": {},
   "outputs": [
    {
     "name": "stdout",
     "output_type": "stream",
     "text": [
      "Results (Parallel): [16900, 16900, 16900, 16900, 16900]\n",
      "Time taken (Parallel): 1.5078895092010498 seconds\n",
      "Results (Non-Parallel): [16900, 16900, 16900, 16900, 16900]\n",
      "Time taken (Non-Parallel): 0.5018739700317383 seconds\n"
     ]
    }
   ],
   "source": [
    "from joblib import Parallel, delayed\n",
    "import time\n",
    "\n",
    "# Example function that uses Parameters\n",
    "def process_data(param):\n",
    "    # Simulate some computation using the parameter\n",
    "    time.sleep(0.1)\n",
    "    return param.voxel_size_yx ** 2\n",
    "\n",
    "parameters = Parameters()\n",
    "\n",
    "# Time the parallel computation\n",
    "start_parallel = time.time()\n",
    "results_parallel = Parallel(n_jobs=5)(delayed(process_data)(parameters) for _ in range(5))\n",
    "end_parallel = time.time()\n",
    "\n",
    "# Time the non-parallel computation\n",
    "start_non_parallel = time.time()\n",
    "results_non_parallel = [process_data(parameters) for _ in range(5)]\n",
    "end_non_parallel = time.time()\n",
    "\n",
    "# Print results and timing\n",
    "print(\"Results (Parallel):\", results_parallel)\n",
    "print(\"Time taken (Parallel):\", end_parallel - start_parallel, \"seconds\")\n",
    "print(\"Results (Non-Parallel):\", results_non_parallel)\n",
    "print(\"Time taken (Non-Parallel):\", end_non_parallel - start_non_parallel, \"seconds\")"
   ]
  },
  {
   "cell_type": "code",
   "execution_count": 4,
   "id": "9e55005e",
   "metadata": {},
   "outputs": [
    {
     "name": "stdout",
     "output_type": "stream",
     "text": [
      "Results (Parallel with Dask): [(0, 0, 0, 0, 0.5032544864951622), (0, 0, 0, 1, 0.5017434452197618), (0, 0, 0, 2, 0.499485056207333), (0, 0, 0, 3, 0.4990280758178719), (0, 0, 0, 4, 0.4995080166227442), (0, 0, 1, 0, 0.4976006162983698), (0, 0, 1, 1, 0.503976821362141), (0, 0, 1, 2, 0.503053756287268), (0, 0, 1, 3, 0.5030243222424299), (0, 0, 1, 4, 0.5037906020858618), (0, 1, 0, 0, 0.49606832888313795), (0, 1, 0, 1, 0.5001357713241376), (0, 1, 0, 2, 0.4973797589443111), (0, 1, 0, 3, 0.4989699894295459), (0, 1, 0, 4, 0.4964646516890511), (0, 1, 1, 0, 0.5009779480384454), (0, 1, 1, 1, 0.4986610856353986), (0, 1, 1, 2, 0.5020718424318736), (0, 1, 1, 3, 0.4942228261307645), (0, 1, 1, 4, 0.4991573917934207), (0, 2, 0, 0, 0.500942210256239), (0, 2, 0, 1, 0.5045896662894759), (0, 2, 0, 2, 0.49956605965208717), (0, 2, 0, 3, 0.5040931250749611), (0, 2, 0, 4, 0.4966006082338183), (0, 2, 1, 0, 0.49603426428511066), (0, 2, 1, 1, 0.49948941427501586), (0, 2, 1, 2, 0.49679667157508967), (0, 2, 1, 3, 0.5022569281539253), (0, 2, 1, 4, 0.503293951765641), (1, 0, 0, 0, 0.49544480730995627), (1, 0, 0, 1, 0.49850289488600363), (1, 0, 0, 2, 0.504317060335807), (1, 0, 0, 3, 0.5021877183648401), (1, 0, 0, 4, 0.49365537541839205), (1, 0, 1, 0, 0.5045080573731096), (1, 0, 1, 1, 0.5025315221806438), (1, 0, 1, 2, 0.5018916255469097), (1, 0, 1, 3, 0.49731766555637313), (1, 0, 1, 4, 0.5017265821248228), (1, 1, 0, 0, 0.5044886550479851), (1, 1, 0, 1, 0.4978240648197452), (1, 1, 0, 2, 0.49844250186399414), (1, 1, 0, 3, 0.498448005611813), (1, 1, 0, 4, 0.5010890211543179), (1, 1, 1, 0, 0.5014141887933643), (1, 1, 1, 1, 0.5047364230005292), (1, 1, 1, 2, 0.5009393087683351), (1, 1, 1, 3, 0.49700955247399853), (1, 1, 1, 4, 0.5012916385043169), (1, 2, 0, 0, 0.49813843598321683), (1, 2, 0, 1, 0.4991859547856929), (1, 2, 0, 2, 0.5047584080602413), (1, 2, 0, 3, 0.5010147711828639), (1, 2, 0, 4, 0.4992828159684497), (1, 2, 1, 0, 0.4989048385509948), (1, 2, 1, 1, 0.5012803327616181), (1, 2, 1, 2, 0.5007904504684403), (1, 2, 1, 3, 0.4931748086808588), (1, 2, 1, 4, 0.4984794327924443)]\n",
      "Time taken (Parallel with Dask): 0.34023547172546387 seconds\n",
      "Results (Non-Parallel with Dask): [(0, 0, 0, 0, 0.5032544864951622), (0, 0, 0, 1, 0.5017434452197618), (0, 0, 0, 2, 0.499485056207333), (0, 0, 0, 3, 0.4990280758178719), (0, 0, 0, 4, 0.4995080166227442), (0, 0, 1, 0, 0.4976006162983698), (0, 0, 1, 1, 0.503976821362141), (0, 0, 1, 2, 0.503053756287268), (0, 0, 1, 3, 0.5030243222424299), (0, 0, 1, 4, 0.5037906020858618), (0, 1, 0, 0, 0.49606832888313795), (0, 1, 0, 1, 0.5001357713241376), (0, 1, 0, 2, 0.4973797589443111), (0, 1, 0, 3, 0.4989699894295459), (0, 1, 0, 4, 0.4964646516890511), (0, 1, 1, 0, 0.5009779480384454), (0, 1, 1, 1, 0.4986610856353986), (0, 1, 1, 2, 0.5020718424318736), (0, 1, 1, 3, 0.4942228261307645), (0, 1, 1, 4, 0.4991573917934207), (0, 2, 0, 0, 0.500942210256239), (0, 2, 0, 1, 0.5045896662894759), (0, 2, 0, 2, 0.49956605965208717), (0, 2, 0, 3, 0.5040931250749611), (0, 2, 0, 4, 0.4966006082338183), (0, 2, 1, 0, 0.49603426428511066), (0, 2, 1, 1, 0.49948941427501586), (0, 2, 1, 2, 0.49679667157508967), (0, 2, 1, 3, 0.5022569281539253), (0, 2, 1, 4, 0.503293951765641), (1, 0, 0, 0, 0.49544480730995627), (1, 0, 0, 1, 0.49850289488600363), (1, 0, 0, 2, 0.504317060335807), (1, 0, 0, 3, 0.5021877183648401), (1, 0, 0, 4, 0.49365537541839205), (1, 0, 1, 0, 0.5045080573731096), (1, 0, 1, 1, 0.5025315221806438), (1, 0, 1, 2, 0.5018916255469097), (1, 0, 1, 3, 0.49731766555637313), (1, 0, 1, 4, 0.5017265821248228), (1, 1, 0, 0, 0.5044886550479851), (1, 1, 0, 1, 0.4978240648197452), (1, 1, 0, 2, 0.49844250186399414), (1, 1, 0, 3, 0.498448005611813), (1, 1, 0, 4, 0.5010890211543179), (1, 1, 1, 0, 0.5014141887933643), (1, 1, 1, 1, 0.5047364230005292), (1, 1, 1, 2, 0.5009393087683351), (1, 1, 1, 3, 0.49700955247399853), (1, 1, 1, 4, 0.5012916385043169), (1, 2, 0, 0, 0.49813843598321683), (1, 2, 0, 1, 0.4991859547856929), (1, 2, 0, 2, 0.5047584080602413), (1, 2, 0, 3, 0.5010147711828639), (1, 2, 0, 4, 0.4992828159684497), (1, 2, 1, 0, 0.4989048385509948), (1, 2, 1, 1, 0.5012803327616181), (1, 2, 1, 2, 0.5007904504684403), (1, 2, 1, 3, 0.4931748086808588), (1, 2, 1, 4, 0.4984794327924443)]\n",
      "Time taken (Non-Parallel with Dask): 0.12084102630615234 seconds\n"
     ]
    }
   ],
   "source": [
    "from dask import delayed\n",
    "\n",
    "import dask.array as da\n",
    "\n",
    "# Create a large Dask array with dimensions (position, time, channel, z, y, x)\n",
    "# For example, let's assume 2 positions, 3 time points, 2 channels, 5 z-slices, and 100x100 yx dimensions\n",
    "shape = (2, 3, 2, 5, 100, 100)\n",
    "large_array = da.random.random(shape, chunks=(1, 1, 1, 1, 100, 100))\n",
    "\n",
    "# Define a function to process each z, y, x slice\n",
    "def process_slice(slice_data):\n",
    "    # Example: Compute the mean of the slice\n",
    "    return slice_data.mean().compute()\n",
    "\n",
    "# Process each z, y, x slice in parallel using Dask delayed\n",
    "results_parallel_dask = []\n",
    "\n",
    "@delayed\n",
    "def process_slice_delayed(pos, time, channel, z):\n",
    "    slice_data = large_array[pos, time, channel, z, :, :]\n",
    "    result = process_slice(slice_data)\n",
    "    return (pos, time, channel, z, result)\n",
    "\n",
    "tasks = [\n",
    "    process_slice_delayed(pos, t, channel, z)\n",
    "    for pos in range(shape[0])\n",
    "    for t in range(shape[1])\n",
    "    for channel in range(shape[2])\n",
    "    for z in range(shape[3])\n",
    "]\n",
    "\n",
    "# Time the parallel computation with Dask\n",
    "start_parallel_dask = time.time()\n",
    "results_parallel_dask = list(da.compute(*tasks))\n",
    "end_parallel_dask = time.time()\n",
    "\n",
    "# Process each z, y, x slice sequentially (non-parallel)\n",
    "results_non_parallel_dask = []\n",
    "\n",
    "start_non_parallel_dask = time.time()\n",
    "for pos in range(shape[0]):\n",
    "    for t in range(shape[1]):\n",
    "        for channel in range(shape[2]):\n",
    "            for z in range(shape[3]):\n",
    "                slice_data = large_array[pos, t, channel, z, :, :]\n",
    "                result = process_slice(slice_data)\n",
    "                results_non_parallel_dask.append((pos, t, channel, z, result))\n",
    "end_non_parallel_dask = time.time()\n",
    "\n",
    "# Print results and timing\n",
    "print(\"Results (Parallel with Dask):\", results_parallel_dask)\n",
    "print(\"Time taken (Parallel with Dask):\", end_parallel_dask - start_parallel_dask, \"seconds\")\n",
    "print(\"Results (Non-Parallel with Dask):\", results_non_parallel_dask)\n",
    "print(\"Time taken (Non-Parallel with Dask):\", end_non_parallel_dask - start_non_parallel_dask, \"seconds\")"
   ]
  },
  {
   "cell_type": "code",
   "execution_count": 5,
   "id": "b9b4aa55",
   "metadata": {},
   "outputs": [
    {
     "name": "stdout",
     "output_type": "stream",
     "text": [
      "Results (Parallel with Dask using Data): [(0, 0, 0, 0, 0.5032544864951622), (0, 0, 0, 1, 0.5017434452197618), (0, 0, 0, 2, 0.499485056207333), (0, 0, 0, 3, 0.4990280758178719), (0, 0, 0, 4, 0.4995080166227442), (0, 0, 1, 0, 0.4976006162983698), (0, 0, 1, 1, 0.503976821362141), (0, 0, 1, 2, 0.503053756287268), (0, 0, 1, 3, 0.5030243222424299), (0, 0, 1, 4, 0.5037906020858618), (0, 1, 0, 0, 0.49606832888313795), (0, 1, 0, 1, 0.5001357713241376), (0, 1, 0, 2, 0.4973797589443111), (0, 1, 0, 3, 0.4989699894295459), (0, 1, 0, 4, 0.4964646516890511), (0, 1, 1, 0, 0.5009779480384454), (0, 1, 1, 1, 0.4986610856353986), (0, 1, 1, 2, 0.5020718424318736), (0, 1, 1, 3, 0.4942228261307645), (0, 1, 1, 4, 0.4991573917934207), (0, 2, 0, 0, 0.500942210256239), (0, 2, 0, 1, 0.5045896662894759), (0, 2, 0, 2, 0.49956605965208717), (0, 2, 0, 3, 0.5040931250749611), (0, 2, 0, 4, 0.4966006082338183), (0, 2, 1, 0, 0.49603426428511066), (0, 2, 1, 1, 0.49948941427501586), (0, 2, 1, 2, 0.49679667157508967), (0, 2, 1, 3, 0.5022569281539253), (0, 2, 1, 4, 0.503293951765641), (1, 0, 0, 0, 0.49544480730995627), (1, 0, 0, 1, 0.49850289488600363), (1, 0, 0, 2, 0.504317060335807), (1, 0, 0, 3, 0.5021877183648401), (1, 0, 0, 4, 0.49365537541839205), (1, 0, 1, 0, 0.5045080573731096), (1, 0, 1, 1, 0.5025315221806438), (1, 0, 1, 2, 0.5018916255469097), (1, 0, 1, 3, 0.49731766555637313), (1, 0, 1, 4, 0.5017265821248228), (1, 1, 0, 0, 0.5044886550479851), (1, 1, 0, 1, 0.4978240648197452), (1, 1, 0, 2, 0.49844250186399414), (1, 1, 0, 3, 0.498448005611813), (1, 1, 0, 4, 0.5010890211543179), (1, 1, 1, 0, 0.5014141887933643), (1, 1, 1, 1, 0.5047364230005292), (1, 1, 1, 2, 0.5009393087683351), (1, 1, 1, 3, 0.49700955247399853), (1, 1, 1, 4, 0.5012916385043169), (1, 2, 0, 0, 0.49813843598321683), (1, 2, 0, 1, 0.4991859547856929), (1, 2, 0, 2, 0.5047584080602413), (1, 2, 0, 3, 0.5010147711828639), (1, 2, 0, 4, 0.4992828159684497), (1, 2, 1, 0, 0.4989048385509948), (1, 2, 1, 1, 0.5012803327616181), (1, 2, 1, 2, 0.5007904504684403), (1, 2, 1, 3, 0.4931748086808588), (1, 2, 1, 4, 0.4984794327924443)]\n",
      "Time taken (Parallel with Dask using Data): 0.2565333843231201 seconds\n"
     ]
    }
   ],
   "source": [
    "# Assuming the Data class provides access to the large array or similar data\n",
    "data_instance = Data('Testing_Zarr_Data')\n",
    "\n",
    "# Access the large array from the Data class\n",
    "data_instance.large_array = large_array  # Replace 'large_array' with the actual attribute name in Data\n",
    "\n",
    "# Define a function to process each z, y, x slice\n",
    "def process_slice_with_data(slice_data):\n",
    "    # Example: Compute the mean of the slice\n",
    "    return slice_data.mean().compute()\n",
    "\n",
    "# Process each z, y, x slice in parallel using Dask delayed\n",
    "results_parallel_dask_with_data = []\n",
    "\n",
    "@delayed\n",
    "def process_slice_delayed_with_data(pos, time, channel, z):\n",
    "    slice_data = data_instance.large_array[pos, time, channel, z, :, :]\n",
    "    result = process_slice_with_data(slice_data)\n",
    "    return (pos, time, channel, z, result)\n",
    "\n",
    "tasks_with_data = [\n",
    "    process_slice_delayed_with_data(pos, t, channel, z)\n",
    "    for pos in range(shape[0])\n",
    "    for t in range(shape[1])\n",
    "    for channel in range(shape[2])\n",
    "    for z in range(shape[3])\n",
    "]\n",
    "\n",
    "# Time the parallel computation with Dask using Data class\n",
    "start_parallel_dask_with_data = time.time()\n",
    "results_parallel_dask_with_data = list(da.compute(*tasks_with_data))\n",
    "end_parallel_dask_with_data = time.time()\n",
    "\n",
    "# Print results and timing\n",
    "print(\"Results (Parallel with Dask using Data):\", results_parallel_dask_with_data)\n",
    "print(\"Time taken (Parallel with Dask using Data):\", end_parallel_dask_with_data - start_parallel_dask_with_data, \"seconds\")"
   ]
  },
  {
   "cell_type": "code",
   "execution_count": 6,
   "id": "d4d34bfc",
   "metadata": {},
   "outputs": [
    {
     "data": {
      "text/plain": [
       "array(0.16669672)"
      ]
     },
     "execution_count": 6,
     "metadata": {},
     "output_type": "execute_result"
    }
   ],
   "source": [
    "data_instance.large_array[0,0, 0, 0, 0, 0].compute()"
   ]
  },
  {
   "cell_type": "code",
   "execution_count": 7,
   "id": "b559a284",
   "metadata": {},
   "outputs": [
    {
     "name": "stdout",
     "output_type": "stream",
     "text": [
      "The large_array has been altered and updated in the data_instance.\n"
     ]
    }
   ],
   "source": [
    "# Example: Multiply all elements in the large_array by 2\n",
    "altered_array = large_array * 2\n",
    "\n",
    "# Assign the altered array back to the data_instance\n",
    "data_instance.large_array = altered_array\n",
    "\n",
    "# Print a confirmation message\n",
    "print(\"The large_array has been altered and updated in the data_instance.\")"
   ]
  },
  {
   "cell_type": "code",
   "execution_count": 8,
   "id": "35da29d5",
   "metadata": {},
   "outputs": [
    {
     "data": {
      "text/plain": [
       "array(0.33339344)"
      ]
     },
     "execution_count": 8,
     "metadata": {},
     "output_type": "execute_result"
    }
   ],
   "source": [
    "data_instance.large_array[0,0, 0, 0, 0, 0].compute()"
   ]
  },
  {
   "cell_type": "code",
   "execution_count": 9,
   "id": "20d6ef34",
   "metadata": {},
   "outputs": [
    {
     "name": "stdout",
     "output_type": "stream",
     "text": [
      "A portion of the large_array has been altered.\n"
     ]
    }
   ],
   "source": [
    "# Example: Set all elements in the first position, first time point, and first channel to 0\n",
    "a = data_instance.large_array\n",
    "a[0, 0, 0, 0, 0, 0] = 3.1415\n",
    "data_instance.large_array = a\n",
    "\n",
    "# Print a confirmation message\n",
    "print(\"A portion of the large_array has been altered.\")"
   ]
  },
  {
   "cell_type": "code",
   "execution_count": 10,
   "id": "5e373631",
   "metadata": {},
   "outputs": [
    {
     "data": {
      "text/plain": [
       "array(0.34713467)"
      ]
     },
     "execution_count": 10,
     "metadata": {},
     "output_type": "execute_result"
    }
   ],
   "source": [
    "data_instance.large_array[0, 0, 0, 1, 1, 1].compute()"
   ]
  },
  {
   "cell_type": "code",
   "execution_count": 11,
   "id": "41c5ec63",
   "metadata": {},
   "outputs": [
    {
     "data": {
      "text/plain": [
       "array(3.1415)"
      ]
     },
     "execution_count": 11,
     "metadata": {},
     "output_type": "execute_result"
    }
   ],
   "source": [
    "data_instance.large_array[0,0, 0, 0, 0, 0].compute()"
   ]
  },
  {
   "cell_type": "code",
   "execution_count": 12,
   "id": "25981afd",
   "metadata": {},
   "outputs": [],
   "source": [
    "import pandas as pd\n",
    "\n",
    "# Create a sample pandas DataFrame\n",
    "df_test = pd.DataFrame({'Column1': [1, 2, 3], 'Column2': [4, 5, 6]})\n",
    "\n",
    "\n",
    "\n",
    "data.df_test = df_test"
   ]
  },
  {
   "cell_type": "code",
   "execution_count": 13,
   "id": "03075f81",
   "metadata": {},
   "outputs": [
    {
     "data": {
      "application/vnd.microsoft.datawrangler.viewer.v0+json": {
       "columns": [
        {
         "name": "index",
         "rawType": "int64",
         "type": "integer"
        },
        {
         "name": "Column1",
         "rawType": "int64",
         "type": "integer"
        },
        {
         "name": "Column2",
         "rawType": "int64",
         "type": "integer"
        }
       ],
       "conversionMethod": "pd.DataFrame",
       "ref": "949f71b1-77ae-4bf0-aa2c-17a3affa7739",
       "rows": [
        [
         "0",
         "1",
         "4"
        ],
        [
         "1",
         "2",
         "5"
        ],
        [
         "2",
         "3",
         "6"
        ]
       ],
       "shape": {
        "columns": 2,
        "rows": 3
       }
      },
      "text/html": [
       "<div>\n",
       "<style scoped>\n",
       "    .dataframe tbody tr th:only-of-type {\n",
       "        vertical-align: middle;\n",
       "    }\n",
       "\n",
       "    .dataframe tbody tr th {\n",
       "        vertical-align: top;\n",
       "    }\n",
       "\n",
       "    .dataframe thead th {\n",
       "        text-align: right;\n",
       "    }\n",
       "</style>\n",
       "<table border=\"1\" class=\"dataframe\">\n",
       "  <thead>\n",
       "    <tr style=\"text-align: right;\">\n",
       "      <th></th>\n",
       "      <th>Column1</th>\n",
       "      <th>Column2</th>\n",
       "    </tr>\n",
       "  </thead>\n",
       "  <tbody>\n",
       "    <tr>\n",
       "      <th>0</th>\n",
       "      <td>1</td>\n",
       "      <td>4</td>\n",
       "    </tr>\n",
       "    <tr>\n",
       "      <th>1</th>\n",
       "      <td>2</td>\n",
       "      <td>5</td>\n",
       "    </tr>\n",
       "    <tr>\n",
       "      <th>2</th>\n",
       "      <td>3</td>\n",
       "      <td>6</td>\n",
       "    </tr>\n",
       "  </tbody>\n",
       "</table>\n",
       "</div>"
      ],
      "text/plain": [
       "   Column1  Column2\n",
       "0        1        4\n",
       "1        2        5\n",
       "2        3        6"
      ]
     },
     "execution_count": 13,
     "metadata": {},
     "output_type": "execute_result"
    }
   ],
   "source": [
    "data.df_test"
   ]
  },
  {
   "cell_type": "code",
   "execution_count": 14,
   "id": "d91871ff",
   "metadata": {},
   "outputs": [
    {
     "name": "stdout",
     "output_type": "stream",
     "text": [
      "Data(zarr_path=Testing_Zarr_Data, loaded=True, dataset_keys=['df_test', 'large_array'])\n"
     ]
    }
   ],
   "source": [
    "print(data)"
   ]
  },
  {
   "cell_type": "code",
   "execution_count": 17,
   "id": "a35ba004",
   "metadata": {},
   "outputs": [
    {
     "name": "stdout",
     "output_type": "stream",
     "text": [
      "   Column1  Column2\n",
      "0        0        2\n",
      "1        1        3\n",
      "2        1        3\n",
      "3        2        4\n",
      "4        2        4\n",
      "5        3        5\n",
      "6        3        5\n",
      "7        4        6\n",
      "8        4        6\n",
      "9        5        7\n"
     ]
    }
   ],
   "source": [
    "from joblib import Parallel, delayed\n",
    "import pandas as pd\n",
    "\n",
    "# Function to generate a DataFrame\n",
    "def generate_dataframe(index):\n",
    "    return pd.DataFrame({'Column1': [index, index + 1], 'Column2': [index + 2, index + 3]})\n",
    "\n",
    "# Generate DataFrames in parallel\n",
    "num_dataframes = 5\n",
    "dataframes = Parallel(n_jobs=5)(delayed(generate_dataframe)(i) for i in range(num_dataframes))\n",
    "\n",
    "# Concatenate all DataFrames into one\n",
    "concatenated_df = pd.concat(dataframes, ignore_index=True)\n",
    "\n",
    "# Assign the concatenated DataFrame to the data object\n",
    "data.df_combined = concatenated_df\n",
    "\n",
    "# Print the concatenated DataFrame\n",
    "print(data.df_combined)"
   ]
  },
  {
   "cell_type": "code",
   "execution_count": null,
   "id": "d930258a",
   "metadata": {},
   "outputs": [],
   "source": []
  }
 ],
 "metadata": {
  "kernelspec": {
   "display_name": ".venv",
   "language": "python",
   "name": "python3"
  },
  "language_info": {
   "codemirror_mode": {
    "name": "ipython",
    "version": 3
   },
   "file_extension": ".py",
   "mimetype": "text/x-python",
   "name": "python",
   "nbconvert_exporter": "python",
   "pygments_lexer": "ipython3",
   "version": "3.12.5"
  }
 },
 "nbformat": 4,
 "nbformat_minor": 5
}
