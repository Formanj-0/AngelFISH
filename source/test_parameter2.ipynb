{
 "cells": [
  {
   "cell_type": "code",
   "execution_count": 1,
   "id": "ee182572",
   "metadata": {},
   "outputs": [],
   "source": [
    "import joblib \n",
    "from Parameters import Parameters, Data\n"
   ]
  },
  {
   "cell_type": "code",
   "execution_count": 2,
   "id": "fc92473d",
   "metadata": {},
   "outputs": [
    {
     "name": "stdout",
     "output_type": "stream",
     "text": [
      "<Parameters.Parameters object at 0x00000147FE8510A0>\n",
      "<Parameters.Data object at 0x00000147FF3D9400>\n",
      "{'voxel_size_yx': 130, 'voxel_size_z': 500, 'spot_z': 500, 'spot_yx': 360, 'local_dataset_location': None, 'clear_after_error': True, 'analysis_name': 'analysis_name', 'number_of_cores': 4, 'num_chunks_to_run': 100000, 'connection_config_location': '', 'display_plots': True, 'load_in_mask': True, 'order': 'pt', 'state': 'global', 'share_name': 'share', 'log_location': 'Users\\\\Jack\\\\All_Analysis', 'initial_data_location': None, 'nucChannel': None, 'cytoChannel': None, 'FISHChannel': None, 'experimental_params': [{}], 'timestep_s': None}\n",
      "{'_zarr_path': WindowsPath('Testing_Zarr_Data'), '_ds': <zarr.hierarchy.Group '/'>, '_loaded': True}\n"
     ]
    }
   ],
   "source": [
    "params = Parameters()\n",
    "data = Data('Testing_Zarr_Data')\n",
    "\n",
    "params.analysis_name = 'analysis_name'\n",
    "\n",
    "print(params)\n",
    "print(data)\n",
    "\n",
    "print(params.__dict__)\n",
    "print(data.__dict__)\n",
    "\n"
   ]
  },
  {
   "cell_type": "code",
   "execution_count": 3,
   "id": "5c730fcf",
   "metadata": {},
   "outputs": [
    {
     "name": "stdout",
     "output_type": "stream",
     "text": [
      "Results (Parallel): [16900, 16900, 16900, 16900, 16900]\n",
      "Time taken (Parallel): 1.108309030532837 seconds\n",
      "Results (Non-Parallel): [16900, 16900, 16900, 16900, 16900]\n",
      "Time taken (Non-Parallel): 0.5023536682128906 seconds\n"
     ]
    }
   ],
   "source": [
    "from joblib import Parallel, delayed\n",
    "import time\n",
    "\n",
    "# Example function that uses Parameters\n",
    "def process_data(param):\n",
    "    # Simulate some computation using the parameter\n",
    "    time.sleep(0.1)\n",
    "    return param.voxel_size_yx ** 2\n",
    "\n",
    "parameters = Parameters()\n",
    "\n",
    "# Time the parallel computation\n",
    "start_parallel = time.time()\n",
    "results_parallel = Parallel(n_jobs=5)(delayed(process_data)(parameters) for _ in range(5))\n",
    "end_parallel = time.time()\n",
    "\n",
    "# Time the non-parallel computation\n",
    "start_non_parallel = time.time()\n",
    "results_non_parallel = [process_data(parameters) for _ in range(5)]\n",
    "end_non_parallel = time.time()\n",
    "\n",
    "# Print results and timing\n",
    "print(\"Results (Parallel):\", results_parallel)\n",
    "print(\"Time taken (Parallel):\", end_parallel - start_parallel, \"seconds\")\n",
    "print(\"Results (Non-Parallel):\", results_non_parallel)\n",
    "print(\"Time taken (Non-Parallel):\", end_non_parallel - start_non_parallel, \"seconds\")"
   ]
  },
  {
   "cell_type": "code",
   "execution_count": 4,
   "id": "9e55005e",
   "metadata": {},
   "outputs": [
    {
     "name": "stdout",
     "output_type": "stream",
     "text": [
      "Results (Parallel with Dask): [(0, 0, 0, 0, 0.5025655247069041), (0, 0, 0, 1, 0.5010678015486087), (0, 0, 0, 2, 0.4992427816096889), (0, 0, 0, 3, 0.5050640745157075), (0, 0, 0, 4, 0.5045420773728058), (0, 0, 1, 0, 0.49555235268309905), (0, 0, 1, 1, 0.500780756513724), (0, 0, 1, 2, 0.497014663652986), (0, 0, 1, 3, 0.5001533473545197), (0, 0, 1, 4, 0.49428458231443545), (0, 1, 0, 0, 0.4967182752366669), (0, 1, 0, 1, 0.503774576534514), (0, 1, 0, 2, 0.5015497518812819), (0, 1, 0, 3, 0.5028849190680639), (0, 1, 0, 4, 0.5025883581388187), (0, 1, 1, 0, 0.49695207037150757), (0, 1, 1, 1, 0.4972190200325522), (0, 1, 1, 2, 0.49692531140349055), (0, 1, 1, 3, 0.4991914945324142), (0, 1, 1, 4, 0.5034844265866951), (0, 2, 0, 0, 0.506732170499969), (0, 2, 0, 1, 0.49848404535580293), (0, 2, 0, 2, 0.5012402716961071), (0, 2, 0, 3, 0.5022172790909012), (0, 2, 0, 4, 0.49769054765406506), (0, 2, 1, 0, 0.5011142262381617), (0, 2, 1, 1, 0.5027158300416681), (0, 2, 1, 2, 0.49966039638600007), (0, 2, 1, 3, 0.502014654084399), (0, 2, 1, 4, 0.5039984893159087), (1, 0, 0, 0, 0.5017002056605525), (1, 0, 0, 1, 0.4994455718627474), (1, 0, 0, 2, 0.49528021945289563), (1, 0, 0, 3, 0.4998560715900399), (1, 0, 0, 4, 0.49804226052154527), (1, 0, 1, 0, 0.5003858217997624), (1, 0, 1, 1, 0.5015947720683237), (1, 0, 1, 2, 0.4960035972532226), (1, 0, 1, 3, 0.501928775108435), (1, 0, 1, 4, 0.5053531575042367), (1, 1, 0, 0, 0.49739151079764277), (1, 1, 0, 1, 0.5039848529356418), (1, 1, 0, 2, 0.4939303911428028), (1, 1, 0, 3, 0.49718170263722034), (1, 1, 0, 4, 0.5008271779854772), (1, 1, 1, 0, 0.5000392495147886), (1, 1, 1, 1, 0.4988899004535061), (1, 1, 1, 2, 0.5014110424664788), (1, 1, 1, 3, 0.500599524990199), (1, 1, 1, 4, 0.4998575686157807), (1, 2, 0, 0, 0.49844884997770494), (1, 2, 0, 1, 0.5021753254934724), (1, 2, 0, 2, 0.5000994338119157), (1, 2, 0, 3, 0.5032236298890925), (1, 2, 0, 4, 0.4954349802015373), (1, 2, 1, 0, 0.49347128218441977), (1, 2, 1, 1, 0.49680080445254654), (1, 2, 1, 2, 0.5025482636994792), (1, 2, 1, 3, 0.495263632889765), (1, 2, 1, 4, 0.49594627205593517)]\n",
      "Time taken (Parallel with Dask): 0.3636510372161865 seconds\n",
      "Results (Non-Parallel with Dask): [(0, 0, 0, 0, 0.5025655247069041), (0, 0, 0, 1, 0.5010678015486087), (0, 0, 0, 2, 0.4992427816096889), (0, 0, 0, 3, 0.5050640745157075), (0, 0, 0, 4, 0.5045420773728058), (0, 0, 1, 0, 0.49555235268309905), (0, 0, 1, 1, 0.500780756513724), (0, 0, 1, 2, 0.497014663652986), (0, 0, 1, 3, 0.5001533473545197), (0, 0, 1, 4, 0.49428458231443545), (0, 1, 0, 0, 0.4967182752366669), (0, 1, 0, 1, 0.503774576534514), (0, 1, 0, 2, 0.5015497518812819), (0, 1, 0, 3, 0.5028849190680639), (0, 1, 0, 4, 0.5025883581388187), (0, 1, 1, 0, 0.49695207037150757), (0, 1, 1, 1, 0.4972190200325522), (0, 1, 1, 2, 0.49692531140349055), (0, 1, 1, 3, 0.4991914945324142), (0, 1, 1, 4, 0.5034844265866951), (0, 2, 0, 0, 0.506732170499969), (0, 2, 0, 1, 0.49848404535580293), (0, 2, 0, 2, 0.5012402716961071), (0, 2, 0, 3, 0.5022172790909012), (0, 2, 0, 4, 0.49769054765406506), (0, 2, 1, 0, 0.5011142262381617), (0, 2, 1, 1, 0.5027158300416681), (0, 2, 1, 2, 0.49966039638600007), (0, 2, 1, 3, 0.502014654084399), (0, 2, 1, 4, 0.5039984893159087), (1, 0, 0, 0, 0.5017002056605525), (1, 0, 0, 1, 0.4994455718627474), (1, 0, 0, 2, 0.49528021945289563), (1, 0, 0, 3, 0.4998560715900399), (1, 0, 0, 4, 0.49804226052154527), (1, 0, 1, 0, 0.5003858217997624), (1, 0, 1, 1, 0.5015947720683237), (1, 0, 1, 2, 0.4960035972532226), (1, 0, 1, 3, 0.501928775108435), (1, 0, 1, 4, 0.5053531575042367), (1, 1, 0, 0, 0.49739151079764277), (1, 1, 0, 1, 0.5039848529356418), (1, 1, 0, 2, 0.4939303911428028), (1, 1, 0, 3, 0.49718170263722034), (1, 1, 0, 4, 0.5008271779854772), (1, 1, 1, 0, 0.5000392495147886), (1, 1, 1, 1, 0.4988899004535061), (1, 1, 1, 2, 0.5014110424664788), (1, 1, 1, 3, 0.500599524990199), (1, 1, 1, 4, 0.4998575686157807), (1, 2, 0, 0, 0.49844884997770494), (1, 2, 0, 1, 0.5021753254934724), (1, 2, 0, 2, 0.5000994338119157), (1, 2, 0, 3, 0.5032236298890925), (1, 2, 0, 4, 0.4954349802015373), (1, 2, 1, 0, 0.49347128218441977), (1, 2, 1, 1, 0.49680080445254654), (1, 2, 1, 2, 0.5025482636994792), (1, 2, 1, 3, 0.495263632889765), (1, 2, 1, 4, 0.49594627205593517)]\n",
      "Time taken (Non-Parallel with Dask): 0.11048102378845215 seconds\n"
     ]
    }
   ],
   "source": [
    "from dask import delayed\n",
    "\n",
    "import dask.array as da\n",
    "\n",
    "# Create a large Dask array with dimensions (position, time, channel, z, y, x)\n",
    "# For example, let's assume 2 positions, 3 time points, 2 channels, 5 z-slices, and 100x100 yx dimensions\n",
    "shape = (2, 3, 2, 5, 100, 100)\n",
    "large_array = da.random.random(shape, chunks=(1, 1, 1, 1, 100, 100))\n",
    "\n",
    "# Define a function to process each z, y, x slice\n",
    "def process_slice(slice_data):\n",
    "    # Example: Compute the mean of the slice\n",
    "    return slice_data.mean().compute()\n",
    "\n",
    "# Process each z, y, x slice in parallel using Dask delayed\n",
    "results_parallel_dask = []\n",
    "\n",
    "@delayed\n",
    "def process_slice_delayed(pos, time, channel, z):\n",
    "    slice_data = large_array[pos, time, channel, z, :, :]\n",
    "    result = process_slice(slice_data)\n",
    "    return (pos, time, channel, z, result)\n",
    "\n",
    "tasks = [\n",
    "    process_slice_delayed(pos, t, channel, z)\n",
    "    for pos in range(shape[0])\n",
    "    for t in range(shape[1])\n",
    "    for channel in range(shape[2])\n",
    "    for z in range(shape[3])\n",
    "]\n",
    "\n",
    "# Time the parallel computation with Dask\n",
    "start_parallel_dask = time.time()\n",
    "results_parallel_dask = list(da.compute(*tasks))\n",
    "end_parallel_dask = time.time()\n",
    "\n",
    "# Process each z, y, x slice sequentially (non-parallel)\n",
    "results_non_parallel_dask = []\n",
    "\n",
    "start_non_parallel_dask = time.time()\n",
    "for pos in range(shape[0]):\n",
    "    for t in range(shape[1]):\n",
    "        for channel in range(shape[2]):\n",
    "            for z in range(shape[3]):\n",
    "                slice_data = large_array[pos, t, channel, z, :, :]\n",
    "                result = process_slice(slice_data)\n",
    "                results_non_parallel_dask.append((pos, t, channel, z, result))\n",
    "end_non_parallel_dask = time.time()\n",
    "\n",
    "# Print results and timing\n",
    "print(\"Results (Parallel with Dask):\", results_parallel_dask)\n",
    "print(\"Time taken (Parallel with Dask):\", end_parallel_dask - start_parallel_dask, \"seconds\")\n",
    "print(\"Results (Non-Parallel with Dask):\", results_non_parallel_dask)\n",
    "print(\"Time taken (Non-Parallel with Dask):\", end_non_parallel_dask - start_non_parallel_dask, \"seconds\")"
   ]
  },
  {
   "cell_type": "code",
   "execution_count": 5,
   "id": "b9b4aa55",
   "metadata": {},
   "outputs": [
    {
     "name": "stdout",
     "output_type": "stream",
     "text": [
      "Results (Parallel with Dask using Data): [(0, 0, 0, 0, 0.5025655247069041), (0, 0, 0, 1, 0.5010678015486087), (0, 0, 0, 2, 0.4992427816096889), (0, 0, 0, 3, 0.5050640745157075), (0, 0, 0, 4, 0.5045420773728058), (0, 0, 1, 0, 0.49555235268309905), (0, 0, 1, 1, 0.500780756513724), (0, 0, 1, 2, 0.497014663652986), (0, 0, 1, 3, 0.5001533473545197), (0, 0, 1, 4, 0.49428458231443545), (0, 1, 0, 0, 0.4967182752366669), (0, 1, 0, 1, 0.503774576534514), (0, 1, 0, 2, 0.5015497518812819), (0, 1, 0, 3, 0.5028849190680639), (0, 1, 0, 4, 0.5025883581388187), (0, 1, 1, 0, 0.49695207037150757), (0, 1, 1, 1, 0.4972190200325522), (0, 1, 1, 2, 0.49692531140349055), (0, 1, 1, 3, 0.4991914945324142), (0, 1, 1, 4, 0.5034844265866951), (0, 2, 0, 0, 0.506732170499969), (0, 2, 0, 1, 0.49848404535580293), (0, 2, 0, 2, 0.5012402716961071), (0, 2, 0, 3, 0.5022172790909012), (0, 2, 0, 4, 0.49769054765406506), (0, 2, 1, 0, 0.5011142262381617), (0, 2, 1, 1, 0.5027158300416681), (0, 2, 1, 2, 0.49966039638600007), (0, 2, 1, 3, 0.502014654084399), (0, 2, 1, 4, 0.5039984893159087), (1, 0, 0, 0, 0.5017002056605525), (1, 0, 0, 1, 0.4994455718627474), (1, 0, 0, 2, 0.49528021945289563), (1, 0, 0, 3, 0.4998560715900399), (1, 0, 0, 4, 0.49804226052154527), (1, 0, 1, 0, 0.5003858217997624), (1, 0, 1, 1, 0.5015947720683237), (1, 0, 1, 2, 0.4960035972532226), (1, 0, 1, 3, 0.501928775108435), (1, 0, 1, 4, 0.5053531575042367), (1, 1, 0, 0, 0.49739151079764277), (1, 1, 0, 1, 0.5039848529356418), (1, 1, 0, 2, 0.4939303911428028), (1, 1, 0, 3, 0.49718170263722034), (1, 1, 0, 4, 0.5008271779854772), (1, 1, 1, 0, 0.5000392495147886), (1, 1, 1, 1, 0.4988899004535061), (1, 1, 1, 2, 0.5014110424664788), (1, 1, 1, 3, 0.500599524990199), (1, 1, 1, 4, 0.4998575686157807), (1, 2, 0, 0, 0.49844884997770494), (1, 2, 0, 1, 0.5021753254934724), (1, 2, 0, 2, 0.5000994338119157), (1, 2, 0, 3, 0.5032236298890925), (1, 2, 0, 4, 0.4954349802015373), (1, 2, 1, 0, 0.49347128218441977), (1, 2, 1, 1, 0.49680080445254654), (1, 2, 1, 2, 0.5025482636994792), (1, 2, 1, 3, 0.495263632889765), (1, 2, 1, 4, 0.49594627205593517)]\n",
      "Time taken (Parallel with Dask using Data): 0.12831711769104004 seconds\n"
     ]
    }
   ],
   "source": [
    "# Assuming the Data class provides access to the large array or similar data\n",
    "data_instance = Data('Testing_Zarr_Data')\n",
    "\n",
    "# Access the large array from the Data class\n",
    "data_instance.large_array = large_array  # Replace 'large_array' with the actual attribute name in Data\n",
    "\n",
    "# Define a function to process each z, y, x slice\n",
    "def process_slice_with_data(slice_data):\n",
    "    # Example: Compute the mean of the slice\n",
    "    return slice_data.mean().compute()\n",
    "\n",
    "# Process each z, y, x slice in parallel using Dask delayed\n",
    "results_parallel_dask_with_data = []\n",
    "\n",
    "@delayed\n",
    "def process_slice_delayed_with_data(pos, time, channel, z):\n",
    "    slice_data = data_instance.large_array[pos, time, channel, z, :, :]\n",
    "    result = process_slice_with_data(slice_data)\n",
    "    return (pos, time, channel, z, result)\n",
    "\n",
    "tasks_with_data = [\n",
    "    process_slice_delayed_with_data(pos, t, channel, z)\n",
    "    for pos in range(shape[0])\n",
    "    for t in range(shape[1])\n",
    "    for channel in range(shape[2])\n",
    "    for z in range(shape[3])\n",
    "]\n",
    "\n",
    "# Time the parallel computation with Dask using Data class\n",
    "start_parallel_dask_with_data = time.time()\n",
    "results_parallel_dask_with_data = list(da.compute(*tasks_with_data))\n",
    "end_parallel_dask_with_data = time.time()\n",
    "\n",
    "# Print results and timing\n",
    "print(\"Results (Parallel with Dask using Data):\", results_parallel_dask_with_data)\n",
    "print(\"Time taken (Parallel with Dask using Data):\", end_parallel_dask_with_data - start_parallel_dask_with_data, \"seconds\")"
   ]
  },
  {
   "cell_type": "code",
   "execution_count": 6,
   "id": "d4d34bfc",
   "metadata": {},
   "outputs": [
    {
     "data": {
      "text/plain": [
       "0.7358388893025504"
      ]
     },
     "execution_count": 6,
     "metadata": {},
     "output_type": "execute_result"
    }
   ],
   "source": [
    "data_instance.large_array[0,0, 0, 0, 0, 0].compute()"
   ]
  },
  {
   "cell_type": "code",
   "execution_count": 7,
   "id": "b559a284",
   "metadata": {},
   "outputs": [
    {
     "name": "stdout",
     "output_type": "stream",
     "text": [
      "The large_array has been altered and updated in the data_instance.\n"
     ]
    }
   ],
   "source": [
    "# Example: Multiply all elements in the large_array by 2\n",
    "altered_array = large_array * 2\n",
    "\n",
    "# Assign the altered array back to the data_instance\n",
    "data_instance.large_array = altered_array\n",
    "\n",
    "# Print a confirmation message\n",
    "print(\"The large_array has been altered and updated in the data_instance.\")"
   ]
  },
  {
   "cell_type": "code",
   "execution_count": 8,
   "id": "35da29d5",
   "metadata": {},
   "outputs": [
    {
     "data": {
      "text/plain": [
       "1.4716777786051007"
      ]
     },
     "execution_count": 8,
     "metadata": {},
     "output_type": "execute_result"
    }
   ],
   "source": [
    "data_instance.large_array[0,0, 0, 0, 0, 0].compute()"
   ]
  },
  {
   "cell_type": "code",
   "execution_count": null,
   "id": "20d6ef34",
   "metadata": {},
   "outputs": [],
   "source": []
  }
 ],
 "metadata": {
  "kernelspec": {
   "display_name": ".venv",
   "language": "python",
   "name": "python3"
  },
  "language_info": {
   "codemirror_mode": {
    "name": "ipython",
    "version": 3
   },
   "file_extension": ".py",
   "mimetype": "text/x-python",
   "name": "python",
   "nbconvert_exporter": "python",
   "pygments_lexer": "ipython3",
   "version": "3.12.5"
  }
 },
 "nbformat": 4,
 "nbformat_minor": 5
}
