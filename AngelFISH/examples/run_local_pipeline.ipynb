{
 "cells": [
  {
   "cell_type": "code",
   "execution_count": null,
   "id": "c5e6ea2c",
   "metadata": {},
   "outputs": [
    {
     "name": "stderr",
     "output_type": "stream",
     "text": [
      "2025-07-24 15:42:16 |  WARNING | Loading postgres module without psycopg2 nor pg8000 installed. Will crash at runtime if postgres functionality is used.\n",
      "2025-07-24 15:42:16 |  WARNING | Loading S3 module without the python package boto3. Will crash at runtime if S3 functionality is used.\n"
     ]
    }
   ],
   "source": [
    "import sys\n",
    "sys.path.append('..')\n",
    "\n",
    "from src import Receipt\n",
    "from src.steps import download_data, seg"
   ]
  },
  {
   "cell_type": "code",
   "execution_count": 2,
   "id": "18fbb8e8",
   "metadata": {},
   "outputs": [],
   "source": [
    "receipt = Receipt()\n"
   ]
  },
  {
   "cell_type": "code",
   "execution_count": 3,
   "id": "c4e5588e",
   "metadata": {},
   "outputs": [],
   "source": [
    "workflow_task = 'demo'"
   ]
  },
  {
   "cell_type": "code",
   "execution_count": 4,
   "id": "92e129c2",
   "metadata": {},
   "outputs": [],
   "source": [
    "receipt['meta_arguments']['nas_location'] = r'Users/Jack/_ImageDatasets/Sia/SS004_07212025_TroubleShooting/SS004_10min_100nM_7'\n",
    "\n",
    "receipt['meta_arguments']['analysis_name'] = workflow_task"
   ]
  },
  {
   "cell_type": "code",
   "execution_count": 5,
   "id": "30db060a",
   "metadata": {},
   "outputs": [],
   "source": [
    "receipt['meta_arguments']['data_loader'] = 'pycromanager_data_loader'"
   ]
  },
  {
   "cell_type": "code",
   "execution_count": null,
   "id": "ed336622",
   "metadata": {},
   "outputs": [
    {
     "name": "stderr",
     "output_type": "stream",
     "text": [
      "INFO:numexpr.utils:Note: NumExpr detected 32 cores but \"NUMEXPR_MAX_THREADS\" not set, so enforcing safe limit of 16.\n",
      "INFO:numexpr.utils:NumExpr defaulting to 16 threads.\n"
     ]
    },
    {
     "name": "stdout",
     "output_type": "stream",
     "text": [
      "local file already exist\n"
     ]
    },
    {
     "data": {
      "text/plain": [
       "{'meta_arguments': {'nas_location': 'Users/Jack/_ImageDatasets/Sia/SS004_07212025_TroubleShooting/SS004_10min_100nM_7', 'local_location': 'c:\\\\Users\\\\formanj\\\\GitHub\\\\AngelFISH\\\\AngelFISH\\\\database\\\\SS004_10min_100nM_7', 'data_loader': 'pycromanager_data_loader', 'analysis_name': 'demo'}, 'steps': {}}"
      ]
     },
     "execution_count": 6,
     "metadata": {},
     "output_type": "execute_result"
    }
   ],
   "source": [
    "dd = download_data(workflow_task=receipt['meta_arguments']['analysis_name'], instance_name=receipt['meta_arguments']['nas_location'], receipt=receipt)\n",
    "receipt = dd.process(receipt, 'download_data')"
   ]
  },
  {
   "cell_type": "code",
   "execution_count": 8,
   "id": "84f8f3f1",
   "metadata": {},
   "outputs": [
    {
     "ename": "NameError",
     "evalue": "name 'segment' is not defined",
     "output_type": "error",
     "traceback": [
      "\u001b[1;31m---------------------------------------------------------------------------\u001b[0m",
      "\u001b[1;31mNameError\u001b[0m                                 Traceback (most recent call last)",
      "Cell \u001b[1;32mIn[8], line 1\u001b[0m\n\u001b[1;32m----> 1\u001b[0m receipt \u001b[38;5;241m=\u001b[39m \u001b[43msegment\u001b[49m(receipt)\n",
      "\u001b[1;31mNameError\u001b[0m: name 'segment' is not defined"
     ]
    }
   ],
   "source": [
    "receipt = segment(receipt)"
   ]
  },
  {
   "cell_type": "code",
   "execution_count": null,
   "id": "2d8bbef4",
   "metadata": {},
   "outputs": [],
   "source": [
    "receipt = segment(receipt)"
   ]
  },
  {
   "cell_type": "code",
   "execution_count": null,
   "id": "c824d788",
   "metadata": {},
   "outputs": [],
   "source": [
    "receipt = detect_spots(receipt)"
   ]
  },
  {
   "cell_type": "code",
   "execution_count": null,
   "id": "37399843",
   "metadata": {},
   "outputs": [],
   "source": [
    "receipt = get_cell_properties(receipt)"
   ]
  },
  {
   "cell_type": "code",
   "execution_count": null,
   "id": "9d5b5294",
   "metadata": {},
   "outputs": [],
   "source": [
    "receipt = return_data(receipt)"
   ]
  },
  {
   "cell_type": "code",
   "execution_count": null,
   "id": "28bf6eb2",
   "metadata": {},
   "outputs": [],
   "source": [
    "receipt = clear_local_data(receipt)"
   ]
  },
  {
   "cell_type": "code",
   "execution_count": null,
   "id": "9c05c34b",
   "metadata": {},
   "outputs": [],
   "source": [
    "save(receipt)"
   ]
  }
 ],
 "metadata": {
  "kernelspec": {
   "display_name": ".venv",
   "language": "python",
   "name": "python3"
  },
  "language_info": {
   "codemirror_mode": {
    "name": "ipython",
    "version": 3
   },
   "file_extension": ".py",
   "mimetype": "text/x-python",
   "name": "python",
   "nbconvert_exporter": "python",
   "pygments_lexer": "ipython3",
   "version": "3.12.3"
  }
 },
 "nbformat": 4,
 "nbformat_minor": 5
}
