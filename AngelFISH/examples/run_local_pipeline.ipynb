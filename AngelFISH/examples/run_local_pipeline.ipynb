{
 "cells": [
  {
   "cell_type": "code",
   "execution_count": 1,
   "id": "c5e6ea2c",
   "metadata": {},
   "outputs": [
    {
     "name": "stderr",
     "output_type": "stream",
     "text": [
      "2025-07-24 18:21:28 |  WARNING | Loading postgres module without psycopg2 nor pg8000 installed. Will crash at runtime if postgres functionality is used.\n",
      "2025-07-24 18:21:28 |  WARNING | Loading S3 module without the python package boto3. Will crash at runtime if S3 functionality is used.\n"
     ]
    }
   ],
   "source": [
    "import sys\n",
    "sys.path.append('..')\n",
    "\n",
    "from src import Receipt\n",
    "from src.steps import download_data"
   ]
  },
  {
   "cell_type": "code",
   "execution_count": null,
   "id": "18fbb8e8",
   "metadata": {},
   "outputs": [],
   "source": [
    "receipt = Receipt(\n",
    "    analysis_name = 'default_name'\n",
    "    nas_location = r'Users/Jack/_ImageDatasets/Sia/SS004_07212025_TroubleShooting/SS004_10min_100nM_7',\n",
    "    local_location = None\n",
    "    )\n"
   ]
  },
  {
   "cell_type": "code",
   "execution_count": 3,
   "id": "92e129c2",
   "metadata": {},
   "outputs": [],
   "source": [
    "receipt['meta_arguments']['nas_location'] = r'Users/Jack/_ImageDatasets/Sia/SS004_07212025_TroubleShooting/SS004_10min_100nM_7'\n",
    "\n",
    "receipt['meta_arguments']['analysis_name'] = 'default_name'"
   ]
  },
  {
   "cell_type": "code",
   "execution_count": 4,
   "id": "30db060a",
   "metadata": {},
   "outputs": [],
   "source": [
    "receipt['meta_arguments']['data_loader'] = 'pycromanager_data_loader'"
   ]
  },
  {
   "cell_type": "code",
   "execution_count": 5,
   "id": "7563ea96",
   "metadata": {},
   "outputs": [
    {
     "data": {
      "text/plain": [
       "{'meta_arguments': {'nas_location': 'Users/Jack/_ImageDatasets/Sia/SS004_07212025_TroubleShooting/SS004_10min_100nM_7', 'local_location': None, 'data_loader': 'pycromanager_data_loader', 'analysis_name': 'default_name'}, 'steps': {}}"
      ]
     },
     "execution_count": 5,
     "metadata": {},
     "output_type": "execute_result"
    }
   ],
   "source": [
    "receipt"
   ]
  },
  {
   "cell_type": "code",
   "execution_count": 6,
   "id": "ed336622",
   "metadata": {},
   "outputs": [
    {
     "name": "stderr",
     "output_type": "stream",
     "text": [
      "INFO:numexpr.utils:Note: NumExpr detected 24 cores but \"NUMEXPR_MAX_THREADS\" not set, so enforcing safe limit of 16.\n",
      "INFO:numexpr.utils:NumExpr defaulting to 16 threads.\n"
     ]
    },
    {
     "ename": "TypeError",
     "evalue": "_path_exists: path should be string, bytes, os.PathLike or integer, not NoneType",
     "output_type": "error",
     "traceback": [
      "\u001b[1;31m---------------------------------------------------------------------------\u001b[0m",
      "\u001b[1;31mTypeError\u001b[0m                                 Traceback (most recent call last)",
      "Cell \u001b[1;32mIn[6], line 2\u001b[0m\n\u001b[0;32m      1\u001b[0m dd \u001b[38;5;241m=\u001b[39m download_data(receipt, \u001b[38;5;124m'\u001b[39m\u001b[38;5;124mdownload_data\u001b[39m\u001b[38;5;124m'\u001b[39m)\n\u001b[1;32m----> 2\u001b[0m receipt \u001b[38;5;241m=\u001b[39m \u001b[43mdd\u001b[49m\u001b[38;5;241;43m.\u001b[39;49m\u001b[43mprocess\u001b[49m\u001b[43m(\u001b[49m\u001b[43m)\u001b[49m\n",
      "File \u001b[1;32mc:\\Users\\Jack\\Documents\\GitHub\\AngelFISH\\AngelFISH\\examples\\..\\src\\steps\\Download_Data.py:21\u001b[0m, in \u001b[0;36mdownload_data.process\u001b[1;34m(self, new_params, p_range, t_range, use_gui)\u001b[0m\n\u001b[0;32m     18\u001b[0m     \u001b[38;5;28;01mfor\u001b[39;00m k, v \u001b[38;5;129;01min\u001b[39;00m new_params\u001b[38;5;241m.\u001b[39mitems():\n\u001b[0;32m     19\u001b[0m         \u001b[38;5;28mself\u001b[39m\u001b[38;5;241m.\u001b[39mreceipt[\u001b[38;5;28mself\u001b[39m\u001b[38;5;241m.\u001b[39mstep_name][k] \u001b[38;5;241m=\u001b[39m v\n\u001b[1;32m---> 21\u001b[0m \u001b[38;5;28;43mself\u001b[39;49m\u001b[38;5;241;43m.\u001b[39;49m\u001b[43mimage_processing\u001b[49m\u001b[43m(\u001b[49m\u001b[43m)\u001b[49m\n\u001b[0;32m     23\u001b[0m \u001b[38;5;28;01mreturn\u001b[39;00m \u001b[38;5;28mself\u001b[39m\u001b[38;5;241m.\u001b[39mreceipt\n",
      "File \u001b[1;32mc:\\Users\\Jack\\Documents\\GitHub\\AngelFISH\\AngelFISH\\examples\\..\\src\\steps\\Download_Data.py:41\u001b[0m, in \u001b[0;36mdownload_data.image_processing\u001b[1;34m(self)\u001b[0m\n\u001b[0;32m     38\u001b[0m is_folder \u001b[38;5;241m=\u001b[39m \u001b[38;5;129;01mnot\u001b[39;00m is_file\n\u001b[0;32m     40\u001b[0m \u001b[38;5;28;01mif\u001b[39;00m is_folder:\n\u001b[1;32m---> 41\u001b[0m     \u001b[38;5;28;43mself\u001b[39;49m\u001b[38;5;241;43m.\u001b[39;49m\u001b[43mdownload_folder_from_NAS\u001b[49m\u001b[43m(\u001b[49m\u001b[43mnas_location\u001b[49m\u001b[43m,\u001b[49m\u001b[43m \u001b[49m\u001b[43mlocal_location\u001b[49m\u001b[43m,\u001b[49m\u001b[43m \u001b[49m\u001b[43mconnection_config_location\u001b[49m\u001b[43m)\u001b[49m\n\u001b[0;32m     42\u001b[0m \u001b[38;5;28;01melse\u001b[39;00m:\n\u001b[0;32m     43\u001b[0m     \u001b[38;5;28mself\u001b[39m\u001b[38;5;241m.\u001b[39mdownload_file_from_NAS(nas_location, os\u001b[38;5;241m.\u001b[39mpath\u001b[38;5;241m.\u001b[39mdirname(local_location), connection_config_location)\n",
      "File \u001b[1;32mc:\\Users\\Jack\\Documents\\GitHub\\AngelFISH\\AngelFISH\\examples\\..\\src\\steps\\Download_Data.py:49\u001b[0m, in \u001b[0;36mdownload_data.download_folder_from_NAS\u001b[1;34m(self, remote_path, local_folder_path, connection_config_location)\u001b[0m\n\u001b[0;32m     47\u001b[0m \u001b[38;5;28;01mdef\u001b[39;00m \u001b[38;5;21mdownload_folder_from_NAS\u001b[39m(\u001b[38;5;28mself\u001b[39m, remote_path, local_folder_path, connection_config_location):\n\u001b[0;32m     48\u001b[0m     \u001b[38;5;66;03m# Downloads a folder from the NAS, confirms that the it has not already been downloaded\u001b[39;00m\n\u001b[1;32m---> 49\u001b[0m     \u001b[38;5;28;01mif\u001b[39;00m \u001b[38;5;129;01mnot\u001b[39;00m \u001b[43mos\u001b[49m\u001b[38;5;241;43m.\u001b[39;49m\u001b[43mpath\u001b[49m\u001b[38;5;241;43m.\u001b[39;49m\u001b[43mexists\u001b[49m\u001b[43m(\u001b[49m\u001b[43mlocal_folder_path\u001b[49m\u001b[43m)\u001b[49m:\n\u001b[0;32m     50\u001b[0m         os\u001b[38;5;241m.\u001b[39mmakedirs(local_folder_path, exist_ok\u001b[38;5;241m=\u001b[39m\u001b[38;5;28;01mTrue\u001b[39;00m)\n\u001b[0;32m     51\u001b[0m         nas \u001b[38;5;241m=\u001b[39m NASConnection(pathlib\u001b[38;5;241m.\u001b[39mPath(connection_config_location))\n",
      "\u001b[1;31mTypeError\u001b[0m: _path_exists: path should be string, bytes, os.PathLike or integer, not NoneType"
     ]
    }
   ],
   "source": [
    "dd = download_data(receipt, 'download_data')\n",
    "receipt = dd.process()"
   ]
  },
  {
   "cell_type": "code",
   "execution_count": null,
   "id": "95f7defa",
   "metadata": {},
   "outputs": [],
   "source": [
    "receipt['dirs']"
   ]
  },
  {
   "cell_type": "code",
   "execution_count": null,
   "id": "f2f0bb3f",
   "metadata": {},
   "outputs": [],
   "source": []
  },
  {
   "cell_type": "code",
   "execution_count": null,
   "id": "84f8f3f1",
   "metadata": {},
   "outputs": [],
   "source": [
    "receipt = segment(receipt)"
   ]
  },
  {
   "cell_type": "code",
   "execution_count": null,
   "id": "2d8bbef4",
   "metadata": {},
   "outputs": [],
   "source": [
    "receipt = segment(receipt)"
   ]
  },
  {
   "cell_type": "code",
   "execution_count": null,
   "id": "c824d788",
   "metadata": {},
   "outputs": [],
   "source": [
    "receipt = detect_spots(receipt)"
   ]
  },
  {
   "cell_type": "code",
   "execution_count": null,
   "id": "37399843",
   "metadata": {},
   "outputs": [],
   "source": [
    "receipt = get_cell_properties(receipt)"
   ]
  },
  {
   "cell_type": "code",
   "execution_count": null,
   "id": "9d5b5294",
   "metadata": {},
   "outputs": [],
   "source": [
    "receipt = return_data(receipt)"
   ]
  },
  {
   "cell_type": "code",
   "execution_count": null,
   "id": "28bf6eb2",
   "metadata": {},
   "outputs": [],
   "source": [
    "receipt = clear_local_data(receipt)"
   ]
  },
  {
   "cell_type": "code",
   "execution_count": null,
   "id": "9c05c34b",
   "metadata": {},
   "outputs": [],
   "source": [
    "save(receipt)"
   ]
  }
 ],
 "metadata": {
  "kernelspec": {
   "display_name": ".venv",
   "language": "python",
   "name": "python3"
  },
  "language_info": {
   "codemirror_mode": {
    "name": "ipython",
    "version": 3
   },
   "file_extension": ".py",
   "mimetype": "text/x-python",
   "name": "python",
   "nbconvert_exporter": "python",
   "pygments_lexer": "ipython3",
   "version": "3.12.5"
  }
 },
 "nbformat": 4,
 "nbformat_minor": 5
}
