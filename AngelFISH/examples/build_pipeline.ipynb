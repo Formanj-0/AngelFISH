{
 "cells": [
  {
   "cell_type": "code",
   "execution_count": null,
   "id": "c5e6ea2c",
   "metadata": {},
   "outputs": [],
   "source": [
    "import sys\n",
    "sys.path.append('..')\n",
    "\n",
    "from src import Receipt, load_data\n",
    "from src.steps import download_data, segment"
   ]
  },
  {
   "cell_type": "code",
   "execution_count": null,
   "id": "18fbb8e8",
   "metadata": {},
   "outputs": [],
   "source": [
    "receipt = Receipt(\n",
    "    analysis_name = 'default_name',\n",
    "    nas_location = r'Users/Jack/_ImageDatasets/Sia/SS004_07212025_TroubleShooting/SS004_10min_100nM_7',\n",
    "    local_location = None,\n",
    "    data_loader = 'pycromanager_data_loader'\n",
    "    )\n"
   ]
  },
  {
   "cell_type": "code",
   "execution_count": null,
   "id": "ed336622",
   "metadata": {},
   "outputs": [],
   "source": [
    "dd = download_data(receipt, 'download_data')\n",
    "receipt = dd.process()"
   ]
  },
  {
   "cell_type": "code",
   "execution_count": null,
   "id": "18a91c78",
   "metadata": {},
   "outputs": [],
   "source": [
    "receipt['meta_arguments']"
   ]
  },
  {
   "cell_type": "code",
   "execution_count": null,
   "id": "c5091179",
   "metadata": {},
   "outputs": [],
   "source": [
    "receipt['steps']"
   ]
  },
  {
   "cell_type": "code",
   "execution_count": null,
   "id": "0f1d653a",
   "metadata": {},
   "outputs": [],
   "source": [
    "receipt['step_order']"
   ]
  },
  {
   "cell_type": "code",
   "execution_count": null,
   "id": "fe14aaf5",
   "metadata": {},
   "outputs": [],
   "source": [
    "data = load_data(receipt)"
   ]
  },
  {
   "cell_type": "code",
   "execution_count": null,
   "id": "c31902c2",
   "metadata": {},
   "outputs": [],
   "source": [
    "data"
   ]
  },
  {
   "cell_type": "code",
   "execution_count": null,
   "id": "330e41d7",
   "metadata": {},
   "outputs": [],
   "source": [
    "receipt['steps']"
   ]
  },
  {
   "cell_type": "code",
   "execution_count": null,
   "id": "84f8f3f1",
   "metadata": {},
   "outputs": [],
   "source": [
    "nuc_seg = segment(receipt, 'segment_nuc')\n",
    "receipt = nuc_seg.process(new_params={'mask_name': 'nuc_masks', 'channel': 2, 'pretrained_model_name': 'DAPI_nuclei'})\n"
   ]
  },
  {
   "cell_type": "code",
   "execution_count": null,
   "id": "2d8bbef4",
   "metadata": {},
   "outputs": [],
   "source": [
    "cyto_seg = segment(receipt, 'segment_cyto')\n",
    "receipt = cyto_seg.process(new_params={'mask_name': 'cyto_masks', 'channel': 0, 'pretrained_model_name': 'GAPDH_cyto'})\n"
   ]
  },
  {
   "cell_type": "code",
   "execution_count": null,
   "id": "f0c35c81",
   "metadata": {},
   "outputs": [],
   "source": [
    "receipt"
   ]
  },
  {
   "cell_type": "code",
   "execution_count": null,
   "id": "036d44f6",
   "metadata": {},
   "outputs": [],
   "source": [
    "receipt.save('new_pipeline.json')"
   ]
  },
  {
   "cell_type": "code",
   "execution_count": null,
   "id": "c824d788",
   "metadata": {},
   "outputs": [],
   "source": [
    "receipt = detect_spots(receipt)"
   ]
  },
  {
   "cell_type": "code",
   "execution_count": null,
   "id": "37399843",
   "metadata": {},
   "outputs": [],
   "source": [
    "receipt = get_cell_properties(receipt)"
   ]
  },
  {
   "cell_type": "code",
   "execution_count": null,
   "id": "9d5b5294",
   "metadata": {},
   "outputs": [],
   "source": [
    "receipt = return_data(receipt)"
   ]
  },
  {
   "cell_type": "code",
   "execution_count": null,
   "id": "28bf6eb2",
   "metadata": {},
   "outputs": [],
   "source": [
    "receipt = clear_local_data(receipt)"
   ]
  },
  {
   "cell_type": "code",
   "execution_count": null,
   "id": "9c05c34b",
   "metadata": {},
   "outputs": [],
   "source": [
    "save(receipt)"
   ]
  }
 ],
 "metadata": {
  "kernelspec": {
   "display_name": ".venv",
   "language": "python",
   "name": "python3"
  },
  "language_info": {
   "codemirror_mode": {
    "name": "ipython",
    "version": 3
   },
   "file_extension": ".py",
   "mimetype": "text/x-python",
   "name": "python",
   "nbconvert_exporter": "python",
   "pygments_lexer": "ipython3",
   "version": "3.12.3"
  }
 },
 "nbformat": 4,
 "nbformat_minor": 5
}
