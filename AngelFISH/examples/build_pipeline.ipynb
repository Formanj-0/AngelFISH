{
 "cells": [
  {
   "cell_type": "code",
   "execution_count": null,
   "id": "c5e6ea2c",
   "metadata": {},
   "outputs": [],
   "source": [
    "import matplotlib.pyplot as plt\n",
    "import sys\n",
    "sys.path.append('..')\n",
    "\n",
    "from src import Receipt, load_data\n",
    "from src.steps import download_data, segment, detect_spots, get_cell_properties, return_data, clear_local_data"
   ]
  },
  {
   "cell_type": "code",
   "execution_count": null,
   "id": "18fbb8e8",
   "metadata": {},
   "outputs": [],
   "source": [
    "receipt = Receipt(\n",
    "    analysis_name = 'default_name',\n",
    "    nas_location = r'Users/Jack/_ImageDatasets/Sia/SS004_07212025_TroubleShooting/SS004_10min_100nM_7',\n",
    "    local_location = None,\n",
    "    data_loader = 'pycromanager_data_loader'\n",
    "    )\n"
   ]
  },
  {
   "cell_type": "code",
   "execution_count": null,
   "id": "ed336622",
   "metadata": {},
   "outputs": [],
   "source": [
    "dd = download_data(receipt, 'download_data')\n",
    "receipt = dd.process()"
   ]
  },
  {
   "cell_type": "code",
   "execution_count": null,
   "id": "84f8f3f1",
   "metadata": {},
   "outputs": [],
   "source": [
    "nuc_seg = segment(receipt, 'segment_nuc')\n",
    "receipt = nuc_seg.process(new_params={'mask_name': 'nuc_masks', \n",
    "                                      'channel': 2, \n",
    "                                      'pretrained_model_name': 'DAPI_nuclei'})\n"
   ]
  },
  {
   "cell_type": "code",
   "execution_count": null,
   "id": "2d8bbef4",
   "metadata": {},
   "outputs": [],
   "source": [
    "cyto_seg = segment(receipt, 'segment_cyto')\n",
    "receipt = cyto_seg.process(new_params={'mask_name': 'cyto_masks', \n",
    "                                       'channel': 0, \n",
    "                                       'pretrained_model_name': 'GAPDH_cyto'})\n"
   ]
  },
  {
   "cell_type": "code",
   "execution_count": null,
   "id": "c824d788",
   "metadata": {},
   "outputs": [],
   "source": [
    "dusp1_detection = detect_spots(receipt, 'detect_dusp1')\n",
    "receipt = dusp1_detection.process(new_params={'spot_name': 'dusp1', \n",
    "                                              'FISHChannel': 1, \n",
    "                                              'nucChannel': 2,\n",
    "                                              'voxel_size_yx': 130, \n",
    "                                              'voxel_size_z': 500, \n",
    "                                              'spot_yx': 130, \n",
    "                                              'spot_z': 500,\n",
    "                                              })"
   ]
  },
  {
   "cell_type": "code",
   "execution_count": null,
   "id": "37399843",
   "metadata": {},
   "outputs": [],
   "source": [
    "measure_cell_props = get_cell_properties(receipt, 'measure_cell_props')\n",
    "receipt = measure_cell_props.process()"
   ]
  },
  {
   "cell_type": "code",
   "execution_count": null,
   "id": "9d5b5294",
   "metadata": {},
   "outputs": [],
   "source": [
    "receipt = return_data(receipt, 'return_data').process()"
   ]
  },
  {
   "cell_type": "code",
   "execution_count": null,
   "id": "28bf6eb2",
   "metadata": {},
   "outputs": [],
   "source": [
    "# receipt = clear_local_data(receipt, 'clear_data').process() # this does not work because the process holds onto tiffs\n",
    "# we will do this seperately"
   ]
  },
  {
   "cell_type": "code",
   "execution_count": null,
   "id": "930b2a00",
   "metadata": {},
   "outputs": [],
   "source": [
    "receipt"
   ]
  },
  {
   "cell_type": "code",
   "execution_count": null,
   "id": "9c05c34b",
   "metadata": {},
   "outputs": [],
   "source": [
    "receipt.save('new_pipeline.json')"
   ]
  }
 ],
 "metadata": {
  "kernelspec": {
   "display_name": ".venv",
   "language": "python",
   "name": "python3"
  },
  "language_info": {
   "codemirror_mode": {
    "name": "ipython",
    "version": 3
   },
   "file_extension": ".py",
   "mimetype": "text/x-python",
   "name": "python",
   "nbconvert_exporter": "python",
   "pygments_lexer": "ipython3",
   "version": "3.12.3"
  }
 },
 "nbformat": 4,
 "nbformat_minor": 5
}
