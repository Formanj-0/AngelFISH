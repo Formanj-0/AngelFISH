{
 "cells": [
  {
   "cell_type": "code",
   "execution_count": 1,
   "id": "7e03f2a1",
   "metadata": {},
   "outputs": [],
   "source": [
    "import sys\n",
    "sys.path.append('..')\n",
    "\n",
    "from src import Receipt, load_data\n",
    "from src.steps import download_data, segment, get_task"
   ]
  },
  {
   "cell_type": "code",
   "execution_count": 2,
   "id": "472830d5",
   "metadata": {},
   "outputs": [],
   "source": [
    "receipt_path = r'C:\\Users\\formanj\\GitHub\\AngelFISH\\AngelFISH\\examples\\new_pipeline.json'\n",
    "receipt = Receipt(path=receipt_path)"
   ]
  },
  {
   "cell_type": "code",
   "execution_count": 3,
   "id": "9b8a6184",
   "metadata": {},
   "outputs": [],
   "source": [
    "task_class = get_task(receipt['steps'][receipt['step_order'][0]]['task_name'])"
   ]
  },
  {
   "cell_type": "code",
   "execution_count": 4,
   "id": "92717c71",
   "metadata": {},
   "outputs": [],
   "source": [
    "task = task_class(receipt, receipt['step_order'][0])"
   ]
  },
  {
   "cell_type": "code",
   "execution_count": 5,
   "id": "2bee6d99",
   "metadata": {},
   "outputs": [
    {
     "name": "stdout",
     "output_type": "stream",
     "text": [
      "Dataset opened                \n",
      "local file already exist\n"
     ]
    },
    {
     "data": {
      "text/plain": [
       "{'meta_arguments': {'nas_location': 'Users/Jack/_ImageDatasets/Sia/SS004_07212025_TroubleShooting/SS004_10min_100nM_7', 'local_location': 'c:\\\\Users\\\\formanj\\\\GitHub\\\\AngelFISH\\\\AngelFISH\\\\database\\\\SS004_10min_100nM_7', 'data_loader': 'pycromanager_data_loader', 'analysis_name': 'default_name'}, 'steps': {'download_data': {'task_name': <bound method download_data.task_name of <class 'src.steps.Download_Data.download_data'>>}, 'segment_nuc': {'task_name': 'segment', 'mask_name': 'nuc_masks', 'channel': 2, 'pretrained_model_name': 'DAPI_nuclei'}, 'segment_cyto': {'task_name': 'segment', 'mask_name': 'cyto_masks', 'channel': 0, 'pretrained_model_name': 'GAPDH_cyto'}}, 'step_order': ['download_data', 'segment_nuc', 'segment_cyto'], 'dirs': {'analysis_dir': 'c:\\\\Users\\\\formanj\\\\GitHub\\\\AngelFISH\\\\AngelFISH\\\\database\\\\SS004_10min_100nM_7\\\\default_name', 'results_dir': 'c:\\\\Users\\\\formanj\\\\GitHub\\\\AngelFISH\\\\AngelFISH\\\\database\\\\SS004_10min_100nM_7\\\\default_name\\\\results', 'status_dir': 'c:\\\\Users\\\\formanj\\\\GitHub\\\\AngelFISH\\\\AngelFISH\\\\database\\\\SS004_10min_100nM_7\\\\default_name\\\\status', 'masks_dir': 'c:\\\\Users\\\\formanj\\\\GitHub\\\\AngelFISH\\\\AngelFISH\\\\database\\\\SS004_10min_100nM_7\\\\masks'}}"
      ]
     },
     "execution_count": 5,
     "metadata": {},
     "output_type": "execute_result"
    }
   ],
   "source": [
    "task.process()"
   ]
  },
  {
   "cell_type": "code",
   "execution_count": 6,
   "id": "cf4a5702",
   "metadata": {},
   "outputs": [
    {
     "name": "stdout",
     "output_type": "stream",
     "text": [
      "Dataset opened                \n"
     ]
    },
    {
     "data": {
      "text/plain": [
       "{'meta_arguments': {'nas_location': 'Users/Jack/_ImageDatasets/Sia/SS004_07212025_TroubleShooting/SS004_10min_100nM_7', 'local_location': 'c:\\\\Users\\\\formanj\\\\GitHub\\\\AngelFISH\\\\AngelFISH\\\\database\\\\SS004_10min_100nM_7', 'data_loader': 'pycromanager_data_loader', 'analysis_name': 'default_name'}, 'steps': {'download_data': {'task_name': <bound method download_data.task_name of <class 'src.steps.Download_Data.download_data'>>}, 'segment_nuc': {'task_name': <bound method segment.task_name of <class 'src.steps.Segment.segment'>>, 'mask_name': 'nuc_masks', 'channel': 2, 'pretrained_model_name': 'DAPI_nuclei'}, 'segment_cyto': {'task_name': 'segment', 'mask_name': 'cyto_masks', 'channel': 0, 'pretrained_model_name': 'GAPDH_cyto'}}, 'step_order': ['download_data', 'segment_nuc', 'segment_cyto'], 'dirs': {'analysis_dir': 'c:\\\\Users\\\\formanj\\\\GitHub\\\\AngelFISH\\\\AngelFISH\\\\database\\\\SS004_10min_100nM_7\\\\default_name', 'results_dir': 'c:\\\\Users\\\\formanj\\\\GitHub\\\\AngelFISH\\\\AngelFISH\\\\database\\\\SS004_10min_100nM_7\\\\default_name\\\\results', 'status_dir': 'c:\\\\Users\\\\formanj\\\\GitHub\\\\AngelFISH\\\\AngelFISH\\\\database\\\\SS004_10min_100nM_7\\\\default_name\\\\status', 'masks_dir': 'c:\\\\Users\\\\formanj\\\\GitHub\\\\AngelFISH\\\\AngelFISH\\\\database\\\\SS004_10min_100nM_7\\\\masks'}}"
      ]
     },
     "execution_count": 6,
     "metadata": {},
     "output_type": "execute_result"
    }
   ],
   "source": [
    "i = 1\n",
    "task_class = get_task(receipt['steps'][receipt['step_order'][i]]['task_name'])\n",
    "task = task_class(receipt, receipt['step_order'][i])\n",
    "task.process()"
   ]
  },
  {
   "cell_type": "code",
   "execution_count": 7,
   "id": "b1ba5bdf",
   "metadata": {},
   "outputs": [
    {
     "name": "stdout",
     "output_type": "stream",
     "text": [
      "Dataset opened                \n"
     ]
    },
    {
     "data": {
      "text/plain": [
       "{'meta_arguments': {'nas_location': 'Users/Jack/_ImageDatasets/Sia/SS004_07212025_TroubleShooting/SS004_10min_100nM_7', 'local_location': 'c:\\\\Users\\\\formanj\\\\GitHub\\\\AngelFISH\\\\AngelFISH\\\\database\\\\SS004_10min_100nM_7', 'data_loader': 'pycromanager_data_loader', 'analysis_name': 'default_name'}, 'steps': {'download_data': {'task_name': <bound method download_data.task_name of <class 'src.steps.Download_Data.download_data'>>}, 'segment_nuc': {'task_name': <bound method segment.task_name of <class 'src.steps.Segment.segment'>>, 'mask_name': 'nuc_masks', 'channel': 2, 'pretrained_model_name': 'DAPI_nuclei'}, 'segment_cyto': {'task_name': <bound method segment.task_name of <class 'src.steps.Segment.segment'>>, 'mask_name': 'cyto_masks', 'channel': 0, 'pretrained_model_name': 'GAPDH_cyto'}}, 'step_order': ['download_data', 'segment_nuc', 'segment_cyto'], 'dirs': {'analysis_dir': 'c:\\\\Users\\\\formanj\\\\GitHub\\\\AngelFISH\\\\AngelFISH\\\\database\\\\SS004_10min_100nM_7\\\\default_name', 'results_dir': 'c:\\\\Users\\\\formanj\\\\GitHub\\\\AngelFISH\\\\AngelFISH\\\\database\\\\SS004_10min_100nM_7\\\\default_name\\\\results', 'status_dir': 'c:\\\\Users\\\\formanj\\\\GitHub\\\\AngelFISH\\\\AngelFISH\\\\database\\\\SS004_10min_100nM_7\\\\default_name\\\\status', 'masks_dir': 'c:\\\\Users\\\\formanj\\\\GitHub\\\\AngelFISH\\\\AngelFISH\\\\database\\\\SS004_10min_100nM_7\\\\masks'}}"
      ]
     },
     "execution_count": 7,
     "metadata": {},
     "output_type": "execute_result"
    }
   ],
   "source": [
    "i = 2\n",
    "task_class = get_task(receipt['steps'][receipt['step_order'][i]]['task_name'])\n",
    "task = task_class(receipt, receipt['step_order'][i])\n",
    "task.process()"
   ]
  }
 ],
 "metadata": {
  "kernelspec": {
   "display_name": ".venv",
   "language": "python",
   "name": "python3"
  },
  "language_info": {
   "codemirror_mode": {
    "name": "ipython",
    "version": 3
   },
   "file_extension": ".py",
   "mimetype": "text/x-python",
   "name": "python",
   "nbconvert_exporter": "python",
   "pygments_lexer": "ipython3",
   "version": "3.12.3"
  }
 },
 "nbformat": 4,
 "nbformat_minor": 5
}
