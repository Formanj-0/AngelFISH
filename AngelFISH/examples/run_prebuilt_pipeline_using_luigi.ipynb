{
 "cells": [
  {
   "cell_type": "code",
   "execution_count": null,
   "id": "7e03f2a1",
   "metadata": {},
   "outputs": [],
   "source": [
    "import sys\n",
    "sys.path.append('..')\n",
    "\n",
    "import sciluigi as sl\n",
    "\n",
    "from src import Receipt, load_data\n",
    "from src.steps import download_data, segment, get_task"
   ]
  },
  {
   "cell_type": "code",
   "execution_count": null,
   "id": "b2260fda",
   "metadata": {},
   "outputs": [],
   "source": [
    "receipt_path = r'C:\\Users\\formanj\\GitHub\\AngelFISH\\AngelFISH\\examples\\new_pipeline.json'\n",
    "receipt = Receipt(path=receipt_path)"
   ]
  },
  {
   "cell_type": "code",
   "execution_count": null,
   "id": "d4bee929",
   "metadata": {},
   "outputs": [],
   "source": [
    "class AngelFISHLuigiTask(sl.ExternalTask):\n",
    "    receipt_path = sl.Parameter()\n",
    "    step_name = sl.Parameter()\n",
    "\n",
    "    def out_doneflag(self):\n",
    "        return sl.TargetInfo(self, f'tmp/flags/{self.step_name}.done')\n",
    "\n",
    "    def run(self):\n",
    "        receipt = Receipt(path=self.receipt_path)\n",
    "        task_class = get_task(receipt['steps'][self.step_name]['task_name'])\n",
    "        task = task_class(receipt, self.step_name)\n",
    "        task.process()\n",
    "\n",
    "        # Create done flag to satisfy Luigi\n",
    "        with open(self.out_doneflag().path, 'w') as f:\n",
    "            f.write('done')"
   ]
  },
  {
   "cell_type": "code",
   "execution_count": null,
   "id": "87eb3437",
   "metadata": {},
   "outputs": [],
   "source": [
    "class AngelFISHWorkflow(sl.WorkflowTask):\n",
    "    receipt_path = sl.Parameter()\n",
    "\n",
    "    def workflow(self):\n",
    "        receipt = Receipt(path=self.receipt_path)\n",
    "        step_order = receipt['step_order']\n",
    "\n",
    "        previous_task = None\n",
    "        task_refs = []\n",
    "\n",
    "        for step_name in step_order:\n",
    "            step_task = sl.new_task(\n",
    "                step_name,\n",
    "                AngelFISHLuigiTask,\n",
    "                self,\n",
    "                receipt_path=self.receipt_path,\n",
    "                step_name=step_name\n",
    "            )\n",
    "\n",
    "            if previous_task:\n",
    "                # create dependency chain\n",
    "                step_task.in_upstream = previous_task.out_doneflag\n",
    "\n",
    "            previous_task = step_task\n",
    "            task_refs.append(step_task)\n",
    "\n",
    "        # Return the final task so Luigi knows when the workflow is \"done\"\n",
    "        return task_refs[-1]"
   ]
  }
 ],
 "metadata": {
  "kernelspec": {
   "display_name": ".venv",
   "language": "python",
   "name": "python3"
  },
  "language_info": {
   "codemirror_mode": {
    "name": "ipython",
    "version": 3
   },
   "file_extension": ".py",
   "mimetype": "text/x-python",
   "name": "python",
   "nbconvert_exporter": "python",
   "pygments_lexer": "ipython3",
   "version": "3.12.3"
  }
 },
 "nbformat": 4,
 "nbformat_minor": 5
}
