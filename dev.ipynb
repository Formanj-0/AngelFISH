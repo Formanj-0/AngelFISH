{
 "cells": [
  {
   "cell_type": "code",
   "execution_count": null,
   "id": "28702a39",
   "metadata": {},
   "outputs": [],
   "source": [
    "import matplotlib.pyplot as plt\n",
    "import sys\n",
    "import logging\n",
    "sys.path.append('..')\n",
    "logging.getLogger().setLevel(logging.WARNING)\n",
    "logging.getLogger('napari').setLevel(logging.WARNING)\n",
    "logging.getLogger('in_n_out').setLevel(logging.WARNING)\n",
    "logging.getLogger('numcodecs').setLevel(logging.WARNING)\n",
    "logging.getLogger('numba').setLevel(logging.WARNING)\n",
    "\n",
    "from src import Receipt, load_data\n",
    "from src.steps import download_data, segment, detect_spots, get_cell_properties, return_data, clear_local_data, match_masks, reconcile_data"
   ]
  },
  {
   "cell_type": "code",
   "execution_count": null,
   "id": "d3c95194",
   "metadata": {},
   "outputs": [],
   "source": [
    "path = r'C:\\Users\\Jack\\Documents\\GitHub\\AngelFISH\\Publications\\IntronDiffusion\\FirstAttempt.json'\n",
    "receipt = Receipt(path=path)\n",
    "# reconcile_data(receipt, 'reconcile_data', {'spot_key': 'introns_spotresults_filtered', 'cell_key': 'cellproperties'})"
   ]
  },
  {
   "cell_type": "code",
   "execution_count": null,
   "id": "b510feb4",
   "metadata": {},
   "outputs": [],
   "source": [
    "receipt = detect_spots(receipt, 'detect_dusp1').process({'display_plots': True})"
   ]
  },
  {
   "cell_type": "code",
   "execution_count": null,
   "id": "046b429e",
   "metadata": {},
   "outputs": [],
   "source": [
    "receipt['step_order']"
   ]
  },
  {
   "cell_type": "code",
   "execution_count": null,
   "id": "420105fc",
   "metadata": {},
   "outputs": [],
   "source": []
  }
 ],
 "metadata": {
  "kernelspec": {
   "display_name": ".venv",
   "language": "python",
   "name": "python3"
  },
  "language_info": {
   "codemirror_mode": {
    "name": "ipython",
    "version": 3
   },
   "file_extension": ".py",
   "mimetype": "text/x-python",
   "name": "python",
   "nbconvert_exporter": "python",
   "pygments_lexer": "ipython3",
   "version": "3.12.5"
  }
 },
 "nbformat": 4,
 "nbformat_minor": 5
}
