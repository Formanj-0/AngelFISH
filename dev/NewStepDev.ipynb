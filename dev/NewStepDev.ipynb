{
 "cells": [
  {
   "cell_type": "code",
   "execution_count": 1,
   "metadata": {},
   "outputs": [
    {
     "name": "stdout",
     "output_type": "stream",
     "text": [
      "CUDA available: True\n",
      "Number of GPUs available: 2\n",
      "GPU 0: NVIDIA GeForce RTX 2070\n",
      "GPU 1: NVIDIA GeForce RTX 2070\n",
      "GPU 0 memory allocated: 0.00 GB\n",
      "GPU 0 memory reserved: 0.00 GB\n",
      "GPU 1 memory allocated: 0.00 GB\n",
      "GPU 1 memory reserved: 0.00 GB\n"
     ]
    }
   ],
   "source": [
    "import torch\n",
    "# Check if CUDA is available\n",
    "cuda_available = torch.cuda.is_available()\n",
    "print(f\"CUDA available: {cuda_available}\")\n",
    "\n",
    "if cuda_available:\n",
    "    # Get the number of GPUs available\n",
    "    num_gpus = torch.cuda.device_count()\n",
    "    print(f\"Number of GPUs available: {num_gpus}\")\n",
    "\n",
    "    # Get the name of each GPU\n",
    "    for i in range(num_gpus):\n",
    "        gpu_name = torch.cuda.get_device_name(i)\n",
    "        print(f\"GPU {i}: {gpu_name}\")\n",
    "\n",
    "    # Get the current GPU memory usage\n",
    "    for i in range(num_gpus):\n",
    "        gpu_memory_allocated = torch.cuda.memory_allocated(i)\n",
    "        gpu_memory_reserved = torch.cuda.memory_reserved(i)\n",
    "        print(f\"GPU {i} memory allocated: {gpu_memory_allocated / (1024 ** 3):.2f} GB\")\n",
    "        print(f\"GPU {i} memory reserved: {gpu_memory_reserved / (1024 ** 3):.2f} GB\")\n",
    "else:\n",
    "    print(\"CUDA is not available.\")"
   ]
  },
  {
   "cell_type": "code",
   "execution_count": 2,
   "metadata": {},
   "outputs": [
    {
     "name": "stderr",
     "output_type": "stream",
     "text": [
      "INFO:numexpr.utils:Note: NumExpr detected 32 cores but \"NUMEXPR_MAX_THREADS\" not set, so enforcing safe limit of 16.\n",
      "INFO:numexpr.utils:NumExpr defaulting to 16 threads.\n",
      "DEBUG:h5py._conv:Creating converter from 7 to 5\n",
      "DEBUG:h5py._conv:Creating converter from 5 to 7\n",
      "DEBUG:h5py._conv:Creating converter from 7 to 5\n",
      "DEBUG:h5py._conv:Creating converter from 5 to 7\n"
     ]
    }
   ],
   "source": [
    "import sys\n",
    "import os\n",
    "import pickle\n",
    "import logging\n",
    "import numba\n",
    "import matplotlib\n",
    "import matplotlib.pyplot as plt\n",
    "logging.getLogger('matplotlib.font_manager').disabled = True\n",
    "numba_logger = logging.getLogger('numba')\n",
    "numba_logger.setLevel(logging.WARNING)\n",
    "\n",
    "matplotlib_logger = logging.getLogger('matplotlib')\n",
    "matplotlib_logger.setLevel(logging.WARNING)\n",
    "\n",
    "# Add the src directory to sys.path\n",
    "src_path = os.path.abspath(os.path.join(os.getcwd(), '..'))\n",
    "sys.path.append(src_path)\n",
    "\n",
    "from src.IndependentSteps import Pycromanager2H5, FFF2H5, DownloadData, Pycro\n",
    "\n",
    "from src.SequentialSteps import BIGFISH_SpotDetection, SimpleCellposeSegmentaion, CellProperties, DilationedCytoMask ,\\\n",
    "                                    DisplaySequentialParams, IlluminationCorrection, Calculate_BIGFISH_Threshold, rescale_images,\\\n",
    "                                    Automatic_BIGFISH_Threshold\n",
    "\n",
    "from src.FinalizationSteps import Save_Outputs, Save_Images, Save_Parameters, Save_Masks, return_to_NAS, remove_local_data_but_keep_h5, save_copy, remove_local_data\n",
    "\n",
    "from src.Parameters import Parameters, Experiment, Settings, ScopeClass, DataContainer\n",
    "\n",
    "from src.Displays import Display\n",
    "\n",
    "from src.GUI import GUI, StepGUI\n",
    "\n",
    "from src.Pipeline import Pipeline"
   ]
  },
  {
   "cell_type": "code",
   "execution_count": 3,
   "metadata": {},
   "outputs": [],
   "source": [
    "scope = ScopeClass() \n",
    "data = DataContainer(clear_after_error=True)\n",
    "settings = Settings(name='demo')\n",
    "experiment = Experiment()"
   ]
  },
  {
   "cell_type": "code",
   "execution_count": null,
   "metadata": {},
   "outputs": [
    {
     "data": {
      "text/plain": [
       "{'state': 'global',\n",
       " 'instances': [],\n",
       " 'voxel_size_yx': 100,\n",
       " 'spot_z': 360,\n",
       " 'spot_yx': 130,\n",
       " 'init': True,\n",
       " 'local_dataset_location': ['C:\\\\Users\\\\formanj\\\\GitHub\\\\AngelFISH\\\\dataBases\\\\rep1_1hr_tilingManyFOVs_1'],\n",
       " 'total_num_chunks': None,\n",
       " 'images': None,\n",
       " 'masks': None,\n",
       " 'temp': None,\n",
       " 'clear_after_error': True,\n",
       " 'mask_locations': None,\n",
       " 'image_locations': None,\n",
       " 'name': 'demo',\n",
       " 'return_data_to_NAS': True,\n",
       " 'NUMBER_OF_CORES': 4,\n",
       " 'save_files': True,\n",
       " 'num_chunks_to_run': 5,\n",
       " 'connection_config_location': 'c:\\\\Users\\\\formanj\\\\GitHub\\\\AngelFISH\\\\config_nas.yml',\n",
       " 'display_plots': True,\n",
       " 'load_in_mask': False,\n",
       " 'mask_structure': {'masks': ('ptczyx', None, None),\n",
       "  'cell_mask': ('zyx', 'cytoChannel', 'masks'),\n",
       "  'nuc_mask': ('zyx', 'nucChannel', 'masks')},\n",
       " 'order': 'pt',\n",
       " 'share_name': 'share',\n",
       " 'log_location': 'Users\\\\Jack\\\\All_Analysis',\n",
       " 'sigma_dict': {0: 50, 1: 100, 2: 100},\n",
       " 'initial_data_location': ['Users/Jack/06172024_HeLa_DexPulse_10nM/rep1_1hr_tilingManyFOVs_1'],\n",
       " 'index_dict': None,\n",
       " 'nucChannel': 0,\n",
       " 'cytoChannel': None,\n",
       " 'FISHChannel': None,\n",
       " 'voxel_size_z': 500,\n",
       " 'independent_params': [{}],\n",
       " 'timestep_s': None}"
      ]
     },
     "execution_count": 4,
     "metadata": {},
     "output_type": "execute_result"
    }
   ],
   "source": [
    "# you can change the parameters\n",
    "experiment.initial_data_location = ['Users/Jack/06172024_HeLa_DexPulse_10nM/rep1_1hr_tilingManyFOVs_1']\n",
    "                                    # 'smFISH_images/Eric_smFISH_images/20220225/DUSP1_Dex_10min_20220224']\n",
    "\n",
    "# data.local_dataset_location = [r'C:\\Users\\formanj\\GitHub\\AngelFISH\\dataBases\\rep1_1hr_tilingManyFOVs_1']\n",
    "\n",
    "experiment.FISHChannel = None\n",
    "experiment.nucChannel = 0\n",
    "experiment.cytoChannel = None\n",
    "experiment.voxel_size_z = 500\n",
    "\n",
    "settings.num_chunks_to_run = 5 # this is the limit to how many chunks you want to run and it will stop after that\n",
    "# settings.psuedoCyto = 1\n",
    "settings.sigma_dict = {0: 50, 1: 100, 2: 100}\n",
    "\n",
    "scope.spot_yx = 130\n",
    "scope.spot_z = 360\n",
    "scope.voxel_size_yx = 100\n",
    "\n",
    "Parameters().get_parameters()"
   ]
  },
  {
   "cell_type": "code",
   "execution_count": 5,
   "metadata": {},
   "outputs": [
    {
     "name": "stdout",
     "output_type": "stream",
     "text": [
      "cytoChannel not set\n",
      "FISHChannel not set\n"
     ]
    }
   ],
   "source": [
    "Parameters.validate()"
   ]
  },
  {
   "cell_type": "code",
   "execution_count": null,
   "metadata": {},
   "outputs": [],
   "source": [
    "DownloadData().run()"
   ]
  },
  {
   "cell_type": "code",
   "execution_count": 7,
   "metadata": {},
   "outputs": [
    {
     "name": "stdout",
     "output_type": "stream",
     "text": [
      "An error occurred. Temp data deleted.\n"
     ]
    },
    {
     "name": "stderr",
     "output_type": "stream",
     "text": [
      "Traceback (most recent call last):\n",
      "  File \"c:\\Users\\formanj\\GitHub\\AngelFISH\\src\\GeneralStep.py\", line 17, in wrapper\n",
      "    return func(*args, **kwargs)\n",
      "           ^^^^^^^^^^^^^^^^^^^^^\n",
      "  File \"c:\\Users\\formanj\\GitHub\\AngelFISH\\src\\GeneralStep.py\", line 162, in run\n",
      "    results = self.main(**kwargs)\n",
      "             ^^^^^^^^^^^^^^^^^^^\n",
      "  File \"c:\\Users\\formanj\\GitHub\\AngelFISH\\src\\IndependentSteps\\DataTypeBridges.py\", line 110, in main\n",
      "    images, masks, ip, position_indexs, mask_locations = self.load_in_dataset(local_dataset_location,\n",
      "                                                         ^^^^^^^^^^^^^^^^^^^^^^^^^^^^^^^^^^^^^^^^^^^^\n",
      "  File \"c:\\Users\\formanj\\GitHub\\AngelFISH\\src\\IndependentSteps\\DataTypeBridges.py\", line 128, in load_in_dataset\n",
      "    dss = [Dataset(location) for location in locations]\n",
      "           ^^^^^^^^^^^^^^^^^\n",
      "  File \"c:\\Users\\formanj\\GitHub\\AngelFISH\\.venv\\Lib\\site-packages\\ndtiff\\_superclass.py\", line 28, in __new__\n",
      "    dI for dI in file_io.listdir(dataset_path) if file_io.isdir(file_io.path_join(dataset_path, dI))\n",
      "                 ^^^^^^^^^^^^^^^^^^^^^^^^^^^^^\n",
      "FileNotFoundError: [WinError 3] The system cannot find the path specified: 'C:\\\\Users\\\\formanj\\\\GitHub\\\\AngelFISH\\\\dataBases\\\\rep1_1hr_tilingManyFOVs_1'\n"
     ]
    },
    {
     "ename": "FileNotFoundError",
     "evalue": "[WinError 3] The system cannot find the path specified: 'C:\\\\Users\\\\formanj\\\\GitHub\\\\AngelFISH\\\\dataBases\\\\rep1_1hr_tilingManyFOVs_1'",
     "output_type": "error",
     "traceback": [
      "\u001b[1;31m---------------------------------------------------------------------------\u001b[0m",
      "\u001b[1;31mFileNotFoundError\u001b[0m                         Traceback (most recent call last)",
      "Cell \u001b[1;32mIn[7], line 2\u001b[0m\n\u001b[0;32m      1\u001b[0m settings\u001b[38;5;241m.\u001b[39mload_in_mask \u001b[38;5;241m=\u001b[39m \u001b[38;5;28;01mTrue\u001b[39;00m\n\u001b[1;32m----> 2\u001b[0m \u001b[43mPycro\u001b[49m\u001b[43m(\u001b[49m\u001b[43m)\u001b[49m\u001b[38;5;241;43m.\u001b[39;49m\u001b[43mrun\u001b[49m\u001b[43m(\u001b[49m\u001b[43m)\u001b[49m\n",
      "File \u001b[1;32mc:\\Users\\formanj\\GitHub\\AngelFISH\\src\\GeneralStep.py:23\u001b[0m, in \u001b[0;36mhandle_errors.<locals>.wrapper\u001b[1;34m(*args, **kwargs)\u001b[0m\n\u001b[0;32m     21\u001b[0m     \u001b[38;5;28mprint\u001b[39m(\u001b[38;5;124m\"\u001b[39m\u001b[38;5;124mAn error occurred. Temp data deleted.\u001b[39m\u001b[38;5;124m\"\u001b[39m)\n\u001b[0;32m     22\u001b[0m traceback\u001b[38;5;241m.\u001b[39mprint_exc()\n\u001b[1;32m---> 23\u001b[0m \u001b[38;5;28;01mraise\u001b[39;00m e\n",
      "File \u001b[1;32mc:\\Users\\formanj\\GitHub\\AngelFISH\\src\\GeneralStep.py:17\u001b[0m, in \u001b[0;36mhandle_errors.<locals>.wrapper\u001b[1;34m(*args, **kwargs)\u001b[0m\n\u001b[0;32m     14\u001b[0m \u001b[38;5;129m@wraps\u001b[39m(func)\n\u001b[0;32m     15\u001b[0m \u001b[38;5;28;01mdef\u001b[39;00m \u001b[38;5;21mwrapper\u001b[39m(\u001b[38;5;241m*\u001b[39margs, \u001b[38;5;241m*\u001b[39m\u001b[38;5;241m*\u001b[39mkwargs):\n\u001b[0;32m     16\u001b[0m     \u001b[38;5;28;01mtry\u001b[39;00m:\n\u001b[1;32m---> 17\u001b[0m         \u001b[38;5;28;01mreturn\u001b[39;00m \u001b[43mfunc\u001b[49m\u001b[43m(\u001b[49m\u001b[38;5;241;43m*\u001b[39;49m\u001b[43margs\u001b[49m\u001b[43m,\u001b[49m\u001b[43m \u001b[49m\u001b[38;5;241;43m*\u001b[39;49m\u001b[38;5;241;43m*\u001b[39;49m\u001b[43mkwargs\u001b[49m\u001b[43m)\u001b[49m\n\u001b[0;32m     18\u001b[0m     \u001b[38;5;28;01mexcept\u001b[39;00m \u001b[38;5;167;01mException\u001b[39;00m \u001b[38;5;28;01mas\u001b[39;00m e:\n\u001b[0;32m     19\u001b[0m         \u001b[38;5;28;01mif\u001b[39;00m DataContainer()\u001b[38;5;241m.\u001b[39mclear_after_error:\n",
      "File \u001b[1;32mc:\\Users\\formanj\\GitHub\\AngelFISH\\src\\GeneralStep.py:162\u001b[0m, in \u001b[0;36mStepClass.run\u001b[1;34m(self, p, t, data_container, parameters)\u001b[0m\n\u001b[0;32m    160\u001b[0m parameters \u001b[38;5;241m=\u001b[39m Parameters() \u001b[38;5;28;01mif\u001b[39;00m parameters \u001b[38;5;129;01mis\u001b[39;00m \u001b[38;5;28;01mNone\u001b[39;00m \u001b[38;5;28;01melse\u001b[39;00m parameters\n\u001b[0;32m    161\u001b[0m kwargs \u001b[38;5;241m=\u001b[39m \u001b[38;5;28mself\u001b[39m\u001b[38;5;241m.\u001b[39mload_in_parameters(p, t, parameters)\n\u001b[1;32m--> 162\u001b[0m results \u001b[38;5;241m=\u001b[39m \u001b[38;5;28;43mself\u001b[39;49m\u001b[38;5;241;43m.\u001b[39;49m\u001b[43mmain\u001b[49m\u001b[43m(\u001b[49m\u001b[38;5;241;43m*\u001b[39;49m\u001b[38;5;241;43m*\u001b[39;49m\u001b[43mkwargs\u001b[49m\u001b[43m)\u001b[49m \n\u001b[0;32m    163\u001b[0m data_container\u001b[38;5;241m.\u001b[39msave_results(results, p, t, parameters)\n\u001b[0;32m    164\u001b[0m data_container\u001b[38;5;241m.\u001b[39mload_temp_data()\n",
      "File \u001b[1;32mc:\\Users\\formanj\\GitHub\\AngelFISH\\src\\IndependentSteps\\DataTypeBridges.py:110\u001b[0m, in \u001b[0;36mDataTypeBridge_Dataset.main\u001b[1;34m(self, load_in_mask, initial_data_location, independent_params, local_dataset_location, **kwargs)\u001b[0m\n\u001b[0;32m    107\u001b[0m     local_dataset_location[i] \u001b[38;5;241m=\u001b[39m \u001b[38;5;28mself\u001b[39m\u001b[38;5;241m.\u001b[39mconvert_data(location)\n\u001b[0;32m    109\u001b[0m \u001b[38;5;66;03m# Load in H5 and build independent param\u001b[39;00m\n\u001b[1;32m--> 110\u001b[0m images, masks, ip, position_indexs, mask_locations \u001b[38;5;241m=\u001b[39m \u001b[38;5;28;43mself\u001b[39;49m\u001b[38;5;241;43m.\u001b[39;49m\u001b[43mload_in_dataset\u001b[49m\u001b[43m(\u001b[49m\u001b[43mlocal_dataset_location\u001b[49m\u001b[43m,\u001b[49m\n\u001b[0;32m    111\u001b[0m \u001b[43m                                                                            \u001b[49m\u001b[43minitial_data_location\u001b[49m\u001b[43m,\u001b[49m\n\u001b[0;32m    112\u001b[0m \u001b[43m                                                                                \u001b[49m\u001b[43mload_in_mask\u001b[49m\u001b[43m,\u001b[49m\u001b[43m \u001b[49m\n\u001b[0;32m    113\u001b[0m \u001b[43m                                                                                \u001b[49m\u001b[43mindependent_params\u001b[49m\u001b[43m)\u001b[49m\n\u001b[0;32m    114\u001b[0m \u001b[38;5;28;01mreturn\u001b[39;00m {\u001b[38;5;124m'\u001b[39m\u001b[38;5;124mimages\u001b[39m\u001b[38;5;124m'\u001b[39m: images,\n\u001b[0;32m    115\u001b[0m         \u001b[38;5;124m'\u001b[39m\u001b[38;5;124mindependent_params\u001b[39m\u001b[38;5;124m'\u001b[39m: ip, \u001b[38;5;124m'\u001b[39m\u001b[38;5;124mposition_indexs\u001b[39m\u001b[38;5;124m'\u001b[39m: position_indexs,\\\n\u001b[0;32m    116\u001b[0m         \u001b[38;5;124m'\u001b[39m\u001b[38;5;124mmasks\u001b[39m\u001b[38;5;124m'\u001b[39m: masks, \u001b[38;5;124m'\u001b[39m\u001b[38;5;124mmask_locations\u001b[39m\u001b[38;5;124m'\u001b[39m: mask_locations, \u001b[38;5;124m'\u001b[39m\u001b[38;5;124mimage_locations\u001b[39m\u001b[38;5;124m'\u001b[39m: local_dataset_location}\n",
      "File \u001b[1;32mc:\\Users\\formanj\\GitHub\\AngelFISH\\src\\IndependentSteps\\DataTypeBridges.py:128\u001b[0m, in \u001b[0;36mDataTypeBridge_Dataset.load_in_dataset\u001b[1;34m(self, locations, nas_location, load_in_mask, independent_params)\u001b[0m\n\u001b[0;32m    124\u001b[0m \u001b[38;5;28;01mdef\u001b[39;00m \u001b[38;5;21mload_in_dataset\u001b[39m(\u001b[38;5;28mself\u001b[39m, locations, nas_location, load_in_mask, independent_params) \u001b[38;5;241m-\u001b[39m\u001b[38;5;241m>\u001b[39m DataContainer:\n\u001b[0;32m    125\u001b[0m     \u001b[38;5;66;03m# given an h5 file this will load in the dat in a uniform manner\u001b[39;00m\n\u001b[0;32m    126\u001b[0m     position_indexs \u001b[38;5;241m=\u001b[39m []\n\u001b[1;32m--> 128\u001b[0m     dss \u001b[38;5;241m=\u001b[39m [\u001b[43mDataset\u001b[49m\u001b[43m(\u001b[49m\u001b[43mlocation\u001b[49m\u001b[43m)\u001b[49m \u001b[38;5;28;01mfor\u001b[39;00m location \u001b[38;5;129;01min\u001b[39;00m locations]\n\u001b[0;32m    129\u001b[0m     \u001b[38;5;66;03m# TODO: check if another file is already opening the h5 file\u001b[39;00m\n\u001b[0;32m    131\u001b[0m     images \u001b[38;5;241m=\u001b[39m [ds\u001b[38;5;241m.\u001b[39mas_array([\u001b[38;5;124m'\u001b[39m\u001b[38;5;124mposition\u001b[39m\u001b[38;5;124m'\u001b[39m, \u001b[38;5;124m'\u001b[39m\u001b[38;5;124mtime\u001b[39m\u001b[38;5;124m'\u001b[39m, \u001b[38;5;124m'\u001b[39m\u001b[38;5;124mchannel\u001b[39m\u001b[38;5;124m'\u001b[39m,\u001b[38;5;124m'\u001b[39m\u001b[38;5;124mz\u001b[39m\u001b[38;5;124m'\u001b[39m]) \u001b[38;5;28;01mfor\u001b[39;00m ds \u001b[38;5;129;01min\u001b[39;00m dss]\n",
      "File \u001b[1;32mc:\\Users\\formanj\\GitHub\\AngelFISH\\.venv\\Lib\\site-packages\\ndtiff\\_superclass.py:28\u001b[0m, in \u001b[0;36mDataset.__new__\u001b[1;34m(cls, dataset_path, file_io, summary_metadata)\u001b[0m\n\u001b[0;32m     24\u001b[0m     \u001b[38;5;28;01mreturn\u001b[39;00m obj\n\u001b[0;32m     26\u001b[0m \u001b[38;5;66;03m# Search for Full resolution dir, check for index\u001b[39;00m\n\u001b[0;32m     27\u001b[0m res_dirs \u001b[38;5;241m=\u001b[39m [\n\u001b[1;32m---> 28\u001b[0m     dI \u001b[38;5;28;01mfor\u001b[39;00m dI \u001b[38;5;129;01min\u001b[39;00m \u001b[43mfile_io\u001b[49m\u001b[38;5;241;43m.\u001b[39;49m\u001b[43mlistdir\u001b[49m\u001b[43m(\u001b[49m\u001b[43mdataset_path\u001b[49m\u001b[43m)\u001b[49m \u001b[38;5;28;01mif\u001b[39;00m file_io\u001b[38;5;241m.\u001b[39misdir(file_io\u001b[38;5;241m.\u001b[39mpath_join(dataset_path, dI))\n\u001b[0;32m     29\u001b[0m ]\n\u001b[0;32m     30\u001b[0m \u001b[38;5;28;01mif\u001b[39;00m \u001b[38;5;124m\"\u001b[39m\u001b[38;5;124mFull resolution\u001b[39m\u001b[38;5;124m\"\u001b[39m \u001b[38;5;129;01mnot\u001b[39;00m \u001b[38;5;129;01min\u001b[39;00m res_dirs:\n\u001b[0;32m     31\u001b[0m     \u001b[38;5;66;03m# Full resolution was removed ND Tiff starting in V3 for non-stitched\u001b[39;00m\n\u001b[0;32m     32\u001b[0m     fullres_path \u001b[38;5;241m=\u001b[39m dataset_path\n",
      "\u001b[1;31mFileNotFoundError\u001b[0m: [WinError 3] The system cannot find the path specified: 'C:\\\\Users\\\\formanj\\\\GitHub\\\\AngelFISH\\\\dataBases\\\\rep1_1hr_tilingManyFOVs_1'"
     ]
    }
   ],
   "source": [
    "settings.load_in_mask = True\n",
    "Pycro().run()"
   ]
  },
  {
   "cell_type": "code",
   "execution_count": null,
   "metadata": {},
   "outputs": [],
   "source": [
    "# this will load in your data\n",
    "print(data.load_temp_data())"
   ]
  },
  {
   "cell_type": "code",
   "execution_count": null,
   "metadata": {},
   "outputs": [],
   "source": [
    "# IlluminationCorrection().run()"
   ]
  },
  {
   "cell_type": "code",
   "execution_count": null,
   "metadata": {},
   "outputs": [],
   "source": [
    "Display().displayImage_maxProject(channel=0)"
   ]
  },
  {
   "cell_type": "code",
   "execution_count": null,
   "metadata": {},
   "outputs": [],
   "source": [
    "# settings.sigma_dict = [120, 120, 120]\n",
    "# IlluminationCorrection().run()"
   ]
  },
  {
   "cell_type": "code",
   "execution_count": null,
   "metadata": {},
   "outputs": [],
   "source": [
    "# if you would like to remove the original data from disk\n",
    "# remove_local_data_but_keep_h5().run()"
   ]
  },
  {
   "cell_type": "code",
   "execution_count": null,
   "metadata": {},
   "outputs": [],
   "source": [
    "settings.cellpose_min_size = 500\n",
    "settings.cellpose_diameter = [180, 90]\n",
    "settings.cellpose_pretrained_model = [\"GAPDH_cyto\", 'DAPI_nuclei'] \n",
    "\n",
    "SimpleCellposeSegmentaion().run()"
   ]
  },
  {
   "cell_type": "code",
   "execution_count": null,
   "metadata": {},
   "outputs": [],
   "source": []
  },
  {
   "cell_type": "code",
   "execution_count": null,
   "metadata": {},
   "outputs": [],
   "source": [
    "# settings.MAX_NUM_IMAGES_TO_AUTOMATICALLY_CALCULATE_THRESHOLD = 50\n",
    "# Automatic_BIGFISH_Threshold().run()"
   ]
  },
  {
   "cell_type": "code",
   "execution_count": null,
   "metadata": {},
   "outputs": [],
   "source": [
    "print(data)"
   ]
  },
  {
   "cell_type": "code",
   "execution_count": null,
   "metadata": {},
   "outputs": [],
   "source": [
    "settings.verbose = True\n",
    "# settings.bigfish_threshold = 'mean'\n",
    "# BIGFISH_SpotDetection().run()"
   ]
  },
  {
   "cell_type": "code",
   "execution_count": null,
   "metadata": {},
   "outputs": [],
   "source": [
    "# DilationedCytoMask().run()"
   ]
  },
  {
   "cell_type": "code",
   "execution_count": null,
   "metadata": {},
   "outputs": [],
   "source": [
    "import matplotlib.pyplot as plt\n",
    "\n",
    "params = Parameters().get_parameters()\n",
    "\n",
    "nuc = params['masks']['nuc'][0,0,0]\n",
    "\n",
    "plt.imshow(nuc)\n",
    "plt.show()"
   ]
  },
  {
   "cell_type": "code",
   "execution_count": null,
   "metadata": {},
   "outputs": [],
   "source": [
    "# DisplaySequentialParams().run()"
   ]
  },
  {
   "cell_type": "code",
   "execution_count": null,
   "metadata": {},
   "outputs": [],
   "source": [
    "# CellProperties().run()"
   ]
  },
  {
   "cell_type": "code",
   "execution_count": null,
   "metadata": {},
   "outputs": [],
   "source": [
    "# inst[-1].cell_properties.columns"
   ]
  },
  {
   "cell_type": "code",
   "execution_count": null,
   "metadata": {},
   "outputs": [],
   "source": [
    "# print(inst[-1].cell_properties['nuc_label'])\n",
    "# print(inst[-1].cell_properties['cell_label'])\n",
    "# print(inst[-1].cell_properties['cyto_label'])\n"
   ]
  },
  {
   "cell_type": "code",
   "execution_count": null,
   "metadata": {},
   "outputs": [],
   "source": [
    "# Display().displayMask(channel=1, label=5)"
   ]
  },
  {
   "cell_type": "code",
   "execution_count": null,
   "metadata": {},
   "outputs": [],
   "source": [
    "Save_Masks().run()\n",
    "\n"
   ]
  },
  {
   "cell_type": "code",
   "execution_count": null,
   "metadata": {},
   "outputs": [],
   "source": [
    "Save_Outputs().run()"
   ]
  },
  {
   "cell_type": "code",
   "execution_count": null,
   "metadata": {},
   "outputs": [],
   "source": [
    "Save_Parameters().run()"
   ]
  },
  {
   "cell_type": "code",
   "execution_count": null,
   "metadata": {},
   "outputs": [],
   "source": [
    "Save_Images().run()"
   ]
  },
  {
   "cell_type": "code",
   "execution_count": null,
   "metadata": {},
   "outputs": [],
   "source": [
    "return_to_NAS().run()"
   ]
  },
  {
   "cell_type": "code",
   "execution_count": null,
   "metadata": {},
   "outputs": [],
   "source": [
    "data_names = []\n",
    "copy_locations = []\n",
    "save_copy().run()"
   ]
  },
  {
   "cell_type": "code",
   "execution_count": null,
   "metadata": {},
   "outputs": [],
   "source": [
    "remove_local_data().run()"
   ]
  }
 ],
 "metadata": {
  "kernelspec": {
   "display_name": ".venv",
   "language": "python",
   "name": "python3"
  },
  "language_info": {
   "codemirror_mode": {
    "name": "ipython",
    "version": 3
   },
   "file_extension": ".py",
   "mimetype": "text/x-python",
   "name": "python",
   "nbconvert_exporter": "python",
   "pygments_lexer": "ipython3",
   "version": "3.12.7"
  }
 },
 "nbformat": 4,
 "nbformat_minor": 2
}
