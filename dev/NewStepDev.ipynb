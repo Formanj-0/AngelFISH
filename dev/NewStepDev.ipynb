{
 "cells": [
  {
   "cell_type": "code",
   "execution_count": 1,
   "metadata": {},
   "outputs": [
    {
     "name": "stdout",
     "output_type": "stream",
     "text": [
      "CUDA available: True\n",
      "Number of GPUs available: 2\n",
      "GPU 0: NVIDIA GeForce RTX 2070\n",
      "GPU 1: NVIDIA GeForce RTX 2070\n",
      "GPU 0 memory allocated: 0.00 GB\n",
      "GPU 0 memory reserved: 0.00 GB\n",
      "GPU 1 memory allocated: 0.00 GB\n",
      "GPU 1 memory reserved: 0.00 GB\n"
     ]
    }
   ],
   "source": [
    "import torch\n",
    "# Check if CUDA is available\n",
    "cuda_available = torch.cuda.is_available()\n",
    "print(f\"CUDA available: {cuda_available}\")\n",
    "\n",
    "if cuda_available:\n",
    "    # Get the number of GPUs available\n",
    "    num_gpus = torch.cuda.device_count()\n",
    "    print(f\"Number of GPUs available: {num_gpus}\")\n",
    "\n",
    "    # Get the name of each GPU\n",
    "    for i in range(num_gpus):\n",
    "        gpu_name = torch.cuda.get_device_name(i)\n",
    "        print(f\"GPU {i}: {gpu_name}\")\n",
    "\n",
    "    # Get the current GPU memory usage\n",
    "    for i in range(num_gpus):\n",
    "        gpu_memory_allocated = torch.cuda.memory_allocated(i)\n",
    "        gpu_memory_reserved = torch.cuda.memory_reserved(i)\n",
    "        print(f\"GPU {i} memory allocated: {gpu_memory_allocated / (1024 ** 3):.2f} GB\")\n",
    "        print(f\"GPU {i} memory reserved: {gpu_memory_reserved / (1024 ** 3):.2f} GB\")\n",
    "else:\n",
    "    print(\"CUDA is not available.\")"
   ]
  },
  {
   "cell_type": "code",
   "execution_count": 2,
   "metadata": {},
   "outputs": [
    {
     "name": "stderr",
     "output_type": "stream",
     "text": [
      "INFO:numexpr.utils:Note: NumExpr detected 32 cores but \"NUMEXPR_MAX_THREADS\" not set, so enforcing safe limit of 16.\n",
      "INFO:numexpr.utils:NumExpr defaulting to 16 threads.\n",
      "DEBUG:h5py._conv:Creating converter from 7 to 5\n",
      "DEBUG:h5py._conv:Creating converter from 5 to 7\n",
      "DEBUG:h5py._conv:Creating converter from 7 to 5\n",
      "DEBUG:h5py._conv:Creating converter from 5 to 7\n"
     ]
    }
   ],
   "source": [
    "import sys\n",
    "import os\n",
    "import pickle\n",
    "import logging\n",
    "import numba\n",
    "import matplotlib\n",
    "import matplotlib.pyplot as plt\n",
    "logging.getLogger('matplotlib.font_manager').disabled = True\n",
    "numba_logger = logging.getLogger('numba')\n",
    "numba_logger.setLevel(logging.WARNING)\n",
    "\n",
    "matplotlib_logger = logging.getLogger('matplotlib')\n",
    "matplotlib_logger.setLevel(logging.WARNING)\n",
    "\n",
    "# Add the src directory to sys.path\n",
    "src_path = os.path.abspath(os.path.join(os.getcwd(), '..'))\n",
    "sys.path.append(src_path)\n",
    "\n",
    "from src.IndependentSteps import Pycromanager2H5, FFF2H5, H5, DownloadData\n",
    "\n",
    "from src.SequentialSteps import BIGFISH_SpotDetection, SimpleCellposeSegmentaion, CellProperties, DilationedCytoMask ,\\\n",
    "                                    DisplaySequentialParams, IlluminationCorrection, Calculate_BIGFISH_Threshold, rescale_images,\\\n",
    "                                    Automatic_BIGFISH_Threshold\n",
    "\n",
    "from src.FinalizationSteps import Save_Outputs, Save_Images, Save_Parameters, Save_Masks, return_to_NAS, remove_local_data_but_keep_h5\n",
    "\n",
    "from src.Parameters import Parameters, Experiment, Settings, ScopeClass, DataContainer\n",
    "\n",
    "from src.Displays import Display\n",
    "\n",
    "from src.GUI import GUI, StepGUI\n",
    "\n",
    "from src.Pipeline import Pipeline"
   ]
  },
  {
   "cell_type": "code",
   "execution_count": 3,
   "metadata": {},
   "outputs": [],
   "source": [
    "scope = ScopeClass() \n",
    "data = DataContainer(clear_after_error=False)\n",
    "settings = Settings(name='demo')\n",
    "experiment = Experiment()"
   ]
  },
  {
   "cell_type": "code",
   "execution_count": 4,
   "metadata": {},
   "outputs": [
    {
     "data": {
      "text/plain": [
       "{'state': 'global',\n",
       " 'instances': [],\n",
       " 'voxel_size_yx': 100,\n",
       " 'spot_z': 360,\n",
       " 'spot_yx': 130,\n",
       " 'init': True,\n",
       " 'local_dataset_location': None,\n",
       " 'total_num_chunks': None,\n",
       " 'images': None,\n",
       " 'masks': None,\n",
       " 'temp': None,\n",
       " 'clear_after_error': False,\n",
       " 'mask_locations': None,\n",
       " 'image_locations': None,\n",
       " 'name': 'demo',\n",
       " 'return_data_to_NAS': True,\n",
       " 'NUMBER_OF_CORES': 4,\n",
       " 'save_files': True,\n",
       " 'num_chunks_to_run': 5,\n",
       " 'connection_config_location': 'c:\\\\Users\\\\formanj\\\\GitHub\\\\AngelFISH\\\\config_nas.yml',\n",
       " 'display_plots': True,\n",
       " 'load_in_mask': False,\n",
       " 'mask_structure': {'masks': ('ptczyx', None, None),\n",
       "  'cell_mask': ('zyx', 'cytoChannel', 'masks'),\n",
       "  'nuc_mask': ('zyx', 'nucChannel', 'masks')},\n",
       " 'order': 'pt',\n",
       " 'share_name': 'share',\n",
       " 'sigma_dict': {0: 50, 1: 100, 2: 100},\n",
       " 'initial_data_location': ['smFISH_images/Eric_smFISH_images/20220225/DUSP1_Dex_0min_20220224'],\n",
       " 'index_dict': None,\n",
       " 'nucChannel': 2,\n",
       " 'cytoChannel': 1,\n",
       " 'FISHChannel': 0,\n",
       " 'voxel_size_z': 500,\n",
       " 'independent_params': [{}],\n",
       " 'timestep_s': None}"
      ]
     },
     "execution_count": 4,
     "metadata": {},
     "output_type": "execute_result"
    }
   ],
   "source": [
    "# you can change the parameters\n",
    "experiment.initial_data_location = ['smFISH_images/Eric_smFISH_images/20220225/DUSP1_Dex_0min_20220224']\n",
    "                                    # 'smFISH_images/Eric_smFISH_images/20220225/DUSP1_Dex_10min_20220224']\n",
    "\n",
    "# data.local_dataset_location = [r'C:\\Users\\formanj\\GitHub\\FISH_Processing\\Demos\\DUSP1_Dex_10min_20220224', \n",
    "#                                  r'C:\\Users\\formanj\\GitHub\\FISH_Processing\\Demos\\DUSP1_Dex_0min_20220224']\n",
    "experiment.FISHChannel = 0\n",
    "experiment.nucChannel = 2\n",
    "experiment.cytoChannel = 1\n",
    "experiment.voxel_size_z = 500\n",
    "\n",
    "settings.num_chunks_to_run = 5 # this is the limit to how many chunks you want to run and it will stop after that\n",
    "# settings.psuedoCyto = 1\n",
    "settings.sigma_dict = {0: 50, 1: 100, 2: 100}\n",
    "\n",
    "scope.spot_yx = 130\n",
    "scope.spot_z = 360\n",
    "scope.voxel_size_yx = 100\n",
    "\n",
    "Parameters().get_parameters()"
   ]
  },
  {
   "cell_type": "code",
   "execution_count": 5,
   "metadata": {},
   "outputs": [],
   "source": [
    "Parameters.validate()"
   ]
  },
  {
   "cell_type": "code",
   "execution_count": 6,
   "metadata": {},
   "outputs": [
    {
     "name": "stdout",
     "output_type": "stream",
     "text": [
      "Overwriting local_dataset_location in DataContainer\n"
     ]
    },
    {
     "data": {
      "text/plain": [
       "{'local_dataset_location': ['c:\\\\Users\\\\formanj\\\\GitHub\\\\AngelFISH\\\\dataBases\\\\DUSP1_Dex_0min_20220224']}"
      ]
     },
     "execution_count": 6,
     "metadata": {},
     "output_type": "execute_result"
    }
   ],
   "source": [
    "DownloadData().run()"
   ]
  },
  {
   "cell_type": "code",
   "execution_count": 7,
   "metadata": {},
   "outputs": [
    {
     "name": "stderr",
     "output_type": "stream",
     "text": [
      "Traceback (most recent call last):\n",
      "  File \"c:\\Users\\formanj\\GitHub\\AngelFISH\\src\\GeneralStep.py\", line 17, in wrapper\n",
      "    return func(*args, **kwargs)\n",
      "           ^^^^^^^^^^^^^^^^^^^^^\n",
      "  File \"c:\\Users\\formanj\\GitHub\\AngelFISH\\src\\GeneralStep.py\", line 162, in run\n",
      "    results = self.main(**kwargs)\n",
      "             ^^^^^^^^^^^^^^^^^^^\n",
      "  File \"c:\\Users\\formanj\\GitHub\\AngelFISH\\src\\IndependentSteps\\DataTypeBridges.py\", line 204, in main\n",
      "    images, masks, ip, position_indexs, mask_locations = self.load_in_dataset(local_dataset_location,\n",
      "                                                         ^^^^^^^^^^^^^^^^^^^^^^^^^^^^^^^^^^^^^^^^^^^^\n",
      "  File \"c:\\Users\\formanj\\GitHub\\AngelFISH\\src\\IndependentSteps\\DataTypeBridges.py\", line 236, in load_in_dataset\n",
      "    masks[key] = [da.from_array(h5[key]) for h5 in h5_files]\n",
      "                  ^^^^^^^^^^^^^^^^^^^^^^\n",
      "  File \"c:\\Users\\formanj\\GitHub\\AngelFISH\\.venv\\Lib\\site-packages\\dask\\array\\core.py\", line 3639, in from_array\n",
      "    chunks, x.shape, dtype=x.dtype, previous_chunks=previous_chunks\n",
      "            ^^^^^^^\n",
      "AttributeError: 'Group' object has no attribute 'shape'\n"
     ]
    },
    {
     "ename": "AttributeError",
     "evalue": "'Group' object has no attribute 'shape'",
     "output_type": "error",
     "traceback": [
      "\u001b[1;31m---------------------------------------------------------------------------\u001b[0m",
      "\u001b[1;31mAttributeError\u001b[0m                            Traceback (most recent call last)",
      "Cell \u001b[1;32mIn[7], line 2\u001b[0m\n\u001b[0;32m      1\u001b[0m settings\u001b[38;5;241m.\u001b[39mload_in_mask \u001b[38;5;241m=\u001b[39m \u001b[38;5;28;01mTrue\u001b[39;00m\n\u001b[1;32m----> 2\u001b[0m \u001b[43mFFF2H5\u001b[49m\u001b[43m(\u001b[49m\u001b[43m)\u001b[49m\u001b[38;5;241;43m.\u001b[39;49m\u001b[43mrun\u001b[49m\u001b[43m(\u001b[49m\u001b[43m)\u001b[49m\n",
      "File \u001b[1;32mc:\\Users\\formanj\\GitHub\\AngelFISH\\src\\GeneralStep.py:23\u001b[0m, in \u001b[0;36mhandle_errors.<locals>.wrapper\u001b[1;34m(*args, **kwargs)\u001b[0m\n\u001b[0;32m     21\u001b[0m     \u001b[38;5;28mprint\u001b[39m(\u001b[38;5;124m\"\u001b[39m\u001b[38;5;124mAn error occurred. Temp data deleted.\u001b[39m\u001b[38;5;124m\"\u001b[39m)\n\u001b[0;32m     22\u001b[0m traceback\u001b[38;5;241m.\u001b[39mprint_exc()\n\u001b[1;32m---> 23\u001b[0m \u001b[38;5;28;01mraise\u001b[39;00m e\n",
      "File \u001b[1;32mc:\\Users\\formanj\\GitHub\\AngelFISH\\src\\GeneralStep.py:17\u001b[0m, in \u001b[0;36mhandle_errors.<locals>.wrapper\u001b[1;34m(*args, **kwargs)\u001b[0m\n\u001b[0;32m     14\u001b[0m \u001b[38;5;129m@wraps\u001b[39m(func)\n\u001b[0;32m     15\u001b[0m \u001b[38;5;28;01mdef\u001b[39;00m \u001b[38;5;21mwrapper\u001b[39m(\u001b[38;5;241m*\u001b[39margs, \u001b[38;5;241m*\u001b[39m\u001b[38;5;241m*\u001b[39mkwargs):\n\u001b[0;32m     16\u001b[0m     \u001b[38;5;28;01mtry\u001b[39;00m:\n\u001b[1;32m---> 17\u001b[0m         \u001b[38;5;28;01mreturn\u001b[39;00m \u001b[43mfunc\u001b[49m\u001b[43m(\u001b[49m\u001b[38;5;241;43m*\u001b[39;49m\u001b[43margs\u001b[49m\u001b[43m,\u001b[49m\u001b[43m \u001b[49m\u001b[38;5;241;43m*\u001b[39;49m\u001b[38;5;241;43m*\u001b[39;49m\u001b[43mkwargs\u001b[49m\u001b[43m)\u001b[49m\n\u001b[0;32m     18\u001b[0m     \u001b[38;5;28;01mexcept\u001b[39;00m \u001b[38;5;167;01mException\u001b[39;00m \u001b[38;5;28;01mas\u001b[39;00m e:\n\u001b[0;32m     19\u001b[0m         \u001b[38;5;28;01mif\u001b[39;00m DataContainer()\u001b[38;5;241m.\u001b[39mclear_after_error:\n",
      "File \u001b[1;32mc:\\Users\\formanj\\GitHub\\AngelFISH\\src\\GeneralStep.py:162\u001b[0m, in \u001b[0;36mStepClass.run\u001b[1;34m(self, p, t, data_container, parameters)\u001b[0m\n\u001b[0;32m    160\u001b[0m parameters \u001b[38;5;241m=\u001b[39m Parameters() \u001b[38;5;28;01mif\u001b[39;00m parameters \u001b[38;5;129;01mis\u001b[39;00m \u001b[38;5;28;01mNone\u001b[39;00m \u001b[38;5;28;01melse\u001b[39;00m parameters\n\u001b[0;32m    161\u001b[0m kwargs \u001b[38;5;241m=\u001b[39m \u001b[38;5;28mself\u001b[39m\u001b[38;5;241m.\u001b[39mload_in_parameters(p, t, parameters)\n\u001b[1;32m--> 162\u001b[0m results \u001b[38;5;241m=\u001b[39m \u001b[38;5;28;43mself\u001b[39;49m\u001b[38;5;241;43m.\u001b[39;49m\u001b[43mmain\u001b[49m\u001b[43m(\u001b[49m\u001b[38;5;241;43m*\u001b[39;49m\u001b[38;5;241;43m*\u001b[39;49m\u001b[43mkwargs\u001b[49m\u001b[43m)\u001b[49m \n\u001b[0;32m    163\u001b[0m data_container\u001b[38;5;241m.\u001b[39msave_results(results, p, t, parameters)\n\u001b[0;32m    164\u001b[0m data_container\u001b[38;5;241m.\u001b[39mload_temp_data()\n",
      "File \u001b[1;32mc:\\Users\\formanj\\GitHub\\AngelFISH\\src\\IndependentSteps\\DataTypeBridges.py:204\u001b[0m, in \u001b[0;36mDataTypeBridge_H5.main\u001b[1;34m(self, load_in_mask, initial_data_location, mask_structure, independent_params, local_dataset_location, **kwargs)\u001b[0m\n\u001b[0;32m    201\u001b[0m     local_dataset_location[i] \u001b[38;5;241m=\u001b[39m \u001b[38;5;28mself\u001b[39m\u001b[38;5;241m.\u001b[39mconvert_data(location)\n\u001b[0;32m    203\u001b[0m \u001b[38;5;66;03m# Load in H5 and build independent param\u001b[39;00m\n\u001b[1;32m--> 204\u001b[0m images, masks, ip, position_indexs, mask_locations \u001b[38;5;241m=\u001b[39m \u001b[38;5;28;43mself\u001b[39;49m\u001b[38;5;241;43m.\u001b[39;49m\u001b[43mload_in_dataset\u001b[49m\u001b[43m(\u001b[49m\u001b[43mlocal_dataset_location\u001b[49m\u001b[43m,\u001b[49m\n\u001b[0;32m    205\u001b[0m \u001b[43m                                                          \u001b[49m\u001b[43minitial_data_location\u001b[49m\u001b[43m,\u001b[49m\n\u001b[0;32m    206\u001b[0m \u001b[43m                                                            \u001b[49m\u001b[43mload_in_mask\u001b[49m\u001b[43m,\u001b[49m\u001b[43m \u001b[49m\n\u001b[0;32m    207\u001b[0m \u001b[43m                                                            \u001b[49m\u001b[43mindependent_params\u001b[49m\u001b[43m)\u001b[49m\n\u001b[0;32m    208\u001b[0m \u001b[38;5;28;01mreturn\u001b[39;00m {\u001b[38;5;124m'\u001b[39m\u001b[38;5;124mimages\u001b[39m\u001b[38;5;124m'\u001b[39m: images,\n\u001b[0;32m    209\u001b[0m         \u001b[38;5;124m'\u001b[39m\u001b[38;5;124mindependent_params\u001b[39m\u001b[38;5;124m'\u001b[39m: ip, \u001b[38;5;124m'\u001b[39m\u001b[38;5;124mposition_indexs\u001b[39m\u001b[38;5;124m'\u001b[39m: position_indexs,\\\n\u001b[0;32m    210\u001b[0m         \u001b[38;5;124m'\u001b[39m\u001b[38;5;124mmasks\u001b[39m\u001b[38;5;124m'\u001b[39m: masks, \u001b[38;5;124m'\u001b[39m\u001b[38;5;124mmask_locations\u001b[39m\u001b[38;5;124m'\u001b[39m: mask_locations, \u001b[38;5;124m'\u001b[39m\u001b[38;5;124mimage_locations\u001b[39m\u001b[38;5;124m'\u001b[39m: local_dataset_location}\n",
      "File \u001b[1;32mc:\\Users\\formanj\\GitHub\\AngelFISH\\src\\IndependentSteps\\DataTypeBridges.py:236\u001b[0m, in \u001b[0;36mDataTypeBridge_H5.load_in_dataset\u001b[1;34m(self, locations, nas_location, load_in_mask, independent_params)\u001b[0m\n\u001b[0;32m    234\u001b[0m \u001b[38;5;28;01mfor\u001b[39;00m key \u001b[38;5;129;01min\u001b[39;00m h5_files[\u001b[38;5;241m0\u001b[39m]\u001b[38;5;241m.\u001b[39mkeys():\n\u001b[0;32m    235\u001b[0m     \u001b[38;5;28;01mif\u001b[39;00m \u001b[38;5;124m'\u001b[39m\u001b[38;5;124manalysis\u001b[39m\u001b[38;5;124m'\u001b[39m \u001b[38;5;129;01mnot\u001b[39;00m \u001b[38;5;129;01min\u001b[39;00m key \u001b[38;5;129;01mand\u001b[39;00m \u001b[38;5;124m'\u001b[39m\u001b[38;5;124mimage\u001b[39m\u001b[38;5;124m'\u001b[39m \u001b[38;5;129;01mnot\u001b[39;00m \u001b[38;5;129;01min\u001b[39;00m key \u001b[38;5;129;01mand\u001b[39;00m \u001b[38;5;124m'\u001b[39m\u001b[38;5;124mmeta\u001b[39m\u001b[38;5;124m'\u001b[39m \u001b[38;5;129;01mnot\u001b[39;00m \u001b[38;5;129;01min\u001b[39;00m key:\n\u001b[1;32m--> 236\u001b[0m         masks[key] \u001b[38;5;241m=\u001b[39m [\u001b[43mda\u001b[49m\u001b[38;5;241;43m.\u001b[39;49m\u001b[43mfrom_array\u001b[49m\u001b[43m(\u001b[49m\u001b[43mh5\u001b[49m\u001b[43m[\u001b[49m\u001b[43mkey\u001b[49m\u001b[43m]\u001b[49m\u001b[43m)\u001b[49m \u001b[38;5;28;01mfor\u001b[39;00m h5 \u001b[38;5;129;01min\u001b[39;00m h5_files]\n\u001b[0;32m    237\u001b[0m         masks[key] \u001b[38;5;241m=\u001b[39m da\u001b[38;5;241m.\u001b[39mconcatenate(masks[key], axis\u001b[38;5;241m=\u001b[39m\u001b[38;5;241m0\u001b[39m)\n\u001b[0;32m    238\u001b[0m         masks[key] \u001b[38;5;241m=\u001b[39m masks[key]\u001b[38;5;241m.\u001b[39mrechunk((\u001b[38;5;241m1\u001b[39m, \u001b[38;5;241m1\u001b[39m, \u001b[38;5;241m-\u001b[39m\u001b[38;5;241m1\u001b[39m, \u001b[38;5;241m-\u001b[39m\u001b[38;5;241m1\u001b[39m, \u001b[38;5;241m-\u001b[39m\u001b[38;5;241m1\u001b[39m, \u001b[38;5;241m-\u001b[39m\u001b[38;5;241m1\u001b[39m))\n",
      "File \u001b[1;32mc:\\Users\\formanj\\GitHub\\AngelFISH\\.venv\\Lib\\site-packages\\dask\\array\\core.py:3639\u001b[0m, in \u001b[0;36mfrom_array\u001b[1;34m(x, chunks, name, lock, asarray, fancy, getitem, meta, inline_array)\u001b[0m\n\u001b[0;32m   3634\u001b[0m     asarray \u001b[38;5;241m=\u001b[39m \u001b[38;5;129;01mnot\u001b[39;00m \u001b[38;5;28mhasattr\u001b[39m(x, \u001b[38;5;124m\"\u001b[39m\u001b[38;5;124m__array_function__\u001b[39m\u001b[38;5;124m\"\u001b[39m)\n\u001b[0;32m   3636\u001b[0m previous_chunks \u001b[38;5;241m=\u001b[39m \u001b[38;5;28mgetattr\u001b[39m(x, \u001b[38;5;124m\"\u001b[39m\u001b[38;5;124mchunks\u001b[39m\u001b[38;5;124m\"\u001b[39m, \u001b[38;5;28;01mNone\u001b[39;00m)\n\u001b[0;32m   3638\u001b[0m chunks \u001b[38;5;241m=\u001b[39m normalize_chunks(\n\u001b[1;32m-> 3639\u001b[0m     chunks, \u001b[43mx\u001b[49m\u001b[38;5;241;43m.\u001b[39;49m\u001b[43mshape\u001b[49m, dtype\u001b[38;5;241m=\u001b[39mx\u001b[38;5;241m.\u001b[39mdtype, previous_chunks\u001b[38;5;241m=\u001b[39mprevious_chunks\n\u001b[0;32m   3640\u001b[0m )\n\u001b[0;32m   3642\u001b[0m \u001b[38;5;28;01mif\u001b[39;00m name \u001b[38;5;129;01min\u001b[39;00m (\u001b[38;5;28;01mNone\u001b[39;00m, \u001b[38;5;28;01mTrue\u001b[39;00m):\n\u001b[0;32m   3643\u001b[0m     token \u001b[38;5;241m=\u001b[39m tokenize(x, chunks, lock, asarray, fancy, getitem, inline_array)\n",
      "\u001b[1;31mAttributeError\u001b[0m: 'Group' object has no attribute 'shape'"
     ]
    }
   ],
   "source": [
    "settings.load_in_mask = True\n",
    "FFF2H5().run()"
   ]
  },
  {
   "cell_type": "code",
   "execution_count": null,
   "metadata": {},
   "outputs": [],
   "source": [
    "# this will load in your data\n",
    "print(data.load_temp_data())"
   ]
  },
  {
   "cell_type": "code",
   "execution_count": null,
   "metadata": {},
   "outputs": [],
   "source": [
    "# IlluminationCorrection().run()"
   ]
  },
  {
   "cell_type": "code",
   "execution_count": null,
   "metadata": {},
   "outputs": [],
   "source": [
    "Display().displayImage_maxProject(channel=2)"
   ]
  },
  {
   "cell_type": "code",
   "execution_count": null,
   "metadata": {},
   "outputs": [],
   "source": [
    "# settings.sigma_dict = [120, 120, 120]\n",
    "# IlluminationCorrection().run()"
   ]
  },
  {
   "cell_type": "code",
   "execution_count": null,
   "metadata": {},
   "outputs": [],
   "source": [
    "# if you would like to remove the original data from disk\n",
    "# remove_local_data_but_keep_h5().run()"
   ]
  },
  {
   "cell_type": "code",
   "execution_count": null,
   "metadata": {},
   "outputs": [],
   "source": [
    "settings.cellpose_min_size = 500\n",
    "settings.cellpose_diameter = [180, 90]\n",
    "settings.cellpose_pretrained_model = [\"GAPDH_cyto\", 'DAPI_nuclei'] \n",
    "\n",
    "SimpleCellposeSegmentaion().run()"
   ]
  },
  {
   "cell_type": "code",
   "execution_count": null,
   "metadata": {},
   "outputs": [],
   "source": [
    "# settings.MAX_NUM_IMAGES_TO_AUTOMATICALLY_CALCULATE_THRESHOLD = 50\n",
    "# Automatic_BIGFISH_Threshold().run()"
   ]
  },
  {
   "cell_type": "code",
   "execution_count": null,
   "metadata": {},
   "outputs": [],
   "source": [
    "print(data)"
   ]
  },
  {
   "cell_type": "code",
   "execution_count": null,
   "metadata": {},
   "outputs": [],
   "source": [
    "settings.verbose = True\n",
    "# settings.bigfish_threshold = 'mean'\n",
    "BIGFISH_SpotDetection().run()"
   ]
  },
  {
   "cell_type": "code",
   "execution_count": null,
   "metadata": {},
   "outputs": [],
   "source": [
    "# DilationedCytoMask().run()"
   ]
  },
  {
   "cell_type": "code",
   "execution_count": null,
   "metadata": {},
   "outputs": [],
   "source": [
    "import matplotlib.pyplot as plt\n",
    "\n",
    "params = Parameters().get_parameters()\n",
    "\n",
    "nuc = params['masks']['cell'][0,0,0]\n",
    "\n",
    "plt.imshow(nuc)\n",
    "plt.show()"
   ]
  },
  {
   "cell_type": "code",
   "execution_count": null,
   "metadata": {},
   "outputs": [],
   "source": [
    "# DisplaySequentialParams().run()"
   ]
  },
  {
   "cell_type": "code",
   "execution_count": null,
   "metadata": {},
   "outputs": [],
   "source": [
    "CellProperties().run()"
   ]
  },
  {
   "cell_type": "code",
   "execution_count": null,
   "metadata": {},
   "outputs": [],
   "source": [
    "# inst[-1].cell_properties.columns"
   ]
  },
  {
   "cell_type": "code",
   "execution_count": null,
   "metadata": {},
   "outputs": [],
   "source": [
    "# print(inst[-1].cell_properties['nuc_label'])\n",
    "# print(inst[-1].cell_properties['cell_label'])\n",
    "# print(inst[-1].cell_properties['cyto_label'])\n"
   ]
  },
  {
   "cell_type": "code",
   "execution_count": null,
   "metadata": {},
   "outputs": [],
   "source": [
    "# Display().displayMask(channel=1, label=5)"
   ]
  },
  {
   "cell_type": "code",
   "execution_count": null,
   "metadata": {},
   "outputs": [],
   "source": [
    "Save_Masks().run()\n",
    "\n"
   ]
  },
  {
   "cell_type": "code",
   "execution_count": null,
   "metadata": {},
   "outputs": [],
   "source": [
    "Save_Outputs().run()"
   ]
  },
  {
   "cell_type": "code",
   "execution_count": null,
   "metadata": {},
   "outputs": [],
   "source": [
    "data.cellresults.head()"
   ]
  },
  {
   "cell_type": "code",
   "execution_count": null,
   "metadata": {},
   "outputs": [],
   "source": [
    "import h5py\n",
    "\n",
    "f = h5py.File(r'C:\\Users\\formanj\\GitHub\\AngelFISH\\dataBases\\DUSP1_Dex_0min_20220224.h5', 'a')\n",
    "# Close the file first\n",
    "f.close()\n",
    "\n",
    "# Use pandas to save the dataframe to the HDF5 file\n",
    "data.cellresults.to_hdf(r'C:\\Users\\formanj\\GitHub\\AngelFISH\\dataBases\\DUSP1_Dex_0min_20220224.h5', \n",
    "                       key='test', mode='a')\n",
    "\n",
    "# Reopen the file\n",
    "f = h5py.File(r'C:\\Users\\formanj\\GitHub\\AngelFISH\\dataBases\\DUSP1_Dex_0min_20220224.h5', 'a')"
   ]
  },
  {
   "cell_type": "code",
   "execution_count": null,
   "metadata": {},
   "outputs": [],
   "source": []
  }
 ],
 "metadata": {
  "kernelspec": {
   "display_name": ".venv",
   "language": "python",
   "name": "python3"
  },
  "language_info": {
   "codemirror_mode": {
    "name": "ipython",
    "version": 3
   },
   "file_extension": ".py",
   "mimetype": "text/x-python",
   "name": "python",
   "nbconvert_exporter": "python",
   "pygments_lexer": "ipython3",
   "version": "3.12.7"
  }
 },
 "nbformat": 4,
 "nbformat_minor": 2
}
