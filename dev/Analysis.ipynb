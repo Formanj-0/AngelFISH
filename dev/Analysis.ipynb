{
 "cells": [
  {
   "cell_type": "code",
   "execution_count": 1,
   "metadata": {},
   "outputs": [],
   "source": [
    "import h5py\n",
    "import numpy as np\n",
    "import matplotlib.pyplot as plt\n",
    "import pandas as pd\n",
    "import dask.array as da"
   ]
  },
  {
   "cell_type": "code",
   "execution_count": 2,
   "metadata": {},
   "outputs": [],
   "source": [
    "loc = r\"Y:\\smFISH_images\\Eric_smFISH_images\\20220225\\DUSP1_Dex_0min_20220224\\DUSP1_Dex_0min_20220224.h5\"\n",
    "h5_file = h5py.File(loc, 'r') # making this read is important otherwise you may get WINERROR 33\n"
   ]
  },
  {
   "cell_type": "code",
   "execution_count": 3,
   "metadata": {},
   "outputs": [
    {
     "name": "stdout",
     "output_type": "stream",
     "text": [
      "- Analysis_demo1_2024-11-18\n",
      "    - Analysis_demo1_2024-11-18/bigfish_threshold\n",
      "    - Analysis_demo1_2024-11-18/df_cellresults\n",
      "    - Analysis_demo1_2024-11-18/df_clusterresults\n",
      "    - Analysis_demo1_2024-11-18/df_spotresults\n",
      "    - Analysis_demo1_2024-11-18/parameters\n",
      "- Analysis_demo_2024-11-18\n",
      "    - Analysis_demo_2024-11-18/bigfish_threshold\n",
      "    - Analysis_demo_2024-11-18/df_cellresults\n",
      "    - Analysis_demo_2024-11-18/df_clusterresults\n",
      "    - Analysis_demo_2024-11-18/df_spotresults\n",
      "    - Analysis_demo_2024-11-18/parameters\n",
      "- masks\n",
      "- metadata\n",
      "- raw_images\n"
     ]
    }
   ],
   "source": [
    "level = 1\n",
    "\n",
    "def print_group(name, obj):\n",
    "    # Calculate current level based on the name depth\n",
    "    current_level = name.count('/')\n",
    "    if current_level <= level:\n",
    "        print(\"  \" * 2 * current_level + f\"- {name}\")\n",
    "\n",
    "h5_file.visititems(print_group)"
   ]
  },
  {
   "cell_type": "code",
   "execution_count": null,
   "metadata": {},
   "outputs": [],
   "source": []
  }
 ],
 "metadata": {
  "kernelspec": {
   "display_name": ".venv",
   "language": "python",
   "name": "python3"
  },
  "language_info": {
   "codemirror_mode": {
    "name": "ipython",
    "version": 3
   },
   "file_extension": ".py",
   "mimetype": "text/x-python",
   "name": "python",
   "nbconvert_exporter": "python",
   "pygments_lexer": "ipython3",
   "version": "3.12.5"
  }
 },
 "nbformat": 4,
 "nbformat_minor": 2
}
