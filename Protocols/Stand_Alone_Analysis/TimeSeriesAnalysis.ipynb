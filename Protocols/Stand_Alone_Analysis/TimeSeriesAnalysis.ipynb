{
 "cells": [
  {
   "cell_type": "code",
   "execution_count": null,
   "id": "4dbfa85b",
   "metadata": {},
   "outputs": [],
   "source": [
    "import matplotlib.pyplot as plt\n",
    "import sys\n",
    "import logging\n",
    "import os\n",
    "sys.path.append(os.path.join('..','..','..'))\n",
    "path_to_angelFISH = r'C:\\Users\\Jack\\Documents\\GitHub'\n",
    "if path_to_angelFISH:\n",
    "    sys.path.append(path_to_angelFISH)\n",
    "\n",
    "\n",
    "from AngelFISH.src import Receipt, load_data, silence\n",
    "from AngelFISH.src.Steps import (download_data, segment, detect_spots, get_cell_properties, \n",
    "                       return_data, match_masks, export_images, filter_csv, \n",
    "                       calculate_sharpness, reconcile_data)\n",
    "silence()\n"
   ]
  },
  {
   "cell_type": "code",
   "execution_count": null,
   "id": "70db4c1e",
   "metadata": {},
   "outputs": [],
   "source": [
    "receipt = Receipt(\n",
    "    analysis_name = '08212025_timeseries_analysis',\n",
    "    nas_location = None,\n",
    "    local_location = os.getcwd(), # the idea is that you in an already processed dir\n",
    "    data_loader = 'recursive_pycromanager_data_loader' # pycromanager_data_loader, recursive_pycromanager_data_loader\n",
    "    )\n",
    "\n",
    "receipt.arguments['recursive_analysis_name'] = '08202025_NewMasks'"
   ]
  },
  {
   "cell_type": "code",
   "execution_count": null,
   "id": "748f2910",
   "metadata": {},
   "outputs": [],
   "source": [
    "data = load_data(receipt)"
   ]
  },
  {
   "cell_type": "code",
   "execution_count": null,
   "id": "8a32453c",
   "metadata": {},
   "outputs": [],
   "source": []
  }
 ],
 "metadata": {
  "language_info": {
   "name": "python"
  }
 },
 "nbformat": 4,
 "nbformat_minor": 5
}
