{
 "cells": [
  {
   "cell_type": "code",
   "execution_count": null,
   "id": "e1913c15",
   "metadata": {},
   "outputs": [],
   "source": [
    "import matplotlib.pyplot as plt\n",
    "import sys\n",
    "import logging\n",
    "sys.path.append('..')\n",
    "logging.getLogger().setLevel(logging.WARNING)\n",
    "logging.getLogger('napari').setLevel(logging.WARNING)\n",
    "logging.getLogger('in_n_out').setLevel(logging.WARNING)\n",
    "logging.getLogger('numcodecs').setLevel(logging.WARNING)\n",
    "logging.getLogger('numba').setLevel(logging.WARNING)\n",
    "\n",
    "from src import Receipt, load_data\n",
    "from src.steps import (download_data, segment, detect_spots, get_cell_properties, \n",
    "                       return_data, match_masks, export_images, filter_csv, \n",
    "                       calculate_sharpness, reconcile_data)\n"
   ]
  },
  {
   "cell_type": "markdown",
   "id": "8a738990",
   "metadata": {},
   "source": [
    "### Initialize Receipt"
   ]
  },
  {
   "cell_type": "code",
   "execution_count": null,
   "id": "5465fcab",
   "metadata": {},
   "outputs": [],
   "source": [
    "receipt = Receipt(\n",
    "    analysis_name = 'default_name',\n",
    "    nas_location = r'Users/Jack/_ImageDatasets/Sia/SS004_07212025_TroubleShooting/SS004_10min_100nM_7',\n",
    "    local_location = None,\n",
    "    data_loader = 'pycromanager_data_loader'\n",
    "    )"
   ]
  },
  {
   "cell_type": "markdown",
   "id": "4accfffd",
   "metadata": {},
   "source": [
    "### Get the data"
   ]
  },
  {
   "cell_type": "code",
   "execution_count": null,
   "id": "bebcb7fe",
   "metadata": {},
   "outputs": [],
   "source": [
    "dd = download_data(receipt, 'download_data')\n",
    "receipt = dd.process()"
   ]
  },
  {
   "cell_type": "markdown",
   "id": "a32289e6",
   "metadata": {},
   "source": [
    "### Segmentation"
   ]
  },
  {
   "cell_type": "code",
   "execution_count": null,
   "id": "8d0ababa",
   "metadata": {},
   "outputs": [],
   "source": [
    "nuc_seg = segment(receipt, 'segment_nuc')\n",
    "receipt = nuc_seg.gui()"
   ]
  },
  {
   "cell_type": "code",
   "execution_count": null,
   "id": "6ccdf741",
   "metadata": {},
   "outputs": [],
   "source": [
    "match_cyto_and_nuc = match_masks(receipt, 'match_cyto_and_nuc')\n",
    "receipt = match_cyto_and_nuc.process()"
   ]
  },
  {
   "cell_type": "markdown",
   "id": "20ddc3c1",
   "metadata": {},
   "source": [
    "### Detect Spots"
   ]
  },
  {
   "cell_type": "code",
   "execution_count": null,
   "id": "f1b7aa51",
   "metadata": {},
   "outputs": [],
   "source": [
    "dusp1_detection = detect_spots(receipt, 'detect_dusp1')\n",
    "receipt = dusp1_detection.gui()"
   ]
  },
  {
   "cell_type": "code",
   "execution_count": null,
   "id": "b5c541a6",
   "metadata": {},
   "outputs": [],
   "source": [
    "receipt = reconcile_data(receipt, 'reconcile_spots')"
   ]
  },
  {
   "cell_type": "markdown",
   "id": "ad8218f9",
   "metadata": {},
   "source": [
    "### Get Properties"
   ]
  },
  {
   "cell_type": "code",
   "execution_count": null,
   "id": "67562058",
   "metadata": {},
   "outputs": [],
   "source": [
    "measure_cell_props = get_cell_properties(receipt, 'measure_cell_props')\n",
    "receipt = measure_cell_props.process()"
   ]
  },
  {
   "cell_type": "code",
   "execution_count": null,
   "id": "48b1a49e",
   "metadata": {},
   "outputs": [],
   "source": [
    "cs = calculate_sharpness(receipt, 'calc_sharpness')\n",
    "receipt = cs.process()"
   ]
  },
  {
   "cell_type": "markdown",
   "id": "eb1397a4",
   "metadata": {},
   "source": [
    "### Manipulate Data"
   ]
  },
  {
   "cell_type": "code",
   "execution_count": null,
   "id": "151d14fe",
   "metadata": {},
   "outputs": [],
   "source": [
    "receipt = return_data(receipt, 'return_data').process()"
   ]
  },
  {
   "cell_type": "code",
   "execution_count": null,
   "id": "7575e0db",
   "metadata": {},
   "outputs": [],
   "source": [
    "fc = filter_csv(receipt, 'filter_csv')\n",
    "receipt = fc.process()"
   ]
  },
  {
   "cell_type": "code",
   "execution_count": null,
   "id": "a533c7d2",
   "metadata": {},
   "outputs": [],
   "source": [
    "receipt = export_images(receipt, 'export_tifs')"
   ]
  },
  {
   "cell_type": "markdown",
   "id": "1730e4db",
   "metadata": {},
   "source": [
    "### Receipt"
   ]
  },
  {
   "cell_type": "code",
   "execution_count": null,
   "id": "3d607cc1",
   "metadata": {},
   "outputs": [],
   "source": [
    "receipt"
   ]
  },
  {
   "cell_type": "code",
   "execution_count": null,
   "id": "2ab3e8d2",
   "metadata": {},
   "outputs": [],
   "source": [
    "receipt.save('new_pipeline.json')"
   ]
  }
 ],
 "metadata": {
  "language_info": {
   "name": "python"
  }
 },
 "nbformat": 4,
 "nbformat_minor": 5
}
