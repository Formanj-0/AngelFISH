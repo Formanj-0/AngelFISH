{
 "cells": [
  {
   "cell_type": "code",
   "execution_count": 1,
   "id": "24bdbf51",
   "metadata": {},
   "outputs": [
    {
     "name": "stderr",
     "output_type": "stream",
     "text": [
      "2025-08-12 11:17:46 |  WARNING | Loading postgres module without psycopg2 nor pg8000 installed. Will crash at runtime if postgres functionality is used.\n",
      "2025-08-12 11:17:46 |  WARNING | Loading S3 module without the python package boto3. Will crash at runtime if S3 functionality is used.\n",
      "INFO:numexpr.utils:Note: NumExpr detected 24 cores but \"NUMEXPR_MAX_THREADS\" not set, so enforcing safe limit of 16.\n",
      "INFO:numexpr.utils:NumExpr defaulting to 16 threads.\n"
     ]
    }
   ],
   "source": [
    "import matplotlib.pyplot as plt\n",
    "import sys\n",
    "import logging\n",
    "import os\n",
    "src_path = os.path.dirname(os.getcwd())\n",
    "sys.path.append(src_path)\n",
    "logging.getLogger().setLevel(logging.WARNING)\n",
    "logging.getLogger('napari').setLevel(logging.WARNING)\n",
    "logging.getLogger('in_n_out').setLevel(logging.WARNING)\n",
    "logging.getLogger('numcodecs').setLevel(logging.WARNING)\n",
    "logging.getLogger('numba').setLevel(logging.WARNING)\n",
    "\n",
    "from src import Receipt, load_data\n",
    "from src.steps import download_data, export_images"
   ]
  },
  {
   "cell_type": "code",
   "execution_count": 2,
   "id": "9d483924",
   "metadata": {},
   "outputs": [],
   "source": [
    "receipt = Receipt(\n",
    "    analysis_name = 'cellpose_segmentation',\n",
    "    nas_location = r'\\Users\\Jack\\_ImageDatasets\\IntronDiffusion\\08072025_TriptolideTimeSeries_JF001\\JF001_0min_5uM_10',\n",
    "    local_location = None,\n",
    "    data_loader = 'pycromanager_data_loader'\n",
    "    )"
   ]
  },
  {
   "cell_type": "code",
   "execution_count": 3,
   "id": "67f1f51c",
   "metadata": {},
   "outputs": [
    {
     "name": "stdout",
     "output_type": "stream",
     "text": [
      "local file already exist\n"
     ]
    }
   ],
   "source": [
    "dd = download_data(receipt, 'download_data')\n",
    "receipt = dd.process()"
   ]
  },
  {
   "cell_type": "code",
   "execution_count": 4,
   "id": "be07ad21",
   "metadata": {},
   "outputs": [
    {
     "name": "stdout",
     "output_type": "stream",
     "text": [
      "Dataset opened                \n"
     ]
    }
   ],
   "source": [
    "receipt = export_images(receipt, 'export_for_cellpose', {'export_format': 'cellpose'})"
   ]
  },
  {
   "cell_type": "markdown",
   "id": "9b96167d",
   "metadata": {},
   "source": [
    "From here use the cellpose gui to train a model for use"
   ]
  },
  {
   "cell_type": "code",
   "execution_count": null,
   "id": "ce4c29d9",
   "metadata": {},
   "outputs": [],
   "source": []
  }
 ],
 "metadata": {
  "kernelspec": {
   "display_name": ".venv",
   "language": "python",
   "name": "python3"
  },
  "language_info": {
   "codemirror_mode": {
    "name": "ipython",
    "version": 3
   },
   "file_extension": ".py",
   "mimetype": "text/x-python",
   "name": "python",
   "nbconvert_exporter": "python",
   "pygments_lexer": "ipython3",
   "version": "3.12.5"
  }
 },
 "nbformat": 4,
 "nbformat_minor": 5
}
