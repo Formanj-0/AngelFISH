{
 "cells": [
  {
   "cell_type": "code",
   "execution_count": null,
   "id": "127b5ce8",
   "metadata": {},
   "outputs": [],
   "source": [
    "import matplotlib.pyplot as plt\n",
    "import sys\n",
    "import logging\n",
    "import os\n",
    "from cellpose import models, train\n",
    "from sklearn.model_selection import train_test_split\n",
    "import napari\n",
    "from magicgui import magicgui\n",
    "import numpy as np\n",
    "from tifffile import imwrite\n",
    "\n",
    "src_path = os.path.dirname(os.getcwd())\n",
    "sys.path.append(src_path)\n",
    "logging.getLogger().setLevel(logging.WARNING)\n",
    "logging.getLogger('napari').setLevel(logging.WARNING)\n",
    "logging.getLogger('in_n_out').setLevel(logging.WARNING)\n",
    "logging.getLogger('numcodecs').setLevel(logging.WARNING)\n",
    "logging.getLogger('numba').setLevel(logging.WARNING)\n",
    "\n",
    "from src import Receipt, load_data\n",
    "from src.steps import download_data, return_data"
   ]
  },
  {
   "cell_type": "code",
   "execution_count": null,
   "id": "6eb28ad2",
   "metadata": {},
   "outputs": [],
   "source": [
    "receipt = Receipt(\n",
    "    analysis_name = 'cellpose_segmentation',\n",
    "    nas_location = r'Users\\Jack\\_ImageDatasets\\IntronDiffusion\\08072025_TriptolideTimeSeries_JF001\\JF001_15min_5uM_3',\n",
    "    local_location = None,\n",
    "    data_loader = 'pycromanager_data_loader'\n",
    "    )"
   ]
  },
  {
   "cell_type": "code",
   "execution_count": null,
   "id": "79be0d31",
   "metadata": {},
   "outputs": [],
   "source": [
    "receipt = download_data(receipt, 'download_data').process()"
   ]
  },
  {
   "cell_type": "code",
   "execution_count": null,
   "id": "55cb582b",
   "metadata": {
    "tags": [
     "parameters"
    ]
   },
   "outputs": [],
   "source": [
    "# Parameters\n",
    "mask_name = 'handseg_MCPGFP_2'\n",
    "channel_of_interest = 1\n",
    "model_name = 'DEFAULT_MODEL'\n",
    "do_3d = False"
   ]
  },
  {
   "cell_type": "code",
   "execution_count": null,
   "id": "c24cf965",
   "metadata": {},
   "outputs": [],
   "source": [
    "data = load_data(receipt)\n",
    "images = data['images'][:,:,channel_of_interest,:,:,:]\n",
    "\n",
    "# Start viewer\n",
    "viewer = napari.Viewer()\n",
    "\n",
    "# Add image and labels\n",
    "viewer.add_image(images, name=\"image\")\n",
    "\n",
    "# Run Napari\n",
    "napari.run()\n",
    "\n"
   ]
  },
  {
   "cell_type": "code",
   "execution_count": null,
   "id": "b804ae6f",
   "metadata": {},
   "outputs": [],
   "source": [
    "# After closing viewer, retrieve labels array\n",
    "final_labels = viewer.layers['Labels'].data\n",
    "imwrite(os.path.join(receipt['dirs']['masks_dir'], f'{mask_name}.tif'), final_labels)\n",
    "\n",
    "print(\"Labels shape:\", final_labels.shape)\n",
    "print(\"Unique labels:\", np.unique(final_labels))"
   ]
  },
  {
   "cell_type": "code",
   "execution_count": null,
   "id": "d585026d",
   "metadata": {},
   "outputs": [],
   "source": [
    "return_data(receipt, 'return_data').process()"
   ]
  },
  {
   "cell_type": "code",
   "execution_count": null,
   "id": "9ba73903",
   "metadata": {},
   "outputs": [],
   "source": [
    "# load data\n",
    "data = load_data(receipt)\n",
    "images = data['images'][:,:,channel_of_interest,:,:,:]\n",
    "labels = data[mask_name]\n",
    "\n",
    "# image_list = [np.expand_dims(np.asarray(images[p, t]), axis=-1) for p in range(images.shape[0]) for t in range(images.shape[1])]\n",
    "if do_3d:\n",
    "    image_list = [np.asarray(images[p, t]) for p in range(images.shape[0]) for t in range(images.shape[1])]\n",
    "    label_list = [np.asarray(labels[p, t]) for p in range(labels.shape[0]) for t in range(labels.shape[1])]\n",
    "else:\n",
    "    image_list = [np.max(np.asarray(images[p, t]),axis=0) for p in range(images.shape[0]) for t in range(images.shape[1])]\n",
    "    label_list = [np.max(np.asarray(labels[p, t]),axis=0) for p in range(labels.shape[0]) for t in range(labels.shape[1])]\n",
    "\n",
    "image_list = [im[np.newaxis, ...] for im in image_list]\n",
    "# label_list = [lbl[np.newaxis, ...] for lbl in label_list]\n",
    "\n",
    "# split data\n",
    "training_images, testing_images, training_labels, testing_labels = train_test_split(\n",
    "    image_list, label_list, test_size=0.2, random_state=42\n",
    ")\n",
    "\n",
    "# assert np.all(im.shape == lbl.shape for im, lbl in zip(training_images, training_labels))\n",
    "# assert np.all(im.shape == lbl.shape for im, lbl in zip(testing_images, testing_labels))\n",
    "\n",
    "# train new model\n",
    "model = models.CellposeModel(gpu=True, model_type='livecell')\n",
    "\n",
    "path = train.train_seg(model.net,\n",
    "                    train_data=training_images, \n",
    "                    train_labels=training_labels,\n",
    "                    test_data=testing_images, \n",
    "                    test_labels=testing_labels,\n",
    "                    channel_axis=0,\n",
    "                    weight_decay=0.1, \n",
    "                    learning_rate=1e-5,\n",
    "                    n_epochs=100, \n",
    "                    model_name=model_name, \n",
    "                    min_train_masks=1\n",
    "                    )\n",
    "\n"
   ]
  },
  {
   "cell_type": "code",
   "execution_count": null,
   "id": "a99d198a",
   "metadata": {},
   "outputs": [],
   "source": [
    "# train_losses = model.net.train_losses\n",
    "# test_losses = model.net.test_losses\n",
    "\n",
    "# # display losses\n",
    "# plt.figure(figsize=(10, 5))\n",
    "# plt.plot(train_losses, label='Training Loss')\n",
    "# plt.plot(test_losses, label='Testing Loss')\n",
    "# plt.xlabel('Epoch')\n",
    "# plt.ylabel('Loss')\n",
    "# plt.legend()\n",
    "# plt.title('Training and Testing Losses')\n",
    "# plt.show()"
   ]
  },
  {
   "cell_type": "code",
   "execution_count": null,
   "id": "1eef082f",
   "metadata": {},
   "outputs": [],
   "source": []
  }
 ],
 "metadata": {
  "kernelspec": {
   "display_name": ".venv (3.12.5)",
   "language": "python",
   "name": "python3"
  },
  "language_info": {
   "codemirror_mode": {
    "name": "ipython",
    "version": 3
   },
   "file_extension": ".py",
   "mimetype": "text/x-python",
   "name": "python",
   "nbconvert_exporter": "python",
   "pygments_lexer": "ipython3",
   "version": "3.12.5"
  }
 },
 "nbformat": 4,
 "nbformat_minor": 5
}
