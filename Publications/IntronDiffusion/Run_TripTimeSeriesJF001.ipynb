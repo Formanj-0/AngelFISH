{
 "cells": [
  {
   "cell_type": "code",
   "execution_count": 2,
   "id": "9f504df4",
   "metadata": {},
   "outputs": [],
   "source": [
    "import matplotlib.pyplot as plt\n",
    "import sys\n",
    "import logging\n",
    "import os\n",
    "sys.path.append(os.path.join('..','..', '..'))\n",
    "logging.getLogger().setLevel(logging.WARNING)\n",
    "logging.getLogger('napari').setLevel(logging.WARNING)\n",
    "logging.getLogger('in_n_out').setLevel(logging.WARNING)\n",
    "logging.getLogger('numcodecs').setLevel(logging.WARNING)\n",
    "logging.getLogger('numba').setLevel(logging.WARNING)\n",
    "\n",
    "from AngelFISH.src import run_pipeline_remote, run_pipeline\n"
   ]
  },
  {
   "cell_type": "code",
   "execution_count": 3,
   "id": "f27855e1",
   "metadata": {},
   "outputs": [],
   "source": [
    "receipt_path = 'TripTimeSeriesJF001.json'"
   ]
  },
  {
   "cell_type": "code",
   "execution_count": 4,
   "id": "0a718f08",
   "metadata": {},
   "outputs": [],
   "source": [
    "paths = [\n",
    "    r\"Users\\Jack\\_ImageDatasets\\IntronDiffusion\\08072025_TriptolideTimeSeries_JF001\\JF001_0min_5uM_8\",\n",
    "    r\"Users\\Jack\\_ImageDatasets\\IntronDiffusion\\08072025_TriptolideTimeSeries_JF001\\JF001_0min_5uM_10\",\n",
    "    r\"Users\\Jack\\_ImageDatasets\\IntronDiffusion\\08072025_TriptolideTimeSeries_JF001\\JF001_3min_5uM_3\",\n",
    "    r\"Users\\Jack\\_ImageDatasets\\IntronDiffusion\\08072025_TriptolideTimeSeries_JF001\\JF001_3min_5uM_5\",\n",
    "    r\"Users\\Jack\\_ImageDatasets\\IntronDiffusion\\08072025_TriptolideTimeSeries_JF001\\JF001_5min_5uM_3\",\n",
    "    r\"Users\\Jack\\_ImageDatasets\\IntronDiffusion\\08072025_TriptolideTimeSeries_JF001\\JF001_5min_5uM_5\",\n",
    "    r\"Users\\Jack\\_ImageDatasets\\IntronDiffusion\\08072025_TriptolideTimeSeries_JF001\\JF001_10min_5uM_3\",\n",
    "    r\"Users\\Jack\\_ImageDatasets\\IntronDiffusion\\08072025_TriptolideTimeSeries_JF001\\JF001_10min_5uM_5\",\n",
    "    r\"Users\\Jack\\_ImageDatasets\\IntronDiffusion\\08072025_TriptolideTimeSeries_JF001\\JF001_15min_5uM_3\",\n",
    "    r\"Users\\Jack\\_ImageDatasets\\IntronDiffusion\\08072025_TriptolideTimeSeries_JF001\\JF001_15min_5uM_5\",\n",
    "    r\"Users\\Jack\\_ImageDatasets\\IntronDiffusion\\08072025_TriptolideTimeSeries_JF001\\JF001_30min_5uM_3\",\n",
    "    r\"Users\\Jack\\_ImageDatasets\\IntronDiffusion\\08072025_TriptolideTimeSeries_JF001\\JF001_30min_5uM_5\",\n",
    "    r\"Users\\Jack\\_ImageDatasets\\IntronDiffusion\\08072025_TriptolideTimeSeries_JF001\\JF001_45min_5uM_3\",\n",
    "    r\"Users\\Jack\\_ImageDatasets\\IntronDiffusion\\08072025_TriptolideTimeSeries_JF001\\JF001_45min_5uM_5\",\n",
    "    r\"Users\\Jack\\_ImageDatasets\\IntronDiffusion\\08072025_TriptolideTimeSeries_JF001\\JF001_60min_5uM_3\",\n",
    "    r\"Users\\Jack\\_ImageDatasets\\IntronDiffusion\\08072025_TriptolideTimeSeries_JF001\\JF001_60min_5uM_5\",\n",
    "    r\"Users\\Jack\\_ImageDatasets\\IntronDiffusion\\08072025_TriptolideTimeSeries_JF001\\JF001_90min_5uM_3\",\n",
    "    r\"Users\\Jack\\_ImageDatasets\\IntronDiffusion\\08072025_TriptolideTimeSeries_JF001\\JF001_90min_5uM_5\",\n",
    "    r\"Users\\Jack\\_ImageDatasets\\IntronDiffusion\\08072025_TriptolideTimeSeries_JF001\\JF001_120min_5uM_3\",\n",
    "    r\"Users\\Jack\\_ImageDatasets\\IntronDiffusion\\08072025_TriptolideTimeSeries_JF001\\JF001_120min_5uM_5\",\n",
    "    r\"Users\\Jack\\_ImageDatasets\\IntronDiffusion\\08072025_TriptolideTimeSeries_JF001\\JF001_180min_5uM_3\",\n",
    "]"
   ]
  },
  {
   "cell_type": "code",
   "execution_count": 6,
   "id": "b3270700",
   "metadata": {},
   "outputs": [
    {
     "name": "stdout",
     "output_type": "stream",
     "text": [
      "local file already exist\n",
      "Dataset opened                \n",
      "Dataset opened                \n",
      "Detecting Spots\n"
     ]
    },
    {
     "name": "stderr",
     "output_type": "stream",
     "text": [
      "c:\\Users\\Jack\\Documents\\GitHub\\AngelFISH\\Publications\\IntronDiffusion\\..\\..\\..\\AngelFISH\\src\\Steps\\Detect_Spots.py:911: RuntimeWarning: overflow encountered in scalar negative\n",
      "  spot_background[:, edge_background_yx:-edge_background_yx, edge_background_yx:-edge_background_yx] = -1\n"
     ]
    },
    {
     "name": "stdout",
     "output_type": "stream",
     "text": [
      "median SNR: 4.721436760016404\n",
      "mean SNR: 5.6234146838590435\n",
      "SNR threshold: 0.0\n",
      "Number of spots before SNR filtering: 788\n",
      "Number of spots after SNR filtering: 785\n",
      "Extracting Cell Results from masks\n",
      "Computing Spot Properties\n",
      "Standardizing Data\n",
      "Complete Spot Detection\n",
      "Detecting Spots\n"
     ]
    },
    {
     "name": "stderr",
     "output_type": "stream",
     "text": [
      "c:\\Users\\Jack\\Documents\\GitHub\\AngelFISH\\Publications\\IntronDiffusion\\..\\..\\..\\AngelFISH\\src\\Steps\\Detect_Spots.py:911: RuntimeWarning: overflow encountered in scalar negative\n",
      "  spot_background[:, edge_background_yx:-edge_background_yx, edge_background_yx:-edge_background_yx] = -1\n",
      "c:\\Users\\Jack\\Documents\\GitHub\\AngelFISH\\Publications\\IntronDiffusion\\..\\..\\..\\AngelFISH\\src\\Steps\\Detect_Spots.py:911: RuntimeWarning: overflow encountered in scalar negative\n",
      "  spot_background[:, edge_background_yx:-edge_background_yx, edge_background_yx:-edge_background_yx] = -1\n"
     ]
    },
    {
     "name": "stdout",
     "output_type": "stream",
     "text": [
      "median SNR: 4.757044420287157\n",
      "mean SNR: 5.862560953669849\n",
      "SNR threshold: 0.0\n",
      "Number of spots before SNR filtering: 469\n",
      "Number of spots after SNR filtering: 469\n",
      "Extracting Cell Results from masks\n",
      "Computing Spot Properties\n",
      "Standardizing Data\n",
      "Complete Spot Detection\n",
      "Detecting Spots\n"
     ]
    },
    {
     "name": "stderr",
     "output_type": "stream",
     "text": [
      "c:\\Users\\Jack\\Documents\\GitHub\\AngelFISH\\Publications\\IntronDiffusion\\..\\..\\..\\AngelFISH\\src\\Steps\\Detect_Spots.py:911: RuntimeWarning: overflow encountered in scalar negative\n",
      "  spot_background[:, edge_background_yx:-edge_background_yx, edge_background_yx:-edge_background_yx] = -1\n",
      "c:\\Users\\Jack\\Documents\\GitHub\\AngelFISH\\Publications\\IntronDiffusion\\..\\..\\..\\AngelFISH\\src\\Steps\\Detect_Spots.py:911: RuntimeWarning: overflow encountered in scalar negative\n",
      "  spot_background[:, edge_background_yx:-edge_background_yx, edge_background_yx:-edge_background_yx] = -1\n"
     ]
    },
    {
     "name": "stdout",
     "output_type": "stream",
     "text": [
      "median SNR: 4.950558213029452\n",
      "mean SNR: 6.172300772370237\n",
      "SNR threshold: 0.0\n",
      "Number of spots before SNR filtering: 335\n",
      "Number of spots after SNR filtering: 331\n",
      "Extracting Cell Results from masks\n",
      "Computing Spot Properties\n",
      "Standardizing Data\n",
      "Complete Spot Detection\n",
      "Detecting Spots\n"
     ]
    },
    {
     "name": "stderr",
     "output_type": "stream",
     "text": [
      "c:\\Users\\Jack\\Documents\\GitHub\\AngelFISH\\Publications\\IntronDiffusion\\..\\..\\..\\AngelFISH\\src\\Steps\\Detect_Spots.py:911: RuntimeWarning: overflow encountered in scalar negative\n",
      "  spot_background[:, edge_background_yx:-edge_background_yx, edge_background_yx:-edge_background_yx] = -1\n",
      "c:\\Users\\Jack\\Documents\\GitHub\\AngelFISH\\Publications\\IntronDiffusion\\..\\..\\..\\AngelFISH\\src\\Steps\\Detect_Spots.py:911: RuntimeWarning: overflow encountered in scalar negative\n",
      "  spot_background[:, edge_background_yx:-edge_background_yx, edge_background_yx:-edge_background_yx] = -1\n"
     ]
    },
    {
     "name": "stdout",
     "output_type": "stream",
     "text": [
      "median SNR: 2.480408023704506\n",
      "mean SNR: 2.7616123616761294\n",
      "SNR threshold: 0.0\n",
      "Number of spots before SNR filtering: 381\n",
      "Number of spots after SNR filtering: 380\n",
      "Extracting Cell Results from masks\n",
      "Computing Spot Properties\n",
      "Standardizing Data\n",
      "Complete Spot Detection\n",
      "Detecting Spots\n"
     ]
    },
    {
     "name": "stderr",
     "output_type": "stream",
     "text": [
      "c:\\Users\\Jack\\Documents\\GitHub\\AngelFISH\\Publications\\IntronDiffusion\\..\\..\\..\\AngelFISH\\src\\Steps\\Detect_Spots.py:911: RuntimeWarning: overflow encountered in scalar negative\n",
      "  spot_background[:, edge_background_yx:-edge_background_yx, edge_background_yx:-edge_background_yx] = -1\n",
      "c:\\Users\\Jack\\Documents\\GitHub\\AngelFISH\\Publications\\IntronDiffusion\\..\\..\\..\\AngelFISH\\src\\Steps\\Detect_Spots.py:911: RuntimeWarning: overflow encountered in scalar negative\n",
      "  spot_background[:, edge_background_yx:-edge_background_yx, edge_background_yx:-edge_background_yx] = -1\n"
     ]
    },
    {
     "name": "stdout",
     "output_type": "stream",
     "text": [
      "median SNR: 5.245100787717329\n",
      "mean SNR: 6.359127297860731\n",
      "SNR threshold: 0.0\n",
      "Number of spots before SNR filtering: 609\n",
      "Number of spots after SNR filtering: 608\n",
      "Extracting Cell Results from masks\n",
      "Computing Spot Properties\n",
      "Standardizing Data\n",
      "Complete Spot Detection\n",
      "Detecting Spots\n"
     ]
    },
    {
     "name": "stderr",
     "output_type": "stream",
     "text": [
      "c:\\Users\\Jack\\Documents\\GitHub\\AngelFISH\\Publications\\IntronDiffusion\\..\\..\\..\\AngelFISH\\src\\Steps\\Detect_Spots.py:911: RuntimeWarning: overflow encountered in scalar negative\n",
      "  spot_background[:, edge_background_yx:-edge_background_yx, edge_background_yx:-edge_background_yx] = -1\n",
      "c:\\Users\\Jack\\Documents\\GitHub\\AngelFISH\\Publications\\IntronDiffusion\\..\\..\\..\\AngelFISH\\src\\Steps\\Detect_Spots.py:911: RuntimeWarning: overflow encountered in scalar negative\n",
      "  spot_background[:, edge_background_yx:-edge_background_yx, edge_background_yx:-edge_background_yx] = -1\n"
     ]
    },
    {
     "name": "stdout",
     "output_type": "stream",
     "text": [
      "median SNR: 4.960177679662865\n",
      "mean SNR: 5.949764809311606\n",
      "SNR threshold: 0.0\n",
      "Number of spots before SNR filtering: 195\n",
      "Number of spots after SNR filtering: 194\n",
      "Extracting Cell Results from masks\n",
      "Computing Spot Properties\n",
      "Standardizing Data\n",
      "Complete Spot Detection\n",
      "Detecting Spots\n"
     ]
    },
    {
     "name": "stderr",
     "output_type": "stream",
     "text": [
      "c:\\Users\\Jack\\Documents\\GitHub\\AngelFISH\\Publications\\IntronDiffusion\\..\\..\\..\\AngelFISH\\src\\Steps\\Detect_Spots.py:911: RuntimeWarning: overflow encountered in scalar negative\n",
      "  spot_background[:, edge_background_yx:-edge_background_yx, edge_background_yx:-edge_background_yx] = -1\n",
      "c:\\Users\\Jack\\Documents\\GitHub\\AngelFISH\\Publications\\IntronDiffusion\\..\\..\\..\\AngelFISH\\src\\Steps\\Detect_Spots.py:911: RuntimeWarning: overflow encountered in scalar negative\n",
      "  spot_background[:, edge_background_yx:-edge_background_yx, edge_background_yx:-edge_background_yx] = -1\n"
     ]
    },
    {
     "name": "stdout",
     "output_type": "stream",
     "text": [
      "median SNR: 2.857788802015865\n",
      "mean SNR: 3.3702400565070896\n",
      "SNR threshold: 0.0\n",
      "Number of spots before SNR filtering: 293\n",
      "Number of spots after SNR filtering: 291\n",
      "Extracting Cell Results from masks\n",
      "Computing Spot Properties\n",
      "Standardizing Data\n",
      "Complete Spot Detection\n",
      "Detecting Spots\n"
     ]
    },
    {
     "name": "stderr",
     "output_type": "stream",
     "text": [
      "c:\\Users\\Jack\\Documents\\GitHub\\AngelFISH\\Publications\\IntronDiffusion\\..\\..\\..\\AngelFISH\\src\\Steps\\Detect_Spots.py:911: RuntimeWarning: overflow encountered in scalar negative\n",
      "  spot_background[:, edge_background_yx:-edge_background_yx, edge_background_yx:-edge_background_yx] = -1\n",
      "c:\\Users\\Jack\\Documents\\GitHub\\AngelFISH\\Publications\\IntronDiffusion\\..\\..\\..\\AngelFISH\\src\\Steps\\Detect_Spots.py:911: RuntimeWarning: overflow encountered in scalar negative\n",
      "  spot_background[:, edge_background_yx:-edge_background_yx, edge_background_yx:-edge_background_yx] = -1\n"
     ]
    },
    {
     "name": "stdout",
     "output_type": "stream",
     "text": [
      "median SNR: 2.906137275002499\n",
      "mean SNR: 3.507418125107285\n",
      "SNR threshold: 0.0\n",
      "Number of spots before SNR filtering: 145\n",
      "Number of spots after SNR filtering: 143\n",
      "Extracting Cell Results from masks\n",
      "Computing Spot Properties\n",
      "Standardizing Data\n",
      "Complete Spot Detection\n",
      "Detecting Spots\n"
     ]
    },
    {
     "name": "stderr",
     "output_type": "stream",
     "text": [
      "c:\\Users\\Jack\\Documents\\GitHub\\AngelFISH\\Publications\\IntronDiffusion\\..\\..\\..\\AngelFISH\\src\\Steps\\Detect_Spots.py:911: RuntimeWarning: overflow encountered in scalar negative\n",
      "  spot_background[:, edge_background_yx:-edge_background_yx, edge_background_yx:-edge_background_yx] = -1\n",
      "c:\\Users\\Jack\\Documents\\GitHub\\AngelFISH\\Publications\\IntronDiffusion\\..\\..\\..\\AngelFISH\\src\\Steps\\Detect_Spots.py:911: RuntimeWarning: overflow encountered in scalar negative\n",
      "  spot_background[:, edge_background_yx:-edge_background_yx, edge_background_yx:-edge_background_yx] = -1\n"
     ]
    },
    {
     "name": "stdout",
     "output_type": "stream",
     "text": [
      "median SNR: 4.198135412707119\n",
      "mean SNR: 5.214066076687948\n",
      "SNR threshold: 0.0\n",
      "Number of spots before SNR filtering: 328\n",
      "Number of spots after SNR filtering: 325\n",
      "Extracting Cell Results from masks\n",
      "Computing Spot Properties\n",
      "Standardizing Data\n",
      "Complete Spot Detection\n",
      "Detecting Spots\n"
     ]
    },
    {
     "name": "stderr",
     "output_type": "stream",
     "text": [
      "c:\\Users\\Jack\\Documents\\GitHub\\AngelFISH\\Publications\\IntronDiffusion\\..\\..\\..\\AngelFISH\\src\\Steps\\Detect_Spots.py:911: RuntimeWarning: overflow encountered in scalar negative\n",
      "  spot_background[:, edge_background_yx:-edge_background_yx, edge_background_yx:-edge_background_yx] = -1\n",
      "c:\\Users\\Jack\\Documents\\GitHub\\AngelFISH\\Publications\\IntronDiffusion\\..\\..\\..\\AngelFISH\\src\\Steps\\Detect_Spots.py:911: RuntimeWarning: overflow encountered in scalar negative\n",
      "  spot_background[:, edge_background_yx:-edge_background_yx, edge_background_yx:-edge_background_yx] = -1\n"
     ]
    },
    {
     "name": "stdout",
     "output_type": "stream",
     "text": [
      "median SNR: 5.0895389107842375\n",
      "mean SNR: 6.149699230831817\n",
      "SNR threshold: 0.0\n",
      "Number of spots before SNR filtering: 396\n",
      "Number of spots after SNR filtering: 394\n",
      "Extracting Cell Results from masks\n",
      "Computing Spot Properties\n",
      "Standardizing Data\n",
      "Complete Spot Detection\n",
      "Detecting Spots\n"
     ]
    },
    {
     "name": "stderr",
     "output_type": "stream",
     "text": [
      "c:\\Users\\Jack\\Documents\\GitHub\\AngelFISH\\Publications\\IntronDiffusion\\..\\..\\..\\AngelFISH\\src\\Steps\\Detect_Spots.py:911: RuntimeWarning: overflow encountered in scalar negative\n",
      "  spot_background[:, edge_background_yx:-edge_background_yx, edge_background_yx:-edge_background_yx] = -1\n",
      "c:\\Users\\Jack\\Documents\\GitHub\\AngelFISH\\Publications\\IntronDiffusion\\..\\..\\..\\AngelFISH\\src\\Steps\\Detect_Spots.py:911: RuntimeWarning: overflow encountered in scalar negative\n",
      "  spot_background[:, edge_background_yx:-edge_background_yx, edge_background_yx:-edge_background_yx] = -1\n"
     ]
    },
    {
     "name": "stdout",
     "output_type": "stream",
     "text": [
      "median SNR: 4.477662565991392\n",
      "mean SNR: 5.259287761610442\n",
      "SNR threshold: 0.0\n",
      "Number of spots before SNR filtering: 251\n",
      "Number of spots after SNR filtering: 251\n",
      "Extracting Cell Results from masks\n",
      "Computing Spot Properties\n",
      "Standardizing Data\n",
      "Complete Spot Detection\n",
      "Detecting Spots\n"
     ]
    },
    {
     "name": "stderr",
     "output_type": "stream",
     "text": [
      "c:\\Users\\Jack\\Documents\\GitHub\\AngelFISH\\Publications\\IntronDiffusion\\..\\..\\..\\AngelFISH\\src\\Steps\\Detect_Spots.py:911: RuntimeWarning: overflow encountered in scalar negative\n",
      "  spot_background[:, edge_background_yx:-edge_background_yx, edge_background_yx:-edge_background_yx] = -1\n"
     ]
    },
    {
     "ename": "KeyboardInterrupt",
     "evalue": "",
     "output_type": "error",
     "traceback": [
      "\u001b[1;31m---------------------------------------------------------------------------\u001b[0m",
      "\u001b[1;31mKeyboardInterrupt\u001b[0m                         Traceback (most recent call last)",
      "Cell \u001b[1;32mIn[6], line 1\u001b[0m\n\u001b[1;32m----> 1\u001b[0m \u001b[43mrun_pipeline\u001b[49m\u001b[43m(\u001b[49m\u001b[43mreceipt_path\u001b[49m\u001b[43m,\u001b[49m\u001b[43m \u001b[49m\u001b[43mnew_nas_loc\u001b[49m\u001b[38;5;241;43m=\u001b[39;49m\u001b[43mpaths\u001b[49m\u001b[43m[\u001b[49m\u001b[38;5;241;43m0\u001b[39;49m\u001b[43m]\u001b[49m\u001b[43m)\u001b[49m\n",
      "File \u001b[1;32mc:\\Users\\Jack\\Documents\\GitHub\\AngelFISH\\Publications\\IntronDiffusion\\..\\..\\..\\AngelFISH\\src\\Run_Pipeline.py:26\u001b[0m, in \u001b[0;36mrun_pipeline\u001b[1;34m(receipt_path, new_nas_loc, new_loc_loc)\u001b[0m\n\u001b[0;32m     24\u001b[0m receipt\u001b[38;5;241m.\u001b[39msave(new_receipt_path)\n\u001b[0;32m     25\u001b[0m \u001b[38;5;28;01mfor\u001b[39;00m sn \u001b[38;5;129;01min\u001b[39;00m receipt[\u001b[38;5;124m'\u001b[39m\u001b[38;5;124mstep_order\u001b[39m\u001b[38;5;124m'\u001b[39m]:\n\u001b[1;32m---> 26\u001b[0m     \u001b[43mrun_step\u001b[49m\u001b[43m(\u001b[49m\u001b[43mreceipt_path\u001b[49m\u001b[43m,\u001b[49m\u001b[43m \u001b[49m\u001b[43msn\u001b[49m\u001b[43m)\u001b[49m\n\u001b[0;32m     27\u001b[0m \u001b[38;5;28;01mreturn\u001b[39;00m receipt\n",
      "File \u001b[1;32mc:\\Users\\Jack\\Documents\\GitHub\\AngelFISH\\Publications\\IntronDiffusion\\..\\..\\..\\AngelFISH\\src\\Run_Pipeline.py:15\u001b[0m, in \u001b[0;36mrun_step\u001b[1;34m(receipt_path, step_name)\u001b[0m\n\u001b[0;32m     13\u001b[0m task_class \u001b[38;5;241m=\u001b[39m get_task(receipt[\u001b[38;5;124m'\u001b[39m\u001b[38;5;124msteps\u001b[39m\u001b[38;5;124m'\u001b[39m][step_name][\u001b[38;5;124m'\u001b[39m\u001b[38;5;124mtask_name\u001b[39m\u001b[38;5;124m'\u001b[39m])\n\u001b[0;32m     14\u001b[0m task \u001b[38;5;241m=\u001b[39m task_class(receipt, step_name)\n\u001b[1;32m---> 15\u001b[0m \u001b[43mtask\u001b[49m\u001b[38;5;241;43m.\u001b[39;49m\u001b[43mprocess\u001b[49m\u001b[43m(\u001b[49m\u001b[43m)\u001b[49m\n",
      "File \u001b[1;32mc:\\Users\\Jack\\Documents\\GitHub\\AngelFISH\\Publications\\IntronDiffusion\\..\\..\\..\\AngelFISH\\src\\Abstract_Task.py:143\u001b[0m, in \u001b[0;36mabstract_task.process\u001b[1;34m(self, new_params, p_range, t_range, run_in_parallel)\u001b[0m\n\u001b[0;32m    140\u001b[0m \u001b[38;5;28mself\u001b[39m\u001b[38;5;241m.\u001b[39mpreallocate_memmory()\n\u001b[0;32m    142\u001b[0m \u001b[38;5;66;03m# run image processing\u001b[39;00m\n\u001b[1;32m--> 143\u001b[0m \u001b[38;5;28;43mself\u001b[39;49m\u001b[38;5;241;43m.\u001b[39;49m\u001b[43miterate_over_data\u001b[49m\u001b[43m(\u001b[49m\u001b[43mp_range\u001b[49m\u001b[43m,\u001b[49m\u001b[43m \u001b[49m\u001b[43mt_range\u001b[49m\u001b[43m,\u001b[49m\u001b[43m \u001b[49m\u001b[43mrun_in_parallel\u001b[49m\u001b[43m)\u001b[49m\n\u001b[0;32m    145\u001b[0m \u001b[38;5;66;03m# compress and release memory\u001b[39;00m\n\u001b[0;32m    146\u001b[0m \u001b[38;5;28mself\u001b[39m\u001b[38;5;241m.\u001b[39mcompress_and_release_memory()\n",
      "File \u001b[1;32mc:\\Users\\Jack\\Documents\\GitHub\\AngelFISH\\Publications\\IntronDiffusion\\..\\..\\..\\AngelFISH\\src\\Abstract_Task.py:174\u001b[0m, in \u001b[0;36mabstract_task.iterate_over_data\u001b[1;34m(self, p_range, t_range, run_in_parallel)\u001b[0m\n\u001b[0;32m    172\u001b[0m \u001b[38;5;28;01mfor\u001b[39;00m t \u001b[38;5;129;01min\u001b[39;00m t_values:\n\u001b[0;32m    173\u001b[0m     extracted_args \u001b[38;5;241m=\u001b[39m \u001b[38;5;28mself\u001b[39m\u001b[38;5;241m.\u001b[39mextract_args(p,t)\n\u001b[1;32m--> 174\u001b[0m     results \u001b[38;5;241m=\u001b[39m \u001b[38;5;28;43mself\u001b[39;49m\u001b[38;5;241;43m.\u001b[39;49m\u001b[43mimage_processing_function\u001b[49m\u001b[43m(\u001b[49m\u001b[38;5;241;43m*\u001b[39;49m\u001b[38;5;241;43m*\u001b[39;49m\u001b[43mextracted_args\u001b[49m\u001b[43m)\u001b[49m \u001b[38;5;66;03m# runs image processing\u001b[39;00m\n\u001b[0;32m    175\u001b[0m     \u001b[38;5;28mself\u001b[39m\u001b[38;5;241m.\u001b[39mwrite_results(results, p, t)\n",
      "File \u001b[1;32mc:\\Users\\Jack\\Documents\\GitHub\\AngelFISH\\Publications\\IntronDiffusion\\..\\..\\..\\AngelFISH\\src\\Steps\\Detect_Spots.py:511\u001b[0m, in \u001b[0;36mdetect_spots.image_processing_function\u001b[1;34m(image, FISHChannel, voxel_size_yx, voxel_size_z, spot_yx, spot_z, timepoint, fov, nucChannel, nuc_mask, cell_mask, threshold, snr_threshold, snr_ratio, alpha, beta, gamma, cluster_radius, min_num_spot_per_cluster, use_log_hook, verbose, display_plots, use_pca, sub_pixel_fitting, minDistance, **kwargs)\u001b[0m\n\u001b[0;32m    509\u001b[0m \u001b[38;5;66;03m# detect spots\u001b[39;00m\n\u001b[0;32m    510\u001b[0m \u001b[38;5;28mprint\u001b[39m(\u001b[38;5;124m'\u001b[39m\u001b[38;5;124mDetecting Spots\u001b[39m\u001b[38;5;124m'\u001b[39m)\n\u001b[1;32m--> 511\u001b[0m spots_px, dense_regions, reference_spot, clusters, spots_subpx, threshold \u001b[38;5;241m=\u001b[39m \u001b[43mget_detected_spots\u001b[49m\u001b[43m(\u001b[49m\u001b[43m \u001b[49m\u001b[43mFISHChannel\u001b[49m\u001b[38;5;241;43m=\u001b[39;49m\u001b[43mc\u001b[49m\u001b[43m,\u001b[49m\n\u001b[0;32m    512\u001b[0m \u001b[43m    \u001b[49m\u001b[43mrna\u001b[49m\u001b[38;5;241;43m=\u001b[39;49m\u001b[43mrna\u001b[49m\u001b[43m,\u001b[49m\u001b[43m \u001b[49m\u001b[43mvoxel_size_yx\u001b[49m\u001b[38;5;241;43m=\u001b[39;49m\u001b[43mvoxel_size_yx\u001b[49m\u001b[43m,\u001b[49m\u001b[43m \u001b[49m\u001b[43mvoxel_size_z\u001b[49m\u001b[38;5;241;43m=\u001b[39;49m\u001b[43mvoxel_size_z\u001b[49m\u001b[43m,\u001b[49m\u001b[43m \u001b[49m\u001b[43mspot_yx\u001b[49m\u001b[38;5;241;43m=\u001b[39;49m\u001b[43mspot_yx\u001b[49m\u001b[43m,\u001b[49m\u001b[43m \u001b[49m\u001b[43mspot_z\u001b[49m\u001b[38;5;241;43m=\u001b[39;49m\u001b[43mspot_z\u001b[49m\u001b[43m,\u001b[49m\u001b[43m \u001b[49m\u001b[43malpha\u001b[49m\u001b[38;5;241;43m=\u001b[39;49m\u001b[43malpha\u001b[49m\u001b[43m,\u001b[49m\n\u001b[0;32m    513\u001b[0m \u001b[43m    \u001b[49m\u001b[43mbeta\u001b[49m\u001b[38;5;241;43m=\u001b[39;49m\u001b[43mbeta\u001b[49m\u001b[43m,\u001b[49m\u001b[43m \u001b[49m\u001b[43mgamma\u001b[49m\u001b[38;5;241;43m=\u001b[39;49m\u001b[43mgamma\u001b[49m\u001b[43m,\u001b[49m\u001b[43m \u001b[49m\u001b[43mCLUSTER_RADIUS\u001b[49m\u001b[38;5;241;43m=\u001b[39;49m\u001b[43mcluster_radius\u001b[49m\u001b[43m,\u001b[49m\u001b[43m \u001b[49m\u001b[43mMIN_NUM_SPOT_FOR_CLUSTER\u001b[49m\u001b[38;5;241;43m=\u001b[39;49m\u001b[43mmin_num_spot_per_cluster\u001b[49m\u001b[43m,\u001b[49m\u001b[43m \u001b[49m\n\u001b[0;32m    514\u001b[0m \u001b[43m    \u001b[49m\u001b[43mbigfish_threshold\u001b[49m\u001b[38;5;241;43m=\u001b[39;49m\u001b[43mthreshold\u001b[49m\u001b[43m,\u001b[49m\u001b[43m \u001b[49m\u001b[43muse_log_hook\u001b[49m\u001b[38;5;241;43m=\u001b[39;49m\u001b[43muse_log_hook\u001b[49m\u001b[43m,\u001b[49m\u001b[43m \u001b[49m\u001b[43mverbose\u001b[49m\u001b[38;5;241;43m=\u001b[39;49m\u001b[43mverbose\u001b[49m\u001b[43m,\u001b[49m\u001b[43m \u001b[49m\u001b[43mdisplay_plots\u001b[49m\u001b[38;5;241;43m=\u001b[39;49m\u001b[43mdisplay_plots\u001b[49m\u001b[43m,\u001b[49m\u001b[43m \u001b[49m\u001b[43msub_pixel_fitting\u001b[49m\u001b[38;5;241;43m=\u001b[39;49m\u001b[43msub_pixel_fitting\u001b[49m\u001b[43m,\u001b[49m\n\u001b[0;32m    515\u001b[0m \u001b[43m    \u001b[49m\u001b[43mminimum_distance\u001b[49m\u001b[38;5;241;43m=\u001b[39;49m\u001b[43mminDistance\u001b[49m\u001b[43m,\u001b[49m\u001b[43m \u001b[49m\u001b[43muse_pca\u001b[49m\u001b[38;5;241;43m=\u001b[39;49m\u001b[43muse_pca\u001b[49m\u001b[43m,\u001b[49m\u001b[43m \u001b[49m\u001b[43msnr_threshold\u001b[49m\u001b[38;5;241;43m=\u001b[39;49m\u001b[43msnr_threshold\u001b[49m\u001b[43m,\u001b[49m\u001b[43m \u001b[49m\u001b[43msnr_ratio\u001b[49m\u001b[38;5;241;43m=\u001b[39;49m\u001b[43msnr_ratio\u001b[49m\u001b[43m,\u001b[49m\u001b[43m \u001b[49m\u001b[38;5;241;43m*\u001b[39;49m\u001b[38;5;241;43m*\u001b[39;49m\u001b[43mkwargs\u001b[49m\u001b[43m)\u001b[49m\n\u001b[0;32m    517\u001b[0m \u001b[38;5;28mprint\u001b[39m(\u001b[38;5;124m'\u001b[39m\u001b[38;5;124mExtracting Cell Results from masks\u001b[39m\u001b[38;5;124m'\u001b[39m)\n\u001b[0;32m    518\u001b[0m cell_results, spots_px, clusters \u001b[38;5;241m=\u001b[39m extract_cell_level_results(image, spots_px, clusters, nucChannel, FISHChannel[c], \n\u001b[0;32m    519\u001b[0m                                                 nuc_mask, cell_mask, timepoint, fov,\n\u001b[0;32m    520\u001b[0m                                                 verbose, display_plots)\n",
      "File \u001b[1;32mc:\\Users\\Jack\\Documents\\GitHub\\AngelFISH\\Publications\\IntronDiffusion\\..\\..\\..\\AngelFISH\\src\\Steps\\Detect_Spots.py:160\u001b[0m, in \u001b[0;36mdetect_spots.image_processing_function.<locals>.get_detected_spots\u001b[1;34m(FISHChannel, rna, voxel_size_yx, voxel_size_z, spot_yx, spot_z, alpha, beta, gamma, CLUSTER_RADIUS, MIN_NUM_SPOT_FOR_CLUSTER, use_log_hook, verbose, display_plots, sub_pixel_fitting, minimum_distance, use_pca, snr_threshold, snr_ratio, bigfish_threshold, **kwargs)\u001b[0m\n\u001b[0;32m    157\u001b[0m \u001b[38;5;28;01melse\u001b[39;00m:\n\u001b[0;32m    158\u001b[0m     spot_radius_px \u001b[38;5;241m=\u001b[39m \u001b[38;5;28;01mNone\u001b[39;00m\n\u001b[1;32m--> 160\u001b[0m canidate_spots, individual_thershold \u001b[38;5;241m=\u001b[39m \u001b[43mdetection\u001b[49m\u001b[38;5;241;43m.\u001b[39;49m\u001b[43mdetect_spots\u001b[49m\u001b[43m(\u001b[49m\n\u001b[0;32m    161\u001b[0m \u001b[43m                                \u001b[49m\u001b[43mimages\u001b[49m\u001b[38;5;241;43m=\u001b[39;49m\u001b[43mrna\u001b[49m\u001b[43m,\u001b[49m\u001b[43m \u001b[49m\n\u001b[0;32m    162\u001b[0m \u001b[43m                                \u001b[49m\u001b[43mreturn_threshold\u001b[49m\u001b[38;5;241;43m=\u001b[39;49m\u001b[38;5;28;43;01mTrue\u001b[39;49;00m\u001b[43m,\u001b[49m\u001b[43m \u001b[49m\n\u001b[0;32m    163\u001b[0m \u001b[43m                                \u001b[49m\u001b[43mthreshold\u001b[49m\u001b[38;5;241;43m=\u001b[39;49m\u001b[43mthreshold\u001b[49m\u001b[43m,\u001b[49m\n\u001b[0;32m    164\u001b[0m \u001b[43m                                \u001b[49m\u001b[43mvoxel_size\u001b[49m\u001b[38;5;241;43m=\u001b[39;49m\u001b[43mvoxel_size_nm\u001b[49m\u001b[43m \u001b[49m\u001b[38;5;28;43;01mif\u001b[39;49;00m\u001b[43m \u001b[49m\u001b[38;5;129;43;01mnot\u001b[39;49;00m\u001b[43m \u001b[49m\u001b[43muse_log_hook\u001b[49m\u001b[43m \u001b[49m\u001b[38;5;28;43;01melse\u001b[39;49;00m\u001b[43m \u001b[49m\u001b[38;5;28;43;01mNone\u001b[39;49;00m\u001b[43m,\u001b[49m\n\u001b[0;32m    165\u001b[0m \u001b[43m                                \u001b[49m\u001b[43mspot_radius\u001b[49m\u001b[38;5;241;43m=\u001b[39;49m\u001b[43mspot_size_nm\u001b[49m\u001b[43m \u001b[49m\u001b[38;5;28;43;01mif\u001b[39;49;00m\u001b[43m \u001b[49m\u001b[38;5;129;43;01mnot\u001b[39;49;00m\u001b[43m \u001b[49m\u001b[43muse_log_hook\u001b[49m\u001b[43m \u001b[49m\u001b[38;5;28;43;01melse\u001b[39;49;00m\u001b[43m \u001b[49m\u001b[38;5;28;43;01mNone\u001b[39;49;00m\u001b[43m,\u001b[49m\n\u001b[0;32m    166\u001b[0m \u001b[43m                                \u001b[49m\u001b[43mlog_kernel_size\u001b[49m\u001b[38;5;241;43m=\u001b[39;49m\u001b[43mspot_radius_px\u001b[49m\u001b[43m \u001b[49m\u001b[38;5;28;43;01mif\u001b[39;49;00m\u001b[43m \u001b[49m\u001b[43muse_log_hook\u001b[49m\u001b[43m \u001b[49m\u001b[38;5;28;43;01melse\u001b[39;49;00m\u001b[43m \u001b[49m\u001b[38;5;28;43;01mNone\u001b[39;49;00m\u001b[43m,\u001b[49m\n\u001b[0;32m    167\u001b[0m \u001b[43m                                \u001b[49m\u001b[43mminimum_distance\u001b[49m\u001b[38;5;241;43m=\u001b[39;49m\u001b[43mspot_radius_px\u001b[49m\u001b[43m \u001b[49m\u001b[38;5;28;43;01mif\u001b[39;49;00m\u001b[43m \u001b[49m\u001b[43muse_log_hook\u001b[49m\u001b[43m \u001b[49m\u001b[38;5;28;43;01melse\u001b[39;49;00m\u001b[43m \u001b[49m\u001b[38;5;28;43;01mNone\u001b[39;49;00m\u001b[43m,\u001b[49m\u001b[43m)\u001b[49m\n\u001b[0;32m    169\u001b[0m \u001b[38;5;28;01mif\u001b[39;00m use_pca:\n\u001b[0;32m    170\u001b[0m     \u001b[38;5;66;03m# lets try log filter\u001b[39;00m\n\u001b[0;32m    171\u001b[0m     log \u001b[38;5;241m=\u001b[39m stack\u001b[38;5;241m.\u001b[39mlog_filter(rna\u001b[38;5;241m.\u001b[39mcopy(), \u001b[38;5;241m3\u001b[39m)\n",
      "File \u001b[1;32mc:\\Users\\Jack\\Documents\\GitHub\\AngelFISH\\.venv\\Lib\\site-packages\\bigfish\\detection\\spot_detection.py:191\u001b[0m, in \u001b[0;36mdetect_spots\u001b[1;34m(images, threshold, remove_duplicate, return_threshold, voxel_size, spot_radius, log_kernel_size, minimum_distance)\u001b[0m\n\u001b[0;32m    189\u001b[0m \u001b[38;5;66;03m# detect spots\u001b[39;00m\n\u001b[0;32m    190\u001b[0m \u001b[38;5;28;01mif\u001b[39;00m return_threshold:\n\u001b[1;32m--> 191\u001b[0m     spots, threshold \u001b[38;5;241m=\u001b[39m \u001b[43m_detect_spots_from_images\u001b[49m\u001b[43m(\u001b[49m\n\u001b[0;32m    192\u001b[0m \u001b[43m        \u001b[49m\u001b[43mimages\u001b[49m\u001b[43m,\u001b[49m\n\u001b[0;32m    193\u001b[0m \u001b[43m        \u001b[49m\u001b[43mthreshold\u001b[49m\u001b[38;5;241;43m=\u001b[39;49m\u001b[43mthreshold\u001b[49m\u001b[43m,\u001b[49m\n\u001b[0;32m    194\u001b[0m \u001b[43m        \u001b[49m\u001b[43mremove_duplicate\u001b[49m\u001b[38;5;241;43m=\u001b[39;49m\u001b[43mremove_duplicate\u001b[49m\u001b[43m,\u001b[49m\n\u001b[0;32m    195\u001b[0m \u001b[43m        \u001b[49m\u001b[43mreturn_threshold\u001b[49m\u001b[38;5;241;43m=\u001b[39;49m\u001b[43mreturn_threshold\u001b[49m\u001b[43m,\u001b[49m\n\u001b[0;32m    196\u001b[0m \u001b[43m        \u001b[49m\u001b[43mlog_kernel_size\u001b[49m\u001b[38;5;241;43m=\u001b[39;49m\u001b[43mlog_kernel_size\u001b[49m\u001b[43m,\u001b[49m\n\u001b[0;32m    197\u001b[0m \u001b[43m        \u001b[49m\u001b[43mmin_distance\u001b[49m\u001b[38;5;241;43m=\u001b[39;49m\u001b[43mminimum_distance\u001b[49m\u001b[43m)\u001b[49m\n\u001b[0;32m    198\u001b[0m \u001b[38;5;28;01melse\u001b[39;00m:\n\u001b[0;32m    199\u001b[0m     spots \u001b[38;5;241m=\u001b[39m _detect_spots_from_images(\n\u001b[0;32m    200\u001b[0m         images,\n\u001b[0;32m    201\u001b[0m         threshold\u001b[38;5;241m=\u001b[39mthreshold,\n\u001b[1;32m   (...)\u001b[0m\n\u001b[0;32m    204\u001b[0m         log_kernel_size\u001b[38;5;241m=\u001b[39mlog_kernel_size,\n\u001b[0;32m    205\u001b[0m         min_distance\u001b[38;5;241m=\u001b[39mminimum_distance)\n",
      "File \u001b[1;32mc:\\Users\\Jack\\Documents\\GitHub\\AngelFISH\\.venv\\Lib\\site-packages\\bigfish\\detection\\spot_detection.py:287\u001b[0m, in \u001b[0;36m_detect_spots_from_images\u001b[1;34m(images, threshold, remove_duplicate, return_threshold, log_kernel_size, min_distance)\u001b[0m\n\u001b[0;32m    284\u001b[0m     pixel_values \u001b[38;5;241m+\u001b[39m\u001b[38;5;241m=\u001b[39m \u001b[38;5;28mlist\u001b[39m(image_filtered\u001b[38;5;241m.\u001b[39mravel())\n\u001b[0;32m    286\u001b[0m     \u001b[38;5;66;03m# find local maximum\u001b[39;00m\n\u001b[1;32m--> 287\u001b[0m     mask_local_max \u001b[38;5;241m=\u001b[39m \u001b[43mlocal_maximum_detection\u001b[49m\u001b[43m(\u001b[49m\u001b[43mimage_filtered\u001b[49m\u001b[43m,\u001b[49m\u001b[43m \u001b[49m\u001b[43mmin_distance\u001b[49m\u001b[43m)\u001b[49m\n\u001b[0;32m    288\u001b[0m     masks\u001b[38;5;241m.\u001b[39mappend(mask_local_max)\n\u001b[0;32m    290\u001b[0m \u001b[38;5;66;03m# get optimal threshold if necessary based on all the images\u001b[39;00m\n",
      "File \u001b[1;32mc:\\Users\\Jack\\Documents\\GitHub\\AngelFISH\\.venv\\Lib\\site-packages\\bigfish\\detection\\spot_detection.py:367\u001b[0m, in \u001b[0;36mlocal_maximum_detection\u001b[1;34m(image, min_distance)\u001b[0m\n\u001b[0;32m    338\u001b[0m \u001b[38;5;250m\u001b[39m\u001b[38;5;124;03m\"\"\"Compute a mask to keep only local maximum, in 2-d and 3-d.\u001b[39;00m\n\u001b[0;32m    339\u001b[0m \n\u001b[0;32m    340\u001b[0m \u001b[38;5;124;03m#. We apply a multidimensional maximum filter.\u001b[39;00m\n\u001b[1;32m   (...)\u001b[0m\n\u001b[0;32m    364\u001b[0m \n\u001b[0;32m    365\u001b[0m \u001b[38;5;124;03m\"\"\"\u001b[39;00m\n\u001b[0;32m    366\u001b[0m \u001b[38;5;66;03m# check parameters\u001b[39;00m\n\u001b[1;32m--> 367\u001b[0m \u001b[43mstack\u001b[49m\u001b[38;5;241;43m.\u001b[39;49m\u001b[43mcheck_array\u001b[49m\u001b[43m(\u001b[49m\n\u001b[0;32m    368\u001b[0m \u001b[43m    \u001b[49m\u001b[43mimage\u001b[49m\u001b[43m,\u001b[49m\n\u001b[0;32m    369\u001b[0m \u001b[43m    \u001b[49m\u001b[43mndim\u001b[49m\u001b[38;5;241;43m=\u001b[39;49m\u001b[43m[\u001b[49m\u001b[38;5;241;43m2\u001b[39;49m\u001b[43m,\u001b[49m\u001b[43m \u001b[49m\u001b[38;5;241;43m3\u001b[39;49m\u001b[43m]\u001b[49m\u001b[43m,\u001b[49m\n\u001b[0;32m    370\u001b[0m \u001b[43m    \u001b[49m\u001b[43mdtype\u001b[49m\u001b[38;5;241;43m=\u001b[39;49m\u001b[43m[\u001b[49m\u001b[43mnp\u001b[49m\u001b[38;5;241;43m.\u001b[39;49m\u001b[43muint8\u001b[49m\u001b[43m,\u001b[49m\u001b[43m \u001b[49m\u001b[43mnp\u001b[49m\u001b[38;5;241;43m.\u001b[39;49m\u001b[43muint16\u001b[49m\u001b[43m,\u001b[49m\u001b[43m \u001b[49m\u001b[43mnp\u001b[49m\u001b[38;5;241;43m.\u001b[39;49m\u001b[43mfloat32\u001b[49m\u001b[43m,\u001b[49m\u001b[43m \u001b[49m\u001b[43mnp\u001b[49m\u001b[38;5;241;43m.\u001b[39;49m\u001b[43mfloat64\u001b[49m\u001b[43m]\u001b[49m\u001b[43m)\u001b[49m\n\u001b[0;32m    371\u001b[0m stack\u001b[38;5;241m.\u001b[39mcheck_parameter(min_distance\u001b[38;5;241m=\u001b[39m(\u001b[38;5;28mint\u001b[39m, \u001b[38;5;28mfloat\u001b[39m, \u001b[38;5;28mtuple\u001b[39m, \u001b[38;5;28mlist\u001b[39m))\n\u001b[0;32m    373\u001b[0m \u001b[38;5;66;03m# compute the kernel size (centered around our pixel because it is uneven)\u001b[39;00m\n",
      "File \u001b[1;32mc:\\Users\\Jack\\Documents\\GitHub\\AngelFISH\\.venv\\Lib\\site-packages\\bigfish\\stack\\utils.py:106\u001b[0m, in \u001b[0;36mcheck_array\u001b[1;34m(array, ndim, dtype, allow_nan)\u001b[0m\n\u001b[0;32m    100\u001b[0m             \u001b[38;5;28;01mraise\u001b[39;00m \u001b[38;5;167;01mValueError\u001b[39;00m(\u001b[38;5;124m\"\u001b[39m\u001b[38;5;124mThe dataframe has \u001b[39m\u001b[38;5;132;01m{0}\u001b[39;00m\u001b[38;5;124m NaN values for the \u001b[39m\u001b[38;5;124m\"\u001b[39m\n\u001b[0;32m    101\u001b[0m                              \u001b[38;5;124m\"\u001b[39m\u001b[38;5;124mrequested features: \u001b[39m\u001b[38;5;130;01m\\n\u001b[39;00m\u001b[38;5;132;01m{1}\u001b[39;00m\u001b[38;5;124m.\u001b[39m\u001b[38;5;124m\"\u001b[39m\u001b[38;5;241m.\u001b[39mformat(x, nan_count))\n\u001b[0;32m    104\u001b[0m \u001b[38;5;66;03m# ### Sanity checks array ###\u001b[39;00m\n\u001b[1;32m--> 106\u001b[0m \u001b[38;5;28;01mdef\u001b[39;00m \u001b[38;5;21mcheck_array\u001b[39m(array, ndim\u001b[38;5;241m=\u001b[39m\u001b[38;5;28;01mNone\u001b[39;00m, dtype\u001b[38;5;241m=\u001b[39m\u001b[38;5;28;01mNone\u001b[39;00m, allow_nan\u001b[38;5;241m=\u001b[39m\u001b[38;5;28;01mTrue\u001b[39;00m):\n\u001b[0;32m    107\u001b[0m \u001b[38;5;250m    \u001b[39m\u001b[38;5;124;03m\"\"\"Full safety check of an array.\u001b[39;00m\n\u001b[0;32m    108\u001b[0m \n\u001b[0;32m    109\u001b[0m \u001b[38;5;124;03m    Parameters\u001b[39;00m\n\u001b[1;32m   (...)\u001b[0m\n\u001b[0;32m    124\u001b[0m \n\u001b[0;32m    125\u001b[0m \u001b[38;5;124;03m    \"\"\"\u001b[39;00m\n\u001b[0;32m    126\u001b[0m     \u001b[38;5;66;03m# check parameters\u001b[39;00m\n",
      "\u001b[1;31mKeyboardInterrupt\u001b[0m: "
     ]
    }
   ],
   "source": [
    "run_pipeline(receipt_path, new_nas_loc=paths[0])"
   ]
  },
  {
   "cell_type": "code",
   "execution_count": null,
   "id": "4bc2e2d0",
   "metadata": {},
   "outputs": [],
   "source": []
  }
 ],
 "metadata": {
  "kernelspec": {
   "display_name": ".venv (3.12.5)",
   "language": "python",
   "name": "python3"
  },
  "language_info": {
   "codemirror_mode": {
    "name": "ipython",
    "version": 3
   },
   "file_extension": ".py",
   "mimetype": "text/x-python",
   "name": "python",
   "nbconvert_exporter": "python",
   "pygments_lexer": "ipython3",
   "version": "3.12.5"
  }
 },
 "nbformat": 4,
 "nbformat_minor": 5
}
