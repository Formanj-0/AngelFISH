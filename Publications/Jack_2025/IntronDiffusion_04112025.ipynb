{
 "cells": [
  {
   "cell_type": "code",
   "execution_count": null,
   "metadata": {},
   "outputs": [],
   "source": [
    "import torch\n",
    "# Check if CUDA is available\n",
    "cuda_available = torch.cuda.is_available()\n",
    "print(f\"CUDA available: {cuda_available}\")\n",
    "\n",
    "if cuda_available:\n",
    "    # Get the number of GPUs available\n",
    "    num_gpus = torch.cuda.device_count()\n",
    "    print(f\"Number of GPUs available: {num_gpus}\")\n",
    "\n",
    "    # Get the name of each GPU\n",
    "    for i in range(num_gpus):\n",
    "        gpu_name = torch.cuda.get_device_name(i)\n",
    "        print(f\"GPU {i}: {gpu_name}\")\n",
    "\n",
    "    # Get the current GPU memory usage\n",
    "    for i in range(num_gpus):\n",
    "        gpu_memory_allocated = torch.cuda.memory_allocated(i)\n",
    "        gpu_memory_reserved = torch.cuda.memory_reserved(i)\n",
    "        print(f\"GPU {i} memory allocated: {gpu_memory_allocated / (1024 ** 3):.2f} GB\")\n",
    "        print(f\"GPU {i} memory reserved: {gpu_memory_reserved / (1024 ** 3):.2f} GB\")\n",
    "else:\n",
    "    print(\"CUDA is not available.\")"
   ]
  },
  {
   "cell_type": "code",
   "execution_count": null,
   "metadata": {},
   "outputs": [],
   "source": [
    "import sys\n",
    "import os\n",
    "import pickle\n",
    "import logging\n",
    "import numba\n",
    "import matplotlib\n",
    "import matplotlib.pyplot as plt\n",
    "# logging.getLogger('matplotlib.font_manager').disabled = True\n",
    "# numba_logger = logging.getLogger('numba')\n",
    "# numba_logger.setLevel(logging.WARNING)\n",
    "\n",
    "# matplotlib_logger = logging.getLogger('matplotlib')\n",
    "# matplotlib_logger.setLevel(logging.WARNING)\n",
    "\n",
    "# Add the src directory to sys.path\n",
    "src_path = os.path.abspath(os.path.join(os.getcwd(), '..', '..'))\n",
    "sys.path.append(src_path)\n",
    "\n",
    "from src.IndependentSteps import Pycromanager2H5, FFF2H5, DownloadData, Pycro\n",
    "\n",
    "from src.SequentialSteps import BIGFISH_SpotDetection, SimpleCellposeSegmentaion, CellProperties, DilationedCytoMask ,\\\n",
    "                                    DisplaySequentialParams, IlluminationCorrection, Calculate_BIGFISH_Threshold, rescale_images,\\\n",
    "                                    Automatic_BIGFISH_Threshold\n",
    "\n",
    "from src.FinalizationSteps import Save_Outputs, Save_Images, Save_Parameters, Save_Masks, return_to_NAS, remove_local_data_but_keep_h5, save_copy, remove_local_data\n",
    "\n",
    "from src.Parameters import Parameters, Experiment, Settings, ScopeClass, DataContainer\n",
    "\n",
    "from src.Displays import Display\n",
    "\n",
    "from src.GUI import GUI, StepGUI\n",
    "\n",
    "from src.Pipeline import Pipeline"
   ]
  },
  {
   "cell_type": "code",
   "execution_count": null,
   "metadata": {},
   "outputs": [],
   "source": [
    "# This is how you initialize the parameters\n",
    "scope = ScopeClass() \n",
    "data = DataContainer()\n",
    "settings = Settings(name='IntronDiffusion_Trip_Timeseries')\n",
    "experiment = Experiment()\n",
    "\n",
    "print(experiment)\n",
    "print(settings)\n",
    "print(scope)\n",
    "print(data)"
   ]
  },
  {
   "cell_type": "code",
   "execution_count": null,
   "metadata": {},
   "outputs": [],
   "source": [
    "experiment.initial_data_location = [r'Users\\Jack\\_Datasets\\IntronDiffusion\\04102025_Triptolidetimeseries_JF001\\JF001_0min_5uM_55']\n",
    "\n",
    "data.local_dataset_location = None\n",
    "\n",
    "settings.num_chunks_to_run = 1\n",
    "\n",
    "Parameters().get_parameters()\n",
    "Parameters.validate()"
   ]
  },
  {
   "cell_type": "code",
   "execution_count": null,
   "metadata": {},
   "outputs": [],
   "source": [
    "settings.load_in_mask = True\n",
    "\n",
    "DownloadData().run()\n",
    "Pycro().run()"
   ]
  },
  {
   "cell_type": "code",
   "execution_count": null,
   "metadata": {},
   "outputs": [],
   "source": [
    "Display().displayImage_maxProject(channel=2)"
   ]
  },
  {
   "cell_type": "code",
   "execution_count": null,
   "metadata": {},
   "outputs": [],
   "source": [
    "experiment.FISHChannel = 0\n",
    "experiment.nucChannel = 2\n",
    "experiment.cytoChannel = None\n",
    "experiment.voxel_size_z = 500"
   ]
  },
  {
   "cell_type": "code",
   "execution_count": null,
   "metadata": {},
   "outputs": [],
   "source": [
    "settings.cellpose_min_size = 500\n",
    "settings.cellpose_diameter = [180, 90]\n",
    "settings.cellpose_pretrained_model = [\"GAPDH_cyto\", 'DAPI_nuclei'] \n",
    "\n",
    "SimpleCellposeSegmentaion().run()"
   ]
  },
  {
   "cell_type": "code",
   "execution_count": null,
   "metadata": {},
   "outputs": [],
   "source": [
    "scope.spot_yx = 260\n",
    "scope.spot_z = 1500\n",
    "scope.voxel_size_yx = 100\n",
    "\n",
    "BIGFISH_SpotDetection().run()"
   ]
  },
  {
   "cell_type": "code",
   "execution_count": null,
   "metadata": {},
   "outputs": [],
   "source": [
    "CellProperties().run()"
   ]
  },
  {
   "cell_type": "code",
   "execution_count": null,
   "metadata": {},
   "outputs": [],
   "source": [
    "Save_Outputs().run()\n",
    "Save_Parameters().run()\n",
    "Save_Images().run()\n",
    "return_to_NAS().run()\n",
    "\n",
    "settings.data_names = []\n",
    "settings.copy_locations = []\n",
    "save_copy().run()\n",
    "\n",
    "remove_local_data().run()"
   ]
  },
  {
   "cell_type": "code",
   "execution_count": null,
   "metadata": {},
   "outputs": [],
   "source": [
    "run_all = False\n",
    "\n",
    "if run_all:\n",
    "    all_datasets = [\n",
    "        'Users\\Jack\\_Datasets\\IntronDiffusion\\04102025_Triptolidetimeseries_JF001\\JF001_0min_5uM_55',\n",
    "        'Users\\Jack\\_Datasets\\IntronDiffusion\\04102025_Triptolidetimeseries_JF001\\JF001_3min_5uM_1',\n",
    "        'Users\\Jack\\_Datasets\\IntronDiffusion\\04102025_Triptolidetimeseries_JF001\\JF001_5min_5uM_1',\n",
    "        'Users\\Jack\\_Datasets\\IntronDiffusion\\04102025_Triptolidetimeseries_JF001\\JF001_10min_5uM_1',\n",
    "        'Users\\Jack\\_Datasets\\IntronDiffusion\\04102025_Triptolidetimeseries_JF001\\JF001_15min_5uM_2',\n",
    "        'Users\\Jack\\_Datasets\\IntronDiffusion\\04102025_Triptolidetimeseries_JF001\\JF001_30min_5uM_1',\n",
    "        'Users\\Jack\\_Datasets\\IntronDiffusion\\04102025_Triptolidetimeseries_JF001\\JF001_45min_5uM_1',\n",
    "        'Users\\Jack\\_Datasets\\IntronDiffusion\\04102025_Triptolidetimeseries_JF001\\JF001_60min_5uM_1',\n",
    "        'Users\\Jack\\_Datasets\\IntronDiffusion\\04102025_Triptolidetimeseries_JF001\\JF001_90min_5uM_1',\n",
    "        'Users\\Jack\\_Datasets\\IntronDiffusion\\04102025_Triptolidetimeseries_JF001\\JF001_120min_5uM_1',\n",
    "        'Users\\Jack\\_Datasets\\IntronDiffusion\\04102025_Triptolidetimeseries_JF001\\JF001_180min_5uM_1',\n",
    "                    ]\n",
    "    experiment.initial_data_location = all_datasets\n",
    "\n",
    "    pipeline = Pipeline()\n",
    "    pipeline.run_on_cluster('CLUSTER_PATH_ON_CLUSTER', name=settings.name)"
   ]
  }
 ],
 "metadata": {
  "kernelspec": {
   "display_name": ".venv",
   "language": "python",
   "name": "python3"
  },
  "language_info": {
   "codemirror_mode": {
    "name": "ipython",
    "version": 3
   },
   "file_extension": ".py",
   "mimetype": "text/x-python",
   "name": "python",
   "nbconvert_exporter": "python",
   "pygments_lexer": "ipython3",
   "version": "3.12.7"
  }
 },
 "nbformat": 4,
 "nbformat_minor": 2
}
