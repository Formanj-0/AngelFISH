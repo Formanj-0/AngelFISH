{
 "cells": [
  {
   "cell_type": "markdown",
   "metadata": {},
   "source": [
    "# Notebook Data Interpretation\n",
    "\n",
    "### This notebook summarizes the complete dataframes for the GR and DUSP1 experiments.\n",
    "\n",
    "```\n",
    "Author: Eric Ron and Jack Forman\n",
    "\n",
    "Copyright (c) 2024 Munsky Group \n",
    "Colorado State University \n",
    "Licensed under BSD 3-Clause License."
   ]
  },
  {
   "cell_type": "markdown",
   "metadata": {},
   "source": [
    "\n",
    "# Notebook Data Interpretation\n",
    "\n",
    "### This notebook summarizes the complete dataframes for the GR and DUSP1 experiments.\n",
    "```\n",
    "This code prepared confocal GR-DUSP1 data for image processing.\n",
    "```\n",
    "\n",
    "Parameters\n",
    "- initial_data_location (list): List of directory paths containing the confocal images.\n",
    "- Condition (str): Condition for the data.\n",
    "- time_list (list): List of time values of Dex incubation.\n",
    "- DexConc_list (list): List of DexConc values.\n",
    "- time_TPL_value_list (list, optional): List of time_TPL values. Only for TPL experiments\n",
    "- Replica (str, optional): Replica value. Defaults to 'A'."
   ]
  },
  {
   "cell_type": "code",
   "execution_count": 1,
   "metadata": {},
   "outputs": [],
   "source": [
    "import pathlib\n",
    "import pandas as pd\n",
    "import numpy as np\n",
    "import io\n",
    "import os"
   ]
  },
  {
   "cell_type": "markdown",
   "metadata": {},
   "source": [
    "##  ```GR_timesweep```  experiments\n"
   ]
  },
  {
   "cell_type": "code",
   "execution_count": 2,
   "metadata": {},
   "outputs": [
    {
     "name": "stdout",
     "output_type": "stream",
     "text": [
      "[{'condition': 'GR_timesweep', 'replica': 'A', 'time': 0, 'Dex_Conc': 0}, {'condition': 'GR_timesweep', 'replica': 'A', 'time': 10, 'Dex_Conc': 1}, {'condition': 'GR_timesweep', 'replica': 'A', 'time': 20, 'Dex_Conc': 1}, {'condition': 'GR_timesweep', 'replica': 'A', 'time': 30, 'Dex_Conc': 1}, {'condition': 'GR_timesweep', 'replica': 'A', 'time': 40, 'Dex_Conc': 1}, {'condition': 'GR_timesweep', 'replica': 'A', 'time': 50, 'Dex_Conc': 1}, {'condition': 'GR_timesweep', 'replica': 'A', 'time': 60, 'Dex_Conc': 1}, {'condition': 'GR_timesweep', 'replica': 'A', 'time': 75, 'Dex_Conc': 1}, {'condition': 'GR_timesweep', 'replica': 'A', 'time': 90, 'Dex_Conc': 1}, {'condition': 'GR_timesweep', 'replica': 'A', 'time': 120, 'Dex_Conc': 1}, {'condition': 'GR_timesweep', 'replica': 'A', 'time': 150, 'Dex_Conc': 1}, {'condition': 'GR_timesweep', 'replica': 'A', 'time': 180, 'Dex_Conc': 1}, {'condition': 'GR_timesweep', 'replica': 'A', 'time': 0, 'Dex_Conc': 0}, {'condition': 'GR_timesweep', 'replica': 'A', 'time': 10, 'Dex_Conc': 10}, {'condition': 'GR_timesweep', 'replica': 'A', 'time': 20, 'Dex_Conc': 10}, {'condition': 'GR_timesweep', 'replica': 'A', 'time': 30, 'Dex_Conc': 10}, {'condition': 'GR_timesweep', 'replica': 'A', 'time': 40, 'Dex_Conc': 10}, {'condition': 'GR_timesweep', 'replica': 'A', 'time': 50, 'Dex_Conc': 10}, {'condition': 'GR_timesweep', 'replica': 'A', 'time': 60, 'Dex_Conc': 10}, {'condition': 'GR_timesweep', 'replica': 'A', 'time': 75, 'Dex_Conc': 10}, {'condition': 'GR_timesweep', 'replica': 'A', 'time': 90, 'Dex_Conc': 10}, {'condition': 'GR_timesweep', 'replica': 'A', 'time': 120, 'Dex_Conc': 10}, {'condition': 'GR_timesweep', 'replica': 'A', 'time': 150, 'Dex_Conc': 10}, {'condition': 'GR_timesweep', 'replica': 'A', 'time': 180, 'Dex_Conc': 10}, {'condition': 'GR_timesweep', 'replica': 'A', 'time': 0, 'Dex_Conc': 0}, {'condition': 'GR_timesweep', 'replica': 'A', 'time': 10, 'Dex_Conc': 100}, {'condition': 'GR_timesweep', 'replica': 'A', 'time': 20, 'Dex_Conc': 100}, {'condition': 'GR_timesweep', 'replica': 'A', 'time': 30, 'Dex_Conc': 100}, {'condition': 'GR_timesweep', 'replica': 'A', 'time': 40, 'Dex_Conc': 100}, {'condition': 'GR_timesweep', 'replica': 'A', 'time': 50, 'Dex_Conc': 100}, {'condition': 'GR_timesweep', 'replica': 'A', 'time': 60, 'Dex_Conc': 100}, {'condition': 'GR_timesweep', 'replica': 'A', 'time': 75, 'Dex_Conc': 100}, {'condition': 'GR_timesweep', 'replica': 'A', 'time': 90, 'Dex_Conc': 100}, {'condition': 'GR_timesweep', 'replica': 'A', 'time': 120, 'Dex_Conc': 100}, {'condition': 'GR_timesweep', 'replica': 'A', 'time': 150, 'Dex_Conc': 100}, {'condition': 'GR_timesweep', 'replica': 'A', 'time': 180, 'Dex_Conc': 100}]\n"
     ]
    }
   ],
   "source": [
    "initial_data_location=(\n",
    "        'smFISH_images/Eric_smFISH_images/20230511/GR_ICC_3hr_R1_1nM_0min_050823',\n",
    "        'smFISH_images/Eric_smFISH_images/20230511/GR_ICC_3hr_R1_1nM_10min_050823',\n",
    "        'smFISH_images/Eric_smFISH_images/20230511/GR_ICC_3hr_R1_1nM_20min_050823',\n",
    "        'smFISH_images/Eric_smFISH_images/20230511/GR_ICC_3hr_R1_1nM_30min_050823',\n",
    "        'smFISH_images/Eric_smFISH_images/20230511/GR_ICC_3hr_R1_1nM_40min_050823',\n",
    "        'smFISH_images/Eric_smFISH_images/20230511/GR_ICC_3hr_R1_1nM_50min_050823',\n",
    "        'smFISH_images/Eric_smFISH_images/20230516/GR_ICC_3hr_R1_1nM_60min_050823',\n",
    "        'smFISH_images/Eric_smFISH_images/20230516/GR_ICC_3hr_R1_1nM_75min_050823',\n",
    "        'smFISH_images/Eric_smFISH_images/20230516/GR_ICC_3hr_R1_1nM_90min_050823',\n",
    "        'smFISH_images/Eric_smFISH_images/20230516/GR_ICC_3hr_R1_1nM_120min_050823',\n",
    "        'smFISH_images/Eric_smFISH_images/20230516/GR_ICC_3hr_R1_1nM_150min_050823',\n",
    "        'smFISH_images/Eric_smFISH_images/20230516/GR_ICC_3hr_R1_1nM_180min_050823' ,\n",
    "        'smFISH_images/Eric_smFISH_images/20230516/GR_ICC_3hr_R1_10nM_0min_050823' ,\n",
    "        'smFISH_images/Eric_smFISH_images/20230516/GR_ICC_3hr_R1_10nM_10min_050823' ,\n",
    "        'smFISH_images/Eric_smFISH_images/20230516/GR_ICC_3hr_R1_10nM_20min_050823' ,\n",
    "        'smFISH_images/Eric_smFISH_images/20230522/GR_ICC_3hr_R1_10nM_30min_050823' ,\n",
    "        'smFISH_images/Eric_smFISH_images/20230522/GR_ICC_3hr_R1_10nM_40min_050823' ,\n",
    "        'smFISH_images/Eric_smFISH_images/20230522/GR_ICC_3hr_R1_10nM_50min_050823' ,\n",
    "        'smFISH_images/Eric_smFISH_images/20230522/GR_ICC_3hr_R1_10nM_60min_050823' ,\n",
    "        'smFISH_images/Eric_smFISH_images/20230522/GR_ICC_3hr_R1_10nM_75min_050823' ,\n",
    "        'smFISH_images/Eric_smFISH_images/20230522/GR_ICC_3hr_R1_10nM_90min_050823' ,\n",
    "        'smFISH_images/Eric_smFISH_images/20230522/GR_ICC_3hr_R1_10nM_120min_050823' ,\n",
    "        'smFISH_images/Eric_smFISH_images/20230522/GR_ICC_3hr_R1_10nM_150min_050823' ,\n",
    "        'smFISH_images/Eric_smFISH_images/20230522/GR_ICC_3hr_R1_10nM_180min_050823' ,\n",
    "        'smFISH_images/Eric_smFISH_images/20230522/GR_ICC_3hr_R1_100nM_0min_050823' ,\n",
    "        'smFISH_images/Eric_smFISH_images/20230522/GR_ICC_3hr_R1_100nM_10min_050823' ,\n",
    "        'smFISH_images/Eric_smFISH_images/20230522/GR_ICC_3hr_R1_100nM_20min_050823' ,\n",
    "        'smFISH_images/Eric_smFISH_images/20230522/GR_ICC_3hr_R1_100nM_30min_050823' ,\n",
    "        'smFISH_images/Eric_smFISH_images/20230522/GR_ICC_3hr_R1_100nM_40min_050823' ,\n",
    "        'smFISH_images/Eric_smFISH_images/20230530/GR_ICC_3hr_R1_100nM_50min_050823' ,\n",
    "        'smFISH_images/Eric_smFISH_images/20230530/GR_ICC_3hr_R1_100nM_60min_050823' ,\n",
    "        'smFISH_images/Eric_smFISH_images/20230530/GR_ICC_3hr_R1_100nM_75min_050823' ,\n",
    "        'smFISH_images/Eric_smFISH_images/20230530/GR_ICC_3hr_R1_100nM_90min_050823' ,\n",
    "        'smFISH_images/Eric_smFISH_images/20230530/GR_ICC_3hr_R1_100nM_120min_050823' ,\n",
    "        'smFISH_images/Eric_smFISH_images/20230530/GR_ICC_3hr_R1_100nM_150min_050823' ,\n",
    "        'smFISH_images/Eric_smFISH_images/20230530/GR_ICC_3hr_R1_100nM_180min_050823' )\n",
    "# Parameters\n",
    "Condition = 'GR_timesweep'      # Experimental condition. The options are:  'GR_timesweep' , 'DUSP1_timesweep' \n",
    "Replica = 'A'                   # Replica name. \n",
    "time_list  = [0, 10, 20, 30, 40, 50, 60, 75, 90, 120, 150, 180, 0, 10, 20, 30, 40, 50, 60, 75, 90, 120, 150, 180, 0, 10, 20, 30, 40, 50, 60, 75, 90, 120, 150, 180]        # Time of image acquisition\n",
    "DexConc_list = [0, 1, 1, 1, 1, 1, 1, 1, 1, 1, 1, 1, 0, 10, 10, 10, 10, 10, 10, 10, 10, 10, 10, 10, 0, 100, 100, 100, 100, 100, 100, 100, 100, 100, 100, 100]        # Dex concentration\n",
    "\n",
    "\n",
    "# Creating the list of dictionaries\n",
    "GR_ICC_R1 = [\n",
    "    {\n",
    "        \"condition\": Condition,\n",
    "        \"replica\": Replica,\n",
    "        \"time\": time,\n",
    "        \"Dex_Conc\": DexConc\n",
    "    }\n",
    "    for time, DexConc in zip(time_list, DexConc_list)\n",
    "]\n",
    "\n",
    "# Ensuring the length matches the number of directories\n",
    "assert len(GR_ICC_R1) == len(initial_data_location), \"Mismatch between number of directories and experimental parameters.\"\n",
    "\n",
    "# Output the result\n",
    "print(GR_ICC_R1)"
   ]
  },
  {
   "cell_type": "code",
   "execution_count": null,
   "metadata": {},
   "outputs": [
    {
     "name": "stdout",
     "output_type": "stream",
     "text": [
      "[{'condition': 'GR_timesweep', 'replica': 'B', 'time': 0, 'Dex_Conc': 0}, {'condition': 'GR_timesweep', 'replica': 'B', 'time': 10, 'Dex_Conc': 1}, {'condition': 'GR_timesweep', 'replica': 'B', 'time': 30, 'Dex_Conc': 1}, {'condition': 'GR_timesweep', 'replica': 'B', 'time': 50, 'Dex_Conc': 1}, {'condition': 'GR_timesweep', 'replica': 'B', 'time': 75, 'Dex_Conc': 1}, {'condition': 'GR_timesweep', 'replica': 'B', 'time': 120, 'Dex_Conc': 1}, {'condition': 'GR_timesweep', 'replica': 'B', 'time': 180, 'Dex_Conc': 1}, {'condition': 'GR_timesweep', 'replica': 'B', 'time': 10, 'Dex_Conc': 10}, {'condition': 'GR_timesweep', 'replica': 'B', 'time': 30, 'Dex_Conc': 10}, {'condition': 'GR_timesweep', 'replica': 'B', 'time': 50, 'Dex_Conc': 10}, {'condition': 'GR_timesweep', 'replica': 'B', 'time': 75, 'Dex_Conc': 10}, {'condition': 'GR_timesweep', 'replica': 'B', 'time': 120, 'Dex_Conc': 10}, {'condition': 'GR_timesweep', 'replica': 'B', 'time': 180, 'Dex_Conc': 10}, {'condition': 'GR_timesweep', 'replica': 'B', 'time': 10, 'Dex_Conc': 100}, {'condition': 'GR_timesweep', 'replica': 'B', 'time': 30, 'Dex_Conc': 100}, {'condition': 'GR_timesweep', 'replica': 'B', 'time': 50, 'Dex_Conc': 100}, {'condition': 'GR_timesweep', 'replica': 'B', 'time': 75, 'Dex_Conc': 100}, {'condition': 'GR_timesweep', 'replica': 'B', 'time': 120, 'Dex_Conc': 100}, {'condition': 'GR_timesweep', 'replica': 'B', 'time': 180, 'Dex_Conc': 100}]\n"
     ]
    }
   ],
   "source": [
    "# List of directories to process\n",
    "initial_data_location=(\n",
    "        'smFISH_images/Eric_smFISH_images/20230707_GR_ICC_R2/GR_ICC_0min_control_062923_R2' ,\n",
    "        'smFISH_images/Eric_smFISH_images/20230707_GR_ICC_R2/GR_ICC_1nM_10min_062923_R2' ,\n",
    "        'smFISH_images/Eric_smFISH_images/20230707_GR_ICC_R2/GR_ICC_1nM_30min_062923_R2' ,\n",
    "        'smFISH_images/Eric_smFISH_images/20230707_GR_ICC_R2/GR_ICC_1nM_50min_062923_R2' ,\n",
    "        'smFISH_images/Eric_smFISH_images/20230707_GR_ICC_R2/GR_ICC_1nM_75min_062923_R2' ,\n",
    "        'smFISH_images/Eric_smFISH_images/20230707_GR_ICC_R2/GR_ICC_1nM_120min_062923_R2' ,\n",
    "        'smFISH_images/Eric_smFISH_images/20230707_GR_ICC_R2/GR_ICC_1nM_180min_062923_R2' ,\n",
    "        'smFISH_images/Eric_smFISH_images/20230713_GR_ICC_R2/GR_ICC_10nM_10min_062923_R2' ,\n",
    "        'smFISH_images/Eric_smFISH_images/20230713_GR_ICC_R2/GR_ICC_10nM_30min_062923_R2' ,\n",
    "        'smFISH_images/Eric_smFISH_images/20230713_GR_ICC_R2/GR_ICC_10nM_50min_062923_R2' ,\n",
    "        'smFISH_images/Eric_smFISH_images/20230713_GR_ICC_R2/GR_ICC_10nM_75min_062923_R2' ,\n",
    "        'smFISH_images/Eric_smFISH_images/20230713_GR_ICC_R2/GR_ICC_10nM_120min_062923_R2' ,\n",
    "        'smFISH_images/Eric_smFISH_images/20230713_GR_ICC_R2/GR_ICC_10nM_180min_062923_R2' ,\n",
    "        'smFISH_images/Eric_smFISH_images/20230713_GR_ICC_R2/GR_ICC_100nM_10min_062923_R2' ,\n",
    "        'smFISH_images/Eric_smFISH_images/20230713_GR_ICC_R2/GR_ICC_100nM_30min_062923_R2' ,\n",
    "        'smFISH_images/Eric_smFISH_images/20230713_GR_ICC_R2/GR_ICC_100nM_50min_062923_R2' ,\n",
    "        'smFISH_images/Eric_smFISH_images/20230713_GR_ICC_R2/GR_ICC_100nM_75min_062923_R2' ,\n",
    "        'smFISH_images/Eric_smFISH_images/20230713_GR_ICC_R2/GR_ICC_100nM_120min_062923_R2' ,\n",
    "        'smFISH_images/Eric_smFISH_images/20230713_GR_ICC_R2/GR_ICC_100nM_180min_062923_R2' )\n",
    "# Parameters\n",
    "Condition = 'GR_timesweep'      # Experimental condition. The options are:  'GR_timesweep' , 'DUSP1_timesweep' , 'DUSP1_TPL'\n",
    "Replica = 'B'                   # Replica name. \n",
    "time_list  = [0, 10, 30, 50, 75, 120, 180, 10, 30, 50, 75, 120, 180, 10, 30, 50, 75, 120, 180]        # Time of image acquisition\n",
    "DexConc_list = [0, 1, 1, 1, 1, 1, 1, 10, 10, 10, 10, 10, 10, 100, 100, 100, 100, 100, 100]        # Dex concentration\n",
    "\n",
    "# Creating the list of dictionaries\n",
    "GR_ICC_R2 = [\n",
    "    {\n",
    "        \"condition\": Condition,\n",
    "        \"replica\": Replica,\n",
    "        \"time\": time,\n",
    "        \"Dex_Conc\": DexConc\n",
    "    }\n",
    "    for time, DexConc in zip(time_list, DexConc_list)\n",
    "]\n",
    "# Output the result\n",
    "print(GR_ICC_R2)"
   ]
  },
  {
   "cell_type": "code",
   "execution_count": null,
   "metadata": {},
   "outputs": [
    {
     "name": "stdout",
     "output_type": "stream",
     "text": [
      "[{'condition': 'GR_timesweep', 'replica': 'C', 'time': 0, 'Dex_Conc': 0}, {'condition': 'GR_timesweep', 'replica': 'C', 'time': 10, 'Dex_Conc': 1}, {'condition': 'GR_timesweep', 'replica': 'C', 'time': 30, 'Dex_Conc': 1}, {'condition': 'GR_timesweep', 'replica': 'C', 'time': 50, 'Dex_Conc': 1}, {'condition': 'GR_timesweep', 'replica': 'C', 'time': 75, 'Dex_Conc': 1}, {'condition': 'GR_timesweep', 'replica': 'C', 'time': 120, 'Dex_Conc': 1}, {'condition': 'GR_timesweep', 'replica': 'C', 'time': 180, 'Dex_Conc': 1}, {'condition': 'GR_timesweep', 'replica': 'C', 'time': 10, 'Dex_Conc': 10}, {'condition': 'GR_timesweep', 'replica': 'C', 'time': 30, 'Dex_Conc': 10}, {'condition': 'GR_timesweep', 'replica': 'C', 'time': 50, 'Dex_Conc': 10}, {'condition': 'GR_timesweep', 'replica': 'C', 'time': 75, 'Dex_Conc': 10}, {'condition': 'GR_timesweep', 'replica': 'C', 'time': 120, 'Dex_Conc': 10}, {'condition': 'GR_timesweep', 'replica': 'C', 'time': 180, 'Dex_Conc': 10}, {'condition': 'GR_timesweep', 'replica': 'C', 'time': 10, 'Dex_Conc': 100}, {'condition': 'GR_timesweep', 'replica': 'C', 'time': 30, 'Dex_Conc': 100}, {'condition': 'GR_timesweep', 'replica': 'C', 'time': 50, 'Dex_Conc': 100}, {'condition': 'GR_timesweep', 'replica': 'C', 'time': 75, 'Dex_Conc': 100}, {'condition': 'GR_timesweep', 'replica': 'C', 'time': 120, 'Dex_Conc': 100}, {'condition': 'GR_timesweep', 'replica': 'C', 'time': 180, 'Dex_Conc': 100}]\n"
     ]
    }
   ],
   "source": [
    "# List of directories to process\n",
    "initial_data_location=(\n",
    "        'smFISH_images/Eric_smFISH_images/20230809_GR_ICC_R3/GR_ICC_Dex_3hr_0min_control_080823_R3' ,\n",
    "        'smFISH_images/Eric_smFISH_images/20230809_GR_ICC_R3/GR_ICC_Dex_3hr_1nM_10min_080823_R3' ,\n",
    "        'smFISH_images/Eric_smFISH_images/20230809_GR_ICC_R3/GR_ICC_Dex_3hr_1nM_30min_080823_R3' ,\n",
    "        'smFISH_images/Eric_smFISH_images/20230809_GR_ICC_R3/GR_ICC_Dex_3hr_1nM_50min_080823_R3' ,\n",
    "        'smFISH_images/Eric_smFISH_images/20230809_GR_ICC_R3/GR_ICC_Dex_3hr_1nM_75min_080823_R3' ,\n",
    "        'smFISH_images/Eric_smFISH_images/20230809_GR_ICC_R3/GR_ICC_Dex_3hr_1nM_120min_080823_R3' ,\n",
    "        'smFISH_images/Eric_smFISH_images/20230809_GR_ICC_R3/GR_ICC_Dex_3hr_1nM_180min_080823_R3' ,\n",
    "        'smFISH_images/Eric_smFISH_images/20230809_GR_ICC_R3/GR_ICC_Dex_3hr_10nM_10min_080823_R3' ,\n",
    "        'smFISH_images/Eric_smFISH_images/20230809_GR_ICC_R3/GR_ICC_Dex_3hr_10nM_30min_080823_R3' ,\n",
    "        'smFISH_images/Eric_smFISH_images/20230809_GR_ICC_R3/GR_ICC_Dex_3hr_10nM_50min_080823_R3' ,\n",
    "        'smFISH_images/Eric_smFISH_images/20230809_GR_ICC_R3/GR_ICC_Dex_3hr_10nM_75min_080823_R3' ,\n",
    "        'smFISH_images/Eric_smFISH_images/20230823/GR_ICC_Dex_3hr_10nM_120min_080823_R3' ,\n",
    "        'smFISH_images/Eric_smFISH_images/20230823/GR_ICC_Dex_3hr_10nM_180min_080823_R3' ,\n",
    "        'smFISH_images/Eric_smFISH_images/20230823/GR_ICC_Dex_3hr_100nM_10min_080823_R3' ,\n",
    "        'smFISH_images/Eric_smFISH_images/20230823/GR_ICC_Dex_3hr_100nM_30min_080823_R3' ,\n",
    "        'smFISH_images/Eric_smFISH_images/20230823/GR_ICC_Dex_3hr_100nM_50min_080823_R3' ,\n",
    "        'smFISH_images/Eric_smFISH_images/20230823/GR_ICC_Dex_3hr_100nM_75min_080823_R3' ,\n",
    "        'smFISH_images/Eric_smFISH_images/20230823/GR_ICC_Dex_3hr_100nM_120min_080823_R3' ,\n",
    "        'smFISH_images/Eric_smFISH_images/20230823/GR_ICC_Dex_3hr_100nM_180min_080823_R3' )\n",
    "# Parameters\n",
    "Condition = 'GR_timesweep'      # Experimental condition. The options are:  'GR_timesweep' , 'DUSP1_timesweep' \n",
    "Replica = 'C'                   # Replica name. \n",
    "time_list  = [0, 10, 30, 50, 75, 120, 180, 10, 30, 50, 75, 120, 180, 10, 30, 50, 75, 120, 180]        # Time of image acquisition\n",
    "DexConc_list = [0, 1, 1, 1, 1, 1, 1, 10, 10, 10, 10, 10, 10, 100, 100, 100, 100, 100, 100]        # Dex concentration\n",
    "\n",
    "# Creating the list of dictionaries\n",
    "GR_ICC_R3 = [\n",
    "    {\n",
    "        \"condition\": Condition,\n",
    "        \"replica\": Replica,\n",
    "        \"time\": time,\n",
    "        \"Dex_Conc\": DexConc\n",
    "    }\n",
    "    for time, DexConc in zip(time_list, DexConc_list)\n",
    "]\n",
    "# Output the result\n",
    "print(GR_ICC_R3)"
   ]
  },
  {
   "cell_type": "markdown",
   "metadata": {},
   "source": [
    "## ```DUSP1_timesweep```  experiments"
   ]
  },
  {
   "cell_type": "code",
   "execution_count": null,
   "metadata": {},
   "outputs": [
    {
     "name": "stdout",
     "output_type": "stream",
     "text": [
      "[{'condition': 'DUSP1_timesweep', 'replica': 'D', 'time': 0, 'Dex_Conc': 0}, {'condition': 'DUSP1_timesweep', 'replica': 'D', 'time': 10, 'Dex_Conc': 100}, {'condition': 'DUSP1_timesweep', 'replica': 'D', 'time': 20, 'Dex_Conc': 100}, {'condition': 'DUSP1_timesweep', 'replica': 'D', 'time': 30, 'Dex_Conc': 100}, {'condition': 'DUSP1_timesweep', 'replica': 'D', 'time': 40, 'Dex_Conc': 100}, {'condition': 'DUSP1_timesweep', 'replica': 'D', 'time': 50, 'Dex_Conc': 100}, {'condition': 'DUSP1_timesweep', 'replica': 'D', 'time': 60, 'Dex_Conc': 100}, {'condition': 'DUSP1_timesweep', 'replica': 'D', 'time': 75, 'Dex_Conc': 100}, {'condition': 'DUSP1_timesweep', 'replica': 'D', 'time': 90, 'Dex_Conc': 100}, {'condition': 'DUSP1_timesweep', 'replica': 'D', 'time': 120, 'Dex_Conc': 100}, {'condition': 'DUSP1_timesweep', 'replica': 'D', 'time': 150, 'Dex_Conc': 100}, {'condition': 'DUSP1_timesweep', 'replica': 'D', 'time': 180, 'Dex_Conc': 100}]\n"
     ]
    }
   ],
   "source": [
    "# List of directories to process\n",
    "initial_data_location=(\n",
    "        'smFISH_images/Eric_smFISH_images/20220225/DUSP1_Dex_0min_20220224' ,\n",
    "        'smFISH_images/Eric_smFISH_images/20220225/DUSP1_Dex_10min_20220224' ,\n",
    "        'smFISH_images/Eric_smFISH_images/20220225/DUSP1_Dex_20min_20220224' ,\n",
    "        'smFISH_images/Eric_smFISH_images/20220225/DUSP1_Dex_30min_20220224' ,\n",
    "        'smFISH_images/Eric_smFISH_images/20220303/DUSP1_Dex_40min_20220224' ,\n",
    "        'smFISH_images/Eric_smFISH_images/20220303/DUSP1_Dex_50min_20220224' ,\n",
    "        'smFISH_images/Eric_smFISH_images/20220304/DUSP1_Dex_60min_20220224' ,\n",
    "        'smFISH_images/Eric_smFISH_images/20220304/DUSP1_Dex_75min_20220224' ,\n",
    "        'smFISH_images/Eric_smFISH_images/20220305/DUSP1_Dex_90min_20220224' ,\n",
    "        'smFISH_images/Eric_smFISH_images/20220305/DUSP1_Dex_120min_20220224' ,\n",
    "        'smFISH_images/Eric_smFISH_images/20220305/DUSP1_Dex_150min_20220224' ,\n",
    "        'smFISH_images/Eric_smFISH_images/20220305/DUSP1_Dex_180min_20220224' )\n",
    "# Parameters\n",
    "Condition = 'DUSP1_timesweep'      # Experimental condition. The options are:  'GR_timesweep' , 'DUSP1_timesweep' , 'DUSP1_TPL'\n",
    "Replica = 'D'                   # Replica name. \n",
    "time_list  = [0, 10, 20, 30, 40, 50, 60, 75, 90, 120, 150, 180]        # Time of image acquisition\n",
    "DexConc_list = [0, 100, 100, 100, 100, 100, 100, 100, 100, 100, 100, 100]        # Dex concentration\n",
    "\n",
    "# Creating the list of dictionaries\n",
    "DUSP1_TS_R1 = [\n",
    "    {\n",
    "        \"condition\": Condition,\n",
    "        \"replica\": Replica,\n",
    "        \"time\": time,\n",
    "        \"Dex_Conc\": DexConc\n",
    "    }\n",
    "    for time, DexConc in zip(time_list, DexConc_list)\n",
    "]\n",
    "# Output the result\n",
    "print(DUSP1_TS_R1)"
   ]
  },
  {
   "cell_type": "code",
   "execution_count": null,
   "metadata": {},
   "outputs": [],
   "source": [
    "# List of directories to process\n",
    "initial_data_location=(\n",
    "        'smFISH_images/Eric_smFISH_images/20220420/DUSP1_100nM_Dex_R3_20220419_0min' ,\n",
    "        'smFISH_images/Eric_smFISH_images/20220420/DUSP1_100nM_Dex_R3_20220419_10min' ,\n",
    "        'smFISH_images/Eric_smFISH_images/20220420/DUSP1_100nM_Dex_R3_20220419_20min' ,\n",
    "        'smFISH_images/Eric_smFISH_images/20220420/DUSP1_100nM_Dex_R3_20220419_30min' ,\n",
    "        'smFISH_images/Eric_smFISH_images/20220421/DUSP1_100nM_Dex_R3_20220419_40min' ,\n",
    "        'smFISH_images/Eric_smFISH_images/20220421/DUSP1_100nM_Dex_R3_20220419_50min' ,\n",
    "        'smFISH_images/Eric_smFISH_images/20220421/DUSP1_100nM_Dex_R3_20220419_60min' ,\n",
    "        'smFISH_images/Eric_smFISH_images/20220421/DUSP1_100nM_Dex_R3_20220419_75min' ,\n",
    "        'smFISH_images/Eric_smFISH_images/20220421/DUSP1_100nM_Dex_R3_20220419_90min' ,\n",
    "        'smFISH_images/Eric_smFISH_images/20220421/DUSP1_100nM_Dex_R3_20220419_120min' ,\n",
    "        'smFISH_images/Eric_smFISH_images/20220425/DUSP1_100nM_Dex_R3_20220419_150min' ,\n",
    "        'smFISH_images/Eric_smFISH_images/20220425/DUSP1_100nM_Dex_R3_20220419_180min' )\n",
    "# Parameters\n",
    "Condition = 'DUSP1_timesweep'      # Experimental condition. The options are:  'GR_timesweep' , 'DUSP1_timesweep' , 'DUSP1_TPL'\n",
    "Replica = 'E'                   # Replica name. \n",
    "time_list  = [0, 10, 20, 30, 40, 50, 60, 75, 90, 120, 150, 180]        # Time of image acquisition\n",
    "DexConc_list = [0, 100, 100, 100, 100, 100, 100, 100, 100, 100, 100, 100]        # Dex concentration\n",
    "\n",
    "# Creating the list of dictionaries\n",
    "DUSP1_TS_R2 = [\n",
    "    {\n",
    "        \"condition\": Condition,\n",
    "        \"replica\": Replica,\n",
    "        \"time\": time,\n",
    "        \"Dex_Conc\": DexConc\n",
    "    }\n",
    "    for time, DexConc in zip(time_list, DexConc_list)\n",
    "]\n",
    "# Output the result\n",
    "print(DUSP1_TS_R2)"
   ]
  },
  {
   "cell_type": "code",
   "execution_count": null,
   "metadata": {},
   "outputs": [
    {
     "name": "stdout",
     "output_type": "stream",
     "text": [
      "[{'condition': 'DUSP1_timesweep', 'replica': 'F', 'time': 0, 'Dex_Conc': 0}, {'condition': 'DUSP1_timesweep', 'replica': 'F', 'time': 10, 'Dex_Conc': 100}, {'condition': 'DUSP1_timesweep', 'replica': 'F', 'time': 20, 'Dex_Conc': 100}, {'condition': 'DUSP1_timesweep', 'replica': 'F', 'time': 30, 'Dex_Conc': 100}, {'condition': 'DUSP1_timesweep', 'replica': 'F', 'time': 40, 'Dex_Conc': 100}, {'condition': 'DUSP1_timesweep', 'replica': 'F', 'time': 50, 'Dex_Conc': 100}, {'condition': 'DUSP1_timesweep', 'replica': 'F', 'time': 60, 'Dex_Conc': 100}, {'condition': 'DUSP1_timesweep', 'replica': 'F', 'time': 75, 'Dex_Conc': 100}, {'condition': 'DUSP1_timesweep', 'replica': 'F', 'time': 90, 'Dex_Conc': 100}, {'condition': 'DUSP1_timesweep', 'replica': 'F', 'time': 120, 'Dex_Conc': 100}, {'condition': 'DUSP1_timesweep', 'replica': 'F', 'time': 150, 'Dex_Conc': 100}, {'condition': 'DUSP1_timesweep', 'replica': 'F', 'time': 180, 'Dex_Conc': 100}]\n"
     ]
    }
   ],
   "source": [
    "# List of directories to process\n",
    "initial_data_location=(\n",
    "        'smFISH_images/Eric_smFISH_images/20220602/DUSP1_Dex_100nM_0min_NoSpin_052722' ,\n",
    "        'smFISH_images/Eric_smFISH_images/20220602/DUSP1_Dex_100nM_10min_NoSpin_052722' ,\n",
    "        'smFISH_images/Eric_smFISH_images/20220602/DUSP1_Dex_100nM_20min_NoSpin_052722' ,\n",
    "        'smFISH_images/Eric_smFISH_images/20220602/DUSP1_Dex_100nM_30min_NoSpin_052722' ,\n",
    "        'smFISH_images/Eric_smFISH_images/20220602/DUSP1_Dex_100nM_40min_NoSpin_052722' ,\n",
    "        'smFISH_images/Eric_smFISH_images/20220602/DUSP1_Dex_100nM_50min_NoSpin_052722' ,\n",
    "        'smFISH_images/Eric_smFISH_images/20220606/DUSP1_Dex_100nM_60min_NoSpin_052722' ,\n",
    "        'smFISH_images/Eric_smFISH_images/20220606/DUSP1_Dex_100nM_75min_NoSpin_052722' ,\n",
    "        'smFISH_images/Eric_smFISH_images/20220606/DUSP1_Dex_100nM_90min_NoSpin_052722' ,\n",
    "        'smFISH_images/Eric_smFISH_images/20220606/DUSP1_Dex_100nM_120min_NoSpin_052722' ,\n",
    "        'smFISH_images/Eric_smFISH_images/20220606/DUSP1_Dex_100nM_150min_NoSpin_052722' ,\n",
    "        'smFISH_images/Eric_smFISH_images/20220606/DUSP1_Dex_100nM_180min_NoSpin_052722' )\n",
    "# Parameters\n",
    "Condition = 'DUSP1_timesweep'      # Experimental condition. The options are:  'GR_timesweep' , 'DUSP1_timesweep' , 'DUSP1_TPL'\n",
    "Replica = 'F'                   # Replica name. \n",
    "time_list  = [0, 10, 20, 30, 40, 50, 60, 75, 90, 120, 150, 180]        # Time of image acquisition\n",
    "DexConc_list = [0, 100, 100, 100, 100, 100, 100, 100, 100, 100, 100, 100]        # Dex concentration\n",
    "\n",
    "# Creating the list of dictionaries\n",
    "DUSP1_TS_R3 = [\n",
    "    {\n",
    "        \"condition\": Condition,\n",
    "        \"replica\": Replica,\n",
    "        \"time\": time,\n",
    "        \"Dex_Conc\": DexConc\n",
    "    }\n",
    "    for time, DexConc in zip(time_list, DexConc_list)\n",
    "]\n",
    "# Output the result\n",
    "print(DUSP1_TS_R3)"
   ]
  },
  {
   "cell_type": "markdown",
   "metadata": {},
   "source": [
    "# Concentration Sweep"
   ]
  },
  {
   "cell_type": "code",
   "execution_count": null,
   "metadata": {},
   "outputs": [
    {
     "name": "stdout",
     "output_type": "stream",
     "text": [
      "[{'condition': 'DUSP1_timesweep', 'replica': 'G', 'time': 0, 'Dex_Conc': 0}, {'condition': 'DUSP1_timesweep', 'replica': 'G', 'time': 75, 'Dex_Conc': 0.001}, {'condition': 'DUSP1_timesweep', 'replica': 'G', 'time': 75, 'Dex_Conc': 0.01}, {'condition': 'DUSP1_timesweep', 'replica': 'G', 'time': 75, 'Dex_Conc': 0.1}, {'condition': 'DUSP1_timesweep', 'replica': 'G', 'time': 75, 'Dex_Conc': 1}, {'condition': 'DUSP1_timesweep', 'replica': 'G', 'time': 75, 'Dex_Conc': 10}, {'condition': 'DUSP1_timesweep', 'replica': 'G', 'time': 75, 'Dex_Conc': 100}, {'condition': 'DUSP1_timesweep', 'replica': 'G', 'time': 75, 'Dex_Conc': 1000}, {'condition': 'DUSP1_timesweep', 'replica': 'G', 'time': 75, 'Dex_Conc': 10000}]\n"
     ]
    }
   ],
   "source": [
    "# List of directories to process\n",
    "initial_data_location=(\n",
    "        'smFISH_images/Eric_smFISH_images/20220628/DUSP1_conc_sweep_0min_060322' ,\n",
    "        'smFISH_images/Eric_smFISH_images/20220707/DUSP1_conc_sweep_1pM_75min_060322'  ,\n",
    "        'smFISH_images/Eric_smFISH_images/20220707/DUSP1_conc_sweep_10pM_75min_060322' ,\n",
    "        'smFISH_images/Eric_smFISH_images/20220707/DUSP1_conc_sweep_100pM_75min_060322' ,\n",
    "        'smFISH_images/Eric_smFISH_images/20220705/DUSP1_conc_sweep_1nM_75min_060322' ,\n",
    "        'smFISH_images/Eric_smFISH_images/20220705/DUSP1_conc_sweep_10nM_75min_060322' ,\n",
    "        'smFISH_images/Eric_smFISH_images/20220705/DUSP1_conc_sweep_100nM_75min_060322' ,\n",
    "        'smFISH_images/Eric_smFISH_images/20220705/DUSP1_conc_sweep_1uM_75min_060322' ,\n",
    "        'smFISH_images/Eric_smFISH_images/20220628/DUSP1_conc_sweep_10uM_75min_060322')\n",
    "# Parameters\n",
    "Condition = 'DUSP1_timesweep'      # Experimental condition. The options are:  'GR_timesweep' , 'DUSP1_timesweep' , 'DUSP1_TPL'\n",
    "Replica = 'G'                   # Replica name. \n",
    "time_list  = [0, 75, 75, 75, 75, 75, 75, 75, 75]        # Time of image acquisition\n",
    "DexConc_list = [0, 0.001, 0.01, 0.1, 1, 10, 100, 1000, 10000]        # Dex concentration\n",
    "\n",
    "# Creating the list of dictionaries\n",
    "DUSP1_CS_R1 = [\n",
    "    {\n",
    "        \"condition\": Condition,\n",
    "        \"replica\": Replica,\n",
    "        \"time\": time,\n",
    "        \"Dex_Conc\": DexConc\n",
    "    }\n",
    "    for time, DexConc in zip(time_list, DexConc_list)\n",
    "]\n",
    "# Output the result\n",
    "print(DUSP1_CS_R1)"
   ]
  },
  {
   "cell_type": "code",
   "execution_count": null,
   "metadata": {},
   "outputs": [
    {
     "name": "stdout",
     "output_type": "stream",
     "text": [
      "[{'condition': 'DUSP1_timesweep', 'replica': 'H', 'time': 0, 'Dex_Conc': 0}, {'condition': 'DUSP1_timesweep', 'replica': 'H', 'time': 75, 'Dex_Conc': 0.001}, {'condition': 'DUSP1_timesweep', 'replica': 'H', 'time': 75, 'Dex_Conc': 0.01}, {'condition': 'DUSP1_timesweep', 'replica': 'H', 'time': 75, 'Dex_Conc': 0.1}, {'condition': 'DUSP1_timesweep', 'replica': 'H', 'time': 75, 'Dex_Conc': 1}, {'condition': 'DUSP1_timesweep', 'replica': 'H', 'time': 75, 'Dex_Conc': 10}, {'condition': 'DUSP1_timesweep', 'replica': 'H', 'time': 75, 'Dex_Conc': 1000}, {'condition': 'DUSP1_timesweep', 'replica': 'H', 'time': 75, 'Dex_Conc': 10000}]\n"
     ]
    }
   ],
   "source": [
    "# List of directories to process\n",
    "initial_data_location=(\n",
    "        'smFISH_images/Eric_smFISH_images/20220718/DUSP1_conc_sweep_R2_0min_071422' ,\n",
    "        'smFISH_images/Eric_smFISH_images/20220721/DUSP1_conc_sweep_R2_1pM_75min_071422' ,   \n",
    "        'smFISH_images/Eric_smFISH_images/20220721/DUSP1_conc_sweep_R2_10pM_75min_071422' ,    \n",
    "        'smFISH_images/Eric_smFISH_images/20220721/DUSP1_conc_sweep_R2_100pM_75min_071422' ,    \n",
    "        'smFISH_images/Eric_smFISH_images/20220718/DUSP1_conc_sweep_R2_1nM_75min_071422' ,    \n",
    "        'smFISH_images/Eric_smFISH_images/20220718/DUSP1_conc_sweep_R2_10nM_75min_071422' ,    \n",
    "        'smFISH_images/Eric_smFISH_images/20220718/DUSP1_conc_sweep_R2_1uM_75min_071422' ,\n",
    "        'smFISH_images/Eric_smFISH_images/20220718/DUSP1_conc_sweep_R2_10uM_75min_071422' )\n",
    "# Parameters\n",
    "Condition = 'DUSP1_timesweep'      # Experimental condition. The options are:  'GR_timesweep' , 'DUSP1_timesweep' \n",
    "Replica = 'H'                   # Replica name. \n",
    "time_list  = [0, 75, 75, 75, 75, 75, 75, 75]        # Time of image acquisition\n",
    "DexConc_list = [0, 0.001, 0.01, 0.1, 1, 10, 1000, 10000]        # Dex concentration\n",
    "\n",
    "# Creating the list of dictionaries\n",
    "DUSP1_CS_R2 = [\n",
    "    {\n",
    "        \"condition\": Condition,\n",
    "        \"replica\": Replica,\n",
    "        \"time\": time,\n",
    "        \"Dex_Conc\": DexConc\n",
    "    }\n",
    "    for time, DexConc in zip(time_list, DexConc_list)\n",
    "]\n",
    "# Output the result\n",
    "print(DUSP1_CS_R2)"
   ]
  },
  {
   "cell_type": "code",
   "execution_count": null,
   "metadata": {},
   "outputs": [
    {
     "name": "stdout",
     "output_type": "stream",
     "text": [
      "[{'condition': 'DUSP1_timesweep', 'replica': 'I', 'time': 0, 'Dex_Conc': 0}, {'condition': 'DUSP1_timesweep', 'replica': 'I', 'time': 75, 'Dex_Conc': 0.001}, {'condition': 'DUSP1_timesweep', 'replica': 'I', 'time': 75, 'Dex_Conc': 0.01}, {'condition': 'DUSP1_timesweep', 'replica': 'I', 'time': 75, 'Dex_Conc': 0.1}, {'condition': 'DUSP1_timesweep', 'replica': 'I', 'time': 75, 'Dex_Conc': 1}, {'condition': 'DUSP1_timesweep', 'replica': 'I', 'time': 75, 'Dex_Conc': 10}, {'condition': 'DUSP1_timesweep', 'replica': 'I', 'time': 75, 'Dex_Conc': 100}, {'condition': 'DUSP1_timesweep', 'replica': 'I', 'time': 75, 'Dex_Conc': 1000}, {'condition': 'DUSP1_timesweep', 'replica': 'I', 'time': 75, 'Dex_Conc': 10000}]\n"
     ]
    }
   ],
   "source": [
    "# List of directories to process\n",
    "initial_data_location=(\n",
    "        'smFISH_images/Eric_smFISH_images/20221003/DUSP1_Dex_Sweep_0nM_0min_Control_092022' ,\n",
    "        'smFISH_images/Eric_smFISH_images/20221003/DUSP1_Dex_Sweep_1pM_75min_092022' ,\n",
    "        'smFISH_images/Eric_smFISH_images/20221003/DUSP1_Dex_Sweep_10pM_75min_092022' ,\n",
    "        'smFISH_images/Eric_smFISH_images/20221003/DUSP1_Dex_Sweep_100pM_75min_092022' ,\n",
    "        'smFISH_images/Eric_smFISH_images/20221006/DUSP1_Dex_Sweep_1nM_75min_092022' ,\n",
    "        'smFISH_images/Eric_smFISH_images/20221006/DUSP1_Dex_Sweep_10nM_75min_092022' ,\n",
    "        'smFISH_images/Eric_smFISH_images/20221006/DUSP1_Dex_Sweep_100nM_75min_092022' ,\n",
    "        'smFISH_images/Eric_smFISH_images/20221011/DUSP1_Dex_Sweep_1uM_75min_092022' ,\n",
    "        'smFISH_images/Eric_smFISH_images/20221011/DUSP1_Dex_Sweep_10uM_75min_092022' )\n",
    "# Parameters\n",
    "Condition = 'DUSP1_timesweep'      # Experimental condition. The options are:  'GR_timesweep' , 'DUSP1_timesweep' \n",
    "Replica = 'I'                   # Replica name. \n",
    "time_list  = [0, 75, 75, 75, 75, 75, 75, 75, 75]        # Time of image acquisition\n",
    "DexConc_list = [0, 0.001, 0.01, 0.1, 1, 10, 100, 1000, 10000]        # Dex concentration\n",
    "\n",
    "# Creating the list of dictionaries\n",
    "DUSP1_CS_R3 = [\n",
    "    {\n",
    "        \"condition\": Condition,\n",
    "        \"replica\": Replica,\n",
    "        \"time\": time,\n",
    "        \"Dex_Conc\": DexConc\n",
    "    }\n",
    "    for time, DexConc in zip(time_list, DexConc_list)\n",
    "]\n",
    "# Output the result\n",
    "print(DUSP1_CS_R3)"
   ]
  },
  {
   "cell_type": "code",
   "execution_count": null,
   "metadata": {},
   "outputs": [
    {
     "name": "stdout",
     "output_type": "stream",
     "text": [
      "[{'condition': 'DUSP1_timesweep', 'replica': 'J', 'time': 0, 'Dex_Conc': 0}, {'condition': 'DUSP1_timesweep', 'replica': 'J', 'time': 30, 'Dex_Conc': 0.3}, {'condition': 'DUSP1_timesweep', 'replica': 'J', 'time': 50, 'Dex_Conc': 0.3}, {'condition': 'DUSP1_timesweep', 'replica': 'J', 'time': 75, 'Dex_Conc': 0.3}, {'condition': 'DUSP1_timesweep', 'replica': 'J', 'time': 90, 'Dex_Conc': 0.3}, {'condition': 'DUSP1_timesweep', 'replica': 'J', 'time': 120, 'Dex_Conc': 0.3}, {'condition': 'DUSP1_timesweep', 'replica': 'J', 'time': 180, 'Dex_Conc': 0.3}, {'condition': 'DUSP1_timesweep', 'replica': 'J', 'time': 30, 'Dex_Conc': 1}, {'condition': 'DUSP1_timesweep', 'replica': 'J', 'time': 50, 'Dex_Conc': 1}, {'condition': 'DUSP1_timesweep', 'replica': 'J', 'time': 75, 'Dex_Conc': 1}, {'condition': 'DUSP1_timesweep', 'replica': 'J', 'time': 90, 'Dex_Conc': 1}, {'condition': 'DUSP1_timesweep', 'replica': 'J', 'time': 120, 'Dex_Conc': 1}, {'condition': 'DUSP1_timesweep', 'replica': 'J', 'time': 180, 'Dex_Conc': 1}, {'condition': 'DUSP1_timesweep', 'replica': 'J', 'time': 30, 'Dex_Conc': 10}, {'condition': 'DUSP1_timesweep', 'replica': 'J', 'time': 50, 'Dex_Conc': 10}, {'condition': 'DUSP1_timesweep', 'replica': 'J', 'time': 75, 'Dex_Conc': 10}, {'condition': 'DUSP1_timesweep', 'replica': 'J', 'time': 90, 'Dex_Conc': 10}, {'condition': 'DUSP1_timesweep', 'replica': 'J', 'time': 120, 'Dex_Conc': 10}, {'condition': 'DUSP1_timesweep', 'replica': 'J', 'time': 180, 'Dex_Conc': 10}]\n"
     ]
    }
   ],
   "source": [
    "# List of directories to process\n",
    "initial_data_location=(\n",
    "        'smFISH_images/Eric_smFISH_images/20230306/DUSP1_0nM_Dex_0min_012623' ,\n",
    "        'smFISH_images/Eric_smFISH_images/20230306/DUSP1_300pM_Dex_30min_012623' ,\n",
    "        'smFISH_images/Eric_smFISH_images/20230306/DUSP1_300pM_Dex_50min_012623' ,\n",
    "        'smFISH_images/Eric_smFISH_images/20230306/DUSP1_300pM_Dex_75min_012623' ,\n",
    "        'smFISH_images/Eric_smFISH_images/20230309/DUSP1_300pM_Dex_90min_012623' ,\n",
    "        'smFISH_images/Eric_smFISH_images/20230309/DUSP1_300pM_Dex_120min_012623' ,\n",
    "        'smFISH_images/Eric_smFISH_images/20230309/DUSP1_300pM_Dex_180min_012623' ,\n",
    "        'smFISH_images/Eric_smFISH_images/20230309/DUSP1_1nM_Dex_30min_012623' ,\n",
    "        'smFISH_images/Eric_smFISH_images/20230310/DUSP1_1nM_Dex_50min_012623' ,\n",
    "        'smFISH_images/Eric_smFISH_images/20230310/DUSP1_1nM_Dex_75min_012623' ,\n",
    "        'smFISH_images/Eric_smFISH_images/20230310/DUSP1_1nM_Dex_90min_012623' ,\n",
    "        'smFISH_images/Eric_smFISH_images/20230310/DUSP1_1nM_Dex_120min_012623' ,\n",
    "        'smFISH_images/Eric_smFISH_images/20230316/DUSP1_1nM_Dex_180min_012623' ,\n",
    "        'smFISH_images/Eric_smFISH_images/20230316/DUSP1_10nM_Dex_30min_012623' ,\n",
    "        'smFISH_images/Eric_smFISH_images/20230316/DUSP1_10nM_Dex_50min_012623' ,\n",
    "        'smFISH_images/Eric_smFISH_images/20230316/DUSP1_10nM_Dex_75min_012623' ,\n",
    "        'smFISH_images/Eric_smFISH_images/20230316/DUSP1_10nM_Dex_90min_012623' ,\n",
    "        'smFISH_images/Eric_smFISH_images/20230316/DUSP1_10nM_Dex_120min_012623' ,\n",
    "        'smFISH_images/Eric_smFISH_images/20230316/DUSP1_10nM_Dex_180min_012623' )\n",
    "# Parameters\n",
    "Condition = 'DUSP1_timesweep'      # Experimental condition. The options are:  'GR_timesweep' , 'DUSP1_timesweep' \n",
    "Replica = 'J'                   # Replica name. \n",
    "time_list  = [0, 30, 50, 75, 90, 120, 180, 30, 50, 75, 90, 120, 180, 30, 50, 75, 90, 120, 180]        # Time of image acquisition\n",
    "DexConc_list = [0, 0.3, 0.3, 0.3, 0.3, 0.3, 0.3, 1, 1, 1, 1, 1, 1, 10, 10, 10, 10, 10, 10]        # Dex concentration\n",
    "\n",
    "# Creating the list of dictionaries\n",
    "DUSP1_TCS_R1 = [\n",
    "    {\n",
    "        \"condition\": Condition,\n",
    "        \"replica\": Replica,\n",
    "        \"time\": time,\n",
    "        \"Dex_Conc\": DexConc\n",
    "    }\n",
    "    for time, DexConc in zip(time_list, DexConc_list)\n",
    "]\n",
    "# Output the result\n",
    "print(DUSP1_TCS_R1)"
   ]
  },
  {
   "cell_type": "code",
   "execution_count": null,
   "metadata": {},
   "outputs": [
    {
     "name": "stdout",
     "output_type": "stream",
     "text": [
      "[{'condition': 'DUSP1_timesweep', 'replica': 'K', 'time': 0, 'Dex_Conc': 0}, {'condition': 'DUSP1_timesweep', 'replica': 'K', 'time': 30, 'Dex_Conc': 0.3}, {'condition': 'DUSP1_timesweep', 'replica': 'K', 'time': 50, 'Dex_Conc': 0.3}, {'condition': 'DUSP1_timesweep', 'replica': 'K', 'time': 75, 'Dex_Conc': 0.3}, {'condition': 'DUSP1_timesweep', 'replica': 'K', 'time': 90, 'Dex_Conc': 0.3}, {'condition': 'DUSP1_timesweep', 'replica': 'K', 'time': 120, 'Dex_Conc': 0.3}, {'condition': 'DUSP1_timesweep', 'replica': 'K', 'time': 180, 'Dex_Conc': 0.3}, {'condition': 'DUSP1_timesweep', 'replica': 'K', 'time': 30, 'Dex_Conc': 1}, {'condition': 'DUSP1_timesweep', 'replica': 'K', 'time': 50, 'Dex_Conc': 1}, {'condition': 'DUSP1_timesweep', 'replica': 'K', 'time': 75, 'Dex_Conc': 1}, {'condition': 'DUSP1_timesweep', 'replica': 'K', 'time': 90, 'Dex_Conc': 1}, {'condition': 'DUSP1_timesweep', 'replica': 'K', 'time': 120, 'Dex_Conc': 1}, {'condition': 'DUSP1_timesweep', 'replica': 'K', 'time': 180, 'Dex_Conc': 1}, {'condition': 'DUSP1_timesweep', 'replica': 'K', 'time': 30, 'Dex_Conc': 10}, {'condition': 'DUSP1_timesweep', 'replica': 'K', 'time': 50, 'Dex_Conc': 10}, {'condition': 'DUSP1_timesweep', 'replica': 'K', 'time': 75, 'Dex_Conc': 10}, {'condition': 'DUSP1_timesweep', 'replica': 'K', 'time': 90, 'Dex_Conc': 10}, {'condition': 'DUSP1_timesweep', 'replica': 'K', 'time': 120, 'Dex_Conc': 10}, {'condition': 'DUSP1_timesweep', 'replica': 'K', 'time': 180, 'Dex_Conc': 10}]\n"
     ]
    }
   ],
   "source": [
    "# List of directories to process\n",
    "initial_data_location=(\n",
    "        'smFISH_images/Eric_smFISH_images/20230413/DUSP1_DexTimeConcSweep_0min_041223' ,\n",
    "        'smFISH_images/Eric_smFISH_images/20230413/DUSP1_DexTimeConcSweep_300pM_30min_041223' ,\n",
    "        'smFISH_images/Eric_smFISH_images/20230413/DUSP1_DexTimeConcSweep_300pM_50min_041223' ,\n",
    "        'smFISH_images/Eric_smFISH_images/20230413/DUSP1_DexTimeConcSweep_300pM_75min_041223' ,\n",
    "        'smFISH_images/Eric_smFISH_images/20230413/DUSP1_DexTimeConcSweep_300pM_90min_041223' ,\n",
    "        'smFISH_images/Eric_smFISH_images/20230424/DUSP1_DexTimeConcSweep_300pM_120min_041223' ,\n",
    "        'smFISH_images/Eric_smFISH_images/20230424/DUSP1_DexTimeConcSweep_300pM_180min_041223' ,\n",
    "        'smFISH_images/Eric_smFISH_images/20230424/DUSP1_DexTimeConcSweep_1nM_30min_041223' ,\n",
    "        'smFISH_images/Eric_smFISH_images/20230424/DUSP1_DexTimeConcSweep_1nM_50min_041223' ,\n",
    "        'smFISH_images/Eric_smFISH_images/20230424/DUSP1_DexTimeConcSweep_1nM_75min_041223' ,\n",
    "        'smFISH_images/Eric_smFISH_images/20230424/DUSP1_DexTimeConcSweep_1nM_90min_041223' ,\n",
    "        'smFISH_images/Eric_smFISH_images/20230427/DUSP1_DexTimeConcSweep_1nM_120min_041223' ,\n",
    "        'smFISH_images/Eric_smFISH_images/20230427/DUSP1_DexTimeConcSweep_1nM_180min_041223' ,\n",
    "        'smFISH_images/Eric_smFISH_images/20230427/DUSP1_DexTimeConcSweep_10nM_30min_041223' ,\n",
    "        'smFISH_images/Eric_smFISH_images/20230427/DUSP1_DexTimeConcSweep_10nM_50min_041223' ,\n",
    "        'smFISH_images/Eric_smFISH_images/20230511/DUSP1_DexTimeConcSweep_10nM_75min_041223' ,\n",
    "        'smFISH_images/Eric_smFISH_images/20230511/DUSP1_DexTimeConcSweep_10nM_90min_041223' ,\n",
    "        'smFISH_images/Eric_smFISH_images/20230511/DUSP1_DexTimeConcSweep_10nM_120min_041223' ,\n",
    "        'smFISH_images/Eric_smFISH_images/20230511/DUSP1_DexTimeConcSweep_10nM_180min_041223' )\n",
    "# Parameters\n",
    "Condition = 'DUSP1_timesweep'      # Experimental condition. The options are:  'GR_timesweep' , 'DUSP1_timesweep' , 'DUSP1_TPL'\n",
    "Replica = 'K'                   # Replica name. \n",
    "time_list  = [0, 30, 50, 75, 90, 120, 180, 30, 50, 75, 90, 120, 180, 30, 50, 75, 90, 120, 180]        # Time of image acquisition\n",
    "DexConc_list = [0, 0.3, 0.3, 0.3, 0.3, 0.3, 0.3, 1, 1, 1, 1, 1, 1, 10, 10, 10, 10, 10, 10]        # Dex concentration\n",
    "\n",
    "# Creating the list of dictionaries\n",
    "DUSP1_TCS_R2 = [\n",
    "    {\n",
    "        \"condition\": Condition,\n",
    "        \"replica\": Replica,\n",
    "        \"time\": time,\n",
    "        \"Dex_Conc\": DexConc\n",
    "    }\n",
    "    for time, DexConc in zip(time_list, DexConc_list)\n",
    "]\n",
    "# Output the result\n",
    "print(DUSP1_TCS_R2)"
   ]
  },
  {
   "cell_type": "code",
   "execution_count": null,
   "metadata": {},
   "outputs": [
    {
     "name": "stdout",
     "output_type": "stream",
     "text": [
      "[{'condition': 'DUSP1_timesweep', 'replica': 'L', 'time': 0, 'Dex_Conc': 0}, {'condition': 'DUSP1_timesweep', 'replica': 'L', 'time': 30, 'Dex_Conc': 0.3}, {'condition': 'DUSP1_timesweep', 'replica': 'L', 'time': 50, 'Dex_Conc': 0.3}, {'condition': 'DUSP1_timesweep', 'replica': 'L', 'time': 75, 'Dex_Conc': 0.3}, {'condition': 'DUSP1_timesweep', 'replica': 'L', 'time': 90, 'Dex_Conc': 0.3}, {'condition': 'DUSP1_timesweep', 'replica': 'L', 'time': 120, 'Dex_Conc': 0.3}, {'condition': 'DUSP1_timesweep', 'replica': 'L', 'time': 180, 'Dex_Conc': 0.3}, {'condition': 'DUSP1_timesweep', 'replica': 'L', 'time': 30, 'Dex_Conc': 1}, {'condition': 'DUSP1_timesweep', 'replica': 'L', 'time': 50, 'Dex_Conc': 1}, {'condition': 'DUSP1_timesweep', 'replica': 'L', 'time': 90, 'Dex_Conc': 1}, {'condition': 'DUSP1_timesweep', 'replica': 'L', 'time': 120, 'Dex_Conc': 1}, {'condition': 'DUSP1_timesweep', 'replica': 'L', 'time': 180, 'Dex_Conc': 1}, {'condition': 'DUSP1_timesweep', 'replica': 'L', 'time': 30, 'Dex_Conc': 10}, {'condition': 'DUSP1_timesweep', 'replica': 'L', 'time': 50, 'Dex_Conc': 10}, {'condition': 'DUSP1_timesweep', 'replica': 'L', 'time': 75, 'Dex_Conc': 10}, {'condition': 'DUSP1_timesweep', 'replica': 'L', 'time': 90, 'Dex_Conc': 10}, {'condition': 'DUSP1_timesweep', 'replica': 'L', 'time': 120, 'Dex_Conc': 10}, {'condition': 'DUSP1_timesweep', 'replica': 'L', 'time': 180, 'Dex_Conc': 10}]\n"
     ]
    }
   ],
   "source": [
    "# List of directories to process\n",
    "initial_data_location=(\n",
    "        'smFISH_images/Eric_smFISH_images/20230530/DUSP1_Dex_time_conc_sweep_0min_050223_R3' ,\n",
    "        'smFISH_images/Eric_smFISH_images/20230530/DUSP1_Dex_300pM_30min_050223_R3' ,\n",
    "        'smFISH_images/Eric_smFISH_images/20230530/DUSP1_Dex_300pM_50min_050223_R3' ,\n",
    "        'smFISH_images/Eric_smFISH_images/20230605/DUSP1_Dex_300pM_75min_050223_R3' ,\n",
    "        'smFISH_images/Eric_smFISH_images/20230605/DUSP1_Dex_300pM_90min_050223_R3' ,\n",
    "        'smFISH_images/Eric_smFISH_images/20230605/DUSP1_Dex_300pM_120min_050223_R3' ,\n",
    "        'smFISH_images/Eric_smFISH_images/20230605/DUSP1_Dex_300pM_180min_050223_R3' ,\n",
    "        'smFISH_images/Eric_smFISH_images/20230605/DUSP1_Dex_1nM_30min_050223_R3' ,\n",
    "        'smFISH_images/Eric_smFISH_images/20230605/DUSP1_Dex_1nM_50min_050223_R3' ,\n",
    "        'smFISH_images/Eric_smFISH_images/20230608/DUSP1_Dex_1nM_90min_050223_R3' ,\n",
    "        'smFISH_images/Eric_smFISH_images/20230608/DUSP1_Dex_1nM_120min_050223_R3' ,\n",
    "        'smFISH_images/Eric_smFISH_images/20230608/DUSP1_Dex_1nM_180min_050223_R3' ,\n",
    "        'smFISH_images/Eric_smFISH_images/20230614/DUSP1_Dex_10nM_30min_050223_R3_redo' ,\n",
    "        'smFISH_images/Eric_smFISH_images/20230608/DUSP1_Dex_10nM_50min_050223_R3' ,\n",
    "        'smFISH_images/Eric_smFISH_images/20230608/DUSP1_Dex_10nM_75min_050223_R3' ,\n",
    "        'smFISH_images/Eric_smFISH_images/20230608/DUSP1_Dex_10nM_90min_050223_R3' ,\n",
    "        'smFISH_images/Eric_smFISH_images/20230608/DUSP1_Dex_10nM_120min_050223_R3' ,\n",
    "        'smFISH_images/Eric_smFISH_images/20230608/DUSP1_Dex_10nM_180min_050223_R3' )\n",
    "# Parameters\n",
    "Condition = 'DUSP1_timesweep'      # Experimental condition. The options are:  'GR_timesweep' , 'DUSP1_timesweep'\n",
    "Replica = 'L'                   # Replica name. \n",
    "time_list  = [0, 30, 50, 75, 90, 120, 180, 30, 50, 90, 120, 180, 30, 50, 75, 90, 120, 180]        # Time of image acquisition\n",
    "DexConc_list = [0, 0.3, 0.3, 0.3, 0.3, 0.3, 0.3, 1, 1, 1, 1, 1, 10, 10, 10, 10, 10, 10]        # Dex concentration\n",
    "\n",
    "DUSP1_TCS_R3 = [\n",
    "    {\n",
    "        \"condition\": Condition,\n",
    "        \"replica\": Replica,\n",
    "        \"time\": time,\n",
    "        \"Dex_Conc\": DexConc\n",
    "    }\n",
    "    for time, DexConc in zip(time_list, DexConc_list)\n",
    "]\n",
    "# Output the result\n",
    "print(DUSP1_TCS_R3)"
   ]
  },
  {
   "cell_type": "code",
   "execution_count": null,
   "metadata": {},
   "outputs": [
    {
     "name": "stdout",
     "output_type": "stream",
     "text": [
      "[{'condition': 'DUSP1_timesweep', 'replica': 'M', 'time': 0, 'Dex_Conc': 0}, {'condition': 'DUSP1_timesweep', 'replica': 'M', 'time': 150, 'Dex_Conc': 100}, {'condition': 'DUSP1_timesweep', 'replica': 'M', 'time': 180, 'Dex_Conc': 100}]\n"
     ]
    }
   ],
   "source": [
    "# List of directories to process\n",
    "initial_data_location=(\n",
    "        'smFISH_images/Eric_smFISH_images/20220725/DUSP1_Dex_100nM_6hr_0min_072022' ,\n",
    "        'smFISH_images/Eric_smFISH_images/20220725/DUSP1_Dex_100nM_6hr_150min_072022' ,\n",
    "        'smFISH_images/Eric_smFISH_images/20220725/DUSP1_Dex_100nM_6hr_180min_072022' )\n",
    "# Parameters\n",
    "Condition = 'DUSP1_timesweep'      # Experimental condition. The options are:  'GR_timesweep' , 'DUSP1_timesweep' , 'DUSP1_TPL'\n",
    "Replica = 'M'                   # Replica name. \n",
    "time_list  = [0, 150, 180]        # Time of image acquisition\n",
    "DexConc_list = [0, 100, 100]        # Dex concentration\n",
    "\n",
    "DUSP1_TS_R4 = [\n",
    "    {\n",
    "        \"condition\": Condition,\n",
    "        \"replica\": Replica,\n",
    "        \"time\": time,\n",
    "        \"Dex_Conc\": DexConc\n",
    "    }\n",
    "    for time, DexConc in zip(time_list, DexConc_list)\n",
    "]\n",
    "# Output the result\n",
    "print(DUSP1_TS_R4)"
   ]
  },
  {
   "cell_type": "code",
   "execution_count": null,
   "metadata": {},
   "outputs": [
    {
     "name": "stdout",
     "output_type": "stream",
     "text": [
      "[{'condition': 'DUSP1_timesweep', 'replica': 'N', 'time': 0, 'Dex_Conc': 0}, {'condition': 'DUSP1_timesweep', 'replica': 'N', 'time': 30, 'Dex_Conc': 100}, {'condition': 'DUSP1_timesweep', 'replica': 'N', 'time': 60, 'Dex_Conc': 100}, {'condition': 'DUSP1_timesweep', 'replica': 'N', 'time': 90, 'Dex_Conc': 100}, {'condition': 'DUSP1_timesweep', 'replica': 'N', 'time': 120, 'Dex_Conc': 100}, {'condition': 'DUSP1_timesweep', 'replica': 'N', 'time': 150, 'Dex_Conc': 100}, {'condition': 'DUSP1_timesweep', 'replica': 'N', 'time': 180, 'Dex_Conc': 100}]\n"
     ]
    }
   ],
   "source": [
    "# List of directories to process\n",
    "initial_data_location=(\n",
    "        'smFISH_images/Eric_smFISH_images/20220927/DUSP1_100nM_Dex_0min_081822' ,\n",
    "        'smFISH_images/Eric_smFISH_images/20220927/DUSP1_100nM_Dex_30min_081822' ,\n",
    "        'smFISH_images/Eric_smFISH_images/20220927/DUSP1_100nM_Dex_60min_081822' ,\n",
    "        'smFISH_images/Eric_smFISH_images/20220928/DUSP1_100nM_Dex_90min_081822' ,\n",
    "        'smFISH_images/Eric_smFISH_images/20220928/DUSP1_100nM_Dex_120min_081822' ,\n",
    "        'smFISH_images/Eric_smFISH_images/20220928/DUSP1_100nM_Dex_150min_081822' ,\n",
    "        'smFISH_images/Eric_smFISH_images/20220929/DUSP1_100nM_Dex_180min_081822' )\n",
    "# Parameters\n",
    "Condition = 'DUSP1_timesweep'      # Experimental condition. The options are:  'GR_timesweep' , 'DUSP1_timesweep'\n",
    "Replica = 'N'                   # Replica name. \n",
    "time_list  = [0, 30, 60, 90, 120, 150, 180]        # Time of image acquisition\n",
    "DexConc_list = [0, 100, 100, 100, 100, 100, 100]        # Dex concentration\n",
    "\n",
    "DUSP1_TS_R5 = [\n",
    "    {\n",
    "        \"condition\": Condition,\n",
    "        \"replica\": Replica,\n",
    "        \"time\": time,\n",
    "        \"Dex_Conc\": DexConc\n",
    "    }\n",
    "    for time, DexConc in zip(time_list, DexConc_list)\n",
    "]\n",
    "# Output the result\n",
    "print(DUSP1_TS_R5)"
   ]
  },
  {
   "cell_type": "markdown",
   "metadata": {},
   "source": [
    "## ```DUSP1_TPL```  experiments"
   ]
  },
  {
   "cell_type": "code",
   "execution_count": null,
   "metadata": {},
   "outputs": [
    {
     "name": "stdout",
     "output_type": "stream",
     "text": [
      "[{'condition': 'DUSP1_TPL', 'replica': 'O', 'time': 0, 'Dex_Conc': 0, 'time_tpl': None}, {'condition': 'DUSP1_TPL', 'replica': 'O', 'time': 75, 'Dex_Conc': 100, 'time_tpl': None}, {'condition': 'DUSP1_TPL', 'replica': 'O', 'time': 85, 'Dex_Conc': 100, 'time_tpl': 75}, {'condition': 'DUSP1_TPL', 'replica': 'O', 'time': 105, 'Dex_Conc': 100, 'time_tpl': 75}, {'condition': 'DUSP1_TPL', 'replica': 'O', 'time': 135, 'Dex_Conc': 100, 'time_tpl': 75}, {'condition': 'DUSP1_TPL', 'replica': 'O', 'time': 150, 'Dex_Conc': 100, 'time_tpl': None}, {'condition': 'DUSP1_TPL', 'replica': 'O', 'time': 160, 'Dex_Conc': 100, 'time_tpl': 150}, {'condition': 'DUSP1_TPL', 'replica': 'O', 'time': 180, 'Dex_Conc': 100, 'time_tpl': 150}, {'condition': 'DUSP1_TPL', 'replica': 'O', 'time': 210, 'Dex_Conc': 100, 'time_tpl': 150}]\n"
     ]
    }
   ],
   "source": [
    "# List of directories to process\n",
    "initial_data_location=(\n",
    "        'smFISH_images/Eric_smFISH_images/20221019/DUSP1_Dex_TPL_3hr_0min_Control_101422' ,\n",
    "        'smFISH_images/Eric_smFISH_images/20221019/DUSP1_Dex100nM_75min_Control_101422' ,\n",
    "        'smFISH_images/Eric_smFISH_images/20221019/DUSP1_Dex100nM_75min_TPL5uM_10min_101422' ,\n",
    "        'smFISH_images/Eric_smFISH_images/20221019/DUSP1_Dex100nM_75min_TPL5uM_30min_101422' ,\n",
    "        'smFISH_images/Eric_smFISH_images/20221019/DUSP1_Dex100nM_75min_TPL5uM_60min_101422' ,\n",
    "        'smFISH_images/Eric_smFISH_images/20221020/DUSP1_Dex100nM_150min_Control_101422' ,\n",
    "        'smFISH_images/Eric_smFISH_images/20221020/DUSP1_Dex100nM_150min_TPL5uM_10min_101422' ,\n",
    "        'smFISH_images/Eric_smFISH_images/20221020/DUSP1_Dex100nM_150min_TPL5uM_30min_101422' ,\n",
    "        'smFISH_images/Eric_smFISH_images/20221020/DUSP1_Dex100nM_150min_TPL5uM_60min_101422' )\n",
    "# Parameters\n",
    "Condition = 'DUSP1_TPL'      # Experimental condition. The options are:  'GR_timesweep' , 'DUSP1_timesweep' , 'DUSP1_TPL'\n",
    "Replica = 'O'                   # Replica name. \n",
    "time_list  = [0, 75, 85, 105, 135, 150, 160, 180, 210]        # Time of image acquisition\n",
    "DexConc_list = [0, 100, 100, 100, 100, 100, 100, 100, 100]        # Dex concentration\n",
    "time_TPL = [None, None, 75, 75, 75, None, 150, 150, 150]  # Time of TPL addition relitive to Dex timepoint\n",
    "\n",
    "DUSP1_TPL_R1 = [\n",
    "    {\n",
    "        \"condition\": Condition,\n",
    "        \"replica\": Replica,\n",
    "        \"time\": time,\n",
    "        \"Dex_Conc\": DexConc,\n",
    "        \"time_tpl\": tpl_time\n",
    "    }\n",
    "    for time, DexConc, tpl_time in zip(time_list, DexConc_list, time_TPL)\n",
    "]\n",
    "# Output the result\n",
    "print(DUSP1_TPL_R1)"
   ]
  },
  {
   "cell_type": "code",
   "execution_count": null,
   "metadata": {},
   "outputs": [
    {
     "name": "stdout",
     "output_type": "stream",
     "text": [
      "[{'condition': 'DUSP1_TPL', 'replica': 'P', 'time': 0, 'Dex_Conc': 0, 'time_tpl': None}, {'condition': 'DUSP1_TPL', 'replica': 'P', 'time': 15, 'Dex_Conc': 0, 'time_tpl': 0}, {'condition': 'DUSP1_TPL', 'replica': 'P', 'time': 30, 'Dex_Conc': 0, 'time_tpl': 0}, {'condition': 'DUSP1_TPL', 'replica': 'P', 'time': 60, 'Dex_Conc': 0, 'time_tpl': 0}, {'condition': 'DUSP1_TPL', 'replica': 'P', 'time': 20, 'Dex_Conc': 100, 'time_tpl': None}, {'condition': 'DUSP1_TPL', 'replica': 'P', 'time': 35, 'Dex_Conc': 100, 'time_tpl': 20}, {'condition': 'DUSP1_TPL', 'replica': 'P', 'time': 50, 'Dex_Conc': 100, 'time_tpl': 20}, {'condition': 'DUSP1_TPL', 'replica': 'P', 'time': 80, 'Dex_Conc': 100, 'time_tpl': 20}, {'condition': 'DUSP1_TPL', 'replica': 'P', 'time': 75, 'Dex_Conc': 100, 'time_tpl': None}, {'condition': 'DUSP1_TPL', 'replica': 'P', 'time': 90, 'Dex_Conc': 100, 'time_tpl': 75}, {'condition': 'DUSP1_TPL', 'replica': 'P', 'time': 105, 'Dex_Conc': 100, 'time_tpl': 75}, {'condition': 'DUSP1_TPL', 'replica': 'P', 'time': 135, 'Dex_Conc': 100, 'time_tpl': 75}, {'condition': 'DUSP1_TPL', 'replica': 'P', 'time': 180, 'Dex_Conc': 100, 'time_tpl': None}, {'condition': 'DUSP1_TPL', 'replica': 'P', 'time': 195, 'Dex_Conc': 100, 'time_tpl': 180}, {'condition': 'DUSP1_TPL', 'replica': 'P', 'time': 210, 'Dex_Conc': 100, 'time_tpl': 180}, {'condition': 'DUSP1_TPL', 'replica': 'P', 'time': 240, 'Dex_Conc': 100, 'time_tpl': 180}]\n"
     ]
    }
   ],
   "source": [
    "# List of directories to process\n",
    "initial_data_location=(\n",
    "        'smFISH_images/Eric_smFISH_images/20221103/DUSP1_Dex_0min_TPL_0min_110222' ,\n",
    "        'smFISH_images/Eric_smFISH_images/20221103/DUSP1_Dex_0min_TPL_15min_110222' ,\n",
    "        'smFISH_images/Eric_smFISH_images/20221103/DUSP1_Dex_0min_TPL_30min_110222' ,\n",
    "        'smFISH_images/Eric_smFISH_images/20221103/DUSP1_Dex_0min_TPL_60min_110222' ,\n",
    "        'smFISH_images/Eric_smFISH_images/20221107/DUSP1_Dex_20min_TPL_0min_110222' ,\n",
    "        'smFISH_images/Eric_smFISH_images/20221107/DUSP1_Dex_20min_TPL_15min_110222' ,\n",
    "        'smFISH_images/Eric_smFISH_images/20221107/DUSP1_Dex_20min_TPL_30min_110222' ,\n",
    "        'smFISH_images/Eric_smFISH_images/20221107/DUSP1_Dex_20min_TPL_60min_110222' ,\n",
    "        'smFISH_images/Eric_smFISH_images/20221107/DUSP1_Dex_75min_TPL_0min_110222' ,\n",
    "        'smFISH_images/Eric_smFISH_images/20221107/DUSP1_Dex_75min_TPL_15min_110222' ,\n",
    "        'smFISH_images/Eric_smFISH_images/20221107/DUSP1_Dex_75min_TPL_30min_110222' ,\n",
    "        'smFISH_images/Eric_smFISH_images/20221107/DUSP1_Dex_75min_TPL_60min_110222' ,\n",
    "        'smFISH_images/Eric_smFISH_images/20221109/DUSP1_Dex_180min_TPL_0min_110222' ,\n",
    "        'smFISH_images/Eric_smFISH_images/20221129/DUSP1_Dex_180min_TPL_15min_110222' ,\n",
    "        'smFISH_images/Eric_smFISH_images/20221129/DUSP1_Dex_180min_TPL_30min_110222' ,\n",
    "        'smFISH_images/Eric_smFISH_images/20221129/DUSP1_Dex_180min_TPL_60min_110222' )\n",
    "# Parameters\n",
    "Condition = 'DUSP1_TPL'      # Experimental condition. The options are:  'GR_timesweep' , 'DUSP1_timesweep' , 'DUSP1_TPL'\n",
    "Replica = 'P'                   # Replica name. \n",
    "time_list  = [0, 15, 30, 60, 20, 35, 50, 80, 75, 90, 105, 135, 180, 195, 210, 240]        # Time of image acquisition\n",
    "DexConc_list = [0, 0, 0, 0, 100, 100, 100, 100, 100, 100, 100, 100, 100, 100, 100, 100]        # Dex concentration\n",
    "time_TPL = [None, 0, 0, 0, None, 20, 20, 20, None, 75, 75, 75, None, 180, 180, 180]  # Time of TPL addition relitive to Dex timepoint\n",
    "\n",
    "DUSP1_TPL_R2 = [\n",
    "    {\n",
    "        \"condition\": Condition,\n",
    "        \"replica\": Replica,\n",
    "        \"time\": time,\n",
    "        \"Dex_Conc\": DexConc,\n",
    "        \"time_tpl\": tpl_time\n",
    "    }\n",
    "    for time, DexConc, tpl_time in zip(time_list, DexConc_list, time_TPL)\n",
    "]\n",
    "# Output the result\n",
    "print(DUSP1_TPL_R2)"
   ]
  },
  {
   "cell_type": "code",
   "execution_count": null,
   "metadata": {},
   "outputs": [],
   "source": []
  }
 ],
 "metadata": {
  "kernelspec": {
   "display_name": ".venv",
   "language": "python",
   "name": "python3"
  },
  "language_info": {
   "codemirror_mode": {
    "name": "ipython",
    "version": 3
   },
   "file_extension": ".py",
   "mimetype": "text/x-python",
   "name": "python",
   "nbconvert_exporter": "python",
   "pygments_lexer": "ipython3",
   "version": "3.12.7"
  }
 },
 "nbformat": 4,
 "nbformat_minor": 2
}
