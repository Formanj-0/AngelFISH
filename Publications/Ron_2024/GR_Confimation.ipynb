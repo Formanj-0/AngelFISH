{
 "cells": [
  {
   "cell_type": "code",
   "execution_count": null,
   "metadata": {},
   "outputs": [],
   "source": [
    "import h5py\n",
    "import numpy as np\n",
    "import matplotlib.pyplot as plt\n",
    "import pandas as pd\n",
    "import dask.array as da\n",
    "import os\n",
    "import sys\n",
    "import logging\n",
    "\n",
    "\n",
    "logging.getLogger('matplotlib.font_manager').disabled = True\n",
    "numba_logger = logging.getLogger('numba')\n",
    "numba_logger.setLevel(logging.WARNING)\n",
    "\n",
    "matplotlib_logger = logging.getLogger('matplotlib')\n",
    "matplotlib_logger.setLevel(logging.WARNING)\n",
    "\n",
    "src_path = os.path.abspath(os.path.join(os.getcwd(), '..', '..'))\n",
    "print(src_path)\n",
    "sys.path.append(src_path)\n",
    "\n",
    "from src.Analysis_GR import AnalysisManager, GR_Confirmation, GR_DisplayBasic"
   ]
  },
  {
   "cell_type": "markdown",
   "metadata": {},
   "source": [
    "Loads in the data from specified location"
   ]
  },
  {
   "cell_type": "code",
   "execution_count": null,
   "metadata": {},
   "outputs": [],
   "source": [
    "loc = None \n",
    "log_location = r'/Volumes/share/Users/Eric/GR_DUSP1_reruns' \n",
    "am = AnalysisManager(location=loc, log_location=log_location, mac=True) "
   ]
  },
  {
   "cell_type": "code",
   "execution_count": null,
   "metadata": {},
   "outputs": [],
   "source": [
    "# list all analysis done \n",
    "am.list_analysis_names()"
   ]
  },
  {
   "cell_type": "markdown",
   "metadata": {},
   "source": [
    "# GR Experiment Analyis List\n",
    "\n",
    "<!-- ## Illumination Profile 0min Replicas\n",
    "- 0min Profile: `GR_0min_Illumination_correction_profile_071725_2025-07-17` -->\n",
    "\n",
    "## w/ Illumination Correction\n",
    "### GR 1, 10, 100nM Dex 3hr Time-Sweep\n",
    "- Replica A: `GR_new2IC_sig50_A_072425`\n",
    "- Replica B: `GR_new2IC_sig50_B_072425`\n",
    "- Replica C: `GR_new2IC_sig50_C_072425`\n",
    "\n",
    "## w/out Illumination Correction\n",
    "### GR 1, 10, 100nM Dex 3hr Time-Sweep\n",
    "- Replica A: `GR_woIC_A_072425`\n",
    "- Replica B: `GR_woIC_B_072425`\n",
    "- Replica C: `GR_woIC_C_072425`"
   ]
  },
  {
   "cell_type": "code",
   "execution_count": null,
   "metadata": {},
   "outputs": [],
   "source": [
    "# can filter on name and dates\n",
    "am.select_analysis('GR_wIC_sig50_B_072925')\n"
   ]
  },
  {
   "cell_type": "code",
   "execution_count": null,
   "metadata": {},
   "outputs": [],
   "source": [
    "# am.delete_selected_analysis(password='you_better_know_what_your_deleting')"
   ]
  },
  {
   "cell_type": "markdown",
   "metadata": {},
   "source": [
    "Does analysis/confirmation"
   ]
  },
  {
   "cell_type": "code",
   "execution_count": null,
   "metadata": {},
   "outputs": [],
   "source": [
    "# select GR conformation analysis \n",
    "GR = GR_Confirmation(am)\n",
    "\n",
    "# am.list_datasets()"
   ]
  },
  {
   "cell_type": "code",
   "execution_count": null,
   "metadata": {},
   "outputs": [],
   "source": [
    "# # Save the illumination profile as a numpy array\n",
    "# np.save('illumination_profile_011725.npy', IP[0])"
   ]
  },
  {
   "cell_type": "code",
   "execution_count": null,
   "metadata": {},
   "outputs": [],
   "source": [
    "# this loads the data into memory \n",
    "GR.get_data()"
   ]
  },
  {
   "cell_type": "code",
   "execution_count": null,
   "metadata": {},
   "outputs": [],
   "source": [
    "# # run this multiple times to see a new randomly selected cell\n",
    "# GR.display()\n",
    "\n",
    "# # Optional: display 2 random FOVs from a specific h5_idx\n",
    "# GR.display(h5_idx=0, num_fovs=2)\n",
    "\n",
    "# Optional: display 1 FOV from multiple h5_idx files\n",
    "# GR.display(h5_idx=[0, 1, 2, 3, 4, 5, 6, 10, 11, 12, 13], num_fovs=1)\n",
    "GR.display(h5_idx=[0,1,2,3,4,5,6,7,8,9,10,11,12,13,14,15,16,17,18], num_fovs=3)"
   ]
  },
  {
   "cell_type": "code",
   "execution_count": null,
   "metadata": {},
   "outputs": [],
   "source": [
    "am.close()"
   ]
  },
  {
   "cell_type": "code",
   "execution_count": null,
   "metadata": {},
   "outputs": [],
   "source": [
    "loc = None \n",
    "log_location = r'/Volumes/share/Users/Eric/GR_DUSP1_reruns' \n",
    "am = AnalysisManager(location=loc, log_location=log_location, mac=True) "
   ]
  },
  {
   "cell_type": "code",
   "execution_count": null,
   "metadata": {},
   "outputs": [],
   "source": [
    "am.select_analysis('GR_woIC_B_072425')\n",
    "# Initialize with your AnalysisManager\n",
    "basic = GR_DisplayBasic(am)\n",
    "basic.get_data()\n",
    "\n",
    "# # Display one random FOV\n",
    "# basic.display()\n",
    "\n",
    "# Optional: display n FOVs from multiple h5_idx files\n",
    "basic.display(h5_idx=[0, 1, 2, 3, 4, 5, 6, 10, 11, 12, 13], num_fovs=1)"
   ]
  },
  {
   "cell_type": "code",
   "execution_count": null,
   "metadata": {},
   "outputs": [],
   "source": [
    "am.close()"
   ]
  },
  {
   "cell_type": "code",
   "execution_count": null,
   "metadata": {},
   "outputs": [],
   "source": [
    "# keys_to_plot = ['nuc_area', 'nuc_intensity_mean']\n",
    "# channel_maps = {'-1': ' DAPI', '-0': ' GR'}\n",
    "# for k in GR.cellprops.keys():\n",
    "#     if k in keys_to_plot or k.split('-')[0] in keys_to_plot:\n",
    "#         # Plot histogram for 'area'\n",
    "#         plt.figure(figsize=(10, 5))\n",
    "#         plt.hist(GR.cellprops[k], bins=30, alpha=0.5, label='Area')\n",
    "#         plt.ylabel('Frequency')\n",
    "#         for suffix, channel in channel_maps.items():\n",
    "#             if k.endswith(suffix):\n",
    "#                 k = k.replace(suffix, channel)\n",
    "#                 break\n",
    "#         plt.title(f'Histogram of {k}')\n",
    "#         plt.legend()\n",
    "#         plt.show()"
   ]
  },
  {
   "cell_type": "code",
   "execution_count": null,
   "metadata": {},
   "outputs": [],
   "source": [
    "# # spot counts as a function of time and dex\n",
    "# tp_set = sorted(set(GR.cellprops['time']))\n",
    "# print(tp_set)\n",
    "# dex_set = sorted(set(GR.cellprops['Dex_Conc']))\n",
    "# print(dex_set)\n",
    "# keys_to_plot = ['nuc_area', 'nuc_intensity_mean-0']\n",
    "# for k in keys_to_plot:\n",
    "#     fig, axs = plt.subplots(len(tp_set), len(dex_set), figsize=(15, 15))\n",
    "#     for suffix, channel in channel_maps.items():\n",
    "#         if k.endswith(suffix):\n",
    "#             l = k.replace(suffix, channel)\n",
    "#             break\n",
    "#         else:\n",
    "#             l = k\n",
    "#     fig.suptitle(f'{l} as a function of time and dex', fontsize=16)\n",
    "#     for i_d, d in enumerate(dex_set):\n",
    "#         data = GR.cellprops[GR.cellprops['Dex_Conc'] == d]\n",
    "#         for i_t, t in enumerate(tp_set):\n",
    "#             temp = data[data['time'] == t]\n",
    "#             mean_val = temp[k].mean()\n",
    "#             std_val = temp[k].std()\n",
    "#             if d == 0 and t == 0:\n",
    "#                 for ax in axs[i_t, :]:\n",
    "#                     ax.hist(temp[k], bins=200, density=True)\n",
    "#                     ax.axvline(mean_val, color='r', linestyle='solid', linewidth=2)\n",
    "#                     ax.axvline(mean_val + std_val, color='g', linestyle='dashed', linewidth=1)\n",
    "#                     ax.axvline(mean_val - std_val, color='g', linestyle='dashed', linewidth=1)\n",
    "#                     ax.set_xlim([0, GR.cellprops[k].max()])\n",
    "#                     ax.set_xticks([])\n",
    "#                     ax.set_yticks([])\n",
    "#                     ax.grid(True, axis='x', linestyle='--', linewidth=0.5)\n",
    "#             else:\n",
    "#                 axs[i_t, i_d].hist(temp[k], bins=200, density=True)\n",
    "#                 axs[i_t, i_d].axvline(mean_val, color='r', linestyle='solid', linewidth=2)\n",
    "#                 axs[i_t, i_d].axvline(mean_val + std_val, color='g', linestyle='dashed', linewidth=1)\n",
    "#                 axs[i_t, i_d].axvline(mean_val - std_val, color='g', linestyle='dashed', linewidth=1)\n",
    "#                 axs[i_t, i_d].set_xlim([0, GR.cellprops[k].max()])\n",
    "#                 axs[i_t, i_d].set_yticks([])\n",
    "#                 axs[i_t, i_d].grid(True, axis='x', linestyle='--', linewidth=0.5)\n",
    "#                 if i_t != len(tp_set) - 1:\n",
    "#                     axs[i_t, i_d].set_xticks([])\n",
    "#             axs[i_t, 0].set_ylabel(f'Time: {t}')\n",
    "#             axs[0, i_d].set_title(f'Dex: {d}')\n",
    "#     plt.show()\n",
    "\n"
   ]
  },
  {
   "cell_type": "code",
   "execution_count": null,
   "metadata": {},
   "outputs": [],
   "source": [
    "GR.close()"
   ]
  }
 ],
 "metadata": {
  "kernelspec": {
   "display_name": ".venv",
   "language": "python",
   "name": "python3"
  },
  "language_info": {
   "codemirror_mode": {
    "name": "ipython",
    "version": 3
   },
   "file_extension": ".py",
   "mimetype": "text/x-python",
   "name": "python",
   "nbconvert_exporter": "python",
   "pygments_lexer": "ipython3",
   "version": "3.11.8"
  }
 },
 "nbformat": 4,
 "nbformat_minor": 2
}
