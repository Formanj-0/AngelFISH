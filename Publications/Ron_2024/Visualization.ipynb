{
 "cells": [
  {
   "cell_type": "markdown",
   "id": "e23e55d7",
   "metadata": {},
   "source": [
    "## DUSP1 Spot Detection Visulaization \n",
    "\n",
    "This Jupyter Notebook uses **Napari** to visualize pre-generated spot detection results in 3D. It utilizes **Dask** for efficient handling of large image datasets and integrates data from a mounted drive. The workflow includes loading masks and images, processing spot detection results, and rendering them interactively in Napari.\n"
   ]
  },
  {
   "cell_type": "code",
   "execution_count": null,
   "id": "520bff7a",
   "metadata": {},
   "outputs": [],
   "source": [
    "import napari\n",
    "import matplotlib.pyplot as plt\n",
    "import json\n",
    "import pandas as pd\n",
    "import h5py \n",
    "import numpy as np\n",
    "import dask.array as da\n",
    "import os\n",
    "from tempfile import TemporaryDirectory\n",
    "import sys\n",
    "\n",
    "src_path = os.path.abspath(os.path.join(os.getcwd(), '..', '..'))\n",
    "print(src_path)\n",
    "sys.path.append(src_path)\n",
    "\n",
    "from src.Analysis_DUSP1 import DUSP1AnalysisManager"
   ]
  },
  {
   "cell_type": "code",
   "execution_count": null,
   "id": "93b80202",
   "metadata": {},
   "outputs": [],
   "source": [
    "# Datafrmae location\n",
    "df = pd.read_csv('/Volumes/share/Users/Eric/DUSP1_May2025/DUSP1_D_Final_FinalSpots_MG3_Abs9_May12_mg_abs.csv')\n",
    "# H55 file location\n",
    "h5_dir = '/Volumes/share/Users/Eric/DUSP1_H5/RepD'\n",
    "h5_files = [\n",
    "    os.path.join(h5_dir, f)\n",
    "    for f in os.listdir(h5_dir)\n",
    "    if f.endswith('.h5') and os.path.isfile(os.path.join(h5_dir, f))\n",
    "]"
   ]
  },
  {
   "cell_type": "code",
   "execution_count": null,
   "id": "b0974902",
   "metadata": {},
   "outputs": [],
   "source": [
    "am = DUSP1AnalysisManager(location=h5_files, mac=True) \n",
    "am.select_analysis('DUSP1_D_Final')"
   ]
  },
  {
   "cell_type": "code",
   "execution_count": null,
   "id": "a692c70d",
   "metadata": {},
   "outputs": [],
   "source": [
    "img, mask = am.get_images_and_masks()"
   ]
  },
  {
   "cell_type": "code",
   "execution_count": null,
   "id": "fe3c7831",
   "metadata": {},
   "outputs": [],
   "source": [
    "for i, (r, m) in enumerate(zip(img, mask)):\n",
    "    print(f\"[{i}] raw_images: {type(r)}, shape={r.shape}, dtype={r.dtype}\")\n",
    "    print(f\"[{i}] masks:      {type(m)}, shape={m.shape}, dtype={m.dtype}\")"
   ]
  },
  {
   "cell_type": "code",
   "execution_count": null,
   "id": "c5a97ff4",
   "metadata": {},
   "outputs": [],
   "source": [
    "df.keys()"
   ]
  },
  {
   "cell_type": "code",
   "execution_count": null,
   "id": "d8658095",
   "metadata": {},
   "outputs": [],
   "source": [
    "# 1) pick your file-index\n",
    "h5_idx = 1\n",
    "h5_path = h5_files[h5_idx]\n",
    "\n",
    "# 2) extract the basename\n",
    "fn = os.path.basename(h5_path)              \n",
    "name_noext = fn                              \n",
    "\n",
    "# 3) filter DataFrame by \"endswith\" that basename\n",
    "df_h5 = df[df[\"NAS_location\"].str.endswith(fn)].copy()\n",
    "\n",
    "# sanity check\n",
    "print(\"HDF5 file:  \", h5_path)\n",
    "print(\"DF rows:    \", df_h5.shape[0], \"points for\", fn)\n",
    "\n",
    "# 4) No need to re-index fovs: your 'fov' is already 0…29\n",
    "#    Build your points array:\n",
    "points = np.vstack([\n",
    "    df_h5[\"fov\"].values,\n",
    "    df_h5[\"z_px\"].values,\n",
    "    df_h5[\"y_px\"].values,\n",
    "    df_h5[\"x_px\"].values,\n",
    "]).T\n",
    "\n",
    "# 5) slice out just channel 0 from your raw dask stack\n",
    "raw5d  = img[h5_idx]          # shape (30,1,3,27,936,640)\n",
    "mrna4d = raw5d[:, 0, 0]       # now (30, 27, 936, 640)\n",
    "\n",
    "# 6) launch Napari\n",
    "viewer = napari.Viewer()\n",
    "viewer.add_image(\n",
    "    mrna4d,\n",
    "    name=name_noext + \"_mRNA\",\n",
    "    colormap=\"gray\",\n",
    "    scale=(5,1,1),\n",
    "    channel_axis=None\n",
    ")\n",
    "viewer.add_points(\n",
    "    points,\n",
    "    name=name_noext + \"_Spots\",\n",
    "    size=4,\n",
    "    face_color=\"red\",\n",
    "    edge_color=\"red\",\n",
    "    scale=(5,1,1),\n",
    "    ndim=4\n",
    ")\n",
    "napari.run()"
   ]
  }
 ],
 "metadata": {
  "kernelspec": {
   "display_name": ".venv",
   "language": "python",
   "name": "python3"
  },
  "language_info": {
   "codemirror_mode": {
    "name": "ipython",
    "version": 3
   },
   "file_extension": ".py",
   "mimetype": "text/x-python",
   "name": "python",
   "nbconvert_exporter": "python",
   "pygments_lexer": "ipython3",
   "version": "3.11.8"
  }
 },
 "nbformat": 4,
 "nbformat_minor": 5
}
