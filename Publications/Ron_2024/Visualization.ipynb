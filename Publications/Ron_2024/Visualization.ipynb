{
 "cells": [
  {
   "cell_type": "markdown",
   "id": "e23e55d7",
   "metadata": {},
   "source": [
    "## DUSP1 Spot Detection Visulaization \n",
    "\n",
    "This Jupyter Notebook uses **Napari** to visualize pre-generated spot detection results in 3D. It utilizes **Dask** for efficient handling of large image datasets and integrates data from a mounted drive. The workflow includes loading masks and images, processing spot detection results, and rendering them interactively in Napari.\n"
   ]
  },
  {
   "cell_type": "code",
   "execution_count": null,
   "id": "520bff7a",
   "metadata": {},
   "outputs": [],
   "source": [
    "import napari\n",
    "import matplotlib.pyplot as plt\n",
    "import json\n",
    "import pandas as pd\n",
    "import h5py \n",
    "import numpy as np\n",
    "import dask.array as da\n",
    "import os\n",
    "from tempfile import TemporaryDirectory"
   ]
  },
  {
   "cell_type": "code",
   "execution_count": null,
   "id": "93b80202",
   "metadata": {},
   "outputs": [],
   "source": [
    "# Datafrmae location\n",
    "df = pd.read_csv('/Volumes/share/Users/Eric/DUSP1_May2025/DUSP1_D_Final_FinalSpots_MG3_Abs9_May12_mg_abs.csv')\n",
    "# H55 file location\n",
    "h5_files = r'/Volumes/share/Users/Eric/DUSP1_H5/RepD'"
   ]
  },
  {
   "cell_type": "code",
   "execution_count": null,
   "id": "b0974902",
   "metadata": {},
   "outputs": [],
   "source": []
  },
  {
   "cell_type": "code",
   "execution_count": null,
   "id": "a692c70d",
   "metadata": {},
   "outputs": [],
   "source": [
    "temp_file_path = r'/var/folders/s8/2yzy3p4x18g77qsnmsz0rmxh0000gn/T/tmpacsxg3lu/mImgs.npy'\n",
    "# load the array from the temporary file\n",
    "loaded_array = np.load(temp_file_path)\n",
    "print(f\"Loaded array shape: {loaded_array.shape}\")"
   ]
  },
  {
   "cell_type": "code",
   "execution_count": null,
   "id": "fe3c7831",
   "metadata": {},
   "outputs": [],
   "source": [
    "mImgs = loaded_array\n",
    "mImgs = np.squeeze(mImgs) \n",
    "print(mImgs.shape) "
   ]
  },
  {
   "cell_type": "code",
   "execution_count": null,
   "id": "f20682d0",
   "metadata": {},
   "outputs": [],
   "source": [
    "# 2) Pick one NAS_location (or loop over all)\n",
    "locs = df['NAS_location'].unique()\n",
    "i = 1  # change as needed\n",
    "spot_results = df[df['NAS_location'] == locs[i]]\n",
    "\n",
    "# 3) Extract coordinates\n",
    "fov = spot_results['fov'].values\n",
    "z   = spot_results['z_px'].values\n",
    "y   = spot_results['y_px'].values\n",
    "x   = spot_results['x_px'].values\n",
    "\n",
    "# 4) Stack into an (N,4) array: (frame, z, y, x)\n",
    "points = np.vstack([fov, z, y, x]).T"
   ]
  },
  {
   "cell_type": "code",
   "execution_count": null,
   "id": "255bc989",
   "metadata": {},
   "outputs": [],
   "source": [
    "points.shape"
   ]
  },
  {
   "cell_type": "code",
   "execution_count": null,
   "id": "15f29de5",
   "metadata": {},
   "outputs": [],
   "source": [
    "s = 1\n",
    "viewer = napari.Viewer()\n",
    "viewer.add_image(mImgs, channel_axis=1, name=f'{locs[i]}', colormap='gray', scale=(5*s, 1*s, 1*s))\n",
    "\n",
    "# Add the points to the napari viewer\n",
    "viewer.add_points(\n",
    "    points,\n",
    "    size=2,  # Adjust the size of the points\n",
    "    face_color='red',\n",
    "    edge_color='red',\n",
    "    ndim=4,  # Match the dimensionality of the image\n",
    "    name='Spot Results',\n",
    "    scale=(5,1,1)\n",
    ")\n",
    "\n",
    "napari.run()"
   ]
  }
 ],
 "metadata": {
  "kernelspec": {
   "display_name": ".venv",
   "language": "python",
   "name": "python3"
  },
  "language_info": {
   "codemirror_mode": {
    "name": "ipython",
    "version": 3
   },
   "file_extension": ".py",
   "mimetype": "text/x-python",
   "name": "python",
   "nbconvert_exporter": "python",
   "pygments_lexer": "ipython3",
   "version": "3.11.8"
  }
 },
 "nbformat": 4,
 "nbformat_minor": 5
}
