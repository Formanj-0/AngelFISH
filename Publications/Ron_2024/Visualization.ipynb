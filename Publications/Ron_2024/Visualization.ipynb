{
 "cells": [
  {
   "cell_type": "code",
   "execution_count": null,
   "id": "520bff7a",
   "metadata": {},
   "outputs": [],
   "source": [
    "from pycromanager import Dataset\n",
    "import napari\n",
    "import matplotlib.pyplot as plt\n",
    "import json\n",
    "import pandas as pd\n",
    "import h5py \n",
    "import numpy as np\n",
    "import dask.array as da\n",
    "import os\n",
    "from tempfile import TemporaryDirectory"
   ]
  },
  {
   "cell_type": "code",
   "execution_count": null,
   "id": "93b80202",
   "metadata": {},
   "outputs": [],
   "source": [
    "# df = pd.read_csv(r'/Users/ericron/Desktop/AngelFISH/Publications/Ron_2024/Classification/DUSP1_D_Final_merged_spots_df_MG3_Abs4_Apr24.csv')\n",
    "df = pd.read_csv(r'/Users/ericron/Desktop/AngelFISH/Publications/Ron_2024/DUSP1_D_spots_RF_kept_2025-05-02.csv')\n",
    "\n",
    "lstDatasetPaths = df['NAS_location'].unique()"
   ]
  },
  {
   "cell_type": "code",
   "execution_count": null,
   "id": "5c7382e9",
   "metadata": {},
   "outputs": [],
   "source": [
    "df[df['time'] == 90]['unique_spot_id'].nunique()"
   ]
  },
  {
   "cell_type": "code",
   "execution_count": null,
   "id": "4031cbda",
   "metadata": {},
   "outputs": [],
   "source": [
    "lstDatasetPaths = r\"/Volumes/share/\" + lstDatasetPaths"
   ]
  },
  {
   "cell_type": "code",
   "execution_count": null,
   "id": "7c732b3f",
   "metadata": {},
   "outputs": [],
   "source": [
    "import re\n",
    "# Remove only the inner folder, keeping filename\n",
    "cleaned = np.array([\n",
    "    re.sub(r'/DUSP1_Dex_\\d+min_20220224/', '/', path)\n",
    "    for path in lstDatasetPaths\n",
    "])\n",
    "\n",
    "print(cleaned[:3])"
   ]
  },
  {
   "cell_type": "code",
   "execution_count": null,
   "id": "e65d449b",
   "metadata": {},
   "outputs": [],
   "source": [
    "cleaned"
   ]
  },
  {
   "cell_type": "code",
   "execution_count": null,
   "id": "b0974902",
   "metadata": {},
   "outputs": [],
   "source": [
    "i = 1\n",
    "with h5py.File(cleaned[i], 'r') as f:\n",
    "    arr = f['raw_images']\n",
    "    mImgs = da.from_array(arr)\n",
    "    temp_dir = TemporaryDirectory()\n",
    "    temp_file_path = os.path.join(temp_dir.name, \"mImgs.npy\")\n",
    "    np.save(temp_file_path, mImgs.compute())  # Compute the dask array before saving\n",
    "    print(f\"Array saved to: {temp_file_path}\")"
   ]
  },
  {
   "cell_type": "code",
   "execution_count": null,
   "id": "a692c70d",
   "metadata": {},
   "outputs": [],
   "source": [
    "temp_file_path = r'/var/folders/s8/2yzy3p4x18g77qsnmsz0rmxh0000gn/T/tmpacsxg3lu/mImgs.npy'\n",
    "# load the array from the temporary file\n",
    "loaded_array = np.load(temp_file_path)\n",
    "print(f\"Loaded array shape: {loaded_array.shape}\")"
   ]
  },
  {
   "cell_type": "code",
   "execution_count": null,
   "id": "fe3c7831",
   "metadata": {},
   "outputs": [],
   "source": [
    "mImgs = loaded_array\n",
    "mImgs = np.squeeze(mImgs) \n",
    "print(mImgs.shape) "
   ]
  },
  {
   "cell_type": "code",
   "execution_count": null,
   "id": "f20682d0",
   "metadata": {},
   "outputs": [],
   "source": [
    "# 2) Pick one NAS_location (or loop over all)\n",
    "locs = df['NAS_location'].unique()\n",
    "i = 1  # change as needed\n",
    "spot_results = df[df['NAS_location'] == locs[i]]\n",
    "\n",
    "# 3) Extract coordinates\n",
    "fov = spot_results['fov'].values\n",
    "z   = spot_results['z_px'].values\n",
    "y   = spot_results['y_px'].values\n",
    "x   = spot_results['x_px'].values\n",
    "\n",
    "# 4) Stack into an (N,4) array: (frame, z, y, x)\n",
    "points = np.vstack([fov, z, y, x]).T"
   ]
  },
  {
   "cell_type": "code",
   "execution_count": null,
   "id": "255bc989",
   "metadata": {},
   "outputs": [],
   "source": [
    "points.shape"
   ]
  },
  {
   "cell_type": "code",
   "execution_count": null,
   "id": "15f29de5",
   "metadata": {},
   "outputs": [],
   "source": [
    "s = 1\n",
    "viewer = napari.Viewer()\n",
    "viewer.add_image(mImgs, channel_axis=1, name=f'{locs[i]}', colormap='gray', scale=(5*s, 1*s, 1*s))\n",
    "\n",
    "# Add the points to the napari viewer\n",
    "viewer.add_points(\n",
    "    points,\n",
    "    size=2,  # Adjust the size of the points\n",
    "    face_color='red',\n",
    "    edge_color='red',\n",
    "    ndim=4,  # Match the dimensionality of the image\n",
    "    name='Spot Results',\n",
    "    scale=(5,1,1)\n",
    ")\n",
    "\n",
    "napari.run()"
   ]
  }
 ],
 "metadata": {
  "kernelspec": {
   "display_name": ".venv",
   "language": "python",
   "name": "python3"
  },
  "language_info": {
   "codemirror_mode": {
    "name": "ipython",
    "version": 3
   },
   "file_extension": ".py",
   "mimetype": "text/x-python",
   "name": "python",
   "nbconvert_exporter": "python",
   "pygments_lexer": "ipython3",
   "version": "3.11.8"
  }
 },
 "nbformat": 4,
 "nbformat_minor": 5
}
