{
 "cells": [
  {
   "cell_type": "code",
   "execution_count": null,
   "metadata": {},
   "outputs": [
    {
     "name": "stdout",
     "output_type": "stream",
     "text": [
      "c:\\Users\\Jack\\Documents\\GitHub\\FISH_Processing\n"
     ]
    }
   ],
   "source": [
    "import sys\n",
    "import os\n",
    "import pickle\n",
    "import logging\n",
    "import numba\n",
    "import matplotlib\n",
    "import matplotlib.pyplot as plt\n",
    "logging.getLogger('matplotlib.font_manager').disabled = True\n",
    "numba_logger = logging.getLogger('numba')\n",
    "numba_logger.setLevel(logging.WARNING)\n",
    "\n",
    "matplotlib_logger = logging.getLogger('matplotlib')\n",
    "matplotlib_logger.setLevel(logging.WARNING)\n",
    "\n",
    "# Add the src directory to sys.path\n",
    "src_path = os.path.abspath(os.path.join(os.getcwd(), '..', '..'))\n",
    "print(src_path)\n",
    "sys.path.append(src_path)\n",
    "\n",
    "from src.IndependentSteps import Pycromanager2NativeDataType, FFF2NativeDataType, Make_Output_Dir_JF, Make_Analysis_Dir_JF, \\\n",
    "                                    ConsolidateImageShapes, TrimZSlices, AutomaticSpotDetection_JF\n",
    "\n",
    "from src.SequentialSteps import CellSegmentationStepClass_JF, BIGFISH_SpotDetection, SimpleCellposeSegmentaion, IlluminationCorrection, \\\n",
    "                                Calculate_BIGFISH_Threshold, CellProperties\n",
    "\n",
    "from src.FinalizationSteps import Save_Outputs, Save_Images, Save_Parameters, Save_Masks, return_to_NAS, remove_local_data_but_keep_h5, \\\n",
    "                                     remove_local_data\n",
    "\n",
    "from src.Parameters import Parameters, Experiment, Settings, ScopeClass, DataContainer\n",
    "\n",
    "from src.GeneralOutput import OutputClass\n",
    "\n",
    "from src.Displays import Display\n",
    "\n",
    "from src.GUI import GUI, StepGUI\n",
    "\n",
    "from src.Pipeline import Pipeline"
   ]
  },
  {
   "cell_type": "code",
   "execution_count": null,
   "metadata": {},
   "outputs": [],
   "source": [
    "def runner(idl, ip):\n",
    "    # Initialize Parameters\n",
    "    scope = ScopeClass()\n",
    "    scope.voxel_size_yx = 160\n",
    "    scope.spot_yx = 300\n",
    "    scope.spot_z = 500 \n",
    "    data = DataContainer()\n",
    "    settings = Settings(name='ER_Dec0324', ) \n",
    "    experiment = Experiment()\n",
    "    experiment.independent_params = ip\n",
    "    experiment.initial_data_location = idl\n",
    "    # experiment.snr_threshold = 4 # were going to do this post processing\n",
    "\n",
    "    settings.load_in_mask = False\n",
    "    experiment.FISHChannel = 0\n",
    "    experiment.nucChannel = 2\n",
    "    experiment.cytoChannel = 1\n",
    "    experiment.voxel_size_z = 500\n",
    "\n",
    "    settings.cellpose_min_size = 100\n",
    "    settings.cellpose_diameter = [180, 90]\n",
    "    settings.cellpose_pretrained_model = [\"GAPDH_cyto\", 'DAPI_nuclei'] \n",
    "\n",
    "    FFF2NativeDataType()\n",
    "    Calculate_BIGFISH_Threshold()\n",
    "    SimpleCellposeSegmentaion()\n",
    "    BIGFISH_SpotDetection()\n",
    "    CellProperties() # this is probably not need but oh well\n",
    "    Save_Masks()\n",
    "    Save_Parameters()\n",
    "    Save_Outputs()\n",
    "    return_to_NAS()\n",
    "    remove_local_data()\n",
    "\n",
    "    Parameters.validate()\n",
    "\n",
    "    pipeline = Pipeline()\n",
    "\n",
    "    pipeline.run_on_cluster('/home/formanj/Github/FISH_Processing/cluster', name='ER_Dec0324') # give this a slightluy better name the date is already saved \n",
    "\n",
    "    pipeline.clear_pipeline() # I dont think this is nesscary but its probablily good to do\n",
    "    "
   ]
  },
  {
   "cell_type": "code",
   "execution_count": 10,
   "metadata": {},
   "outputs": [
    {
     "name": "stdout",
     "output_type": "stream",
     "text": [
      "[{'condition': 'DUSP1_timesweep', 'replica': 'D', 'time': 0, 'Dex_Conc': 0}, {'condition': 'DUSP1_timesweep', 'replica': 'D', 'time': 10, 'Dex_Conc': 100}, {'condition': 'DUSP1_timesweep', 'replica': 'D', 'time': 20, 'Dex_Conc': 100}, {'condition': 'DUSP1_timesweep', 'replica': 'D', 'time': 30, 'Dex_Conc': 100}, {'condition': 'DUSP1_timesweep', 'replica': 'D', 'time': 40, 'Dex_Conc': 100}, {'condition': 'DUSP1_timesweep', 'replica': 'D', 'time': 50, 'Dex_Conc': 100}, {'condition': 'DUSP1_timesweep', 'replica': 'D', 'time': 60, 'Dex_Conc': 100}, {'condition': 'DUSP1_timesweep', 'replica': 'D', 'time': 75, 'Dex_Conc': 100}, {'condition': 'DUSP1_timesweep', 'replica': 'D', 'time': 90, 'Dex_Conc': 100}, {'condition': 'DUSP1_timesweep', 'replica': 'D', 'time': 120, 'Dex_Conc': 100}, {'condition': 'DUSP1_timesweep', 'replica': 'D', 'time': 150, 'Dex_Conc': 100}, {'condition': 'DUSP1_timesweep', 'replica': 'D', 'time': 180, 'Dex_Conc': 100}]\n"
     ]
    }
   ],
   "source": [
    "# List of directories to process\n",
    "initial_data_location=(\n",
    "        'smFISH_images/Eric_smFISH_images/20220225/DUSP1_Dex_0min_20220224' ,\n",
    "        'smFISH_images/Eric_smFISH_images/20220225/DUSP1_Dex_10min_20220224' ,\n",
    "        'smFISH_images/Eric_smFISH_images/20220225/DUSP1_Dex_20min_20220224' ,\n",
    "        'smFISH_images/Eric_smFISH_images/20220225/DUSP1_Dex_30min_20220224' ,\n",
    "        'smFISH_images/Eric_smFISH_images/20220303/DUSP1_Dex_40min_20220224' ,\n",
    "        'smFISH_images/Eric_smFISH_images/20220303/DUSP1_Dex_50min_20220224' ,\n",
    "        'smFISH_images/Eric_smFISH_images/20220304/DUSP1_Dex_60min_20220224' ,\n",
    "        'smFISH_images/Eric_smFISH_images/20220304/DUSP1_Dex_75min_20220224' ,\n",
    "        'smFISH_images/Eric_smFISH_images/20220305/DUSP1_Dex_90min_20220224' ,\n",
    "        'smFISH_images/Eric_smFISH_images/20220305/DUSP1_Dex_120min_20220224' ,\n",
    "        'smFISH_images/Eric_smFISH_images/20220305/DUSP1_Dex_150min_20220224' ,\n",
    "        'smFISH_images/Eric_smFISH_images/20220305/DUSP1_Dex_180min_20220224' )\n",
    "# Parameters\n",
    "Condition = 'DUSP1_timesweep'      # Experimental condition. The options are:  'GR_timesweep' , 'DUSP1_timesweep' , 'DUSP1_TPL'\n",
    "Replica = 'D'                   # Replica name. \n",
    "time_list  = [0, 10, 20, 30, 40, 50, 60, 75, 90, 120, 150, 180]        # Time of image acquisition\n",
    "DexConc_list = [0, 100, 100, 100, 100, 100, 100, 100, 100, 100, 100, 100]        # Dex concentration\n",
    "\n",
    "# Creating the list of dictionaries\n",
    "DUSP1_TS_R1 = [\n",
    "    {\n",
    "        \"condition\": Condition,\n",
    "        \"replica\": Replica,\n",
    "        \"time\": time,\n",
    "        \"Dex_Conc\": DexConc\n",
    "    }\n",
    "    for time, DexConc in zip(time_list, DexConc_list)\n",
    "]\n",
    "# Output the result\n",
    "print(DUSP1_TS_R1)"
   ]
  },
  {
   "cell_type": "code",
   "execution_count": 11,
   "metadata": {},
   "outputs": [
    {
     "name": "stderr",
     "output_type": "stream",
     "text": [
      "DEBUG:paramiko.transport:starting thread (client mode): 0x31a80e30\n",
      "DEBUG:paramiko.transport:Local version/idstring: SSH-2.0-paramiko_3.5.0\n",
      "DEBUG:paramiko.transport:Remote version/idstring: SSH-2.0-OpenSSH_8.0\n",
      "INFO:paramiko.transport:Connected (version 2.0, client OpenSSH_8.0)\n",
      "DEBUG:paramiko.transport:=== Key exchange possibilities ===\n",
      "DEBUG:paramiko.transport:kex algos: curve25519-sha256, curve25519-sha256@libssh.org, ecdh-sha2-nistp256, ecdh-sha2-nistp384, ecdh-sha2-nistp521, diffie-hellman-group-exchange-sha256, diffie-hellman-group14-sha256, diffie-hellman-group16-sha512, diffie-hellman-group18-sha512, diffie-hellman-group-exchange-sha1, diffie-hellman-group14-sha1\n",
      "DEBUG:paramiko.transport:server key: rsa-sha2-512, rsa-sha2-256, ssh-rsa, ecdsa-sha2-nistp256, ssh-ed25519\n",
      "DEBUG:paramiko.transport:client encrypt: aes256-gcm@openssh.com, chacha20-poly1305@openssh.com, aes256-ctr, aes256-cbc, aes128-gcm@openssh.com, aes128-ctr, aes128-cbc\n",
      "DEBUG:paramiko.transport:server encrypt: aes256-gcm@openssh.com, chacha20-poly1305@openssh.com, aes256-ctr, aes256-cbc, aes128-gcm@openssh.com, aes128-ctr, aes128-cbc\n",
      "DEBUG:paramiko.transport:client mac: hmac-sha2-256-etm@openssh.com, hmac-sha1-etm@openssh.com, umac-128-etm@openssh.com, hmac-sha2-512-etm@openssh.com, hmac-sha2-256, hmac-sha1, umac-128@openssh.com, hmac-sha2-512\n",
      "DEBUG:paramiko.transport:server mac: hmac-sha2-256-etm@openssh.com, hmac-sha1-etm@openssh.com, umac-128-etm@openssh.com, hmac-sha2-512-etm@openssh.com, hmac-sha2-256, hmac-sha1, umac-128@openssh.com, hmac-sha2-512\n",
      "DEBUG:paramiko.transport:client compress: none, zlib@openssh.com\n",
      "DEBUG:paramiko.transport:server compress: none, zlib@openssh.com\n",
      "DEBUG:paramiko.transport:client lang: <none>\n",
      "DEBUG:paramiko.transport:server lang: <none>\n",
      "DEBUG:paramiko.transport:kex follows: False\n",
      "DEBUG:paramiko.transport:=== Key exchange agreements ===\n",
      "DEBUG:paramiko.transport:Kex: curve25519-sha256@libssh.org\n",
      "DEBUG:paramiko.transport:HostKey: ssh-ed25519\n",
      "DEBUG:paramiko.transport:Cipher: aes128-ctr\n",
      "DEBUG:paramiko.transport:MAC: hmac-sha2-256\n",
      "DEBUG:paramiko.transport:Compression: none\n",
      "DEBUG:paramiko.transport:=== End of kex handshake ===\n",
      "DEBUG:paramiko.transport:kex engine KexCurve25519 specified hash_algo <built-in function openssl_sha256>\n",
      "DEBUG:paramiko.transport:Switch to new keys ...\n",
      "DEBUG:paramiko.transport:Adding ssh-ed25519 host key for keck.engr.colostate.edu: b'38926ebfa15334d940b5b39187c964b8'\n",
      "DEBUG:paramiko.transport:Got EXT_INFO: {'server-sig-algs': b'ssh-ed25519,ssh-rsa,rsa-sha2-256,rsa-sha2-512,ssh-dss,ecdsa-sha2-nistp256,ecdsa-sha2-nistp384,ecdsa-sha2-nistp521'}\n"
     ]
    },
    {
     "name": "stdout",
     "output_type": "stream",
     "text": [
      "None\n"
     ]
    },
    {
     "name": "stderr",
     "output_type": "stream",
     "text": [
      "DEBUG:paramiko.transport:userauth is OK\n",
      "INFO:paramiko.transport:Authentication (password) successful!\n",
      "DEBUG:paramiko.transport:[chan 0] Max packet in: 32768 bytes\n",
      "DEBUG:paramiko.transport:Received global request \"hostkeys-00@openssh.com\"\n",
      "DEBUG:paramiko.transport:Rejecting \"hostkeys-00@openssh.com\" global request from server.\n",
      "DEBUG:paramiko.transport:[chan 0] Max packet out: 32768 bytes\n",
      "DEBUG:paramiko.transport:Secsh channel 0 opened.\n",
      "DEBUG:paramiko.transport:[chan 0] Sesch channel 0 request ok\n",
      "INFO:paramiko.transport.sftp:[chan 0] Opened sftp connection (server version 3)\n",
      "DEBUG:paramiko.transport.sftp:[chan 0] open(b'/home/formanj/Github/FISH_Processing/cluster/ER_Dec0324.txt', 'wb')\n",
      "DEBUG:paramiko.transport.sftp:[chan 0] open(b'/home/formanj/Github/FISH_Processing/cluster/ER_Dec0324.txt', 'wb') -> 00000000\n",
      "DEBUG:paramiko.transport.sftp:[chan 0] close(00000000)\n",
      "DEBUG:paramiko.transport.sftp:[chan 0] stat(b'/home/formanj/Github/FISH_Processing/cluster/ER_Dec0324.txt')\n",
      "INFO:paramiko.transport.sftp:[chan 0] sftp session closed.\n",
      "DEBUG:paramiko.transport:[chan 0] EOF sent (0)\n",
      "DEBUG:paramiko.transport:[chan 1] Max packet in: 32768 bytes\n",
      "DEBUG:paramiko.transport:[chan 0] EOF received (0)\n",
      "DEBUG:paramiko.transport:[chan 1] Max packet out: 32768 bytes\n",
      "DEBUG:paramiko.transport:Secsh channel 1 opened.\n",
      "DEBUG:paramiko.transport:[chan 1] Sesch channel 1 request ok\n",
      "DEBUG:paramiko.transport:[chan 1] EOF received (1)\n",
      "DEBUG:paramiko.transport:[chan 1] EOF sent (1)\n",
      "DEBUG:paramiko.transport:Dropping user packet because connection is dead.\n"
     ]
    },
    {
     "name": "stdout",
     "output_type": "stream",
     "text": [
      "Submitted batch job 22596\n",
      "\n",
      "\n"
     ]
    },
    {
     "ename": "TypeError",
     "evalue": "Pipeline.clear_pipeline() missing 1 required positional argument: 'self'",
     "output_type": "error",
     "traceback": [
      "\u001b[1;31m---------------------------------------------------------------------------\u001b[0m",
      "\u001b[1;31mTypeError\u001b[0m                                 Traceback (most recent call last)",
      "Cell \u001b[1;32mIn[11], line 1\u001b[0m\n\u001b[1;32m----> 1\u001b[0m \u001b[43mrunner\u001b[49m\u001b[43m(\u001b[49m\u001b[43minitial_data_location\u001b[49m\u001b[43m,\u001b[49m\u001b[43m \u001b[49m\u001b[43mDUSP1_TS_R1\u001b[49m\u001b[43m)\u001b[49m\n",
      "Cell \u001b[1;32mIn[9], line 40\u001b[0m, in \u001b[0;36mrunner\u001b[1;34m(idl, ip)\u001b[0m\n\u001b[0;32m     36\u001b[0m pipeline \u001b[38;5;241m=\u001b[39m Pipeline()\n\u001b[0;32m     38\u001b[0m pipeline\u001b[38;5;241m.\u001b[39mrun_on_cluster(\u001b[38;5;124m'\u001b[39m\u001b[38;5;124m/home/formanj/Github/FISH_Processing/cluster\u001b[39m\u001b[38;5;124m'\u001b[39m, name\u001b[38;5;241m=\u001b[39m\u001b[38;5;124m'\u001b[39m\u001b[38;5;124mER_Dec0324\u001b[39m\u001b[38;5;124m'\u001b[39m) \u001b[38;5;66;03m# give this a slightluy better name the date is already saved \u001b[39;00m\n\u001b[1;32m---> 40\u001b[0m \u001b[43mPipeline\u001b[49m\u001b[38;5;241;43m.\u001b[39;49m\u001b[43mclear_pipeline\u001b[49m\u001b[43m(\u001b[49m\u001b[43m)\u001b[49m\n",
      "\u001b[1;31mTypeError\u001b[0m: Pipeline.clear_pipeline() missing 1 required positional argument: 'self'"
     ]
    }
   ],
   "source": [
    "runner(initial_data_location, DUSP1_TS_R1)"
   ]
  },
  {
   "cell_type": "code",
   "execution_count": null,
   "metadata": {},
   "outputs": [],
   "source": [
    "# List of directories to process\n",
    "initial_data_location=(\n",
    "        'smFISH_images/Eric_smFISH_images/20220420/DUSP1_100nM_Dex_R3_20220419_0min' ,\n",
    "        'smFISH_images/Eric_smFISH_images/20220420/DUSP1_100nM_Dex_R3_20220419_10min' ,\n",
    "        'smFISH_images/Eric_smFISH_images/20220420/DUSP1_100nM_Dex_R3_20220419_20min' ,\n",
    "        'smFISH_images/Eric_smFISH_images/20220420/DUSP1_100nM_Dex_R3_20220419_30min' ,\n",
    "        'smFISH_images/Eric_smFISH_images/20220421/DUSP1_100nM_Dex_R3_20220419_40min' ,\n",
    "        'smFISH_images/Eric_smFISH_images/20220421/DUSP1_100nM_Dex_R3_20220419_50min' ,\n",
    "        'smFISH_images/Eric_smFISH_images/20220421/DUSP1_100nM_Dex_R3_20220419_60min' ,\n",
    "        'smFISH_images/Eric_smFISH_images/20220421/DUSP1_100nM_Dex_R3_20220419_75min' ,\n",
    "        'smFISH_images/Eric_smFISH_images/20220421/DUSP1_100nM_Dex_R3_20220419_90min' ,\n",
    "        'smFISH_images/Eric_smFISH_images/20220421/DUSP1_100nM_Dex_R3_20220419_120min' ,\n",
    "        'smFISH_images/Eric_smFISH_images/20220425/DUSP1_100nM_Dex_R3_20220419_150min' ,\n",
    "        'smFISH_images/Eric_smFISH_images/20220425/DUSP1_100nM_Dex_R3_20220419_180min' )\n",
    "# Parameters\n",
    "Condition = 'DUSP1_timesweep'      # Experimental condition. The options are:  'GR_timesweep' , 'DUSP1_timesweep' , 'DUSP1_TPL'\n",
    "Replica = 'E'                   # Replica name. \n",
    "time_list  = [0, 10, 20, 30, 40, 50, 60, 75, 90, 120, 150, 180]        # Time of image acquisition\n",
    "DexConc_list = [0, 100, 100, 100, 100, 100, 100, 100, 100, 100, 100, 100]        # Dex concentration\n",
    "\n",
    "# Creating the list of dictionaries\n",
    "DUSP1_TS_R2 = [\n",
    "    {\n",
    "        \"condition\": Condition,\n",
    "        \"replica\": Replica,\n",
    "        \"time\": time,\n",
    "        \"Dex_Conc\": DexConc\n",
    "    }\n",
    "    for time, DexConc in zip(time_list, DexConc_list)\n",
    "]\n",
    "# Output the result\n",
    "print(DUSP1_TS_R2)"
   ]
  },
  {
   "cell_type": "code",
   "execution_count": null,
   "metadata": {},
   "outputs": [],
   "source": [
    "runner(initial_data_location, DUSP1_TS_R2)"
   ]
  },
  {
   "cell_type": "code",
   "execution_count": null,
   "metadata": {},
   "outputs": [
    {
     "name": "stdout",
     "output_type": "stream",
     "text": [
      "[{'condition': 'DUSP1_timesweep', 'replica': 'F', 'time': 0, 'Dex_Conc': 0}, {'condition': 'DUSP1_timesweep', 'replica': 'F', 'time': 10, 'Dex_Conc': 100}, {'condition': 'DUSP1_timesweep', 'replica': 'F', 'time': 20, 'Dex_Conc': 100}, {'condition': 'DUSP1_timesweep', 'replica': 'F', 'time': 30, 'Dex_Conc': 100}, {'condition': 'DUSP1_timesweep', 'replica': 'F', 'time': 40, 'Dex_Conc': 100}, {'condition': 'DUSP1_timesweep', 'replica': 'F', 'time': 50, 'Dex_Conc': 100}, {'condition': 'DUSP1_timesweep', 'replica': 'F', 'time': 60, 'Dex_Conc': 100}, {'condition': 'DUSP1_timesweep', 'replica': 'F', 'time': 75, 'Dex_Conc': 100}, {'condition': 'DUSP1_timesweep', 'replica': 'F', 'time': 90, 'Dex_Conc': 100}, {'condition': 'DUSP1_timesweep', 'replica': 'F', 'time': 120, 'Dex_Conc': 100}, {'condition': 'DUSP1_timesweep', 'replica': 'F', 'time': 150, 'Dex_Conc': 100}, {'condition': 'DUSP1_timesweep', 'replica': 'F', 'time': 180, 'Dex_Conc': 100}]\n"
     ]
    }
   ],
   "source": [
    "# List of directories to process\n",
    "initial_data_location=(\n",
    "        'smFISH_images/Eric_smFISH_images/20220602/DUSP1_Dex_100nM_0min_NoSpin_052722' ,\n",
    "        'smFISH_images/Eric_smFISH_images/20220602/DUSP1_Dex_100nM_10min_NoSpin_052722' ,\n",
    "        'smFISH_images/Eric_smFISH_images/20220602/DUSP1_Dex_100nM_20min_NoSpin_052722' ,\n",
    "        'smFISH_images/Eric_smFISH_images/20220602/DUSP1_Dex_100nM_30min_NoSpin_052722' ,\n",
    "        'smFISH_images/Eric_smFISH_images/20220602/DUSP1_Dex_100nM_40min_NoSpin_052722' ,\n",
    "        'smFISH_images/Eric_smFISH_images/20220602/DUSP1_Dex_100nM_50min_NoSpin_052722' ,\n",
    "        'smFISH_images/Eric_smFISH_images/20220606/DUSP1_Dex_100nM_60min_NoSpin_052722' ,\n",
    "        'smFISH_images/Eric_smFISH_images/20220606/DUSP1_Dex_100nM_75min_NoSpin_052722' ,\n",
    "        'smFISH_images/Eric_smFISH_images/20220606/DUSP1_Dex_100nM_90min_NoSpin_052722' ,\n",
    "        'smFISH_images/Eric_smFISH_images/20220606/DUSP1_Dex_100nM_120min_NoSpin_052722' ,\n",
    "        'smFISH_images/Eric_smFISH_images/20220606/DUSP1_Dex_100nM_150min_NoSpin_052722' ,\n",
    "        'smFISH_images/Eric_smFISH_images/20220606/DUSP1_Dex_100nM_180min_NoSpin_052722' )\n",
    "# Parameters\n",
    "Condition = 'DUSP1_timesweep'      # Experimental condition. The options are:  'GR_timesweep' , 'DUSP1_timesweep' , 'DUSP1_TPL'\n",
    "Replica = 'F'                   # Replica name. \n",
    "time_list  = [0, 10, 20, 30, 40, 50, 60, 75, 90, 120, 150, 180]        # Time of image acquisition\n",
    "DexConc_list = [0, 100, 100, 100, 100, 100, 100, 100, 100, 100, 100, 100]        # Dex concentration\n",
    "\n",
    "# Creating the list of dictionaries\n",
    "DUSP1_TS_R3 = [\n",
    "    {\n",
    "        \"condition\": Condition,\n",
    "        \"replica\": Replica,\n",
    "        \"time\": time,\n",
    "        \"Dex_Conc\": DexConc\n",
    "    }\n",
    "    for time, DexConc in zip(time_list, DexConc_list)\n",
    "]\n",
    "# Output the result\n",
    "print(DUSP1_TS_R3)"
   ]
  },
  {
   "cell_type": "code",
   "execution_count": null,
   "metadata": {},
   "outputs": [],
   "source": [
    "runner(initial_data_location, DUSP1_TS_R3)\n"
   ]
  },
  {
   "cell_type": "markdown",
   "metadata": {},
   "source": [
    "# Concentration Sweep"
   ]
  },
  {
   "cell_type": "code",
   "execution_count": null,
   "metadata": {},
   "outputs": [
    {
     "name": "stdout",
     "output_type": "stream",
     "text": [
      "[{'condition': 'DUSP1_timesweep', 'replica': 'G', 'time': 0, 'Dex_Conc': 0}, {'condition': 'DUSP1_timesweep', 'replica': 'G', 'time': 75, 'Dex_Conc': 0.001}, {'condition': 'DUSP1_timesweep', 'replica': 'G', 'time': 75, 'Dex_Conc': 0.01}, {'condition': 'DUSP1_timesweep', 'replica': 'G', 'time': 75, 'Dex_Conc': 0.1}, {'condition': 'DUSP1_timesweep', 'replica': 'G', 'time': 75, 'Dex_Conc': 1}, {'condition': 'DUSP1_timesweep', 'replica': 'G', 'time': 75, 'Dex_Conc': 10}, {'condition': 'DUSP1_timesweep', 'replica': 'G', 'time': 75, 'Dex_Conc': 100}, {'condition': 'DUSP1_timesweep', 'replica': 'G', 'time': 75, 'Dex_Conc': 1000}, {'condition': 'DUSP1_timesweep', 'replica': 'G', 'time': 75, 'Dex_Conc': 10000}]\n"
     ]
    }
   ],
   "source": [
    "# List of directories to process\n",
    "initial_data_location=(\n",
    "        'smFISH_images/Eric_smFISH_images/20220628/DUSP1_conc_sweep_0min_060322' ,\n",
    "        'smFISH_images/Eric_smFISH_images/20220707/DUSP1_conc_sweep_1pM_75min_060322'  ,\n",
    "        'smFISH_images/Eric_smFISH_images/20220707/DUSP1_conc_sweep_10pM_75min_060322' ,\n",
    "        'smFISH_images/Eric_smFISH_images/20220707/DUSP1_conc_sweep_100pM_75min_060322' ,\n",
    "        'smFISH_images/Eric_smFISH_images/20220705/DUSP1_conc_sweep_1nM_75min_060322' ,\n",
    "        'smFISH_images/Eric_smFISH_images/20220705/DUSP1_conc_sweep_10nM_75min_060322' ,\n",
    "        'smFISH_images/Eric_smFISH_images/20220705/DUSP1_conc_sweep_100nM_75min_060322' ,\n",
    "        'smFISH_images/Eric_smFISH_images/20220705/DUSP1_conc_sweep_1uM_75min_060322' ,\n",
    "        'smFISH_images/Eric_smFISH_images/20220628/DUSP1_conc_sweep_10uM_75min_060322')\n",
    "# Parameters\n",
    "Condition = 'DUSP1_timesweep'      # Experimental condition. The options are:  'GR_timesweep' , 'DUSP1_timesweep' , 'DUSP1_TPL'\n",
    "Replica = 'G'                   # Replica name. \n",
    "time_list  = [0, 75, 75, 75, 75, 75, 75, 75, 75]        # Time of image acquisition\n",
    "DexConc_list = [0, 0.001, 0.01, 0.1, 1, 10, 100, 1000, 10000]        # Dex concentration\n",
    "\n",
    "# Creating the list of dictionaries\n",
    "DUSP1_CS_R1 = [\n",
    "    {\n",
    "        \"condition\": Condition,\n",
    "        \"replica\": Replica,\n",
    "        \"time\": time,\n",
    "        \"Dex_Conc\": DexConc\n",
    "    }\n",
    "    for time, DexConc in zip(time_list, DexConc_list)\n",
    "]\n",
    "# Output the result\n",
    "print(DUSP1_CS_R1)"
   ]
  },
  {
   "cell_type": "code",
   "execution_count": null,
   "metadata": {},
   "outputs": [],
   "source": [
    "runner(initial_data_location, DUSP1_CS_R1)\n"
   ]
  },
  {
   "cell_type": "code",
   "execution_count": null,
   "metadata": {},
   "outputs": [
    {
     "name": "stdout",
     "output_type": "stream",
     "text": [
      "[{'condition': 'DUSP1_timesweep', 'replica': 'H', 'time': 0, 'Dex_Conc': 0}, {'condition': 'DUSP1_timesweep', 'replica': 'H', 'time': 75, 'Dex_Conc': 0.001}, {'condition': 'DUSP1_timesweep', 'replica': 'H', 'time': 75, 'Dex_Conc': 0.01}, {'condition': 'DUSP1_timesweep', 'replica': 'H', 'time': 75, 'Dex_Conc': 0.1}, {'condition': 'DUSP1_timesweep', 'replica': 'H', 'time': 75, 'Dex_Conc': 1}, {'condition': 'DUSP1_timesweep', 'replica': 'H', 'time': 75, 'Dex_Conc': 10}, {'condition': 'DUSP1_timesweep', 'replica': 'H', 'time': 75, 'Dex_Conc': 1000}, {'condition': 'DUSP1_timesweep', 'replica': 'H', 'time': 75, 'Dex_Conc': 10000}]\n"
     ]
    }
   ],
   "source": [
    "# List of directories to process\n",
    "initial_data_location=(\n",
    "        'smFISH_images/Eric_smFISH_images/20220718/DUSP1_conc_sweep_R2_0min_071422' ,\n",
    "        'smFISH_images/Eric_smFISH_images/20220721/DUSP1_conc_sweep_R2_1pM_75min_071422' ,   \n",
    "        'smFISH_images/Eric_smFISH_images/20220721/DUSP1_conc_sweep_R2_10pM_75min_071422' ,    \n",
    "        'smFISH_images/Eric_smFISH_images/20220721/DUSP1_conc_sweep_R2_100pM_75min_071422' ,    \n",
    "        'smFISH_images/Eric_smFISH_images/20220718/DUSP1_conc_sweep_R2_1nM_75min_071422' ,    \n",
    "        'smFISH_images/Eric_smFISH_images/20220718/DUSP1_conc_sweep_R2_10nM_75min_071422' ,    \n",
    "        'smFISH_images/Eric_smFISH_images/20220718/DUSP1_conc_sweep_R2_1uM_75min_071422' ,\n",
    "        'smFISH_images/Eric_smFISH_images/20220718/DUSP1_conc_sweep_R2_10uM_75min_071422' )\n",
    "# Parameters\n",
    "Condition = 'DUSP1_timesweep'      # Experimental condition. The options are:  'GR_timesweep' , 'DUSP1_timesweep' \n",
    "Replica = 'H'                   # Replica name. \n",
    "time_list  = [0, 75, 75, 75, 75, 75, 75, 75]        # Time of image acquisition\n",
    "DexConc_list = [0, 0.001, 0.01, 0.1, 1, 10, 1000, 10000]        # Dex concentration\n",
    "\n",
    "# Creating the list of dictionaries\n",
    "DUSP1_CS_R2 = [\n",
    "    {\n",
    "        \"condition\": Condition,\n",
    "        \"replica\": Replica,\n",
    "        \"time\": time,\n",
    "        \"Dex_Conc\": DexConc\n",
    "    }\n",
    "    for time, DexConc in zip(time_list, DexConc_list)\n",
    "]\n",
    "# Output the result\n",
    "print(DUSP1_CS_R2)"
   ]
  },
  {
   "cell_type": "code",
   "execution_count": null,
   "metadata": {},
   "outputs": [],
   "source": [
    "runner(initial_data_location, DUSP1_CS_R2)\n"
   ]
  },
  {
   "cell_type": "code",
   "execution_count": null,
   "metadata": {},
   "outputs": [
    {
     "name": "stdout",
     "output_type": "stream",
     "text": [
      "[{'condition': 'DUSP1_timesweep', 'replica': 'I', 'time': 0, 'Dex_Conc': 0}, {'condition': 'DUSP1_timesweep', 'replica': 'I', 'time': 75, 'Dex_Conc': 0.001}, {'condition': 'DUSP1_timesweep', 'replica': 'I', 'time': 75, 'Dex_Conc': 0.01}, {'condition': 'DUSP1_timesweep', 'replica': 'I', 'time': 75, 'Dex_Conc': 0.1}, {'condition': 'DUSP1_timesweep', 'replica': 'I', 'time': 75, 'Dex_Conc': 1}, {'condition': 'DUSP1_timesweep', 'replica': 'I', 'time': 75, 'Dex_Conc': 10}, {'condition': 'DUSP1_timesweep', 'replica': 'I', 'time': 75, 'Dex_Conc': 100}, {'condition': 'DUSP1_timesweep', 'replica': 'I', 'time': 75, 'Dex_Conc': 1000}, {'condition': 'DUSP1_timesweep', 'replica': 'I', 'time': 75, 'Dex_Conc': 10000}]\n"
     ]
    }
   ],
   "source": [
    "# List of directories to process\n",
    "initial_data_location=(\n",
    "        'smFISH_images/Eric_smFISH_images/20221003/DUSP1_Dex_Sweep_0nM_0min_Control_092022' ,\n",
    "        'smFISH_images/Eric_smFISH_images/20221003/DUSP1_Dex_Sweep_1pM_75min_092022' ,\n",
    "        'smFISH_images/Eric_smFISH_images/20221003/DUSP1_Dex_Sweep_10pM_75min_092022' ,\n",
    "        'smFISH_images/Eric_smFISH_images/20221003/DUSP1_Dex_Sweep_100pM_75min_092022' ,\n",
    "        'smFISH_images/Eric_smFISH_images/20221006/DUSP1_Dex_Sweep_1nM_75min_092022' ,\n",
    "        'smFISH_images/Eric_smFISH_images/20221006/DUSP1_Dex_Sweep_10nM_75min_092022' ,\n",
    "        'smFISH_images/Eric_smFISH_images/20221006/DUSP1_Dex_Sweep_100nM_75min_092022' ,\n",
    "        'smFISH_images/Eric_smFISH_images/20221011/DUSP1_Dex_Sweep_1uM_75min_092022' ,\n",
    "        'smFISH_images/Eric_smFISH_images/20221011/DUSP1_Dex_Sweep_10uM_75min_092022' )\n",
    "# Parameters\n",
    "Condition = 'DUSP1_timesweep'      # Experimental condition. The options are:  'GR_timesweep' , 'DUSP1_timesweep' \n",
    "Replica = 'I'                   # Replica name. \n",
    "time_list  = [0, 75, 75, 75, 75, 75, 75, 75, 75]        # Time of image acquisition\n",
    "DexConc_list = [0, 0.001, 0.01, 0.1, 1, 10, 100, 1000, 10000]        # Dex concentration\n",
    "\n",
    "# Creating the list of dictionaries\n",
    "DUSP1_CS_R3 = [\n",
    "    {\n",
    "        \"condition\": Condition,\n",
    "        \"replica\": Replica,\n",
    "        \"time\": time,\n",
    "        \"Dex_Conc\": DexConc\n",
    "    }\n",
    "    for time, DexConc in zip(time_list, DexConc_list)\n",
    "]\n",
    "# Output the result\n",
    "print(DUSP1_CS_R3)"
   ]
  },
  {
   "cell_type": "code",
   "execution_count": null,
   "metadata": {},
   "outputs": [],
   "source": [
    "runner(initial_data_location, DUSP1_CS_R3)\n"
   ]
  },
  {
   "cell_type": "code",
   "execution_count": null,
   "metadata": {},
   "outputs": [
    {
     "name": "stdout",
     "output_type": "stream",
     "text": [
      "[{'condition': 'DUSP1_timesweep', 'replica': 'J', 'time': 0, 'Dex_Conc': 0}, {'condition': 'DUSP1_timesweep', 'replica': 'J', 'time': 30, 'Dex_Conc': 0.3}, {'condition': 'DUSP1_timesweep', 'replica': 'J', 'time': 50, 'Dex_Conc': 0.3}, {'condition': 'DUSP1_timesweep', 'replica': 'J', 'time': 75, 'Dex_Conc': 0.3}, {'condition': 'DUSP1_timesweep', 'replica': 'J', 'time': 90, 'Dex_Conc': 0.3}, {'condition': 'DUSP1_timesweep', 'replica': 'J', 'time': 120, 'Dex_Conc': 0.3}, {'condition': 'DUSP1_timesweep', 'replica': 'J', 'time': 180, 'Dex_Conc': 0.3}, {'condition': 'DUSP1_timesweep', 'replica': 'J', 'time': 30, 'Dex_Conc': 1}, {'condition': 'DUSP1_timesweep', 'replica': 'J', 'time': 50, 'Dex_Conc': 1}, {'condition': 'DUSP1_timesweep', 'replica': 'J', 'time': 75, 'Dex_Conc': 1}, {'condition': 'DUSP1_timesweep', 'replica': 'J', 'time': 90, 'Dex_Conc': 1}, {'condition': 'DUSP1_timesweep', 'replica': 'J', 'time': 120, 'Dex_Conc': 1}, {'condition': 'DUSP1_timesweep', 'replica': 'J', 'time': 180, 'Dex_Conc': 1}, {'condition': 'DUSP1_timesweep', 'replica': 'J', 'time': 30, 'Dex_Conc': 10}, {'condition': 'DUSP1_timesweep', 'replica': 'J', 'time': 50, 'Dex_Conc': 10}, {'condition': 'DUSP1_timesweep', 'replica': 'J', 'time': 75, 'Dex_Conc': 10}, {'condition': 'DUSP1_timesweep', 'replica': 'J', 'time': 90, 'Dex_Conc': 10}, {'condition': 'DUSP1_timesweep', 'replica': 'J', 'time': 120, 'Dex_Conc': 10}, {'condition': 'DUSP1_timesweep', 'replica': 'J', 'time': 180, 'Dex_Conc': 10}]\n"
     ]
    }
   ],
   "source": [
    "# List of directories to process\n",
    "initial_data_location=(\n",
    "        'smFISH_images/Eric_smFISH_images/20230306/DUSP1_0nM_Dex_0min_012623' ,\n",
    "        'smFISH_images/Eric_smFISH_images/20230306/DUSP1_300pM_Dex_30min_012623' ,\n",
    "        'smFISH_images/Eric_smFISH_images/20230306/DUSP1_300pM_Dex_50min_012623' ,\n",
    "        'smFISH_images/Eric_smFISH_images/20230306/DUSP1_300pM_Dex_75min_012623' ,\n",
    "        'smFISH_images/Eric_smFISH_images/20230309/DUSP1_300pM_Dex_90min_012623' ,\n",
    "        'smFISH_images/Eric_smFISH_images/20230309/DUSP1_300pM_Dex_120min_012623' ,\n",
    "        'smFISH_images/Eric_smFISH_images/20230309/DUSP1_300pM_Dex_180min_012623' ,\n",
    "        'smFISH_images/Eric_smFISH_images/20230309/DUSP1_1nM_Dex_30min_012623' ,\n",
    "        'smFISH_images/Eric_smFISH_images/20230310/DUSP1_1nM_Dex_50min_012623' ,\n",
    "        'smFISH_images/Eric_smFISH_images/20230310/DUSP1_1nM_Dex_75min_012623' ,\n",
    "        'smFISH_images/Eric_smFISH_images/20230310/DUSP1_1nM_Dex_90min_012623' ,\n",
    "        'smFISH_images/Eric_smFISH_images/20230310/DUSP1_1nM_Dex_120min_012623' ,\n",
    "        'smFISH_images/Eric_smFISH_images/20230316/DUSP1_1nM_Dex_180min_012623' ,\n",
    "        'smFISH_images/Eric_smFISH_images/20230316/DUSP1_10nM_Dex_30min_012623' ,\n",
    "        'smFISH_images/Eric_smFISH_images/20230316/DUSP1_10nM_Dex_50min_012623' ,\n",
    "        'smFISH_images/Eric_smFISH_images/20230316/DUSP1_10nM_Dex_75min_012623' ,\n",
    "        'smFISH_images/Eric_smFISH_images/20230316/DUSP1_10nM_Dex_90min_012623' ,\n",
    "        'smFISH_images/Eric_smFISH_images/20230316/DUSP1_10nM_Dex_120min_012623' ,\n",
    "        'smFISH_images/Eric_smFISH_images/20230316/DUSP1_10nM_Dex_180min_012623' )\n",
    "# Parameters\n",
    "Condition = 'DUSP1_timesweep'      # Experimental condition. The options are:  'GR_timesweep' , 'DUSP1_timesweep' \n",
    "Replica = 'J'                   # Replica name. \n",
    "time_list  = [0, 30, 50, 75, 90, 120, 180, 30, 50, 75, 90, 120, 180, 30, 50, 75, 90, 120, 180]        # Time of image acquisition\n",
    "DexConc_list = [0, 0.3, 0.3, 0.3, 0.3, 0.3, 0.3, 1, 1, 1, 1, 1, 1, 10, 10, 10, 10, 10, 10]        # Dex concentration\n",
    "\n",
    "# Creating the list of dictionaries\n",
    "DUSP1_TCS_R1 = [\n",
    "    {\n",
    "        \"condition\": Condition,\n",
    "        \"replica\": Replica,\n",
    "        \"time\": time,\n",
    "        \"Dex_Conc\": DexConc\n",
    "    }\n",
    "    for time, DexConc in zip(time_list, DexConc_list)\n",
    "]\n",
    "# Output the result\n",
    "print(DUSP1_TCS_R1)"
   ]
  },
  {
   "cell_type": "code",
   "execution_count": null,
   "metadata": {},
   "outputs": [],
   "source": [
    "runner(initial_data_location, DUSP1_TCS_R1)\n"
   ]
  },
  {
   "cell_type": "code",
   "execution_count": null,
   "metadata": {},
   "outputs": [
    {
     "name": "stdout",
     "output_type": "stream",
     "text": [
      "[{'condition': 'DUSP1_timesweep', 'replica': 'K', 'time': 0, 'Dex_Conc': 0}, {'condition': 'DUSP1_timesweep', 'replica': 'K', 'time': 30, 'Dex_Conc': 0.3}, {'condition': 'DUSP1_timesweep', 'replica': 'K', 'time': 50, 'Dex_Conc': 0.3}, {'condition': 'DUSP1_timesweep', 'replica': 'K', 'time': 75, 'Dex_Conc': 0.3}, {'condition': 'DUSP1_timesweep', 'replica': 'K', 'time': 90, 'Dex_Conc': 0.3}, {'condition': 'DUSP1_timesweep', 'replica': 'K', 'time': 120, 'Dex_Conc': 0.3}, {'condition': 'DUSP1_timesweep', 'replica': 'K', 'time': 180, 'Dex_Conc': 0.3}, {'condition': 'DUSP1_timesweep', 'replica': 'K', 'time': 30, 'Dex_Conc': 1}, {'condition': 'DUSP1_timesweep', 'replica': 'K', 'time': 50, 'Dex_Conc': 1}, {'condition': 'DUSP1_timesweep', 'replica': 'K', 'time': 75, 'Dex_Conc': 1}, {'condition': 'DUSP1_timesweep', 'replica': 'K', 'time': 90, 'Dex_Conc': 1}, {'condition': 'DUSP1_timesweep', 'replica': 'K', 'time': 120, 'Dex_Conc': 1}, {'condition': 'DUSP1_timesweep', 'replica': 'K', 'time': 180, 'Dex_Conc': 1}, {'condition': 'DUSP1_timesweep', 'replica': 'K', 'time': 30, 'Dex_Conc': 10}, {'condition': 'DUSP1_timesweep', 'replica': 'K', 'time': 50, 'Dex_Conc': 10}, {'condition': 'DUSP1_timesweep', 'replica': 'K', 'time': 75, 'Dex_Conc': 10}, {'condition': 'DUSP1_timesweep', 'replica': 'K', 'time': 90, 'Dex_Conc': 10}, {'condition': 'DUSP1_timesweep', 'replica': 'K', 'time': 120, 'Dex_Conc': 10}, {'condition': 'DUSP1_timesweep', 'replica': 'K', 'time': 180, 'Dex_Conc': 10}]\n"
     ]
    }
   ],
   "source": [
    "# List of directories to process\n",
    "initial_data_location=(\n",
    "        'smFISH_images/Eric_smFISH_images/20230413/DUSP1_DexTimeConcSweep_0min_041223' ,\n",
    "        'smFISH_images/Eric_smFISH_images/20230413/DUSP1_DexTimeConcSweep_300pM_30min_041223' ,\n",
    "        'smFISH_images/Eric_smFISH_images/20230413/DUSP1_DexTimeConcSweep_300pM_50min_041223' ,\n",
    "        'smFISH_images/Eric_smFISH_images/20230413/DUSP1_DexTimeConcSweep_300pM_75min_041223' ,\n",
    "        'smFISH_images/Eric_smFISH_images/20230413/DUSP1_DexTimeConcSweep_300pM_90min_041223' ,\n",
    "        'smFISH_images/Eric_smFISH_images/20230424/DUSP1_DexTimeConcSweep_300pM_120min_041223' ,\n",
    "        'smFISH_images/Eric_smFISH_images/20230424/DUSP1_DexTimeConcSweep_300pM_180min_041223' ,\n",
    "        'smFISH_images/Eric_smFISH_images/20230424/DUSP1_DexTimeConcSweep_1nM_30min_041223' ,\n",
    "        'smFISH_images/Eric_smFISH_images/20230424/DUSP1_DexTimeConcSweep_1nM_50min_041223' ,\n",
    "        'smFISH_images/Eric_smFISH_images/20230424/DUSP1_DexTimeConcSweep_1nM_75min_041223' ,\n",
    "        'smFISH_images/Eric_smFISH_images/20230424/DUSP1_DexTimeConcSweep_1nM_90min_041223' ,\n",
    "        'smFISH_images/Eric_smFISH_images/20230427/DUSP1_DexTimeConcSweep_1nM_120min_041223' ,\n",
    "        'smFISH_images/Eric_smFISH_images/20230427/DUSP1_DexTimeConcSweep_1nM_180min_041223' ,\n",
    "        'smFISH_images/Eric_smFISH_images/20230427/DUSP1_DexTimeConcSweep_10nM_30min_041223' ,\n",
    "        'smFISH_images/Eric_smFISH_images/20230427/DUSP1_DexTimeConcSweep_10nM_50min_041223' ,\n",
    "        'smFISH_images/Eric_smFISH_images/20230511/DUSP1_DexTimeConcSweep_10nM_75min_041223' ,\n",
    "        'smFISH_images/Eric_smFISH_images/20230511/DUSP1_DexTimeConcSweep_10nM_90min_041223' ,\n",
    "        'smFISH_images/Eric_smFISH_images/20230511/DUSP1_DexTimeConcSweep_10nM_120min_041223' ,\n",
    "        'smFISH_images/Eric_smFISH_images/20230511/DUSP1_DexTimeConcSweep_10nM_180min_041223' )\n",
    "# Parameters\n",
    "Condition = 'DUSP1_timesweep'      # Experimental condition. The options are:  'GR_timesweep' , 'DUSP1_timesweep' , 'DUSP1_TPL'\n",
    "Replica = 'K'                   # Replica name. \n",
    "time_list  = [0, 30, 50, 75, 90, 120, 180, 30, 50, 75, 90, 120, 180, 30, 50, 75, 90, 120, 180]        # Time of image acquisition\n",
    "DexConc_list = [0, 0.3, 0.3, 0.3, 0.3, 0.3, 0.3, 1, 1, 1, 1, 1, 1, 10, 10, 10, 10, 10, 10]        # Dex concentration\n",
    "\n",
    "# Creating the list of dictionaries\n",
    "DUSP1_TCS_R2 = [\n",
    "    {\n",
    "        \"condition\": Condition,\n",
    "        \"replica\": Replica,\n",
    "        \"time\": time,\n",
    "        \"Dex_Conc\": DexConc\n",
    "    }\n",
    "    for time, DexConc in zip(time_list, DexConc_list)\n",
    "]\n",
    "# Output the result\n",
    "print(DUSP1_TCS_R2)"
   ]
  },
  {
   "cell_type": "code",
   "execution_count": null,
   "metadata": {},
   "outputs": [],
   "source": [
    "runner(initial_data_location, DUSP1_TCS_R2)\n"
   ]
  },
  {
   "cell_type": "code",
   "execution_count": null,
   "metadata": {},
   "outputs": [
    {
     "name": "stdout",
     "output_type": "stream",
     "text": [
      "[{'condition': 'DUSP1_timesweep', 'replica': 'L', 'time': 0, 'Dex_Conc': 0}, {'condition': 'DUSP1_timesweep', 'replica': 'L', 'time': 30, 'Dex_Conc': 0.3}, {'condition': 'DUSP1_timesweep', 'replica': 'L', 'time': 50, 'Dex_Conc': 0.3}, {'condition': 'DUSP1_timesweep', 'replica': 'L', 'time': 75, 'Dex_Conc': 0.3}, {'condition': 'DUSP1_timesweep', 'replica': 'L', 'time': 90, 'Dex_Conc': 0.3}, {'condition': 'DUSP1_timesweep', 'replica': 'L', 'time': 120, 'Dex_Conc': 0.3}, {'condition': 'DUSP1_timesweep', 'replica': 'L', 'time': 180, 'Dex_Conc': 0.3}, {'condition': 'DUSP1_timesweep', 'replica': 'L', 'time': 30, 'Dex_Conc': 1}, {'condition': 'DUSP1_timesweep', 'replica': 'L', 'time': 50, 'Dex_Conc': 1}, {'condition': 'DUSP1_timesweep', 'replica': 'L', 'time': 90, 'Dex_Conc': 1}, {'condition': 'DUSP1_timesweep', 'replica': 'L', 'time': 120, 'Dex_Conc': 1}, {'condition': 'DUSP1_timesweep', 'replica': 'L', 'time': 180, 'Dex_Conc': 1}, {'condition': 'DUSP1_timesweep', 'replica': 'L', 'time': 30, 'Dex_Conc': 10}, {'condition': 'DUSP1_timesweep', 'replica': 'L', 'time': 50, 'Dex_Conc': 10}, {'condition': 'DUSP1_timesweep', 'replica': 'L', 'time': 75, 'Dex_Conc': 10}, {'condition': 'DUSP1_timesweep', 'replica': 'L', 'time': 90, 'Dex_Conc': 10}, {'condition': 'DUSP1_timesweep', 'replica': 'L', 'time': 120, 'Dex_Conc': 10}, {'condition': 'DUSP1_timesweep', 'replica': 'L', 'time': 180, 'Dex_Conc': 10}]\n"
     ]
    }
   ],
   "source": [
    "# List of directories to process\n",
    "initial_data_location=(\n",
    "        'smFISH_images/Eric_smFISH_images/20230530/DUSP1_Dex_time_conc_sweep_0min_050223_R3' ,\n",
    "        'smFISH_images/Eric_smFISH_images/20230530/DUSP1_Dex_300pM_30min_050223_R3' ,\n",
    "        'smFISH_images/Eric_smFISH_images/20230530/DUSP1_Dex_300pM_50min_050223_R3' ,\n",
    "        'smFISH_images/Eric_smFISH_images/20230605/DUSP1_Dex_300pM_75min_050223_R3' ,\n",
    "        'smFISH_images/Eric_smFISH_images/20230605/DUSP1_Dex_300pM_90min_050223_R3' ,\n",
    "        'smFISH_images/Eric_smFISH_images/20230605/DUSP1_Dex_300pM_120min_050223_R3' ,\n",
    "        'smFISH_images/Eric_smFISH_images/20230605/DUSP1_Dex_300pM_180min_050223_R3' ,\n",
    "        'smFISH_images/Eric_smFISH_images/20230605/DUSP1_Dex_1nM_30min_050223_R3' ,\n",
    "        'smFISH_images/Eric_smFISH_images/20230605/DUSP1_Dex_1nM_50min_050223_R3' ,\n",
    "        'smFISH_images/Eric_smFISH_images/20230608/DUSP1_Dex_1nM_90min_050223_R3' ,\n",
    "        'smFISH_images/Eric_smFISH_images/20230608/DUSP1_Dex_1nM_120min_050223_R3' ,\n",
    "        'smFISH_images/Eric_smFISH_images/20230608/DUSP1_Dex_1nM_180min_050223_R3' ,\n",
    "        'smFISH_images/Eric_smFISH_images/20230614/DUSP1_Dex_10nM_30min_050223_R3_redo' ,\n",
    "        'smFISH_images/Eric_smFISH_images/20230608/DUSP1_Dex_10nM_50min_050223_R3' ,\n",
    "        'smFISH_images/Eric_smFISH_images/20230608/DUSP1_Dex_10nM_75min_050223_R3' ,\n",
    "        'smFISH_images/Eric_smFISH_images/20230608/DUSP1_Dex_10nM_90min_050223_R3' ,\n",
    "        'smFISH_images/Eric_smFISH_images/20230608/DUSP1_Dex_10nM_120min_050223_R3' ,\n",
    "        'smFISH_images/Eric_smFISH_images/20230608/DUSP1_Dex_10nM_180min_050223_R3' )\n",
    "# Parameters\n",
    "Condition = 'DUSP1_timesweep'      # Experimental condition. The options are:  'GR_timesweep' , 'DUSP1_timesweep'\n",
    "Replica = 'L'                   # Replica name. \n",
    "time_list  = [0, 30, 50, 75, 90, 120, 180, 30, 50, 90, 120, 180, 30, 50, 75, 90, 120, 180]        # Time of image acquisition\n",
    "DexConc_list = [0, 0.3, 0.3, 0.3, 0.3, 0.3, 0.3, 1, 1, 1, 1, 1, 10, 10, 10, 10, 10, 10]        # Dex concentration\n",
    "\n",
    "DUSP1_TCS_R3 = [\n",
    "    {\n",
    "        \"condition\": Condition,\n",
    "        \"replica\": Replica,\n",
    "        \"time\": time,\n",
    "        \"Dex_Conc\": DexConc\n",
    "    }\n",
    "    for time, DexConc in zip(time_list, DexConc_list)\n",
    "]\n",
    "# Output the result\n",
    "print(DUSP1_TCS_R3)"
   ]
  },
  {
   "cell_type": "code",
   "execution_count": null,
   "metadata": {},
   "outputs": [],
   "source": [
    "runner(initial_data_location, DUSP1_TCS_R3)\n"
   ]
  },
  {
   "cell_type": "code",
   "execution_count": null,
   "metadata": {},
   "outputs": [
    {
     "name": "stdout",
     "output_type": "stream",
     "text": [
      "[{'condition': 'DUSP1_timesweep', 'replica': 'M', 'time': 0, 'Dex_Conc': 0}, {'condition': 'DUSP1_timesweep', 'replica': 'M', 'time': 150, 'Dex_Conc': 100}, {'condition': 'DUSP1_timesweep', 'replica': 'M', 'time': 180, 'Dex_Conc': 100}]\n"
     ]
    }
   ],
   "source": [
    "# List of directories to process\n",
    "initial_data_location=(\n",
    "        'smFISH_images/Eric_smFISH_images/20220725/DUSP1_Dex_100nM_6hr_0min_072022' ,\n",
    "        'smFISH_images/Eric_smFISH_images/20220725/DUSP1_Dex_100nM_6hr_150min_072022' ,\n",
    "        'smFISH_images/Eric_smFISH_images/20220725/DUSP1_Dex_100nM_6hr_180min_072022' )\n",
    "# Parameters\n",
    "Condition = 'DUSP1_timesweep'      # Experimental condition. The options are:  'GR_timesweep' , 'DUSP1_timesweep' , 'DUSP1_TPL'\n",
    "Replica = 'M'                   # Replica name. \n",
    "time_list  = [0, 150, 180]        # Time of image acquisition\n",
    "DexConc_list = [0, 100, 100]        # Dex concentration\n",
    "\n",
    "DUSP1_TS_R4 = [\n",
    "    {\n",
    "        \"condition\": Condition,\n",
    "        \"replica\": Replica,\n",
    "        \"time\": time,\n",
    "        \"Dex_Conc\": DexConc\n",
    "    }\n",
    "    for time, DexConc in zip(time_list, DexConc_list)\n",
    "]\n",
    "# Output the result\n",
    "print(DUSP1_TS_R4)"
   ]
  },
  {
   "cell_type": "code",
   "execution_count": null,
   "metadata": {},
   "outputs": [],
   "source": [
    "runner(initial_data_location, DUSP1_TS_R4)\n"
   ]
  },
  {
   "cell_type": "code",
   "execution_count": null,
   "metadata": {},
   "outputs": [
    {
     "name": "stdout",
     "output_type": "stream",
     "text": [
      "[{'condition': 'DUSP1_timesweep', 'replica': 'N', 'time': 0, 'Dex_Conc': 0}, {'condition': 'DUSP1_timesweep', 'replica': 'N', 'time': 30, 'Dex_Conc': 100}, {'condition': 'DUSP1_timesweep', 'replica': 'N', 'time': 60, 'Dex_Conc': 100}, {'condition': 'DUSP1_timesweep', 'replica': 'N', 'time': 90, 'Dex_Conc': 100}, {'condition': 'DUSP1_timesweep', 'replica': 'N', 'time': 120, 'Dex_Conc': 100}, {'condition': 'DUSP1_timesweep', 'replica': 'N', 'time': 150, 'Dex_Conc': 100}, {'condition': 'DUSP1_timesweep', 'replica': 'N', 'time': 180, 'Dex_Conc': 100}]\n"
     ]
    }
   ],
   "source": [
    "# List of directories to process\n",
    "initial_data_location=(\n",
    "        'smFISH_images/Eric_smFISH_images/20220927/DUSP1_100nM_Dex_0min_081822' ,\n",
    "        'smFISH_images/Eric_smFISH_images/20220927/DUSP1_100nM_Dex_30min_081822' ,\n",
    "        'smFISH_images/Eric_smFISH_images/20220927/DUSP1_100nM_Dex_60min_081822' ,\n",
    "        'smFISH_images/Eric_smFISH_images/20220928/DUSP1_100nM_Dex_90min_081822' ,\n",
    "        'smFISH_images/Eric_smFISH_images/20220928/DUSP1_100nM_Dex_120min_081822' ,\n",
    "        'smFISH_images/Eric_smFISH_images/20220928/DUSP1_100nM_Dex_150min_081822' ,\n",
    "        'smFISH_images/Eric_smFISH_images/20220929/DUSP1_100nM_Dex_180min_081822' )\n",
    "# Parameters\n",
    "Condition = 'DUSP1_timesweep'      # Experimental condition. The options are:  'GR_timesweep' , 'DUSP1_timesweep'\n",
    "Replica = 'N'                   # Replica name. \n",
    "time_list  = [0, 30, 60, 90, 120, 150, 180]        # Time of image acquisition\n",
    "DexConc_list = [0, 100, 100, 100, 100, 100, 100]        # Dex concentration\n",
    "\n",
    "DUSP1_TS_R5 = [\n",
    "    {\n",
    "        \"condition\": Condition,\n",
    "        \"replica\": Replica,\n",
    "        \"time\": time,\n",
    "        \"Dex_Conc\": DexConc\n",
    "    }\n",
    "    for time, DexConc in zip(time_list, DexConc_list)\n",
    "]\n",
    "# Output the result\n",
    "print(DUSP1_TS_R5)"
   ]
  },
  {
   "cell_type": "code",
   "execution_count": null,
   "metadata": {},
   "outputs": [],
   "source": [
    "runner(initial_data_location, DUSP1_TS_R5)\n"
   ]
  },
  {
   "cell_type": "markdown",
   "metadata": {},
   "source": [
    "## ```DUSP1_TPL```  experiments"
   ]
  },
  {
   "cell_type": "code",
   "execution_count": null,
   "metadata": {},
   "outputs": [
    {
     "name": "stdout",
     "output_type": "stream",
     "text": [
      "[{'condition': 'DUSP1_TPL', 'replica': 'O', 'time': 0, 'Dex_Conc': 0, 'time_tpl': None}, {'condition': 'DUSP1_TPL', 'replica': 'O', 'time': 75, 'Dex_Conc': 100, 'time_tpl': None}, {'condition': 'DUSP1_TPL', 'replica': 'O', 'time': 85, 'Dex_Conc': 100, 'time_tpl': 75}, {'condition': 'DUSP1_TPL', 'replica': 'O', 'time': 105, 'Dex_Conc': 100, 'time_tpl': 75}, {'condition': 'DUSP1_TPL', 'replica': 'O', 'time': 135, 'Dex_Conc': 100, 'time_tpl': 75}, {'condition': 'DUSP1_TPL', 'replica': 'O', 'time': 150, 'Dex_Conc': 100, 'time_tpl': None}, {'condition': 'DUSP1_TPL', 'replica': 'O', 'time': 160, 'Dex_Conc': 100, 'time_tpl': 150}, {'condition': 'DUSP1_TPL', 'replica': 'O', 'time': 180, 'Dex_Conc': 100, 'time_tpl': 150}, {'condition': 'DUSP1_TPL', 'replica': 'O', 'time': 210, 'Dex_Conc': 100, 'time_tpl': 150}]\n"
     ]
    }
   ],
   "source": [
    "# List of directories to process\n",
    "initial_data_location=(\n",
    "        'smFISH_images/Eric_smFISH_images/20221019/DUSP1_Dex_TPL_3hr_0min_Control_101422' ,\n",
    "        'smFISH_images/Eric_smFISH_images/20221019/DUSP1_Dex100nM_75min_Control_101422' ,\n",
    "        'smFISH_images/Eric_smFISH_images/20221019/DUSP1_Dex100nM_75min_TPL5uM_10min_101422' ,\n",
    "        'smFISH_images/Eric_smFISH_images/20221019/DUSP1_Dex100nM_75min_TPL5uM_30min_101422' ,\n",
    "        'smFISH_images/Eric_smFISH_images/20221019/DUSP1_Dex100nM_75min_TPL5uM_60min_101422' ,\n",
    "        'smFISH_images/Eric_smFISH_images/20221020/DUSP1_Dex100nM_150min_Control_101422' ,\n",
    "        'smFISH_images/Eric_smFISH_images/20221020/DUSP1_Dex100nM_150min_TPL5uM_10min_101422' ,\n",
    "        'smFISH_images/Eric_smFISH_images/20221020/DUSP1_Dex100nM_150min_TPL5uM_30min_101422' ,\n",
    "        'smFISH_images/Eric_smFISH_images/20221020/DUSP1_Dex100nM_150min_TPL5uM_60min_101422' )\n",
    "# Parameters\n",
    "Condition = 'DUSP1_TPL'      # Experimental condition. The options are:  'GR_timesweep' , 'DUSP1_timesweep' , 'DUSP1_TPL'\n",
    "Replica = 'O'                   # Replica name. \n",
    "time_list  = [0, 75, 85, 105, 135, 150, 160, 180, 210]        # Time of image acquisition\n",
    "DexConc_list = [0, 100, 100, 100, 100, 100, 100, 100, 100]        # Dex concentration\n",
    "time_TPL = [None, None, 75, 75, 75, None, 150, 150, 150]  # Time of TPL addition relitive to Dex timepoint\n",
    "\n",
    "DUSP1_TPL_R1 = [\n",
    "    {\n",
    "        \"condition\": Condition,\n",
    "        \"replica\": Replica,\n",
    "        \"time\": time,\n",
    "        \"Dex_Conc\": DexConc,\n",
    "        \"time_tpl\": tpl_time\n",
    "    }\n",
    "    for time, DexConc, tpl_time in zip(time_list, DexConc_list, time_TPL)\n",
    "]\n",
    "# Output the result\n",
    "print(DUSP1_TPL_R1)"
   ]
  },
  {
   "cell_type": "code",
   "execution_count": null,
   "metadata": {},
   "outputs": [],
   "source": [
    "runner(initial_data_location, DUSP1_TPL_R1)\n"
   ]
  },
  {
   "cell_type": "code",
   "execution_count": null,
   "metadata": {},
   "outputs": [
    {
     "name": "stdout",
     "output_type": "stream",
     "text": [
      "[{'condition': 'DUSP1_TPL', 'replica': 'P', 'time': 0, 'Dex_Conc': 0, 'time_tpl': None}, {'condition': 'DUSP1_TPL', 'replica': 'P', 'time': 15, 'Dex_Conc': 0, 'time_tpl': 0}, {'condition': 'DUSP1_TPL', 'replica': 'P', 'time': 30, 'Dex_Conc': 0, 'time_tpl': 0}, {'condition': 'DUSP1_TPL', 'replica': 'P', 'time': 60, 'Dex_Conc': 0, 'time_tpl': 0}, {'condition': 'DUSP1_TPL', 'replica': 'P', 'time': 20, 'Dex_Conc': 100, 'time_tpl': None}, {'condition': 'DUSP1_TPL', 'replica': 'P', 'time': 35, 'Dex_Conc': 100, 'time_tpl': 20}, {'condition': 'DUSP1_TPL', 'replica': 'P', 'time': 50, 'Dex_Conc': 100, 'time_tpl': 20}, {'condition': 'DUSP1_TPL', 'replica': 'P', 'time': 80, 'Dex_Conc': 100, 'time_tpl': 20}, {'condition': 'DUSP1_TPL', 'replica': 'P', 'time': 75, 'Dex_Conc': 100, 'time_tpl': None}, {'condition': 'DUSP1_TPL', 'replica': 'P', 'time': 90, 'Dex_Conc': 100, 'time_tpl': 75}, {'condition': 'DUSP1_TPL', 'replica': 'P', 'time': 105, 'Dex_Conc': 100, 'time_tpl': 75}, {'condition': 'DUSP1_TPL', 'replica': 'P', 'time': 135, 'Dex_Conc': 100, 'time_tpl': 75}, {'condition': 'DUSP1_TPL', 'replica': 'P', 'time': 180, 'Dex_Conc': 100, 'time_tpl': None}, {'condition': 'DUSP1_TPL', 'replica': 'P', 'time': 195, 'Dex_Conc': 100, 'time_tpl': 180}, {'condition': 'DUSP1_TPL', 'replica': 'P', 'time': 210, 'Dex_Conc': 100, 'time_tpl': 180}, {'condition': 'DUSP1_TPL', 'replica': 'P', 'time': 240, 'Dex_Conc': 100, 'time_tpl': 180}]\n"
     ]
    }
   ],
   "source": [
    "# List of directories to process\n",
    "initial_data_location=(\n",
    "        'smFISH_images/Eric_smFISH_images/20221103/DUSP1_Dex_0min_TPL_0min_110222' ,\n",
    "        'smFISH_images/Eric_smFISH_images/20221103/DUSP1_Dex_0min_TPL_15min_110222' ,\n",
    "        'smFISH_images/Eric_smFISH_images/20221103/DUSP1_Dex_0min_TPL_30min_110222' ,\n",
    "        'smFISH_images/Eric_smFISH_images/20221103/DUSP1_Dex_0min_TPL_60min_110222' ,\n",
    "        'smFISH_images/Eric_smFISH_images/20221107/DUSP1_Dex_20min_TPL_0min_110222' ,\n",
    "        'smFISH_images/Eric_smFISH_images/20221107/DUSP1_Dex_20min_TPL_15min_110222' ,\n",
    "        'smFISH_images/Eric_smFISH_images/20221107/DUSP1_Dex_20min_TPL_30min_110222' ,\n",
    "        'smFISH_images/Eric_smFISH_images/20221107/DUSP1_Dex_20min_TPL_60min_110222' ,\n",
    "        'smFISH_images/Eric_smFISH_images/20221107/DUSP1_Dex_75min_TPL_0min_110222' ,\n",
    "        'smFISH_images/Eric_smFISH_images/20221107/DUSP1_Dex_75min_TPL_15min_110222' ,\n",
    "        'smFISH_images/Eric_smFISH_images/20221107/DUSP1_Dex_75min_TPL_30min_110222' ,\n",
    "        'smFISH_images/Eric_smFISH_images/20221107/DUSP1_Dex_75min_TPL_60min_110222' ,\n",
    "        'smFISH_images/Eric_smFISH_images/20221109/DUSP1_Dex_180min_TPL_0min_110222' ,\n",
    "        'smFISH_images/Eric_smFISH_images/20221129/DUSP1_Dex_180min_TPL_15min_110222' ,\n",
    "        'smFISH_images/Eric_smFISH_images/20221129/DUSP1_Dex_180min_TPL_30min_110222' ,\n",
    "        'smFISH_images/Eric_smFISH_images/20221129/DUSP1_Dex_180min_TPL_60min_110222' )\n",
    "# Parameters\n",
    "Condition = 'DUSP1_TPL'      # Experimental condition. The options are:  'GR_timesweep' , 'DUSP1_timesweep' , 'DUSP1_TPL'\n",
    "Replica = 'P'                   # Replica name. \n",
    "time_list  = [0, 15, 30, 60, 20, 35, 50, 80, 75, 90, 105, 135, 180, 195, 210, 240]        # Time of image acquisition\n",
    "DexConc_list = [0, 0, 0, 0, 100, 100, 100, 100, 100, 100, 100, 100, 100, 100, 100, 100]        # Dex concentration\n",
    "time_TPL = [None, 0, 0, 0, None, 20, 20, 20, None, 75, 75, 75, None, 180, 180, 180]  # Time of TPL addition relitive to Dex timepoint\n",
    "\n",
    "DUSP1_TPL_R2 = [\n",
    "    {\n",
    "        \"condition\": Condition,\n",
    "        \"replica\": Replica,\n",
    "        \"time\": time,\n",
    "        \"Dex_Conc\": DexConc,\n",
    "        \"time_tpl\": tpl_time\n",
    "    }\n",
    "    for time, DexConc, tpl_time in zip(time_list, DexConc_list, time_TPL)\n",
    "]\n",
    "# Output the result\n",
    "print(DUSP1_TPL_R2)"
   ]
  },
  {
   "cell_type": "code",
   "execution_count": null,
   "metadata": {},
   "outputs": [],
   "source": [
    "runner(initial_data_location, DUSP1_TPL_R2)\n"
   ]
  }
 ],
 "metadata": {
  "kernelspec": {
   "display_name": ".venv",
   "language": "python",
   "name": "python3"
  },
  "language_info": {
   "codemirror_mode": {
    "name": "ipython",
    "version": 3
   },
   "file_extension": ".py",
   "mimetype": "text/x-python",
   "name": "python",
   "nbconvert_exporter": "python",
   "pygments_lexer": "ipython3",
   "version": "3.12.5"
  }
 },
 "nbformat": 4,
 "nbformat_minor": 2
}
