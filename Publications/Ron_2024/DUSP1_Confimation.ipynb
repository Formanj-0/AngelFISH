{
 "cells": [
  {
   "cell_type": "code",
   "execution_count": 1,
   "metadata": {},
   "outputs": [
    {
     "name": "stdout",
     "output_type": "stream",
     "text": [
      "c:\\Users\\Jack\\Documents\\GitHub\\AngelFISH\n"
     ]
    }
   ],
   "source": [
    "import h5py\n",
    "import numpy as np\n",
    "import matplotlib.pyplot as plt\n",
    "import pandas as pd\n",
    "import dask.array as da\n",
    "import os\n",
    "import sys\n",
    "import logging\n",
    "\n",
    "\n",
    "logging.getLogger('matplotlib.font_manager').disabled = True\n",
    "numba_logger = logging.getLogger('numba')\n",
    "numba_logger.setLevel(logging.WARNING)\n",
    "\n",
    "matplotlib_logger = logging.getLogger('matplotlib')\n",
    "matplotlib_logger.setLevel(logging.WARNING)\n",
    "\n",
    "src_path = os.path.abspath(os.path.join(os.getcwd(), '..', '..'))\n",
    "print(src_path)\n",
    "sys.path.append(src_path)\n",
    "\n",
    "from src.Analysis import Analysis, AnalysisManager, GR_Confirmation, SpotDetection_Confirmation"
   ]
  },
  {
   "cell_type": "markdown",
   "metadata": {},
   "source": [
    "Loads in the data from specified location"
   ]
  },
  {
   "cell_type": "code",
   "execution_count": 2,
   "metadata": {},
   "outputs": [],
   "source": [
    "loc = None # r\"Y:\\smFISH_images\\Eric_smFISH_images\\20230511\\GR_ICC_3hr_R1_1nM_0min_050823\\GR_ICC_3hr_R1_1nM_0min_050823.h5\"\n",
    "log_location = r'Y:\\Users\\Jack\\All_Analysis'\n",
    "am = AnalysisManager(location=loc, log_location=log_location) # change this to your mounted drive location for this folder\n",
    "# This analysis is best done with the NAS mounted "
   ]
  },
  {
   "cell_type": "code",
   "execution_count": 3,
   "metadata": {},
   "outputs": [
    {
     "name": "stdout",
     "output_type": "stream",
     "text": [
      "Analysis_ER_Dec1924_wCyto_2024-12-19\n",
      "Analysis_ER_Dec0324_2024-12-19\n",
      "Analysis_ER_Dec0324_DUSP1_2024-12-19\n",
      "Analysis_ER_Dec0324_GR_2024-12-20\n"
     ]
    },
    {
     "data": {
      "text/plain": [
       "['Analysis_ER_Dec1924_wCyto_2024-12-19',\n",
       " 'Analysis_ER_Dec0324_2024-12-19',\n",
       " 'Analysis_ER_Dec0324_DUSP1_2024-12-19',\n",
       " 'Analysis_ER_Dec0324_GR_2024-12-20']"
      ]
     },
     "execution_count": 3,
     "metadata": {},
     "output_type": "execute_result"
    }
   ],
   "source": [
    "# list all analysis done \n",
    "am.list_analysis_names()"
   ]
  },
  {
   "cell_type": "code",
   "execution_count": 4,
   "metadata": {},
   "outputs": [
    {
     "name": "stdout",
     "output_type": "stream",
     "text": [
      "[<HDF5 group \"/Analysis_ER_Dec0324_DUSP1_2024-12-19\" (7 members)>, <HDF5 group \"/Analysis_ER_Dec0324_DUSP1_2024-12-19\" (7 members)>, <HDF5 group \"/Analysis_ER_Dec0324_DUSP1_2024-12-19\" (7 members)>, <HDF5 group \"/Analysis_ER_Dec0324_DUSP1_2024-12-19\" (7 members)>, <HDF5 group \"/Analysis_ER_Dec0324_DUSP1_2024-12-19\" (7 members)>, <HDF5 group \"/Analysis_ER_Dec0324_DUSP1_2024-12-19\" (7 members)>, <HDF5 group \"/Analysis_ER_Dec0324_DUSP1_2024-12-19\" (8 members)>, <HDF5 group \"/Analysis_ER_Dec0324_DUSP1_2024-12-19\" (8 members)>, <HDF5 group \"/Analysis_ER_Dec0324_DUSP1_2024-12-19\" (8 members)>, <HDF5 group \"/Analysis_ER_Dec0324_DUSP1_2024-12-19\" (7 members)>, <HDF5 group \"/Analysis_ER_Dec0324_DUSP1_2024-12-19\" (8 members)>, <HDF5 group \"/Analysis_ER_Dec0324_DUSP1_2024-12-19\" (8 members)>]\n"
     ]
    }
   ],
   "source": [
    "# can filter on name and dates\n",
    "am.select_analysis('ER_Dec0324_DUSP1')\n",
    "print(am.analysis)"
   ]
  },
  {
   "cell_type": "code",
   "execution_count": 5,
   "metadata": {},
   "outputs": [
    {
     "name": "stdout",
     "output_type": "stream",
     "text": [
      "/Analysis_ER_Dec0324_DUSP1_2024-12-19 ['bigfish_threshold', 'cell_properties', 'df_cellresults', 'df_spotresults', 'individual_spotdetection_thresholds', 'parameters', 'position_indexs']\n",
      "/Analysis_ER_Dec0324_DUSP1_2024-12-19 ['bigfish_threshold', 'cell_properties', 'df_cellresults', 'df_spotresults', 'individual_spotdetection_thresholds', 'parameters', 'position_indexs']\n",
      "/Analysis_ER_Dec0324_DUSP1_2024-12-19 ['bigfish_threshold', 'cell_properties', 'df_cellresults', 'df_spotresults', 'individual_spotdetection_thresholds', 'parameters', 'position_indexs']\n",
      "/Analysis_ER_Dec0324_DUSP1_2024-12-19 ['bigfish_threshold', 'cell_properties', 'df_cellresults', 'df_spotresults', 'individual_spotdetection_thresholds', 'parameters', 'position_indexs']\n",
      "/Analysis_ER_Dec0324_DUSP1_2024-12-19 ['bigfish_threshold', 'cell_properties', 'df_cellresults', 'df_spotresults', 'individual_spotdetection_thresholds', 'parameters', 'position_indexs']\n",
      "/Analysis_ER_Dec0324_DUSP1_2024-12-19 ['bigfish_threshold', 'cell_properties', 'df_cellresults', 'df_spotresults', 'individual_spotdetection_thresholds', 'parameters', 'position_indexs']\n",
      "/Analysis_ER_Dec0324_DUSP1_2024-12-19 ['bigfish_threshold', 'cell_properties', 'df_cellresults', 'df_clusterresults', 'df_spotresults', 'individual_spotdetection_thresholds', 'parameters', 'position_indexs']\n",
      "/Analysis_ER_Dec0324_DUSP1_2024-12-19 ['bigfish_threshold', 'cell_properties', 'df_cellresults', 'df_clusterresults', 'df_spotresults', 'individual_spotdetection_thresholds', 'parameters', 'position_indexs']\n",
      "/Analysis_ER_Dec0324_DUSP1_2024-12-19 ['bigfish_threshold', 'cell_properties', 'df_cellresults', 'df_clusterresults', 'df_spotresults', 'individual_spotdetection_thresholds', 'parameters', 'position_indexs']\n",
      "/Analysis_ER_Dec0324_DUSP1_2024-12-19 ['bigfish_threshold', 'cell_properties', 'df_cellresults', 'df_spotresults', 'individual_spotdetection_thresholds', 'parameters', 'position_indexs']\n",
      "/Analysis_ER_Dec0324_DUSP1_2024-12-19 ['bigfish_threshold', 'cell_properties', 'df_cellresults', 'df_clusterresults', 'df_spotresults', 'individual_spotdetection_thresholds', 'parameters', 'position_indexs']\n",
      "/Analysis_ER_Dec0324_DUSP1_2024-12-19 ['bigfish_threshold', 'cell_properties', 'df_cellresults', 'df_clusterresults', 'df_spotresults', 'individual_spotdetection_thresholds', 'parameters', 'position_indexs']\n"
     ]
    }
   ],
   "source": [
    "am.list_datasets()"
   ]
  },
  {
   "cell_type": "markdown",
   "metadata": {},
   "source": [
    "Does analysis/confirmation"
   ]
  },
  {
   "cell_type": "code",
   "execution_count": 6,
   "metadata": {},
   "outputs": [],
   "source": [
    "# select DUSP1 spot detection\n",
    "SD = SpotDetection_Confirmation(am)"
   ]
  },
  {
   "cell_type": "code",
   "execution_count": 7,
   "metadata": {},
   "outputs": [
    {
     "name": "stdout",
     "output_type": "stream",
     "text": [
      "missing datasets\n",
      "missing datasets\n",
      "missing datasets\n",
      "missing datasets\n",
      "missing datasets\n",
      "missing datasets\n",
      "missing datasets\n"
     ]
    }
   ],
   "source": [
    "# this loads the data into memory \n",
    "SD.get_data()"
   ]
  },
  {
   "cell_type": "code",
   "execution_count": 8,
   "metadata": {
    "notebookRunGroups": {
     "groupValue": "1"
    }
   },
   "outputs": [],
   "source": [
    "# This is a temporary fix, I didnt do this in the correct spot in the first run\n",
    "# this will be fixed in future runs\n",
    "for h5 in np.unique(SD.cellprops['h5_idx']):\n",
    "    SD.cellprops.loc[SD.cellprops['h5_idx'] == h5, 'fov'] = pd.Categorical(SD.cellprops.loc[SD.cellprops['h5_idx'] == h5, 'fov']).codes\n",
    "    SD.clusters.loc[SD.clusters['h5_idx'] == h5, 'fov'] = pd.Categorical(SD.clusters.loc[SD.clusters['h5_idx'] == h5, 'fov']).codes\n",
    "    SD.spots.loc[SD.spots['h5_idx'] == h5, 'fov'] = pd.Categorical(SD.spots.loc[SD.spots['h5_idx'] == h5, 'fov']).codes\n",
    "    SD.cellspots.loc[SD.cellspots['h5_idx'] == h5, 'fov'] = pd.Categorical(SD.cellspots.loc[SD.cellspots['h5_idx'] == h5, 'fov']).codes"
   ]
  },
  {
   "cell_type": "code",
   "execution_count": null,
   "metadata": {},
   "outputs": [],
   "source": [
    "# run this multiple times to see a new randomly selected cell\n",
    "SD.display(newFOV=True, newCell=True)"
   ]
  },
  {
   "cell_type": "code",
   "execution_count": null,
   "metadata": {},
   "outputs": [],
   "source": [
    "SD.spots"
   ]
  },
  {
   "cell_type": "code",
   "execution_count": null,
   "metadata": {},
   "outputs": [],
   "source": [
    "SD.clusters"
   ]
  },
  {
   "cell_type": "code",
   "execution_count": null,
   "metadata": {},
   "outputs": [],
   "source": [
    "SD.cellprops"
   ]
  },
  {
   "cell_type": "code",
   "execution_count": null,
   "metadata": {},
   "outputs": [],
   "source": [
    "SD.cellspots"
   ]
  },
  {
   "cell_type": "code",
   "execution_count": 14,
   "metadata": {},
   "outputs": [],
   "source": [
    "keys_to_plot = ['area', 'intensity_mean']\n",
    "channel_maps = {'-1': 'nuc', '-0': 'GR'}\n",
    "for k in SD.spots.keys():\n",
    "    if keys_to_plot in keys_to_plot:\n",
    "        # Plot histogram for 'area'\n",
    "        plt.figure(figsize=(10, 5))\n",
    "        plt.hist(SD.spots[k], bins=30, alpha=0.5, label='Area')\n",
    "        plt.ylabel('Frequency')\n",
    "        for suffix, channel in channel_maps.items():\n",
    "            if k.endswith(suffix):\n",
    "                k = k.replace(suffix, channel)\n",
    "                break\n",
    "        plt.title(f'Histogram of {k}')\n",
    "        plt.legend()\n",
    "        plt.show()"
   ]
  },
  {
   "cell_type": "code",
   "execution_count": 15,
   "metadata": {},
   "outputs": [],
   "source": [
    "# save_loc = r'some/local/location' \n",
    "# GR.save_data(save_loc) # This will save all the GR Data into one csv"
   ]
  },
  {
   "cell_type": "code",
   "execution_count": 16,
   "metadata": {},
   "outputs": [],
   "source": [
    "SD.close()"
   ]
  },
  {
   "cell_type": "code",
   "execution_count": 17,
   "metadata": {},
   "outputs": [],
   "source": [
    "am.close()"
   ]
  }
 ],
 "metadata": {
  "kernelspec": {
   "display_name": ".venv",
   "language": "python",
   "name": "python3"
  },
  "language_info": {
   "codemirror_mode": {
    "name": "ipython",
    "version": 3
   },
   "file_extension": ".py",
   "mimetype": "text/x-python",
   "name": "python",
   "nbconvert_exporter": "python",
   "pygments_lexer": "ipython3",
   "version": "3.12.5"
  }
 },
 "nbformat": 4,
 "nbformat_minor": 2
}
