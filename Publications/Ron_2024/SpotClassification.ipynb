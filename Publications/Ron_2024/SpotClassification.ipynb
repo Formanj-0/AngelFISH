{
 "cells": [
  {
   "cell_type": "markdown",
   "id": "8882958d",
   "metadata": {},
   "source": [
    "## DUSP1 smiFISH Classification Workflow\n",
    "\n",
    "This notebook processes experimental data from BigFish and CellProperties CSV files to classify DUSP1 smiFISH spots. Below is an outline of the workflow:\n",
    "\n",
    "### Input:\n",
    "- BigFish CSV files\n",
    "- CellProperties CSV files\n",
    "\n",
    "### Workflow Steps:\n",
    "1. **Merge Experimental Data**  \n",
    "    Combine data from the input CSV files for unified analysis.\n",
    "\n",
    "2. **Signal-to-Noise Ratio (SNR) Analysis**  \n",
    "    Perform SNR analysis to classify and filter spots based on signal quality.\n",
    "\n",
    "3. **Measurement Analysis**  \n",
    "    Conduct measurement analysis to extract relevant features from the data.\n",
    "\n",
    "4. **Data Merging**  \n",
    "    Merge all processed data into a single dataset for further analysis.\n",
    "\n",
    "5. **Create Training Spot Crops (11px x 11px)**  \n",
    "    Generate training data for machine learning models:\n",
    "    - Select 1000 spots from each `h5_idx`, ensuring variation across cells and fields of view (FOVs).\n",
    "    - Use the DUSP1 Display Manager to safely load spot channel images.\n",
    "    - Perform max projection of images along the z-axis to create 2D (x, y) representations.\n",
    "    - Extract 11px x 11px crops centered on each spot.\n",
    "    - Rescale intensity for visualization purposes.\n",
    "    - Display 100 sample spot crops for quality inspection before saving all crops to a directory."
   ]
  },
  {
   "cell_type": "code",
   "execution_count": 1,
   "id": "906c23d1",
   "metadata": {},
   "outputs": [
    {
     "name": "stdout",
     "output_type": "stream",
     "text": [
      "/Users/ericron/Desktop/AngelFISH\n"
     ]
    }
   ],
   "source": [
    "import h5py\n",
    "import numpy as np\n",
    "import matplotlib.pyplot as plt\n",
    "import pandas as pd\n",
    "import dask.array as da\n",
    "import os\n",
    "import sys\n",
    "import logging\n",
    "import seaborn as sns\n",
    "import datetime\n",
    "\n",
    "# Today's date\n",
    "today = datetime.date.today()\n",
    "# Format date as 'Mar21' (for example)\n",
    "date_str = today.strftime(\"%b%d\")\n",
    "\n",
    "logging.getLogger('matplotlib.font_manager').disabled = True\n",
    "numba_logger = logging.getLogger('numba')\n",
    "numba_logger.setLevel(logging.WARNING)\n",
    "\n",
    "matplotlib_logger = logging.getLogger('matplotlib')\n",
    "matplotlib_logger.setLevel(logging.WARNING)\n",
    "\n",
    "src_path = os.path.abspath(os.path.join(os.getcwd(), '..', '..'))\n",
    "print(src_path)\n",
    "sys.path.append(src_path)\n",
    "\n",
    "from src.Analysis_DUSP1_v2 import DUSP1AnalysisManager, SNRAnalysis, DUSP1Measurement, DUSP1DisplayManager, SpotCropSampler"
   ]
  },
  {
   "cell_type": "code",
   "execution_count": null,
   "id": "33388bce",
   "metadata": {},
   "outputs": [],
   "source": [
    "loc = None\n",
    "log_location = r'/Volumes/share/Users/Eric/GR_DUSP1_reruns'\n",
    "save_dir = r'/Volumes/share/Users/Eric/DUSP1_SpotCrops'\n",
    "\n",
    "# Define Thresholds\n",
    "abs_threshold = 4\n",
    "mg_threshold = 3"
   ]
  },
  {
   "cell_type": "markdown",
   "id": "5e2a88c7",
   "metadata": {},
   "source": [
    "    # DUSP1 Replica D 3hr 100nM time-sweep R1"
   ]
  },
  {
   "cell_type": "code",
   "execution_count": null,
   "id": "b4a84491",
   "metadata": {},
   "outputs": [],
   "source": [
    "am = DUSP1AnalysisManager(location=loc, log_location=log_location, mac=True) \n",
    "am.select_analysis('DUSP1_D_Final')\n",
    "\n",
    "spots_df = am.select_datasets(\"spotresults\", dtype=\"dataframe\")\n",
    "clusters_df = am.select_datasets(\"clusterresults\", dtype=\"dataframe\")\n",
    "props_df = am.select_datasets(\"cell_properties\", dtype=\"dataframe\")\n",
    "\n",
    "snr_df = SNRAnalysis(spots_df, props_df, clusters_df, abs_threshold=abs_threshold, mg_threshold=mg_threshold)\n",
    "\n",
    "merged_spots_df, merged_clusters_df, merged_cellprops_df = snr_df.get_results()\n",
    "\n",
    "# Create an instance of the DUSP1Measurement class.\n",
    "dusp = DUSP1Measurement(merged_spots_df, merged_clusters_df, merged_cellprops_df)\n",
    "\n",
    "# Process the data with a chosen threshold method\n",
    "cell_level_results = dusp.measure(abs_threshold=abs_threshold, mg_threshold=mg_threshold)\n",
    "\n",
    "# Add replica level unique IDs for 'unique_cell_id', 'unique_spot_id', and 'unique_cluster_id'\n",
    "# Get number of digits in the max unique_cell_id\n",
    "max_id = merged_cellprops_df['unique_cell_id'].max()\n",
    "num_digits = len(str(max_id))\n",
    "\n",
    "# Calculate multiplier to add a '1' followed by the right number of zeroes - prefix is specific for each experiment (e.g., repD:1, repE:2, etc.)\n",
    "rep_prefix = 10\n",
    "prefix = rep_prefix ** num_digits  # e.g., if max_id = 30245 → prefix = 100000\n",
    "\n",
    "# Apply prefix to all related DataFrames\n",
    "merged_spots_df['unique_cell_id'] += prefix\n",
    "merged_clusters_df['unique_cell_id'] += prefix\n",
    "merged_cellprops_df['unique_cell_id'] += prefix\n",
    "cell_level_results['unique_cell_id'] += prefix\n",
    "\n",
    "# Repeat for unique_spot_id and unique_cluster_id\n",
    "max_spot_id = merged_spots_df['unique_spot_id'].max()\n",
    "spot_prefix = rep_prefix ** len(str(max_spot_id))\n",
    "merged_spots_df['unique_spot_id'] += spot_prefix\n",
    "\n",
    "max_cluster_id = merged_clusters_df['unique_cluster_id'].max()\n",
    "cluster_prefix = rep_prefix ** len(str(max_cluster_id))\n",
    "merged_clusters_df['unique_cluster_id'] += cluster_prefix\n",
    "\n",
    "# Save all results to CSV\n",
    "rep_string = 'DUSP1_D_Final'\n",
    "output_dir = '/Users/ericron/Desktop/AngelFISH/Publications/Ron_2024/Classification'\n",
    "os.makedirs(output_dir, exist_ok=True)\n",
    "cell_level_results.to_csv(os.path.join(output_dir, f\"{rep_string}_cell_level_results_MG{mg_threshold}_Abs{abs_threshold}_{date_str}.csv\"), index=False)\n",
    "merged_spots_df.to_csv(os.path.join(output_dir, f\"{rep_string}_merged_spots_df_MG{mg_threshold}_Abs{abs_threshold}_{date_str}.csv\"), index=False)\n",
    "merged_clusters_df.to_csv(os.path.join(output_dir, f\"{rep_string}_merged_clusters_df_MG{mg_threshold}_Abs{abs_threshold}_{date_str}.csv\"), index=False)\n",
    "merged_cellprops_df.to_csv(os.path.join(output_dir, f\"{rep_string}_merged_cellprops_df_MG{mg_threshold}_Abs{abs_threshold}_{date_str}.csv\"), index=False)"
   ]
  },
  {
   "cell_type": "code",
   "execution_count": null,
   "id": "15f84758",
   "metadata": {},
   "outputs": [],
   "source": [
    "# load in the CSVs\n",
    "\n",
    "cell_level_results = pd.read_csv('/Users/ericron/Desktop/AngelFISH/Publications/Ron_2024/Classification/DUSP1_D_Final_cell_level_results_MG3_Abs4_Apr22.csv')\n",
    "merged_spots_df = pd.read_csv('/Users/ericron/Desktop/AngelFISH/Publications/Ron_2024/Classification/DUSP1_D_Final_merged_spots_df_MG3_Abs4_Apr22.csv')\n",
    "merged_clusters_df = pd.read_csv('/Users/ericron/Desktop/AngelFISH/Publications/Ron_2024/Classification/DUSP1_D_Final_merged_clusters_df_MG3_Abs4_Apr22.csv')\n",
    "merged_cellprops_df = pd.read_csv('/Users/ericron/Desktop/AngelFISH/Publications/Ron_2024/Classification/DUSP1_D_Final_merged_cellprops_df_MG3_Abs4_Apr22.csv')"
   ]
  },
  {
   "cell_type": "code",
   "execution_count": null,
   "id": "7e795913",
   "metadata": {},
   "outputs": [],
   "source": [
    "# instantiate sampler\n",
    "sampler = SpotCropSampler(\n",
    "    spots_df=merged_spots_df,\n",
    "    clusters_df=merged_clusters_df,\n",
    "    cellprops_df=merged_cellprops_df,\n",
    "    mount_prefix=\"/Volumes/share\"\n",
    ")\n",
    "\n",
    "# # — TEST RUN: only 3 displays, no files written —\n",
    "# crops, meta = sampler.run(\n",
    "#     save_dir=save_dir,\n",
    "#     display=3,\n",
    "#     save_individual=False,\n",
    "#     save_summary=False,\n",
    "#     pad=5,\n",
    "#     cells_per_quad=1,\n",
    "#     spots_per_cell=20,\n",
    "#     spotChannel=0\n",
    "# )\n",
    "\n",
    "# choose a prefix for this experiment\n",
    "prefix = \"DUSP1_D_Final_MG3_Abs4\"\n",
    "\n",
    "# full run, no per-spot files, but summary files with prefix\n",
    "crops, meta = sampler.run(\n",
    "    save_dir=save_dir,\n",
    "    display=0,\n",
    "    save_individual=False,\n",
    "    save_summary=True,\n",
    "    file_prefix=prefix,\n",
    "    pad=3,\n",
    "    cells_per_quad=1,\n",
    "    spots_per_cell=20,\n",
    "    spotChannel=0\n",
    ")"
   ]
  },
  {
   "cell_type": "code",
   "execution_count": null,
   "id": "245e219b",
   "metadata": {},
   "outputs": [
    {
     "data": {
      "image/png": "[encoded data removed]",
      "text/plain": [
       "<Figure size 2250x450 with 5 Axes>"
      ]
     },
     "metadata": {},
     "output_type": "display_data"
    }
   ],
   "source": [
    "# Directory where you saved the summary files\n",
    "save_dir = \"/Volumes/share/Users/Eric/DUSP1_SpotCrops\"\n",
    "\n",
    "# 1) Load the data\n",
    "crops = np.load(os.path.join(save_dir, f\"{prefix}_all_crops.npy\"))  # shape: (N, 7, 7)\n",
    "meta  = pd.read_csv(os.path.join(save_dir, f\"{prefix}_all_crop_metadata.csv\"))\n",
    "\n",
    "# 2) Choose a few random examples (up to 5)\n",
    "num_examples = min(5, len(crops))\n",
    "indices = np.random.choice(len(crops), size=num_examples, replace=False)\n",
    "\n",
    "# 3) Display them\n",
    "fig, axes = plt.subplots(1, num_examples, figsize=(num_examples * 3, 3))\n",
    "for ax, idx in zip(axes, indices):\n",
    "    patch = crops[idx]\n",
    "    info  = meta.iloc[idx]\n",
    "    \n",
    "    ax.imshow(patch, cmap='gray')\n",
    "    ax.set_title(\n",
    "        f\"Cell {info.unique_cell_id}\\n\"\n",
    "        f\"Spot {info.unique_spot_id}\\n\"\n",
    "        f\"MG_SNR={info.MG_SNR:.1f}, SNR={info.snr:.1f}\\n\"\n",
    "        f\"MG_pass={info.MG_pass}\"\n",
    "    )\n",
    "    ax.axis('off')\n",
    "\n",
    "plt.tight_layout()\n",
    "plt.show()"
   ]
  },
  {
   "cell_type": "code",
   "execution_count": 5,
   "id": "db8cea89",
   "metadata": {},
   "outputs": [
    {
     "data": {
      "text/plain": [
       "array([ 0,  1,  2,  3,  4,  5,  6,  7,  8,  9, 10, 11])"
      ]
     },
     "execution_count": 5,
     "metadata": {},
     "output_type": "execute_result"
    }
   ],
   "source": [
    "meta['h5_idx'].unique()"
   ]
  },
  {
   "cell_type": "markdown",
   "id": "08f8e5d6",
   "metadata": {},
   "source": [
    "    # DUSP1 Replica E 3hr 100nM time-sweep R2"
   ]
  },
  {
   "cell_type": "code",
   "execution_count": null,
   "id": "91985ef5",
   "metadata": {},
   "outputs": [],
   "source": []
  },
  {
   "cell_type": "markdown",
   "id": "3eb75311",
   "metadata": {},
   "source": [
    "    # DUSP1 Replica F 3hr 100nM time-sweep R3"
   ]
  },
  {
   "cell_type": "code",
   "execution_count": null,
   "id": "ab04089f",
   "metadata": {},
   "outputs": [],
   "source": []
  },
  {
   "cell_type": "markdown",
   "id": "8234fd1e",
   "metadata": {},
   "source": [
    "    # DUSP1 Replica M 3hr 100nM time-sweep Partial"
   ]
  },
  {
   "cell_type": "code",
   "execution_count": null,
   "id": "536a6907",
   "metadata": {},
   "outputs": [],
   "source": []
  },
  {
   "cell_type": "markdown",
   "id": "dcafe0e9",
   "metadata": {},
   "source": [
    "    # DUSP1 Replica N 3hr 100nM time-sweep Partial"
   ]
  }
 ],
 "metadata": {
  "kernelspec": {
   "display_name": ".venv",
   "language": "python",
   "name": "python3"
  },
  "language_info": {
   "codemirror_mode": {
    "name": "ipython",
    "version": 3
   },
   "file_extension": ".py",
   "mimetype": "text/x-python",
   "name": "python",
   "nbconvert_exporter": "python",
   "pygments_lexer": "ipython3",
   "version": "3.11.8"
  }
 },
 "nbformat": 4,
 "nbformat_minor": 5
}
