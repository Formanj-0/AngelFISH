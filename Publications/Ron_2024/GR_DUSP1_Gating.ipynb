{
 "cells": [
  {
   "cell_type": "markdown",
   "metadata": {},
   "source": [
    "##  GR DUSP1 Gating Notebook\n",
    "\n",
    "The Purpose of this notebook is:\n",
    "1) Load in all analyisis for final dataframe preparation \n",
    "2) Filter DUSP1 data to remove partial cells and low SNR spots\n",
    "3) Filter GR data to remove partial cells\n",
    "4) Estimate GR cytoplasmic area from DUPS1 data\n",
    "5) GR intensity to molecular counts \n",
    "6) Concatonate final GR and DUSP1 dataframes"
   ]
  },
  {
   "cell_type": "code",
   "execution_count": 1,
   "metadata": {},
   "outputs": [
    {
     "name": "stdout",
     "output_type": "stream",
     "text": [
      "/Users/ericron/Desktop/AngelFISH\n"
     ]
    }
   ],
   "source": [
    "import h5py\n",
    "import numpy as np\n",
    "import matplotlib.pyplot as plt\n",
    "import pandas as pd\n",
    "import dask.array as da\n",
    "import os\n",
    "import sys\n",
    "import logging\n",
    "import seaborn as sns\n",
    "\n",
    "logging.getLogger('matplotlib.font_manager').disabled = True\n",
    "numba_logger = logging.getLogger('numba')\n",
    "numba_logger.setLevel(logging.WARNING)\n",
    "\n",
    "matplotlib_logger = logging.getLogger('matplotlib')\n",
    "matplotlib_logger.setLevel(logging.WARNING)\n",
    "\n",
    "src_path = os.path.abspath(os.path.join(os.getcwd(), '..', '..'))\n",
    "print(src_path)\n",
    "sys.path.append(src_path)\n",
    "\n",
    "from src.Analysis import AnalysisManager, Analysis, SpotDetection_SNRConfirmation, Spot_Cluster_Analysis_WeightedSNR, GR_Confirmation"
   ]
  },
  {
   "cell_type": "code",
   "execution_count": null,
   "metadata": {},
   "outputs": [],
   "source": [
    "loc = None \n",
    "log_location = r'/Volumes/share/Users/Eric/GR_DUSP1_2025'  # r'/Volumes/share/Users/Jack/All_Analysis' "
   ]
  },
  {
   "cell_type": "code",
   "execution_count": null,
   "metadata": {},
   "outputs": [],
   "source": [
    "# Measure function to create final DUSP1 dataframe for SSIT\n",
    "# Function to get the second largest value or default to 0\n",
    "def second_largest(series):\n",
    "    unique_vals = series.dropna().unique()  # Remove NaN and get unique values\n",
    "    if len(unique_vals) < 2:\n",
    "        return 0  # Return 0 if there's no second-largest value\n",
    "    return np.sort(unique_vals)[-2]  # Return the second-largest value\n",
    "\n",
    "def filter_DUSP1(name, is_tpl = False):\n",
    "    # Initiate the class and find analysis at log_location\n",
    "    am = AnalysisManager(location=loc, log_location=log_location, mac=True)\n",
    "    # Select the dataset - DUSP1 100nM Dex 3hr Time-sweep Replica 2\n",
    "    am.select_analysis(name)\n",
    "    # Initiate the Weighted SNR analysis class\n",
    "    SD = Spot_Cluster_Analysis_WeightedSNR(am)\n",
    "    # Load the data\n",
    "    SD.get_data()\n",
    "    # Assign revise weighted threshold\n",
    "    SD.assign_revised_weighted_threshold()\n",
    "    # Create unique cell id for every cell\n",
    "    SD.cellprops['unique_cell_id'] = np.arange(len(SD.cellprops))\n",
    "    # Remove partial cells from dataset\n",
    "    SD.cellprops = SD.cellprops[SD.cellprops['touching_border'] == 0]\n",
    "    # Remove spots that are less than the weighted snr threshold\n",
    "    SD.spots = SD.spots[SD.spots['keep_wsnr']]\n",
    "    # Merge the spots and clusters dataframes by the unique cell ID\n",
    "    SD.spots = SD.spots.merge(SD.cellprops[['NAS_location', 'cell_label', 'fov', 'unique_cell_id']], \n",
    "                                on=['NAS_location', 'cell_label', 'fov'], \n",
    "                                how='left')\n",
    "    SD.clusters = SD.clusters.merge(SD.cellprops[['NAS_location', 'cell_label', 'fov', 'unique_cell_id']], \n",
    "                                on=['NAS_location', 'cell_label', 'fov'], \n",
    "                                how='left')\n",
    "    \n",
    "    SD.display_gating()\n",
    "    \n",
    "    am.close()\n",
    "    # Use measure_DUSP1 to create SSIT compatible dataframe\n",
    "    if not is_tpl:\n",
    "        return measure_DUSP1(SD.spots, SD.clusters, SD.cellprops)\n",
    "    else:\n",
    "        return measure_DUSP1_TPL(SD.spots, SD.clusters, SD.cellprops)\n",
    "\n",
    "def filter_GR(name):\n",
    "    # Initiate the class and find analysis at log_location\n",
    "    am = AnalysisManager(location=loc, log_location=log_location, mac=True)\n",
    "    # Select the dataset\n",
    "    am.select_analysis(name)\n",
    "    # select GR conformation analysis \n",
    "    GR = GR_Confirmation(am)\n",
    "    # Load the data\n",
    "    GR.get_data()\n",
    "    # Create unique cell id for every cell\n",
    "    GR.cellprops['unique_cell_id'] = np.arange(len(GR.cellprops))\n",
    "    # Remove partial cells from dataset\n",
    "    GR.cellprops = GR.cellprops[GR.cellprops['touching_border'] == 0]\n",
    "    am.close()\n",
    "    # Use measure_GR to create SSIT compatible dataframe\n",
    "    return measure_GR(GR.cellprops)\n",
    "\n",
    "def measure_DUSP1(spots, clusters, props) -> pd.DataFrame:\n",
    "    results = pd.DataFrame(columns=['cell_id', 'num_ts', 'num_spots_ts', 'largest_ts', 'second_largest_ts', 'num_foci', 'num_spots_foci', 'num_spots', 'num_nuc_spots', 'num_cyto_spots', \n",
    "                                    'nuc_area_px', 'cyto_area_px', 'avg_nuc_int', 'avg_cyto_int', 'time', 'Dex_conc', 'replica'])\n",
    "    \n",
    "    # Sort spots, clusters, and props by unique_cell_id\n",
    "    spots = spots.sort_values(by='unique_cell_id')\n",
    "    clusters = clusters.sort_values(by='unique_cell_id')\n",
    "    props = props.sort_values(by='unique_cell_id')\n",
    "\n",
    "    # unique cell id\n",
    "    cell_ids = props['unique_cell_id']\n",
    "\n",
    "    # num of ts\n",
    "    num_ts = clusters[clusters['is_nuc'] == 1].groupby('unique_cell_id').size().reindex(cell_ids, fill_value=0)\n",
    "\n",
    "    # num of foci\n",
    "    num_foci = clusters[clusters['is_nuc'] == 0].groupby('unique_cell_id').size().reindex(cell_ids, fill_value=0)\n",
    "\n",
    "    # num of ts spots\n",
    "    num_spots_ts = clusters[clusters['is_nuc'] == 1].groupby('unique_cell_id')['nb_spots'].sum().reindex(cell_ids, fill_value=0)\n",
    "\n",
    "    # largest TS size\n",
    "    largest_ts = clusters[clusters['is_nuc'] == 1].groupby('unique_cell_id')['nb_spots'].max().reindex(cell_ids, fill_value=0)\n",
    "\n",
    "    # Compute second-largest TS size per cell\n",
    "    second_largest_ts = (clusters[clusters['is_nuc'] == 1].groupby('unique_cell_id')['nb_spots'].apply(second_largest).reindex(cell_ids, fill_value=0))    \n",
    "\n",
    "    # num of foci spots\n",
    "    num_spots_foci = clusters[clusters['is_nuc'] == 0].groupby('unique_cell_id')['nb_spots'].sum().reindex(cell_ids, fill_value=0)\n",
    "\n",
    "    # num of spots\n",
    "    num_spots = spots.groupby('unique_cell_id').size().reindex(cell_ids, fill_value=0)\n",
    "\n",
    "    # num of spot in nuc\n",
    "    num_nuc_spots = spots[spots['is_nuc'] == 1].groupby('unique_cell_id').size().reindex(cell_ids, fill_value=0)\n",
    "\n",
    "    # num of spot in cyto \n",
    "    num_cyto_spots = spots[spots['is_nuc'] == 0].groupby('unique_cell_id').size().reindex(cell_ids, fill_value=0)\n",
    "\n",
    "    # nuc area\n",
    "    nuc_area = props['nuc_area']\n",
    "\n",
    "    # cyto area\n",
    "    cyto_area = props['cyto_area']\n",
    "\n",
    "    # avg int nuc\n",
    "    avg_nuc_int = props['nuc_intensity_mean-0']\n",
    "    \n",
    "    # avg int cyto\n",
    "    avg_cyto_int = props['cyto_intensity_mean-0']\n",
    "\n",
    "    # time (experiment)\n",
    "    time = props['time'] \n",
    "\n",
    "    # Dex conc\n",
    "    dex_conc = props['Dex_Conc']\n",
    "\n",
    "    # Replica\n",
    "    replica = spots.groupby('unique_cell_id')['replica'].first().reindex(cell_ids, fill_value=np.nan)\n",
    "\n",
    "    results['cell_id'] = cell_ids\n",
    "    results['num_ts'] = num_ts.values\n",
    "    results['largest_ts'] = largest_ts.values\n",
    "    results['second_largest_ts'] = second_largest_ts.values\n",
    "    results['num_foci'] = num_foci.values\n",
    "    results['num_spots_ts'] = num_spots_ts.values\n",
    "    results['num_spots_foci'] = num_spots_foci.values\n",
    "    results['num_spots'] = num_spots.values\n",
    "    results['num_nuc_spots'] = num_nuc_spots.values\n",
    "    results['num_cyto_spots'] = num_cyto_spots.values\n",
    "    results['nuc_area_px'] = nuc_area.values\n",
    "    results['cyto_area_px'] = cyto_area.values\n",
    "    results['avg_nuc_int'] = avg_nuc_int.values\n",
    "    results['avg_cyto_int'] = avg_cyto_int.values\n",
    "    results['time'] = time.values\n",
    "    results['Dex_conc'] = dex_conc.values\n",
    "    results['replica'] = replica.values\n",
    "\n",
    "    return results\n",
    "\n",
    "def measure_DUSP1_TPL(spots, clusters, props) -> pd.DataFrame:\n",
    "    results = pd.DataFrame(columns=['cell_id', 'num_ts', 'num_spots_ts', 'largest_ts', 'second_largest_ts', 'num_foci', 'num_spots_foci', 'num_spots', 'num_nuc_spots', 'num_cyto_spots', \n",
    "                                    'nuc_area_px', 'cyto_area_px', 'avg_nuc_int', 'avg_cyto_int', 'time', 'time_tpl' 'Dex_conc', 'replica',\n",
    "                                    'tryptCond1', 'tryptCond2', 'tryptCond3', 'tryptCond4', 'tryptCond5'])\n",
    "    \n",
    "    # Sort spots, clusters, and props by unique_cell_id\n",
    "    spots = spots.sort_values(by='unique_cell_id')\n",
    "    clusters = clusters.sort_values(by='unique_cell_id')\n",
    "    props = props.sort_values(by='unique_cell_id')\n",
    "\n",
    "    # unique cell id\n",
    "    cell_ids = props['unique_cell_id']\n",
    "\n",
    "    # num of ts\n",
    "    num_ts = clusters[clusters['is_nuc'] == 1].groupby('unique_cell_id').size().reindex(cell_ids, fill_value=0)\n",
    "\n",
    "    # num of foci\n",
    "    num_foci = clusters[clusters['is_nuc'] == 0].groupby('unique_cell_id').size().reindex(cell_ids, fill_value=0)\n",
    "\n",
    "    # num of ts spots\n",
    "    num_spots_ts = clusters[clusters['is_nuc'] == 1].groupby('unique_cell_id')['nb_spots'].sum().reindex(cell_ids, fill_value=0)\n",
    "\n",
    "    # largest TS size\n",
    "    largest_ts = clusters[clusters['is_nuc'] == 1].groupby('unique_cell_id')['nb_spots'].max().reindex(cell_ids, fill_value=0)\n",
    "\n",
    "    # Compute second-largest TS size per cell\n",
    "    second_largest_ts = (clusters[clusters['is_nuc'] == 1].groupby('unique_cell_id')['nb_spots'].apply(second_largest).reindex(cell_ids, fill_value=0))    \n",
    "\n",
    "    # num of foci spots\n",
    "    num_spots_foci = clusters[clusters['is_nuc'] == 0].groupby('unique_cell_id')['nb_spots'].sum().reindex(cell_ids, fill_value=0)\n",
    "\n",
    "    # num of spots\n",
    "    num_spots = spots.groupby('unique_cell_id').size().reindex(cell_ids, fill_value=0)\n",
    "\n",
    "    # num of spot in nuc\n",
    "    num_nuc_spots = spots[spots['is_nuc'] == 1].groupby('unique_cell_id').size().reindex(cell_ids, fill_value=0)\n",
    "\n",
    "    # num of spot in cyto \n",
    "    num_cyto_spots = spots[spots['is_nuc'] == 0].groupby('unique_cell_id').size().reindex(cell_ids, fill_value=0)\n",
    "\n",
    "    # nuc area\n",
    "    nuc_area = props['nuc_area']\n",
    "\n",
    "    # cyto area\n",
    "    cyto_area = props['cyto_area']\n",
    "\n",
    "    # avg int nuc\n",
    "    avg_nuc_int = props['nuc_intensity_mean-0']\n",
    "    \n",
    "    # avg int cyto\n",
    "    avg_cyto_int = props['cyto_intensity_mean-0']\n",
    "\n",
    "    # time of Dex(experiment)\n",
    "    time = props['time'] \n",
    "\n",
    "    # time of tpl\n",
    "    time_tpl = props['time_tpl']\n",
    "\n",
    "    # Dex conc\n",
    "    dex_conc = props['Dex_Conc']\n",
    "\n",
    "    # Replica\n",
    "    replica = spots.groupby('unique_cell_id')['replica'].first().reindex(cell_ids, fill_value=np.nan)\n",
    "\n",
    "    # Extract unique TPL times\n",
    "    trptTimes = np.sort(props['time_tpl'].dropna().unique())\n",
    "    \n",
    "    # Initialize tryptCond columns\n",
    "    for k, t_TPL in enumerate(trptTimes, start=1):\n",
    "        JJ = (\n",
    "            ((dex_conc == 100) | (time == 0)) &\n",
    "            ((time == 0) | ((time <= t_TPL) & time_tpl.isna()) | ((time >= t_TPL) & (time_tpl == t_TPL)))\n",
    "        )\n",
    "        results[f'tryptCond{k}'] = JJ.astype(int) * k\n",
    "    \n",
    "    # Populate DataFrame\n",
    "    results['cell_id'] = cell_ids\n",
    "    results['num_ts'] = num_ts.values\n",
    "    results['largest_ts'] = largest_ts.values\n",
    "    results['second_largest_ts'] = second_largest_ts.values\n",
    "    results['num_foci'] = num_foci.values\n",
    "    results['num_spots_ts'] = num_spots_ts.values\n",
    "    results['num_spots_foci'] = num_spots_foci.values\n",
    "    results['num_spots'] = num_spots.values\n",
    "    results['num_nuc_spots'] = num_nuc_spots.values\n",
    "    results['num_cyto_spots'] = num_cyto_spots.values\n",
    "    results['nuc_area_px'] = nuc_area.values\n",
    "    results['cyto_area_px'] = cyto_area.values\n",
    "    results['avg_nuc_int'] = avg_nuc_int.values\n",
    "    results['avg_cyto_int'] = avg_cyto_int.values\n",
    "    results['time'] = time.values\n",
    "    results['time_tpl'] = time_tpl.values\n",
    "    results['Dex_conc'] = dex_conc.values\n",
    "    results['replica'] = replica.values\n",
    "\n",
    "    return results\n",
    "\n",
    "# Measure function for GR pre-SSIT dataframe \n",
    "def measure_GR(cellprops) -> pd.DataFrame:\n",
    "    results = pd.DataFrame(columns=['cell_id', 'nuc_area', 'nucGRint', 'cytoGRint', 'time', 'Dex_conc', 'replica'])\n",
    "    \n",
    "    # Sort cellprops by unique_cell_id\n",
    "    props = cellprops.sort_values(by='unique_cell_id')\n",
    "\n",
    "    # unique cell id\n",
    "    cell_ids = props['unique_cell_id']\n",
    "\n",
    "    # nuc area\n",
    "    nuc_area = props['nuc_area']\n",
    "\n",
    "    # avg int nuc\n",
    "    nucGRint = props['nuc_intensity_mean-0']\n",
    "    \n",
    "    # avg int pseudocyto mask\n",
    "    cytoGRint = props['cyto_intensity_mean-0']\n",
    "\n",
    "    # time (experiment)\n",
    "    time = props['time'] \n",
    "\n",
    "    # Dex conc\n",
    "    dex_conc = props['Dex_Conc']\n",
    "\n",
    "    # Replica\n",
    "    replica = props['replica']\n",
    "\n",
    "    results['cell_id'] = cell_ids\n",
    "    results['nuc_area'] = nuc_area.values\n",
    "    results['nucGRint'] = nucGRint.values\n",
    "    results['cytoGRint'] = cytoGRint.values\n",
    "    results['time'] = time.values\n",
    "    results['Dex_conc'] = dex_conc.values\n",
    "    results['replica'] = replica.values\n",
    "\n",
    "    return results    "
   ]
  },
  {
   "cell_type": "markdown",
   "metadata": {},
   "source": [
    "# Use the log file to search for analyses"
   ]
  },
  {
   "cell_type": "code",
   "execution_count": null,
   "metadata": {},
   "outputs": [],
   "source": [
    "am = AnalysisManager(location=loc, log_location=log_location, mac=True) "
   ]
  },
  {
   "cell_type": "code",
   "execution_count": 4,
   "metadata": {},
   "outputs": [
    {
     "name": "stdout",
     "output_type": "stream",
     "text": [
      "Analysis_DUSP1_K_ERonReRun_2025-02-08\n",
      "Analysis_DUSP1_P_ERonReRun_2025-02-08\n",
      "Analysis_DUSP1_L_JacksRunAll_2025-02-06\n",
      "Analysis_DUSP1_I_JacksRunAll_2025-02-06\n",
      "Analysis_DUSP1_G_ERonReRun_2025-02-08\n",
      "Analysis_DUSP1_N_JacksRunAll_2025-02-06\n",
      "Analysis_GR_IC_C_ER020725_2025-02-08\n",
      "Analysis_DUSP1_O_TPL_2025-02-05\n",
      "Analysis_DUSP1_M_ERonRunAll_2025-02-06\n",
      "Analysis_DUSP1_F_ERonReRun_2025-02-08\n",
      "Analysis_DUSP1_I_Jan2725_2025-01-27\n",
      "Analysis_DUSP1_G_JacksRunAll_2025-02-06\n",
      "Analysis_DUSP1_D_JacksRunAll_2025-02-05\n",
      "Analysis_DUSP1_FinalData_013125_2025-02-02\n",
      "Analysis_DUSP1_O_JacksRunAll_2025-02-06\n",
      "Analysis_DUSP1_H_ERonRunAll_2025-02-06\n",
      "Analysis_GR_IC_A_ER020725_2025-02-07\n",
      "Analysis_DUSP1_F_JacksRunAll_2025-02-06\n",
      "Analysis_DUSP1_K_JacksRunAll_2025-02-06\n",
      "Analysis_GR_IC_B_ReRun021025_2025-02-10\n",
      "Analysis_DUSP1_E_ERonRunAll_2025-02-06\n",
      "Analysis_DUSP1_FinalData_013125_2025-02-01\n",
      "Analysis_DUSP1_J_ERonRunAll_2025-02-06\n",
      "Analysis_DUSP1_P_TPL_2025-02-05\n"
     ]
    }
   ],
   "source": [
    "# list all analysis done \n",
    "all_analysis_names = am.list_analysis_names()"
   ]
  },
  {
   "cell_type": "markdown",
   "metadata": {},
   "source": [
    "# DUSP1 Experiment Analysis List\n",
    "\n",
    "### DUSP1 100nM Dex 3hr Time-sweep\n",
    "- Replica D: `Analysis_DUSP1_D_JacksRunAll_2025-02-05`\n",
    "- Replica E: `Analysis_DUSP1_E_ERonRunAll_2025-02-06`\n",
    "- Replica F: `Analysis_DUSP1_F_ERonReRun_2025-02-08`\n",
    "- Replica M: `Analysis_DUSP1_M_ERonRunAll_2025-02-06`\n",
    "- Replica N: `Analysis_DUSP1_N_JacksRunAll_2025-02-06`\n",
    "\n",
    "### DUSP1 75min Concentration-sweep\n",
    "- Replica G: `Analysis_DUSP1_G_ERonReRun_2025-02-08`\n",
    "- Replica H: `Analysis_DUSP1_H_ERonRunAll_2025-02-06`\n",
    "- Replica I: `Analysis_DUSP1_I_JacksRunAll_2025-02-06`\n",
    "\n",
    "### DUSP1 0.3, 1, 10nM Dex 3hr Time-sweep\n",
    "- Replica J: `Analysis_DUSP1_J_ERonRunAll_2025-02-06`\n",
    "- Replica K: `Analysis_DUSP1_K_ERonReRun_2025-02-08`\n",
    "- Replica L: `Analysis_DUSP1_L_JacksRunAll_2025-02-06`\n",
    "\n",
    "### DUSP1 TPL\n",
    "- Replica O `Analysis_DUSP1_O_JacksRunAll_2025-02-06`\n",
    "- Replica P `Analysis_DUSP1_P_ERonReRun_2025-02-08`\n",
    "\n",
    "# GR Experiment Analyis List\n",
    "\n",
    "### GR 1, 10, 100nM Dex 3hr Time-Sweep\n",
    "- Replica A: `Analysis_GR_IC_A_ER020725_2025-02-07`\n",
    "- Replica B: `Analysis_GR_IC_B_ReRun021025_2025-02-10`\n",
    "- Replica C: `Analysis_GR_IC_C_ER020725_2025-02-08`"
   ]
  },
  {
   "cell_type": "markdown",
   "metadata": {},
   "source": [
    "## Example workflow"
   ]
  },
  {
   "cell_type": "code",
   "execution_count": 5,
   "metadata": {},
   "outputs": [
    {
     "name": "stdout",
     "output_type": "stream",
     "text": [
      "locations with this dataset: ['/Volumes/share/smFISH_images/Eric_smFISH_images/20220304/DUSP1_Dex_75min_20220224.h5', '/Volumes/share/smFISH_images/Eric_smFISH_images/20220225/DUSP1_Dex_0min_20220224.h5', '/Volumes/share/smFISH_images/Eric_smFISH_images/20220305/DUSP1_Dex_120min_20220224.h5', '/Volumes/share/smFISH_images/Eric_smFISH_images/20220305/DUSP1_Dex_90min_20220224.h5', '/Volumes/share/smFISH_images/Eric_smFISH_images/20220305/DUSP1_Dex_150min_20220224.h5', '/Volumes/share/smFISH_images/Eric_smFISH_images/20220304/DUSP1_Dex_60min_20220224.h5', '/Volumes/share/smFISH_images/Eric_smFISH_images/20220303/DUSP1_Dex_40min_20220224.h5', '/Volumes/share/smFISH_images/Eric_smFISH_images/20220305/DUSP1_Dex_180min_20220224.h5', '/Volumes/share/smFISH_images/Eric_smFISH_images/20220303/DUSP1_Dex_50min_20220224.h5', '/Volumes/share/smFISH_images/Eric_smFISH_images/20220225/DUSP1_Dex_30min_20220224.h5', '/Volumes/share/smFISH_images/Eric_smFISH_images/20220225/DUSP1_Dex_20min_20220224.h5', '/Volumes/share/smFISH_images/Eric_smFISH_images/20220225/DUSP1_Dex_10min_20220224.h5']\n"
     ]
    }
   ],
   "source": [
    "# Initiate the class and find analysis at log_location\n",
    "# Select the specific analysis - ex. DUSP1 100nM Dex 3hr Time-sweep Replica 1\n",
    "am.select_analysis('DUSP1_D_JacksRunAll')\n",
    "print('locations with this dataset:', am.location)"
   ]
  },
  {
   "cell_type": "code",
   "execution_count": 6,
   "metadata": {},
   "outputs": [
    {
     "data": {
      "text/plain": [
       "np.float64(2.823703393278696)"
      ]
     },
     "execution_count": 6,
     "metadata": {},
     "output_type": "execute_result"
    }
   ],
   "source": [
    "# Initiate the Weighted SNR analysis class\n",
    "SD = Spot_Cluster_Analysis_WeightedSNR(am)\n",
    "# Load the data\n",
    "SD.get_data()\n",
    "# Assign revise weighted threshold\n",
    "SD.assign_revised_weighted_threshold()"
   ]
  },
  {
   "cell_type": "markdown",
   "metadata": {},
   "source": [
    "## Filter DUPS1 data to remove partial cells and low SNR spots"
   ]
  },
  {
   "cell_type": "code",
   "execution_count": 7,
   "metadata": {},
   "outputs": [],
   "source": [
    "# Create unique cell id for every cell\n",
    "SD.cellprops['unique_cell_id'] = np.arange(len(SD.cellprops))\n",
    "\n",
    "# Remove partial cells from dataset\n",
    "SD.cellprops = SD.cellprops[SD.cellprops['touching_border'] == 0]\n",
    "\n",
    "# Remove spots that are less than the weighted snr threshold\n",
    "SD.spots = SD.spots[SD.spots['keep_wsnr']]\n",
    "\n",
    "# Merge the spots and clusters dataframes by the unique cell ID\n",
    "SD.spots = SD.spots.merge(SD.cellprops[['NAS_location', 'cell_label', 'fov', 'unique_cell_id']], \n",
    "                            on=['NAS_location', 'cell_label', 'fov'], \n",
    "                            how='left')\n",
    "SD.clusters = SD.clusters.merge(SD.cellprops[['NAS_location', 'cell_label', 'fov', 'unique_cell_id']], \n",
    "                            on=['NAS_location', 'cell_label', 'fov'], \n",
    "                            how='left')"
   ]
  },
  {
   "cell_type": "code",
   "execution_count": 8,
   "metadata": {},
   "outputs": [],
   "source": [
    "# Use measure_DUSP1 to create SSIT compatible dataframe\n",
    "DUSP1_RepD = measure_DUSP1(SD.spots, SD.clusters, SD.cellprops)\n",
    "am.close()"
   ]
  },
  {
   "cell_type": "markdown",
   "metadata": {},
   "source": [
    "    DUSP1 100nM Dex 3hr Time-sweep Replica 2"
   ]
  },
  {
   "cell_type": "code",
   "execution_count": null,
   "metadata": {},
   "outputs": [],
   "source": [
    "DUSP1_RepE = filter_DUSP1('DUSP1_E_ERonRunAll')"
   ]
  },
  {
   "cell_type": "markdown",
   "metadata": {},
   "source": [
    "    DUSP1 100nM Dex 3hr Time-sweep Replica 3"
   ]
  },
  {
   "cell_type": "code",
   "execution_count": null,
   "metadata": {},
   "outputs": [],
   "source": [
    "DUSP1_RepF = filter_DUSP1('DUSP1_F_ERonReRun')                        "
   ]
  },
  {
   "cell_type": "markdown",
   "metadata": {},
   "source": [
    "    DUSP1 100nM Dex 3hr Time-sweep Replica 4 (partial)"
   ]
  },
  {
   "cell_type": "code",
   "execution_count": null,
   "metadata": {},
   "outputs": [],
   "source": [
    "DUSP1_RepM = filter_DUSP1('DUSP1_M_ERonRunAll')                        "
   ]
  },
  {
   "cell_type": "markdown",
   "metadata": {},
   "source": [
    "    DUSP1 100nM Dex 3hr Time-sweep Replica 5 (partial)"
   ]
  },
  {
   "cell_type": "code",
   "execution_count": null,
   "metadata": {},
   "outputs": [],
   "source": [
    "DUSP1_RepN = filter_DUSP1('DUSP1_N_JacksRunAll')"
   ]
  },
  {
   "cell_type": "markdown",
   "metadata": {},
   "source": [
    "    DUSP1 75min Concentration-sweep Replica 1"
   ]
  },
  {
   "cell_type": "code",
   "execution_count": null,
   "metadata": {},
   "outputs": [],
   "source": [
    "DUSP1_RepG = filter_DUSP1('DUSP1_G_ERonReRun')                        "
   ]
  },
  {
   "cell_type": "markdown",
   "metadata": {},
   "source": [
    "    DUSP1 75min Concentration-sweep Replica 2"
   ]
  },
  {
   "cell_type": "code",
   "execution_count": null,
   "metadata": {},
   "outputs": [],
   "source": [
    "DUSP1_RepH = filter_DUSP1('DUSP1_H_ERonRunAll')                         "
   ]
  },
  {
   "cell_type": "markdown",
   "metadata": {},
   "source": [
    "    DUSP1 75min Concentration-sweep Replica 3"
   ]
  },
  {
   "cell_type": "code",
   "execution_count": null,
   "metadata": {},
   "outputs": [],
   "source": [
    "DUSP1_RepI = filter_DUSP1('DUSP1_I_JacksRunAll')"
   ]
  },
  {
   "cell_type": "markdown",
   "metadata": {},
   "source": [
    "    DUSP1 0.3, 1, 10nM Dex 3hr Time-sweep Replica 1"
   ]
  },
  {
   "cell_type": "code",
   "execution_count": null,
   "metadata": {},
   "outputs": [],
   "source": [
    "DUSP1_RepJ = filter_DUSP1('DUSP1_J_ERonRunAll')\n"
   ]
  },
  {
   "cell_type": "markdown",
   "metadata": {},
   "source": [
    "    DUSP1 0.3, 1, 10nM Dex 3hr Time-sweep Replica 2"
   ]
  },
  {
   "cell_type": "code",
   "execution_count": null,
   "metadata": {},
   "outputs": [],
   "source": [
    "DUSP1_RepK = filter_DUSP1('DUSP1_K_ERonReRun')"
   ]
  },
  {
   "cell_type": "markdown",
   "metadata": {},
   "source": [
    "    DUSP1 0.3, 1, 10nM Dex 3hr Time-sweep Replica 3"
   ]
  },
  {
   "cell_type": "code",
   "execution_count": null,
   "metadata": {},
   "outputs": [],
   "source": [
    "DUSP1_RepL = filter_DUSP1('DUSP1_L_JacksRunAll')"
   ]
  },
  {
   "cell_type": "markdown",
   "metadata": {},
   "source": [
    "    DUSP1 100nM Dex & 5µM TPL Time-sweep Replica 1"
   ]
  },
  {
   "cell_type": "code",
   "execution_count": null,
   "metadata": {},
   "outputs": [],
   "source": [
    "DUSP1_RepO_TPL = filter_DUSP1('DUSP1_O_JacksRunAll', True)"
   ]
  },
  {
   "cell_type": "markdown",
   "metadata": {},
   "source": [
    "    DUSP1 100nM Dex & 5µM TPL Time-sweep Replica 2"
   ]
  },
  {
   "cell_type": "code",
   "execution_count": null,
   "metadata": {},
   "outputs": [],
   "source": [
    "DUSP1_RepP_TPL = filter_DUSP1('DUSP1_P_ERonReRun', True)"
   ]
  },
  {
   "cell_type": "code",
   "execution_count": 21,
   "metadata": {},
   "outputs": [],
   "source": [
    "# Concatonate all DUSP1 Dex experiments & reset 'unique_cell_id'\n",
    "DUSP1_ALL = pd.concat(\n",
    "[DUSP1_RepD, DUSP1_RepE, DUSP1_RepF, DUSP1_RepM, DUSP1_RepN, DUSP1_RepG, DUSP1_RepH, DUSP1_RepI, DUSP1_RepJ, DUSP1_RepK, DUSP1_RepL], ignore_index=True) # \n",
    "DUSP1_ALL['unique_cell_id'] = np.arange(len(DUSP1_ALL))"
   ]
  },
  {
   "cell_type": "markdown",
   "metadata": {},
   "source": [
    "### Filter GR data:\n",
    "1. Remove partial cells\n",
    "2. Use `measure_GR` to prepare pre-SSIT dataframe"
   ]
  },
  {
   "cell_type": "markdown",
   "metadata": {},
   "source": [
    "    GR 1, 10, 100nM Dex 3hr Time-sweep Replica 1"
   ]
  },
  {
   "cell_type": "code",
   "execution_count": null,
   "metadata": {},
   "outputs": [],
   "source": [
    "GR_RepA = filter_GR('GR_IC_A_ER020725')\n"
   ]
  },
  {
   "cell_type": "markdown",
   "metadata": {},
   "source": [
    "    GR 1, 10, 100nM Dex 3hr Time-sweep Replica 2"
   ]
  },
  {
   "cell_type": "code",
   "execution_count": null,
   "metadata": {},
   "outputs": [],
   "source": [
    "GR_RepB = filter_GR('GR_IC_B_ReRun021025')"
   ]
  },
  {
   "cell_type": "markdown",
   "metadata": {},
   "source": [
    "    GR 1, 10, 100nM Dex 3hr Time-sweep Replica 3"
   ]
  },
  {
   "cell_type": "code",
   "execution_count": null,
   "metadata": {},
   "outputs": [],
   "source": [
    "GR_RepC = filter_GR('GR_IC_C_ER020725')"
   ]
  },
  {
   "cell_type": "code",
   "execution_count": 25,
   "metadata": {},
   "outputs": [],
   "source": [
    "# Concatonate all DUSP1 Dex experiments & reset 'unique_cell_id'\n",
    "GR_ALL = pd.concat(\n",
    "[GR_RepA, GR_RepB, GR_RepC], ignore_index=True) # DUSP1_RepN, DUSP1_RepJ\n",
    "GR_ALL['unique_cell_id'] = np.arange(len(GR_ALL))"
   ]
  },
  {
   "cell_type": "code",
   "execution_count": 26,
   "metadata": {},
   "outputs": [
    {
     "data": {
      "application/vnd.microsoft.datawrangler.viewer.v0+json": {
       "columns": [
        {
         "name": "index",
         "rawType": "int64",
         "type": "integer"
        },
        {
         "name": "cell_id",
         "rawType": "int64",
         "type": "integer"
        },
        {
         "name": "nuc_area",
         "rawType": "float64",
         "type": "float"
        },
        {
         "name": "nucGRint",
         "rawType": "float64",
         "type": "float"
        },
        {
         "name": "cytoGRint",
         "rawType": "float64",
         "type": "float"
        },
        {
         "name": "time",
         "rawType": "int64",
         "type": "integer"
        },
        {
         "name": "Dex_conc",
         "rawType": "int64",
         "type": "integer"
        },
        {
         "name": "replica",
         "rawType": "object",
         "type": "string"
        },
        {
         "name": "unique_cell_id",
         "rawType": "int64",
         "type": "integer"
        }
       ],
       "conversionMethod": "pd.DataFrame",
       "ref": "5bbceb6f-b965-46e5-a81f-c7036db0657f",
       "rows": [
        [
         "0",
         "0",
         "5281.0",
         "4107.57591724847",
         "1458.3511746399054",
         "90",
         "10",
         "A",
         "0"
        ],
        [
         "1",
         "1",
         "1185.0",
         "4540.710137397891",
         "1441.9595555797264",
         "90",
         "10",
         "A",
         "1"
        ],
        [
         "2",
         "2",
         "8084.0",
         "5442.916578558744",
         "1504.3752789827054",
         "90",
         "10",
         "A",
         "2"
        ],
        [
         "3",
         "3",
         "8027.0",
         "6004.19535568833",
         "1510.456025722596",
         "90",
         "10",
         "A",
         "3"
        ],
        [
         "4",
         "4",
         "9707.0",
         "5299.208904027411",
         "1546.6918315034857",
         "90",
         "10",
         "A",
         "4"
        ],
        [
         "5",
         "5",
         "8608.0",
         "5340.43293561091",
         "1555.6542427020609",
         "90",
         "10",
         "A",
         "5"
        ],
        [
         "6",
         "7",
         "7861.0",
         "6337.064347303049",
         "1645.5798358551592",
         "90",
         "10",
         "A",
         "6"
        ],
        [
         "7",
         "8",
         "813.0",
         "3886.862384770785",
         "1619.607435454838",
         "90",
         "10",
         "A",
         "7"
        ],
        [
         "8",
         "9",
         "9485.0",
         "4811.439402524481",
         "1555.90625540389",
         "90",
         "10",
         "A",
         "8"
        ],
        [
         "9",
         "10",
         "7817.0",
         "5585.40962090167",
         "1730.8116006536943",
         "90",
         "10",
         "A",
         "9"
        ],
        [
         "10",
         "11",
         "4053.0",
         "4921.11522806926",
         "1602.867295865432",
         "90",
         "10",
         "A",
         "10"
        ],
        [
         "11",
         "12",
         "8312.0",
         "5979.244126803872",
         "1563.0902765491742",
         "90",
         "10",
         "A",
         "11"
        ],
        [
         "12",
         "13",
         "7436.0",
         "4293.854943384944",
         "1577.1159373132125",
         "90",
         "10",
         "A",
         "12"
        ],
        [
         "13",
         "14",
         "7910.0",
         "5146.572383393062",
         "1490.7738791935133",
         "90",
         "10",
         "A",
         "13"
        ],
        [
         "14",
         "15",
         "5565.0",
         "5759.841565963194",
         "1543.154199401832",
         "90",
         "10",
         "A",
         "14"
        ],
        [
         "15",
         "16",
         "11312.0",
         "5792.340102318403",
         "1586.6102568466015",
         "90",
         "10",
         "A",
         "15"
        ],
        [
         "16",
         "17",
         "8314.0",
         "5466.31503937215",
         "1557.4366090873214",
         "90",
         "10",
         "A",
         "16"
        ],
        [
         "17",
         "19",
         "9095.0",
         "5107.141242410682",
         "1495.8523743932292",
         "90",
         "10",
         "A",
         "17"
        ],
        [
         "18",
         "20",
         "13579.0",
         "5848.241473020994",
         "1488.1932740427571",
         "90",
         "10",
         "A",
         "18"
        ],
        [
         "19",
         "21",
         "5902.0",
         "4506.615171677658",
         "1454.8059979484049",
         "90",
         "10",
         "A",
         "19"
        ],
        [
         "20",
         "22",
         "8515.0",
         "4512.374429008315",
         "1449.7771296049348",
         "90",
         "10",
         "A",
         "20"
        ],
        [
         "21",
         "23",
         "8953.0",
         "5176.437756206889",
         "1536.8784119710808",
         "90",
         "10",
         "A",
         "21"
        ],
        [
         "22",
         "24",
         "10210.0",
         "4684.33669031426",
         "1453.7383805081197",
         "90",
         "10",
         "A",
         "22"
        ],
        [
         "23",
         "25",
         "8399.0",
         "5305.326386059297",
         "1567.22854919457",
         "90",
         "10",
         "A",
         "23"
        ],
        [
         "24",
         "26",
         "4883.0",
         "6865.383167183414",
         "1635.201950398187",
         "90",
         "10",
         "A",
         "24"
        ],
        [
         "25",
         "27",
         "7068.0",
         "4927.746868550086",
         "1573.5915484997938",
         "90",
         "10",
         "A",
         "25"
        ],
        [
         "26",
         "28",
         "10580.0",
         "7199.616986364481",
         "1625.3574453836625",
         "90",
         "10",
         "A",
         "26"
        ],
        [
         "27",
         "29",
         "10602.0",
         "6104.2155121264495",
         "1556.8696365975054",
         "90",
         "10",
         "A",
         "27"
        ],
        [
         "28",
         "30",
         "10278.0",
         "4891.687378931921",
         "1472.0535766230944",
         "90",
         "10",
         "A",
         "28"
        ],
        [
         "29",
         "31",
         "10510.0",
         "4471.017188531484",
         "1417.472604332287",
         "90",
         "10",
         "A",
         "29"
        ],
        [
         "30",
         "32",
         "7933.0",
         "6202.522030193924",
         "1554.7183654343091",
         "90",
         "10",
         "A",
         "30"
        ],
        [
         "31",
         "33",
         "1804.0",
         "4791.722121956398",
         "1569.8031899590458",
         "90",
         "10",
         "A",
         "31"
        ],
        [
         "32",
         "35",
         "2184.0",
         "3702.1388587605234",
         "1317.8414121478804",
         "90",
         "10",
         "A",
         "32"
        ],
        [
         "33",
         "36",
         "7133.0",
         "5878.568725666599",
         "1678.420360159298",
         "90",
         "10",
         "A",
         "33"
        ],
        [
         "34",
         "37",
         "9064.0",
         "6389.826937592722",
         "1644.0472635406363",
         "90",
         "10",
         "A",
         "34"
        ],
        [
         "35",
         "38",
         "11342.0",
         "4840.235150424664",
         "1461.9922515254582",
         "90",
         "10",
         "A",
         "35"
        ],
        [
         "36",
         "39",
         "7244.0",
         "3859.478691091452",
         "1362.2531370935433",
         "90",
         "10",
         "A",
         "36"
        ],
        [
         "37",
         "40",
         "8944.0",
         "5152.950530667687",
         "1549.556383608089",
         "90",
         "10",
         "A",
         "37"
        ],
        [
         "38",
         "42",
         "10907.0",
         "5996.92306570373",
         "1621.8751173258038",
         "90",
         "10",
         "A",
         "38"
        ],
        [
         "39",
         "43",
         "1550.0",
         "5446.521205948495",
         "1432.378873807165",
         "90",
         "10",
         "A",
         "39"
        ],
        [
         "40",
         "44",
         "7766.0",
         "6039.297832845945",
         "1650.2517678097545",
         "90",
         "10",
         "A",
         "40"
        ],
        [
         "41",
         "46",
         "9039.0",
         "4911.098454938692",
         "1618.5097757501997",
         "90",
         "10",
         "A",
         "41"
        ],
        [
         "42",
         "48",
         "7418.0",
         "6642.766166682048",
         "1745.7565581803055",
         "90",
         "10",
         "A",
         "42"
        ],
        [
         "43",
         "49",
         "8644.0",
         "4864.9239699718655",
         "1462.6039925154118",
         "90",
         "10",
         "A",
         "43"
        ],
        [
         "44",
         "50",
         "7706.0",
         "5004.180783790106",
         "1472.831549963412",
         "90",
         "10",
         "A",
         "44"
        ],
        [
         "45",
         "53",
         "1493.0",
         "3453.889431639547",
         "1500.8825452984015",
         "90",
         "10",
         "A",
         "45"
        ],
        [
         "46",
         "54",
         "11271.0",
         "6894.364760296533",
         "1814.8257480072104",
         "90",
         "10",
         "A",
         "46"
        ],
        [
         "47",
         "55",
         "5503.0",
         "4280.052925536097",
         "1527.90785969594",
         "90",
         "10",
         "A",
         "47"
        ],
        [
         "48",
         "56",
         "1945.0",
         "4828.239199250139",
         "1412.0998567041336",
         "90",
         "10",
         "A",
         "48"
        ],
        [
         "49",
         "57",
         "8176.0",
         "4297.511098227896",
         "1455.301160456973",
         "90",
         "10",
         "A",
         "49"
        ]
       ],
       "shape": {
        "columns": 8,
        "rows": 19226
       }
      },
      "text/html": [
       "<div>\n",
       "<style scoped>\n",
       "    .dataframe tbody tr th:only-of-type {\n",
       "        vertical-align: middle;\n",
       "    }\n",
       "\n",
       "    .dataframe tbody tr th {\n",
       "        vertical-align: top;\n",
       "    }\n",
       "\n",
       "    .dataframe thead th {\n",
       "        text-align: right;\n",
       "    }\n",
       "</style>\n",
       "<table border=\"1\" class=\"dataframe\">\n",
       "  <thead>\n",
       "    <tr style=\"text-align: right;\">\n",
       "      <th></th>\n",
       "      <th>cell_id</th>\n",
       "      <th>nuc_area</th>\n",
       "      <th>nucGRint</th>\n",
       "      <th>cytoGRint</th>\n",
       "      <th>time</th>\n",
       "      <th>Dex_conc</th>\n",
       "      <th>replica</th>\n",
       "      <th>unique_cell_id</th>\n",
       "    </tr>\n",
       "  </thead>\n",
       "  <tbody>\n",
       "    <tr>\n",
       "      <th>0</th>\n",
       "      <td>0</td>\n",
       "      <td>5281.0</td>\n",
       "      <td>4107.575917</td>\n",
       "      <td>1458.351175</td>\n",
       "      <td>90</td>\n",
       "      <td>10</td>\n",
       "      <td>A</td>\n",
       "      <td>0</td>\n",
       "    </tr>\n",
       "    <tr>\n",
       "      <th>1</th>\n",
       "      <td>1</td>\n",
       "      <td>1185.0</td>\n",
       "      <td>4540.710137</td>\n",
       "      <td>1441.959556</td>\n",
       "      <td>90</td>\n",
       "      <td>10</td>\n",
       "      <td>A</td>\n",
       "      <td>1</td>\n",
       "    </tr>\n",
       "    <tr>\n",
       "      <th>2</th>\n",
       "      <td>2</td>\n",
       "      <td>8084.0</td>\n",
       "      <td>5442.916579</td>\n",
       "      <td>1504.375279</td>\n",
       "      <td>90</td>\n",
       "      <td>10</td>\n",
       "      <td>A</td>\n",
       "      <td>2</td>\n",
       "    </tr>\n",
       "    <tr>\n",
       "      <th>3</th>\n",
       "      <td>3</td>\n",
       "      <td>8027.0</td>\n",
       "      <td>6004.195356</td>\n",
       "      <td>1510.456026</td>\n",
       "      <td>90</td>\n",
       "      <td>10</td>\n",
       "      <td>A</td>\n",
       "      <td>3</td>\n",
       "    </tr>\n",
       "    <tr>\n",
       "      <th>4</th>\n",
       "      <td>4</td>\n",
       "      <td>9707.0</td>\n",
       "      <td>5299.208904</td>\n",
       "      <td>1546.691832</td>\n",
       "      <td>90</td>\n",
       "      <td>10</td>\n",
       "      <td>A</td>\n",
       "      <td>4</td>\n",
       "    </tr>\n",
       "    <tr>\n",
       "      <th>...</th>\n",
       "      <td>...</td>\n",
       "      <td>...</td>\n",
       "      <td>...</td>\n",
       "      <td>...</td>\n",
       "      <td>...</td>\n",
       "      <td>...</td>\n",
       "      <td>...</td>\n",
       "      <td>...</td>\n",
       "    </tr>\n",
       "    <tr>\n",
       "      <th>19221</th>\n",
       "      <td>5601</td>\n",
       "      <td>6167.0</td>\n",
       "      <td>3313.792397</td>\n",
       "      <td>1114.525882</td>\n",
       "      <td>120</td>\n",
       "      <td>10</td>\n",
       "      <td>C</td>\n",
       "      <td>19221</td>\n",
       "    </tr>\n",
       "    <tr>\n",
       "      <th>19222</th>\n",
       "      <td>5602</td>\n",
       "      <td>6750.0</td>\n",
       "      <td>2673.532505</td>\n",
       "      <td>1108.000027</td>\n",
       "      <td>120</td>\n",
       "      <td>10</td>\n",
       "      <td>C</td>\n",
       "      <td>19222</td>\n",
       "    </tr>\n",
       "    <tr>\n",
       "      <th>19223</th>\n",
       "      <td>5603</td>\n",
       "      <td>9728.0</td>\n",
       "      <td>3704.099971</td>\n",
       "      <td>1136.145253</td>\n",
       "      <td>120</td>\n",
       "      <td>10</td>\n",
       "      <td>C</td>\n",
       "      <td>19223</td>\n",
       "    </tr>\n",
       "    <tr>\n",
       "      <th>19224</th>\n",
       "      <td>5604</td>\n",
       "      <td>5593.0</td>\n",
       "      <td>3306.069900</td>\n",
       "      <td>1172.101178</td>\n",
       "      <td>120</td>\n",
       "      <td>10</td>\n",
       "      <td>C</td>\n",
       "      <td>19224</td>\n",
       "    </tr>\n",
       "    <tr>\n",
       "      <th>19225</th>\n",
       "      <td>5605</td>\n",
       "      <td>7088.0</td>\n",
       "      <td>2445.894806</td>\n",
       "      <td>1079.194228</td>\n",
       "      <td>120</td>\n",
       "      <td>10</td>\n",
       "      <td>C</td>\n",
       "      <td>19225</td>\n",
       "    </tr>\n",
       "  </tbody>\n",
       "</table>\n",
       "<p>19226 rows × 8 columns</p>\n",
       "</div>"
      ],
      "text/plain": [
       "       cell_id  nuc_area     nucGRint    cytoGRint  time  Dex_conc replica  \\\n",
       "0            0    5281.0  4107.575917  1458.351175    90        10       A   \n",
       "1            1    1185.0  4540.710137  1441.959556    90        10       A   \n",
       "2            2    8084.0  5442.916579  1504.375279    90        10       A   \n",
       "3            3    8027.0  6004.195356  1510.456026    90        10       A   \n",
       "4            4    9707.0  5299.208904  1546.691832    90        10       A   \n",
       "...        ...       ...          ...          ...   ...       ...     ...   \n",
       "19221     5601    6167.0  3313.792397  1114.525882   120        10       C   \n",
       "19222     5602    6750.0  2673.532505  1108.000027   120        10       C   \n",
       "19223     5603    9728.0  3704.099971  1136.145253   120        10       C   \n",
       "19224     5604    5593.0  3306.069900  1172.101178   120        10       C   \n",
       "19225     5605    7088.0  2445.894806  1079.194228   120        10       C   \n",
       "\n",
       "       unique_cell_id  \n",
       "0                   0  \n",
       "1                   1  \n",
       "2                   2  \n",
       "3                   3  \n",
       "4                   4  \n",
       "...               ...  \n",
       "19221           19221  \n",
       "19222           19222  \n",
       "19223           19223  \n",
       "19224           19224  \n",
       "19225           19225  \n",
       "\n",
       "[19226 rows x 8 columns]"
      ]
     },
     "execution_count": 26,
     "metadata": {},
     "output_type": "execute_result"
    }
   ],
   "source": [
    "GR_ALL"
   ]
  },
  {
   "cell_type": "markdown",
   "metadata": {},
   "source": [
    "## GR_ALL & DUSP1_All final dataframe preperation for SSIT\n",
    "\n",
    "1) Fit a Polynomial (2nd-degree) using (nuc_area_px, cyto_area_px) from DUSP1_ALL.\n",
    "\n",
    "2) Estimate Cytoplasm Area in GR_ALL:\n",
    "3) Creates `CalcCytoArea` by evaluating the fitted polynomial at each row’s `nuc_area`.\n",
    "\n",
    "4) Gate both data sets on the 25%–75% range of nuclear area.\n",
    "\n",
    "5) Compute “Normalized” GR (`normGRnuc`, `normGRcyt`) in GR_ALL:\n",
    "- Scales nuclear/cyt intensities (5%→95% range) into integer bins [0,20].\n",
    "\n",
    "6) Plot Histograms for the normalized nuclear/cyt GR (using custom colors).\n",
    "\n",
    "7) Save the updated, gated data sets to CSV."
   ]
  },
  {
   "cell_type": "code",
   "execution_count": null,
   "metadata": {},
   "outputs": [
    {
     "name": "stdout",
     "output_type": "stream",
     "text": [
      "DUSP1_ALL original: 46114 rows -> gated: 23059 rows\n",
      "GR_ALL original:    19226 rows -> gated: 9612 rows\n"
     ]
    },
    {
     "data": {
      "image/png": "[encoded data removed]",
      "text/plain": [
       "<Figure size 1000x400 with 2 Axes>"
      ]
     },
     "metadata": {},
     "output_type": "display_data"
    }
   ],
   "source": [
    "# 1) READ INPUT DATA\n",
    "# =========================\n",
    "# DUSP1_ALL from above:\n",
    "df_dusp = DUSP1_ALL\n",
    "\n",
    "# GR_ALL from above:\n",
    "df_gr = GR_ALL\n",
    "\n",
    "\n",
    "# 2) FIT POLYNOMIAL TO (NUC, CYTO) FROM DUSP1_ALL\n",
    "# =========================\n",
    "# We'll use only the rows that have valid nuc_area_px and cyto_area_px.\n",
    "df_dusp_nonmissing = df_dusp.dropna(subset=['nuc_area_px', 'cyto_area_px']).copy()\n",
    "\n",
    "x_nuc = df_dusp_nonmissing['nuc_area_px'].values\n",
    "y_cyto = df_dusp_nonmissing['cyto_area_px'].values\n",
    "\n",
    "# Fit a 2nd-degree polynomial: cyto_area_px = a*(nuc_area_px)^2 + b*(nuc_area_px) + c\n",
    "poly_coeffs = np.polyfit(x_nuc, y_cyto, deg=2)\n",
    "\n",
    "# optional: for debugging/inspection\n",
    "# print(\"Fitted polynomial coefficients (a, b, c):\", poly_coeffs)\n",
    "\n",
    "\n",
    "# 3) ESTIMATE CYTO AREA IN GR_ALL\n",
    "# =========================\n",
    "# We'll store the computed cytoplasm area in a new column: 'CalcCytoArea'\n",
    "# Evaluate the polynomial at GR_ALL['nuc_area'].\n",
    "df_gr['CalcCytoArea'] = np.polyval(poly_coeffs, df_gr['nuc_area'])\n",
    "\n",
    "\n",
    "\n",
    "# 4) GATE BOTH DATAFRAMES ON [25%, 75%] NUCLEAR AREA\n",
    "# =========================\n",
    "# We'll define a helper function for gating.\n",
    "def gate_on_nuc_area(df, nuc_col):\n",
    "    \"\"\"Return a copy of df gated to [25th, 75th percentile] of nuc_col.\"\"\"\n",
    "    lower = df[nuc_col].quantile(0.25)\n",
    "    upper = df[nuc_col].quantile(0.75)\n",
    "    return df[(df[nuc_col] >= lower) & (df[nuc_col] <= upper)].copy()\n",
    "\n",
    "# Gate DUSP1_ALL on nuc_area_px\n",
    "df_dusp_gated = gate_on_nuc_area(df_dusp, 'nuc_area_px')\n",
    "\n",
    "# Gate GR_ALL on nuc_area\n",
    "df_gr_gated = gate_on_nuc_area(df_gr, 'nuc_area')\n",
    "\n",
    "print(f\"DUSP1_ALL original: {len(df_dusp)} rows -> gated: {len(df_dusp_gated)} rows\")\n",
    "print(f\"GR_ALL original:    {len(df_gr)} rows -> gated: {len(df_gr_gated)} rows\")\n",
    "\n",
    "\n",
    "# 5) COMPUTE \"NORMALIZED\" GR FOR NUC & CYTO IN GR_ALL\n",
    "# =========================\n",
    "# We'll do a percentile-based normalization: 5th->95th percentile => mapped to [0, bins].\n",
    "bins = 20\n",
    "\n",
    "def normalize_by_percentiles(series, low_pct=0.05, high_pct=0.95, bins=20):\n",
    "    \"\"\"Scale 'series' into integer bins [0, bins] based on [low_pct, high_pct].\"\"\"\n",
    "    lower_val = series.quantile(low_pct)\n",
    "    upper_val = series.quantile(high_pct)\n",
    "    clipped = (series - lower_val) / (upper_val - lower_val)\n",
    "    clipped = clipped.clip(lower=0, upper=1)\n",
    "    return (clipped * bins).round().astype(int)\n",
    "\n",
    "df_gr_gated['normGRnuc'] = normalize_by_percentiles(df_gr_gated['nucGRint'], 0.05, 0.95, bins=bins)\n",
    "df_gr_gated['normGRcyt'] = normalize_by_percentiles(df_gr_gated['cytoGRint'], 0.05, 0.95, bins=bins)\n",
    "\n",
    "\n",
    "# 6) HISTOGRAMS\n",
    "# =========================\n",
    "plt.figure(figsize=(10,4))\n",
    "\n",
    "plt.subplot(1,2,1)\n",
    "sns.histplot(df_gr_gated['normGRnuc'], bins=bins+1, color='darkred', edgecolor='black')\n",
    "plt.title(\"Normalized GR (Nuclear)\")\n",
    "\n",
    "plt.subplot(1,2,2)\n",
    "sns.histplot(df_gr_gated['normGRcyt'], bins=bins+1, color='navy', edgecolor='black')\n",
    "plt.title(\"Normalized GR (Cytoplasm)\")\n",
    "\n",
    "plt.tight_layout()\n",
    "plt.show()"
   ]
  },
  {
   "cell_type": "code",
   "execution_count": 28,
   "metadata": {},
   "outputs": [
    {
     "name": "stdout",
     "output_type": "stream",
     "text": [
      "Saved gated DUSP1 to 'DUSP1_ALL_gated.csv'\n",
      "Saved gated GR to 'GR_ALL_gated_with_CytoArea_and_normGR.csv'\n"
     ]
    }
   ],
   "source": [
    "# 7) SAVE THE UPDATED GATED DATAFRAMES\n",
    "# =========================\n",
    "# Gated DUSP1 (unchanged except row filtering)\n",
    "df_dusp_gated.to_csv(\"DUSP1_ALL_gated_V01.csv\", index=False)\n",
    "\n",
    "# Gated GR with new columns: CalcCytoArea, normGRnuc, normGRcyt\n",
    "df_gr_gated.to_csv(\"GR_ALL_gated_with_CytoArea_and_normGR_V01.csv\", index=False)\n",
    "\n",
    "print(\"Saved gated DUSP1 to 'DUSP1_ALL_gated.csv'\")\n",
    "print(\"Saved gated GR to 'GR_ALL_gated_with_CytoArea_and_normGR.csv'\")"
   ]
  },
  {
   "cell_type": "code",
   "execution_count": null,
   "metadata": {},
   "outputs": [],
   "source": []
  }
 ],
 "metadata": {
  "kernelspec": {
   "display_name": ".venv",
   "language": "python",
   "name": "python3"
  },
  "language_info": {
   "codemirror_mode": {
    "name": "ipython",
    "version": 3
   },
   "file_extension": ".py",
   "mimetype": "text/x-python",
   "name": "python",
   "nbconvert_exporter": "python",
   "pygments_lexer": "ipython3",
   "version": "3.11.8"
  }
 },
 "nbformat": 4,
 "nbformat_minor": 2
}
