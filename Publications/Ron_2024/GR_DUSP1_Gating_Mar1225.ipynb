{
 "cells": [
  {
   "cell_type": "markdown",
   "metadata": {},
   "source": [
    "# DUSP1 Analysis and Visualization Notebook\n",
    "\n",
    "This notebook demonstrates how to use the new analysis manager code from `Analysis_DUSP1.py`.\n",
    "\n",
    "In this notebook, we will:\n",
    "1. Load the processed CSV files (spots, clusters, and cell properties).\n",
    "2. Instantiate the measurement manager (DUSP1Measurement) and compute cell-level metrics,\n",
    "   with optional SNR filtering.\n",
    "3. Create a DisplayManager instance to visualize gating overlays and cell crops.\n",
    "4. (Optional) Use the new expression grouping and visualization functions.\n",
    "\n",
    "Make sure that `Analysis_DUSP1.py` is in the same directory or on the Python path."
   ]
  },
  {
   "cell_type": "code",
   "execution_count": null,
   "metadata": {},
   "outputs": [],
   "source": [
    "import h5py\n",
    "import numpy as np\n",
    "import matplotlib.pyplot as plt\n",
    "import pandas as pd\n",
    "import dask.array as da\n",
    "import os\n",
    "import sys\n",
    "import logging\n",
    "import seaborn as sns\n",
    "\n",
    "logging.getLogger('matplotlib.font_manager').disabled = True\n",
    "numba_logger = logging.getLogger('numba')\n",
    "numba_logger.setLevel(logging.WARNING)\n",
    "\n",
    "matplotlib_logger = logging.getLogger('matplotlib')\n",
    "matplotlib_logger.setLevel(logging.WARNING)\n",
    "\n",
    "src_path = os.path.abspath(os.path.join(os.getcwd(), '..', '..'))\n",
    "print(src_path)\n",
    "sys.path.append(src_path)\n",
    "\n",
    "from src.Analysis_DUSP1 import DUSP1AnalysisManager, DUSP1Measurement, SNRAnalysis, DisplayManager, GR_Confirmation"
   ]
  },
  {
   "cell_type": "markdown",
   "metadata": {},
   "source": [
    "# Use the log file to search for analyses"
   ]
  },
  {
   "cell_type": "code",
   "execution_count": null,
   "metadata": {},
   "outputs": [],
   "source": [
    "loc = None\n",
    "log_location = r'/Volumes/share/Users/Eric/GR_DUSP1_reruns'"
   ]
  },
  {
   "cell_type": "code",
   "execution_count": null,
   "metadata": {},
   "outputs": [],
   "source": [
    "am = DUSP1AnalysisManager(location=loc, log_location=log_location, mac=True) "
   ]
  },
  {
   "cell_type": "code",
   "execution_count": null,
   "metadata": {},
   "outputs": [],
   "source": [
    "# list all analysis done \n",
    "all_analysis_names = am.list_analysis_names()"
   ]
  },
  {
   "cell_type": "markdown",
   "metadata": {},
   "source": [
    "# DUSP1 Experiment Analysis List\n",
    "\n",
    "### DUSP1 100nM Dex 3hr Time-sweep\n",
    "- Replica D: `Analysis_DUSP1_D_NoThreshold_2025-02-21`\n",
    "- Replica E: `Analysis_DUSP1_E_NoThreshold_2025-02-21`\n",
    "- Replica F: `Analysis_DUSP1_F_NoThreshold_2025-02-22`\n",
    "- Replica M: `Analysis_DUSP1_M_NoThreshold_2025-02-22`\n",
    "- Replica N: `Analysis_DUSP1_N_NoThreshold_2025-02-22`\n",
    "\n",
    "### DUSP1 75min Concentration-sweep\n",
    "- Replica G: `Analysis_DUSP1_G_NoThreshold_2025-02-22`\n",
    "- Replica H: `Analysis_DUSP1_H_NoThreshold_2025-02-22`\n",
    "- Replica I: `Analysis_DUSP1_I_NoThreshold_2025-02-22`\n",
    "\n",
    "### DUSP1 0.3, 1, 10nM Dex 3hr Time-sweep\n",
    "- Replica J: `Analysis_DUSP1_J_NoThreshold_2025-02-22`\n",
    "- Replica K: `Analysis_DUSP1_K_NoThreshold_2025-02-22`\n",
    "- Replica L: `Analysis_DUSP1_L_NoThreshold_2025-02-22`\n",
    "\n",
    "### DUSP1 TPL\n",
    "- Replica O `Analysis_DUSP1_O_NoThreshold_2025-02-22`\n",
    "- Replica P `Analysis_DUSP1_P_NoThreshold_2025-02-22`\n",
    "\n",
    "# GR Experiment Analyis List\n",
    "\n",
    "### GR 1, 10, 100nM Dex 3hr Time-Sweep\n",
    "- Replica A: `Analysis_GR_IC_A_ER020725_2025-02-07`\n",
    "- Replica B: `Analysis_GR_IC_B_ReRun021025_2025-02-10`\n",
    "- Replica C: `Analysis_GR_IC_C_ER020725_2025-02-08`\n",
    "\n",
    "### GR 1, 10, 100nM Dex 3hr Time-Sweep - No Illumination Correction\n",
    "- Replica A: `Analysis_GR_noIC_A_ER021725_2025-02-18`\n",
    "- Replica B: `Analysis_GR_noIC_B_ER021725_2025-02-18`\n",
    "- Replica C: `Analysis_GR_noIC_C_ER021725_2025-02-18`"
   ]
  },
  {
   "cell_type": "markdown",
   "metadata": {},
   "source": [
    "## Example workflow"
   ]
  },
  {
   "cell_type": "code",
   "execution_count": null,
   "metadata": {},
   "outputs": [],
   "source": [
    "# Initiate the class and find analysis at log_location\n",
    "# Select the specific analysis - ex. DUSP1 100nM Dex 3hr Time-sweep Replica 1\n",
    "am.select_analysis('DUSP1_D_NoThreshold')\n",
    "print('locations with this dataset:', am.location)"
   ]
  },
  {
   "cell_type": "code",
   "execution_count": null,
   "metadata": {},
   "outputs": [],
   "source": [
    "# Load datasets\n",
    "spots_df = am.select_datasets(\"spotresults\", dtype=\"dataframe\")\n",
    "clusters_df = am.select_datasets(\"clusterresults\", dtype=\"dataframe\")\n",
    "props_df = am.select_datasets(\"cell_properties\", dtype=\"dataframe\")\n",
    "\n",
    "print(\"Spots shape:\", spots_df.shape)\n",
    "print(\"Clusters shape:\", clusters_df.shape)\n",
    "print(\"Cell properties shape:\", props_df.shape)"
   ]
  },
  {
   "cell_type": "markdown",
   "metadata": {},
   "source": [
    "## Step 2: Compute Cell-Level Metrics with Different SNR Filtering Methods\n",
    "\n",
    "We create three DUSP1Measurement objects (or re-use one with different filtering options)\n",
    "to compare the following methods:\n",
    "- Weighted: uses weighted thresholding based on 'snr'.\n",
    "- Absolute: keeps spots with snr >= 4.\n",
    "- MG: computes MG_SNR and keeps spots with MG_SNR >= 4.\n",
    "\n",
    "Note: Adjust the snr_threshold for MG if needed."
   ]
  },
  {
   "cell_type": "code",
   "execution_count": null,
   "metadata": {},
   "outputs": [],
   "source": [
    "measurement_weighted = DUSP1Measurement(spots_df, clusters_df, props_df)\n",
    "results_weighted = measurement_weighted.measure(snr_filter_method=\"weighted\")\n",
    "print(\"Results (Weighted Filtering):\")\n",
    "print(results_weighted.head())"
   ]
  },
  {
   "cell_type": "code",
   "execution_count": null,
   "metadata": {},
   "outputs": [],
   "source": [
    "# Absolute filtering:\n",
    "measurement_absolute = DUSP1Measurement(spots_df, clusters_df, props_df)\n",
    "results_absolute = measurement_absolute.measure(snr_filter_method=\"absolute\", snr_threshold=4)\n",
    "print(\"Results (Absolute Filtering, threshold=4):\")\n",
    "print(results_absolute.head())"
   ]
  },
  {
   "cell_type": "code",
   "execution_count": null,
   "metadata": {},
   "outputs": [],
   "source": [
    "# MG filtering:\n",
    "measurement_mg = DUSP1Measurement(spots_df, clusters_df, props_df)\n",
    "results_mg = measurement_mg.measure(snr_filter_method=\"mg\", snr_threshold=4)\n",
    "print(\"Results (MG Filtering, threshold=4):\")\n",
    "print(results_mg.head())"
   ]
  },
  {
   "cell_type": "markdown",
   "metadata": {},
   "source": [
    "    DUSP1 100nM Dex 3hr Time-sweep Replica 2"
   ]
  },
  {
   "cell_type": "code",
   "execution_count": null,
   "metadata": {},
   "outputs": [],
   "source": [
    "DUSP1_RepE = filter_DUSP1('DUSP1_E_NoThreshold')"
   ]
  },
  {
   "cell_type": "markdown",
   "metadata": {},
   "source": [
    "    DUSP1 100nM Dex 3hr Time-sweep Replica 3"
   ]
  },
  {
   "cell_type": "code",
   "execution_count": null,
   "metadata": {},
   "outputs": [],
   "source": [
    "DUSP1_RepF = filter_DUSP1('DUSP1_F_NoThreshold')                        "
   ]
  },
  {
   "cell_type": "markdown",
   "metadata": {},
   "source": [
    "    DUSP1 100nM Dex 3hr Time-sweep Replica 4 (partial)"
   ]
  },
  {
   "cell_type": "code",
   "execution_count": null,
   "metadata": {},
   "outputs": [],
   "source": [
    "DUSP1_RepM = filter_DUSP1('DUSP1_M_NoThreshold')                        "
   ]
  },
  {
   "cell_type": "markdown",
   "metadata": {},
   "source": [
    "    DUSP1 100nM Dex 3hr Time-sweep Replica 5 (partial)"
   ]
  },
  {
   "cell_type": "code",
   "execution_count": null,
   "metadata": {},
   "outputs": [],
   "source": [
    "DUSP1_RepN = filter_DUSP1('DUSP1_N_NoThreshold')"
   ]
  },
  {
   "cell_type": "markdown",
   "metadata": {},
   "source": [
    "    DUSP1 75min Concentration-sweep Replica 1"
   ]
  },
  {
   "cell_type": "code",
   "execution_count": null,
   "metadata": {},
   "outputs": [],
   "source": [
    "DUSP1_RepG = filter_DUSP1('DUSP1_G_NoThreshold')                        "
   ]
  },
  {
   "cell_type": "markdown",
   "metadata": {},
   "source": [
    "    DUSP1 75min Concentration-sweep Replica 2"
   ]
  },
  {
   "cell_type": "code",
   "execution_count": null,
   "metadata": {},
   "outputs": [],
   "source": [
    "DUSP1_RepH = filter_DUSP1('DUSP1_H_NoThreshold')                         "
   ]
  },
  {
   "cell_type": "markdown",
   "metadata": {},
   "source": [
    "    DUSP1 75min Concentration-sweep Replica 3"
   ]
  },
  {
   "cell_type": "code",
   "execution_count": null,
   "metadata": {},
   "outputs": [],
   "source": [
    "DUSP1_RepI = filter_DUSP1('DUSP1_I_NoThreshold')"
   ]
  },
  {
   "cell_type": "markdown",
   "metadata": {},
   "source": [
    "    DUSP1 0.3, 1, 10nM Dex 3hr Time-sweep Replica 1"
   ]
  },
  {
   "cell_type": "code",
   "execution_count": null,
   "metadata": {},
   "outputs": [],
   "source": [
    "DUSP1_RepJ = filter_DUSP1('DUSP1_J_NoThreshold')\n"
   ]
  },
  {
   "cell_type": "markdown",
   "metadata": {},
   "source": [
    "    DUSP1 0.3, 1, 10nM Dex 3hr Time-sweep Replica 2"
   ]
  },
  {
   "cell_type": "code",
   "execution_count": null,
   "metadata": {},
   "outputs": [],
   "source": [
    "DUSP1_RepK = filter_DUSP1('DUSP1_K_NoThreshold')"
   ]
  },
  {
   "cell_type": "markdown",
   "metadata": {},
   "source": [
    "    DUSP1 0.3, 1, 10nM Dex 3hr Time-sweep Replica 3"
   ]
  },
  {
   "cell_type": "code",
   "execution_count": null,
   "metadata": {},
   "outputs": [],
   "source": [
    "DUSP1_RepL = filter_DUSP1('DUSP1_L_NoThreshold')"
   ]
  },
  {
   "cell_type": "markdown",
   "metadata": {},
   "source": [
    "    DUSP1 100nM Dex & 5µM TPL Time-sweep Replica 1"
   ]
  },
  {
   "cell_type": "code",
   "execution_count": null,
   "metadata": {},
   "outputs": [],
   "source": [
    "DUSP1_RepO_TPL = filter_DUSP1('DUSP1_O_NoThreshold', True)"
   ]
  },
  {
   "cell_type": "markdown",
   "metadata": {},
   "source": [
    "    DUSP1 100nM Dex & 5µM TPL Time-sweep Replica 2"
   ]
  },
  {
   "cell_type": "code",
   "execution_count": null,
   "metadata": {},
   "outputs": [],
   "source": [
    "DUSP1_RepP_TPL = filter_DUSP1('DUSP1_P_NoThreshold', True)"
   ]
  },
  {
   "cell_type": "code",
   "execution_count": null,
   "metadata": {},
   "outputs": [],
   "source": [
    "# label Dex-only frames as TPL = False\n",
    "for df in [DUSP1_RepD, DUSP1_RepE, DUSP1_RepF, DUSP1_RepM, DUSP1_RepN,\n",
    "           DUSP1_RepG, DUSP1_RepH, DUSP1_RepI, DUSP1_RepJ, DUSP1_RepK, DUSP1_RepL]:\n",
    "    df['is_TPL'] = False\n",
    "\n",
    "# Label TPL frames as TPL = True\n",
    "for df in [DUSP1_RepO_TPL, DUSP1_RepP_TPL]:\n",
    "    df['is_TPL'] = True\n",
    "\n",
    "# 1) Concatenate Dex-only DUSP1 data\n",
    "DUSP1_ALL = pd.concat(\n",
    "    [DUSP1_RepD, DUSP1_RepE, DUSP1_RepF, DUSP1_RepM, DUSP1_RepN,\n",
    "     DUSP1_RepG, DUSP1_RepH, DUSP1_RepI, DUSP1_RepJ, DUSP1_RepK, DUSP1_RepL],\n",
    "    ignore_index=True\n",
    ")\n",
    "DUSP1_ALL['unique_cell_id'] = np.arange(len(DUSP1_ALL))\n",
    "\n",
    "# 2) Concatenate TPL data\n",
    "DUSP1_TPL = pd.concat(\n",
    "    [DUSP1_RepO_TPL, DUSP1_RepP_TPL],\n",
    "    ignore_index=True\n",
    ")\n",
    "DUSP1_TPL['unique_cell_id'] = np.arange(len(DUSP1_TPL))\n",
    "\n",
    "# 3) Create a combined DataFrame (Dex + TPL), preserving the is_TPL flag\n",
    "DUSP1_Dex_TPL_ALL = pd.concat([DUSP1_ALL, DUSP1_TPL], \n",
    "                           ignore_index=True, \n",
    "                           sort=False)\n",
    "# Assign a new unique_cell_id across the combined data\n",
    "DUSP1_Dex_TPL_ALL['unique_cell_id'] = np.arange(len(DUSP1_Dex_TPL_ALL))"
   ]
  },
  {
   "cell_type": "code",
   "execution_count": null,
   "metadata": {},
   "outputs": [],
   "source": [
    "from datetime import datetime\n",
    "\n",
    "# SAVE THE PRE-GATED DATAFRAMES\n",
    "# ============================\n",
    "current_date = datetime.now().strftime(\"%b%d%y\")\n",
    "\n",
    "# (Optional) save each DataFrame to disk\n",
    "DUSP1_ALL.to_csv(f'DUSP1_ALL_{current_date}_NoThreshold.csv', index=False)\n",
    "DUSP1_TPL.to_csv(f'DUSP1_TPL_{current_date}_NoThreshold.csv', index=False)\n",
    "DUSP1_Dex_TPL_ALL.to_csv(f'DUSP1_Dex_TPL_ALL_{current_date}_NoThreshold.csv', index=False)"
   ]
  },
  {
   "cell_type": "markdown",
   "metadata": {},
   "source": [
    "## GR_ALL & DUSP1_All final dataframe preperation for SSIT\n",
    "\n",
    "1) Fit a Polynomial (2nd-degree) using (nuc_area_px, cyto_area_px) from DUSP1_ALL.\n",
    "\n",
    "2) Estimate Cytoplasm Area in GR_ALL:\n",
    "3) Creates `CalcCytoArea` by evaluating the fitted polynomial at each row’s `nuc_area`.\n",
    "\n",
    "4) Gate both data sets on the 25%–75% range of nuclear area.\n",
    "\n",
    "5) Compute “Normalized” GR (`normGRnuc`, `normGRcyt`) in GR_ALL:\n",
    "- Scales nuclear/cyt intensities (5%→95% range) into integer bins [0,30].\n",
    "\n",
    "6) Plot Histograms for the normalized nuclear/cyt GR (using custom colors).\n",
    "\n",
    "7) Save the updated, gated data sets to CSV."
   ]
  },
  {
   "cell_type": "code",
   "execution_count": null,
   "metadata": {},
   "outputs": [],
   "source": [
    "# 1) READ INPUT DATA\n",
    "# =========================\n",
    "# DUSP1_ALL from above or load from disk:\n",
    "if f'DUSP1_ALL_{current_date}_NoThreshold' in locals():\n",
    "    df_dusp = DUSP1_ALL\n",
    "else:\n",
    "    df_dusp = pd.read_csv('DUSP1_ALL.csv')\n",
    "\n",
    "# GR_ALL from above or load from disk:\n",
    "if 'GR_ALL' in locals():\n",
    "    df_gr = GR_ALL\n",
    "else:\n",
    "    df_gr = pd.read_csv('GR_ALL_pregate.csv')\n",
    "\n",
    "\n",
    "# 2) FIT POLYNOMIAL TO (NUC, CYTO) FROM DUSP1_ALL\n",
    "# =========================\n",
    "# We'll use only the rows that have valid nuc_area_px and cyto_area_px.\n",
    "num_cells = df_dusp.shape[0]\n",
    "df_dusp_nonmissing = df_dusp.dropna(subset=['nuc_area_px', 'cyto_area_px']).copy()\n",
    "print(f'Cells removed because of NaN areas in DUSP1: {df_dusp_nonmissing.shape[0] - num_cells}')\n",
    "\n",
    "\n",
    "# 4) GATE DUSP1 DATAFRAME ON [25%, 75%] NUCLEAR AREA\n",
    "# =========================\n",
    "# We'll define a helper function for gating.\n",
    "num_cells = df_dusp.shape[0]\n",
    "def gate_on_nuc_area(df, nuc_col):\n",
    "    \"\"\"Return a copy of df gated to [25th, 75th percentile] of nuc_col.\"\"\"\n",
    "    lower = df[nuc_col].quantile(0.25)\n",
    "    upper = df[nuc_col].quantile(0.75)\n",
    "    return df[(df[nuc_col] >= lower) & (df[nuc_col] <= upper)].copy()\n",
    "\n",
    "# Gate DUSP1_ALL on nuc_area_px\n",
    "print('+++ Gating Nuc Area +++')\n",
    "df_dusp_gated = gate_on_nuc_area(df_dusp_nonmissing, 'nuc_area_px') \n",
    "print(f'Cells removed because of nuc_area_px gating: {df_dusp_gated.shape[0] - num_cells}')\n",
    "print(f'Cells remaining after nuc_area_px gating: {df_dusp_gated.shape[0]}')"
   ]
  },
  {
   "cell_type": "markdown",
   "metadata": {},
   "source": [
    "# SAVE THE GATED DATAFRAMES"
   ]
  },
  {
   "cell_type": "code",
   "execution_count": null,
   "metadata": {},
   "outputs": [],
   "source": [
    "from datetime import datetime\n",
    "\n",
    "# SAVE THE GATED DATAFRAMES\n",
    "# =========================\n",
    "# Gated DUSP1 (unchanged except row filtering)\n",
    "# Get the current date\n",
    "current_date = datetime.now().strftime(\"%b%d%y\")\n",
    "\n",
    "# Save the gated DUSP1 dataframe with the current date in the filename\n",
    "df_dusp_gated.to_csv(f\"DUSP1_ALL_gated_{current_date}_NoThreshold.csv\", index=False)\n",
    "print(f\"Saved gated DUSP1 to 'DUSP1_ALL_gated_{current_date}_NoThreshold.csv\")\n"
   ]
  },
  {
   "cell_type": "markdown",
   "metadata": {},
   "source": [
    "# Load in gated data"
   ]
  },
  {
   "cell_type": "code",
   "execution_count": null,
   "metadata": {},
   "outputs": [],
   "source": [
    "import matplotlib.pyplot as plt\n",
    "import seaborn as sns\n",
    "import numpy as np\n",
    "import pandas as pd\n",
    "\n",
    "df_dusp_gated = pd.read_csv(f'DUSP1_ALL_gated_Feb2425_NoThreshold.csv')\n",
    "df_gr_gated = pd.read_csv('GR_ALL_gated_with_CytoArea_and_normGR_Feb2125.csv')"
   ]
  },
  {
   "cell_type": "code",
   "execution_count": null,
   "metadata": {},
   "outputs": [],
   "source": [
    "# Make a copy of the DUSP1 data\n",
    "DUSP1_data = df_dusp_gated.copy()\n",
    "\n",
    "# Experiment 1: 100 nM Dex time sweep with 12 timepoints\n",
    "df_expt1 = DUSP1_data[DUSP1_data['replica'].isin(['D', 'E', 'F', 'M', 'N'])]\n",
    "expt1_timepoints = [10, 20, 30, 40, 50, 60, 75, 90, 120, 150, 180]\n",
    "expt1_concs = [100]\n",
    "\n",
    "# Experiment 3: Time and concentration sweep\n",
    "df_expt3 = DUSP1_data[DUSP1_data['replica'].isin(['J', 'K', 'L'])]\n",
    "expt3_concs = [0.3, 1, 10, 100]\n",
    "expt3_timepoints = [30, 50, 75, 90, 120, 180]\n",
    "\n",
    "# Calculate means for each replica\n",
    "replica_means = DUSP1_data.groupby(['dex_conc', 'time', 'replica']).agg({\n",
    "    'num_nuc_spots': 'mean',\n",
    "    'num_cyto_spots': 'mean'\n",
    "}).reset_index()\n",
    "\n",
    "# Calculate the mean and standard deviation of the replica means\n",
    "summary_stats = replica_means.groupby(['dex_conc', 'time']).agg({\n",
    "    'num_nuc_spots': ['mean', 'std'],\n",
    "    'num_cyto_spots': ['mean', 'std']\n",
    "}).reset_index()\n",
    "\n",
    "# Rename columns for easier access\n",
    "summary_stats.columns = ['dex_conc', 'time', 'mean_nuc_count', 'std_nuc_count', 'mean_cyto_count', 'std_cyto_count']\n",
    "\n",
    "# Calculate overall mean and standard deviation for each concentration and time point\n",
    "overall_stats = DUSP1_data.groupby(['dex_conc', 'time']).agg({\n",
    "    'num_nuc_spots': ['mean', 'std'],\n",
    "    'num_cyto_spots': ['mean', 'std']\n",
    "}).reset_index()\n",
    "\n",
    "# Rename columns for easier access\n",
    "overall_stats.columns = ['dex_conc', 'time', 'overall_mean_nuc', 'overall_std_nuc', 'overall_mean_cyto', 'overall_std_cyto']\n",
    "\n",
    "# Extract 0 min data (shared baseline from dex_conc == 0)\n",
    "zero_min_summary = summary_stats[summary_stats['time'] == 0]\n",
    "zero_min_overall = overall_stats[overall_stats['time'] == 0]\n",
    "\n",
    "# Set Style\n",
    "sns.set_theme(style=\"ticks\", palette=\"colorblind\", context=\"poster\", font='times new roman')\n",
    "\n",
    "# Define the color palette for Nuclear and Cytoplasmic intensities\n",
    "colors_nuc_cyto = sns.color_palette(\"colorblind\", 2)  # Two colors: one for Nuclear, one for Cytoplasmic\n",
    "\n",
    "# Loop through the three experiments\n",
    "experiments = {\n",
    "    \"Experiment 1: 100 nM Time Sweep\": (expt1_concs, expt1_timepoints),\n",
    "    # \"Experiment 2: 75 min Concentration Sweep\": (expt2_concs, expt2_timepoints),\n",
    "    \"Experiment 3: Time and Concentration Sweep\": (expt3_concs, expt3_timepoints),\n",
    "}\n",
    "\n",
    "for expt_name, (concs, timepoints) in experiments.items():\n",
    "    for conc in concs:\n",
    "        # Filter data for plotting\n",
    "        subset_summary = summary_stats[(summary_stats['dex_conc'] == conc) & (summary_stats['time'].isin(timepoints))]\n",
    "        subset_overall = overall_stats[(overall_stats['dex_conc'] == conc) & (overall_stats['time'].isin(timepoints))]\n",
    "\n",
    "        # Add 0 min time point to all subsets if not already present\n",
    "        if 0 not in subset_summary['time'].values:\n",
    "            subset_summary = pd.concat([zero_min_summary, subset_summary], ignore_index=True)\n",
    "        if 0 not in subset_overall['time'].values:\n",
    "            subset_overall = pd.concat([zero_min_overall, subset_overall], ignore_index=True)\n",
    "\n",
    "        plt.figure(figsize=(10, 5))\n",
    "\n",
    "        # Plot Nuclear mRNA Count Mean with Error Bars\n",
    "        plt.errorbar(subset_summary['time'], subset_summary['mean_nuc_count'],\n",
    "                     yerr=subset_summary['std_nuc_count'], fmt='-o', color=colors_nuc_cyto[0], capsize=5,\n",
    "                     label='Nuclear mRNA Count Replicas')\n",
    "\n",
    "        # Filling between std deviations for overall data - Nuclear\n",
    "        plt.fill_between(subset_overall['time'],\n",
    "                         subset_overall['overall_mean_nuc'] - subset_overall['overall_std_nuc'],\n",
    "                         subset_overall['overall_mean_nuc'] + subset_overall['overall_std_nuc'],\n",
    "                         color=colors_nuc_cyto[0], alpha=0.2, label='Total Data Spread - Nuclear')\n",
    "\n",
    "        # Plot Cytoplasmic mRNA Count Mean with Error Bars\n",
    "        plt.errorbar(subset_summary['time'], subset_summary['mean_cyto_count'],\n",
    "                     yerr=subset_summary['std_cyto_count'], fmt='-o', color=colors_nuc_cyto[1], capsize=5,\n",
    "                     label='Cytoplasmic mRNA Count Replicas')\n",
    "\n",
    "        # Filling between std deviations for overall data - Cytoplasmic\n",
    "        plt.fill_between(subset_overall['time'],\n",
    "                         subset_overall['overall_mean_cyto'] - subset_overall['overall_std_cyto'],\n",
    "                         subset_overall['overall_mean_cyto'] + subset_overall['overall_std_cyto'],\n",
    "                         color=colors_nuc_cyto[1], alpha=0.2, label='Total Data Spread - Cytoplasmic')\n",
    "\n",
    "        # Customize the plot\n",
    "        plt.title(f\"{expt_name} - {conc} nM Dex\", fontsize=18, fontweight='bold')\n",
    "        plt.xlabel('Time (min)', fontsize=14)\n",
    "        plt.ylabel('mRNA Spot Count', fontsize=14)\n",
    "        plt.grid(True)\n",
    "        plt.legend(loc='upper left', fontsize=12, frameon=False, bbox_to_anchor=(1, 1))\n",
    "\n",
    "\n",
    "        # Show the plot\n",
    "        plt.show()\n"
   ]
  },
  {
   "cell_type": "code",
   "execution_count": null,
   "metadata": {},
   "outputs": [],
   "source": [
    "# Make a copy of the DUSP1 data\n",
    "DUSP1_data = df_dusp_gated.copy()\n",
    "\n",
    "# Experiment 2: 75 min concentration sweep (Replicas G, H, I)\n",
    "df_expt2 = DUSP1_data[DUSP1_data['replica'].isin(['G', 'H', 'I'])].copy()\n",
    "\n",
    "# Set Seaborn style\n",
    "sns.set_theme(style=\"ticks\", palette=\"colorblind\", context=\"poster\", font='times new roman')\n",
    "\n",
    "# Melt DataFrame for Seaborn Box Plot\n",
    "melted_expt2_data = df_expt2.melt(id_vars=['dex_conc'], value_vars=['num_nuc_spots', 'num_cyto_spots'],\n",
    "                                  var_name='Spot_Type', value_name='Spot_Count')\n",
    "\n",
    "# Update labels for readability\n",
    "melted_expt2_data['Spot_Type'] = melted_expt2_data['Spot_Type'].replace({\n",
    "    'num_nuc_spots': 'Nuclear Spots',\n",
    "    'num_cyto_spots': 'Cytoplasmic Spots'\n",
    "})\n",
    "\n",
    "# Create figure with two subplots\n",
    "fig, axes = plt.subplots(1, 2, figsize=(14, 6), sharey=True)\n",
    "\n",
    "# Nuclear Spots Plot\n",
    "ax1 = axes[0]\n",
    "nuc_data = melted_expt2_data[melted_expt2_data['Spot_Type'] == 'Nuclear Spots']\n",
    "sns.boxplot(x='dex_conc', y='Spot_Count', data=nuc_data, linewidth=2, width=0.6, showfliers=False, notch=True, ax=ax1)\n",
    "sns.stripplot(x='dex_conc', y='Spot_Count', data=nuc_data, dodge=True, jitter=True, size=3, alpha=0.4, ax=ax1, marker='o', edgecolor='black', color='gray')\n",
    "\n",
    "ax1.set_xlabel(\"Dexamethasone Concentration (nM)\", fontsize=14, fontweight='bold')\n",
    "ax1.set_ylabel(\"mRNA Spot Count\", fontsize=14, fontweight='bold')\n",
    "ax1.set_title(\"Nuclear DUSP1 Spot Count\", fontsize=16, fontweight='bold')\n",
    "ax1.grid(True, linestyle=\"--\", linewidth=0.5)\n",
    "\n",
    "# Cytoplasmic Spots Plot\n",
    "ax2 = axes[1]\n",
    "cyto_data = melted_expt2_data[melted_expt2_data['Spot_Type'] == 'Cytoplasmic Spots']\n",
    "sns.boxplot(x='dex_conc', y='Spot_Count', data=cyto_data, linewidth=2, width=0.6, showfliers=False, notch=True, ax=ax2)\n",
    "sns.stripplot(x='dex_conc', y='Spot_Count', data=cyto_data, dodge=True, jitter=True, size=2, alpha=0.4, ax=ax2, marker='o', edgecolor='black', color='gray')\n",
    "\n",
    "ax2.set_xlabel(\"Dexamethasone Concentration (nM)\", fontsize=14, fontweight='bold')\n",
    "ax2.set_ylabel(\"\")  # Remove redundant label\n",
    "ax2.set_title(\"Cytoplasmic DUSP1 Spot Count\", fontsize=16, fontweight='bold')\n",
    "ax2.grid(True, linestyle=\"--\", linewidth=0.5)\n",
    "\n",
    "# Set Y-limits \n",
    "ax1.set_ylim(0, 300)\n",
    "ax2.set_ylim(0, 800)\n",
    "\n",
    "# Adjust layout\n",
    "plt.tight_layout()\n",
    "\n",
    "# Show the plot\n",
    "plt.show()\n"
   ]
  },
  {
   "cell_type": "code",
   "execution_count": null,
   "metadata": {},
   "outputs": [],
   "source": [
    "## Cytoplasmic and Nuclear mRNA Spot Counts at 0 min\n",
    "\n",
    "# Make a copy of the DUSP1 data\n",
    "DUSP1_data = df_dusp_gated.copy()\n",
    "\n",
    "# Subset data for 0 min time points\n",
    "df_0min = DUSP1_data[DUSP1_data['time'] == 0]\n",
    "\n",
    "# Plot distribution of nuclear and cytoplasmic mRNA spots across replicas for 0 min time point\n",
    "fig, axes = plt.subplots(1, 2, figsize=(14, 6), sharey=True)\n",
    "\n",
    "sns.boxplot(data=df_0min, x='replica', y='num_nuc_spots', ax=axes[0])\n",
    "axes[0].set_title('Nuclear mRNA Spot Counts at 0 min')\n",
    "axes[0].set_ylabel('Nuclear Spot Count')\n",
    "axes[0].set_xlabel('Replica')\n",
    "\n",
    "sns.boxplot(data=df_0min, x='replica', y='num_cyto_spots', ax=axes[1])\n",
    "axes[1].set_title('Cytoplasmic mRNA Spot Counts at 0 min')\n",
    "axes[1].set_ylabel('Cytoplasmic Spot Count')\n",
    "axes[1].set_xlabel('Replica')\n",
    "\n",
    "plt.tight_layout()\n",
    "plt.show()"
   ]
  }
 ],
 "metadata": {
  "kernelspec": {
   "display_name": ".venv",
   "language": "python",
   "name": "python3"
  },
  "language_info": {
   "codemirror_mode": {
    "name": "ipython",
    "version": 3
   },
   "file_extension": ".py",
   "mimetype": "text/x-python",
   "name": "python",
   "nbconvert_exporter": "python",
   "pygments_lexer": "ipython3",
   "version": "3.11.8"
  }
 },
 "nbformat": 4,
 "nbformat_minor": 2
}
