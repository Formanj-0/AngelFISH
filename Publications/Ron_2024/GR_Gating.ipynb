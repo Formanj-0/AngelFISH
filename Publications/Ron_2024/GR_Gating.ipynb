{
 "cells": [
  {
   "cell_type": "code",
   "execution_count": null,
   "metadata": {},
   "outputs": [],
   "source": [
    "import h5py\n",
    "import numpy as np\n",
    "import matplotlib.pyplot as plt\n",
    "import pandas as pd\n",
    "import dask.array as da\n",
    "import os\n",
    "import sys\n",
    "import logging\n",
    "\n",
    "\n",
    "logging.getLogger('matplotlib.font_manager').disabled = True\n",
    "numba_logger = logging.getLogger('numba')\n",
    "numba_logger.setLevel(logging.WARNING)\n",
    "\n",
    "matplotlib_logger = logging.getLogger('matplotlib')\n",
    "matplotlib_logger.setLevel(logging.WARNING)\n",
    "\n",
    "src_path = os.path.abspath(os.path.join(os.getcwd(), '..', '..'))\n",
    "print(src_path)\n",
    "sys.path.append(src_path)\n",
    "\n",
    "from src.Analysis import Analysis, AnalysisManager, GR_Confirmation, SpotDetection_Confirmation"
   ]
  },
  {
   "cell_type": "markdown",
   "metadata": {},
   "source": [
    "Loads in the data from specified location"
   ]
  },
  {
   "cell_type": "code",
   "execution_count": 2,
   "metadata": {},
   "outputs": [],
   "source": [
    "loc = None # r\"Y:\\smFISH_images\\Eric_smFISH_images\\20230511\\GR_ICC_3hr_R1_1nM_0min_050823\\GR_ICC_3hr_R1_1nM_0min_050823.h5\"\n",
    "log_location = r'\\\\munsky-nas.engr.colostate.edu\\share\\Users\\Jack\\All_Analysis'  # r'Y:\\Users\\Jack\\All_Analysis'\n",
    "am = AnalysisManager(location=loc, log_location=log_location) # change this to your mounted drive location for this folder\n",
    "# This analysis is best done with the NAS mounted "
   ]
  },
  {
   "cell_type": "code",
   "execution_count": null,
   "metadata": {},
   "outputs": [],
   "source": [
    "# list all analysis done \n",
    "am.list_analysis_names()"
   ]
  },
  {
   "cell_type": "code",
   "execution_count": null,
   "metadata": {},
   "outputs": [],
   "source": [
    "# can filter on name and dates\n",
    "am.select_analysis('ER_Jan0925_GR')\n",
    "print(am.analysis)"
   ]
  },
  {
   "cell_type": "markdown",
   "metadata": {},
   "source": [
    "Does analysis/confirmation"
   ]
  },
  {
   "cell_type": "code",
   "execution_count": 5,
   "metadata": {},
   "outputs": [],
   "source": [
    "# select GR conformation analysis \n",
    "GR = GR_Confirmation(am)"
   ]
  },
  {
   "cell_type": "code",
   "execution_count": 6,
   "metadata": {},
   "outputs": [],
   "source": [
    "# this loads the data into memory \n",
    "GR.get_data()"
   ]
  },
  {
   "cell_type": "code",
   "execution_count": 7,
   "metadata": {
    "notebookRunGroups": {
     "groupValue": "1"
    }
   },
   "outputs": [],
   "source": [
    "# This is a temporary fix, I didnt do this in the correct spot in the first run\n",
    "# this will be fixed in future runs\n",
    "for h5 in np.unique(GR.cellprops['h5_idx']):\n",
    "    GR.cellprops.loc[GR.cellprops['h5_idx'] == h5, 'fov'] = pd.Categorical(GR.cellprops.loc[GR.cellprops['h5_idx'] == h5, 'fov']).codes\n"
   ]
  },
  {
   "cell_type": "code",
   "execution_count": null,
   "metadata": {},
   "outputs": [],
   "source": [
    "# make sure this has all the measurements you want\n",
    "GR.cellprops.keys()"
   ]
  },
  {
   "cell_type": "code",
   "execution_count": null,
   "metadata": {},
   "outputs": [],
   "source": [
    "# run this multiple times to see a new randomly selected cell\n",
    "GR.display()"
   ]
  },
  {
   "cell_type": "code",
   "execution_count": null,
   "metadata": {},
   "outputs": [],
   "source": [
    "GR.cellprops"
   ]
  },
  {
   "cell_type": "code",
   "execution_count": null,
   "metadata": {},
   "outputs": [],
   "source": [
    "keys_to_plot = ['nuc_area', 'nuc_intensity_mean']\n",
    "channel_maps = {'-1': ' DAPI', '-0': ' GR'}\n",
    "for k in GR.cellprops.keys():\n",
    "    if k in keys_to_plot or k.split('-')[0] in keys_to_plot:\n",
    "        # Plot histogram for 'area'\n",
    "        plt.figure(figsize=(10, 5))\n",
    "        plt.hist(GR.cellprops[k], bins=30, alpha=0.5, label='Area')\n",
    "        plt.ylabel('Frequency')\n",
    "        for suffix, channel in channel_maps.items():\n",
    "            if k.endswith(suffix):\n",
    "                k = k.replace(suffix, channel)\n",
    "                break\n",
    "        plt.title(f'Histogram of {k}')\n",
    "        plt.legend()\n",
    "        plt.show()"
   ]
  },
  {
   "cell_type": "code",
   "execution_count": null,
   "metadata": {},
   "outputs": [],
   "source": [
    "# spot counts as a function of time and dex\n",
    "tp_set = sorted(set(GR.cellprops['time']))\n",
    "print(tp_set)\n",
    "dex_set = sorted(set(GR.cellprops['Dex_Conc']))\n",
    "print(dex_set)\n",
    "keys_to_plot = ['nuc_area', 'nuc_intensity_mean-0']\n",
    "for k in keys_to_plot:\n",
    "    fig, axs = plt.subplots(len(tp_set), len(dex_set), figsize=(15, 15))\n",
    "    for suffix, channel in channel_maps.items():\n",
    "        if k.endswith(suffix):\n",
    "            l = k.replace(suffix, channel)\n",
    "            break\n",
    "        else:\n",
    "            l = k\n",
    "    fig.suptitle(f'{l} as a function of time and dex', fontsize=16)\n",
    "    for i_d, d in enumerate(dex_set):\n",
    "        data = GR.cellprops[GR.cellprops['Dex_Conc'] == d]\n",
    "        for i_t, t in enumerate(tp_set):\n",
    "            temp = data[data['time'] == t]\n",
    "            mean_val = temp[k].mean()\n",
    "            std_val = temp[k].std()\n",
    "            if d == 0 and t == 0:\n",
    "                for ax in axs[i_t, :]:\n",
    "                    ax.hist(temp[k], bins=200, density=True)\n",
    "                    ax.axvline(mean_val, color='r', linestyle='solid', linewidth=2)\n",
    "                    ax.axvline(mean_val + std_val, color='g', linestyle='dashed', linewidth=1)\n",
    "                    ax.axvline(mean_val - std_val, color='g', linestyle='dashed', linewidth=1)\n",
    "                    ax.set_xlim([0, GR.cellprops[k].max()])\n",
    "                    ax.set_xticks([])\n",
    "                    ax.set_yticks([])\n",
    "                    ax.grid(True, axis='x', linestyle='--', linewidth=0.5)\n",
    "            else:\n",
    "                axs[i_t, i_d].hist(temp[k], bins=200, density=True)\n",
    "                axs[i_t, i_d].axvline(mean_val, color='r', linestyle='solid', linewidth=2)\n",
    "                axs[i_t, i_d].axvline(mean_val + std_val, color='g', linestyle='dashed', linewidth=1)\n",
    "                axs[i_t, i_d].axvline(mean_val - std_val, color='g', linestyle='dashed', linewidth=1)\n",
    "                axs[i_t, i_d].set_xlim([0, GR.cellprops[k].max()])\n",
    "                axs[i_t, i_d].set_yticks([])\n",
    "                axs[i_t, i_d].grid(True, axis='x', linestyle='--', linewidth=0.5)\n",
    "                if i_t != len(tp_set) - 1:\n",
    "                    axs[i_t, i_d].set_xticks([])\n",
    "            axs[i_t, 0].set_ylabel(f'Time: {t}')\n",
    "            axs[0, i_d].set_title(f'Dex: {d}')\n",
    "    plt.show()\n",
    "\n"
   ]
  },
  {
   "cell_type": "code",
   "execution_count": 13,
   "metadata": {},
   "outputs": [],
   "source": [
    "GR.close()"
   ]
  }
 ],
 "metadata": {
  "kernelspec": {
   "display_name": ".venv",
   "language": "python",
   "name": "python3"
  },
  "language_info": {
   "codemirror_mode": {
    "name": "ipython",
    "version": 3
   },
   "file_extension": ".py",
   "mimetype": "text/x-python",
   "name": "python",
   "nbconvert_exporter": "python",
   "pygments_lexer": "ipython3",
   "version": "3.12.7"
  }
 },
 "nbformat": 4,
 "nbformat_minor": 2
}
