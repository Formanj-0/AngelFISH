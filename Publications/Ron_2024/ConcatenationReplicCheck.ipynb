{
 "cells": [
  {
   "cell_type": "markdown",
   "id": "41294859",
   "metadata": {},
   "source": [
    "## DUSP1 Dataframe Concatenation and Replica Check\n",
    "- Concatenate experimental dataframes based on specific conditions:\n",
    "    - **100nM 3hr Time-Sweep (TS):** Data collected over a 3-hour time period with a fixed concentration of 100nM.\n",
    "    - **75min Concentration-Sweep:** Data collected over varying concentrations during a 75-minute time period.\n",
    "    - **3hr Time-Concentration Sweep (TCS):** Data collected over a 3-hour period with varying concentrations.\n",
    "    - **Triptiolide (TPL):** Data collected under conditions involving Triptiolide treatment.\n",
    "- Perform a replica check to ensure data consistency and identify any discrepancies across experimental replicates.\n",
    "- Document and visualize the concatenated data for further analysis."
   ]
  },
  {
   "cell_type": "code",
   "execution_count": null,
   "id": "6dd2852b",
   "metadata": {},
   "outputs": [],
   "source": [
    "import matplotlib.pyplot as plt\n",
    "import seaborn as sns\n",
    "import pandas as pd\n",
    "import numpy as np\n",
    "import os\n",
    "import sys\n",
    "import datetime\n",
    "\n",
    "import h5py\n",
    "import dask.array as da\n",
    "\n",
    "# src_path = os.path.abspath(os.path.join(os.getcwd(), '..', '..'))\n",
    "# print(src_path)\n",
    "# sys.path.append(src_path)\n",
    "\n",
    "# from src.Analysis_DUSP1_v2 import DUSP1DisplayManager"
   ]
  },
  {
   "cell_type": "markdown",
   "id": "dd3b7662",
   "metadata": {},
   "source": [
    "## DUSP1 TS Experiments\n",
    "- Replica's D, E, F\n",
    "- Partial's M, N"
   ]
  },
  {
   "cell_type": "code",
   "execution_count": 3,
   "id": "9c9d7e4e",
   "metadata": {},
   "outputs": [
    {
     "name": "stdout",
     "output_type": "stream",
     "text": [
      "Index(['Unnamed: 0', 'unique_cell_id', 'touching_border', 'MG_count',\n",
      "       'nuc_MG_count', 'cyto_MG_count', 'num_ts', 'num_foci', 'num_spots_foci',\n",
      "       'num_spots_ts', 'largest_ts', 'second_largest_ts', 'nuc_area_px',\n",
      "       'cyto_area_px', 'avg_nuc_int', 'avg_cyto_int', 'avg_cell_int',\n",
      "       'std_cell_int', 'time', 'dex_conc', 'replica', 'fov', 'nas_location',\n",
      "       'h5_idx'],\n",
      "      dtype='object')\n"
     ]
    }
   ],
   "source": [
    "# Load in the dataframes\n",
    "\n",
    "DUSP1_RepD_results = pd.read_csv('/Users/ericron/Desktop/AngelFISH/Publications/Ron_2024/dataframes/DUSP1_D_cell_level_results_Apr21_filtered_MG3.csv')\n",
    "DUSP1_RepD_spots = pd.read_csv('/Users/ericron/Desktop/AngelFISH/Publications/Ron_2024/dataframes/DUSP1_D_merged_spots_Apr21_filtered_MG3.csv')\n",
    "DUSP1_RepD_clusters = pd.read_csv('/Users/ericron/Desktop/AngelFISH/Publications/Ron_2024/dataframes/DUSP1_D_merged_clusters_Apr21_filtered_MG3.csv')\n",
    "\n",
    "DUSP1_RepE_results = pd.read_csv('/Users/ericron/Desktop/AngelFISH/Publications/Ron_2024/dataframes/DUSP1_E_cell_level_results_Apr21_filtered_MG3.csv')\n",
    "DUSP1_RepE_spots = pd.read_csv('/Users/ericron/Desktop/AngelFISH/Publications/Ron_2024/dataframes/DUSP1_E_merged_spots_Apr21_filtered_MG3.csv')\n",
    "DUSP1_RepE_clusters = pd.read_csv('/Users/ericron/Desktop/AngelFISH/Publications/Ron_2024/dataframes/DUSP1_E_merged_clusters_Apr21_filtered_MG3.csv')\n",
    "\n",
    "DUSP1_RepF_results = pd.read_csv('/Users/ericron/Desktop/AngelFISH/Publications/Ron_2024/dataframes/DUSP1_F_cell_level_results_Apr21_filtered_MG3.csv')\n",
    "DUSP1_RepF_spots = pd.read_csv('/Users/ericron/Desktop/AngelFISH/Publications/Ron_2024/dataframes/DUSP1_F_merged_spots_Apr21_filtered_MG3.csv')\n",
    "DUSP1_RepF_clusters = pd.read_csv('/Users/ericron/Desktop/AngelFISH/Publications/Ron_2024/dataframes/DUSP1_F_merged_clusters_Apr21_filtered_MG3.csv')\n",
    "\n",
    "DUSP1_RepM_results = pd.read_csv('/Users/ericron/Desktop/AngelFISH/Publications/Ron_2024/dataframes/DUSP1_M_cell_level_results_Apr21_filtered_MG3.csv')\n",
    "DUSP1_RepM_spots = pd.read_csv('/Users/ericron/Desktop/AngelFISH/Publications/Ron_2024/dataframes/DUSP1_M_merged_spots_Apr21_filtered_MG3.csv')\n",
    "DUSP1_RepM_clusters = pd.read_csv('/Users/ericron/Desktop/AngelFISH/Publications/Ron_2024/dataframes/DUSP1_M_merged_clusters_Apr21_filtered_MG3.csv')\n",
    "\n",
    "DUSP1_RepN_results = pd.read_csv('/Users/ericron/Desktop/AngelFISH/Publications/Ron_2024/dataframes/DUSP1_N_cell_level_results_Apr21_filtered_MG3.csv')\n",
    "DUSP1_RepN_spots = pd.read_csv('/Users/ericron/Desktop/AngelFISH/Publications/Ron_2024/dataframes/DUSP1_N_merged_spots_Apr21_filtered_MG3.csv')\n",
    "DUSP1_RepN_clusters = pd.read_csv('/Users/ericron/Desktop/AngelFISH/Publications/Ron_2024/dataframes/DUSP1_N_merged_clusters_Apr21_filtered_MG3.csv')\n",
    "\n",
    "print(DUSP1_RepD_results.keys())"
   ]
  },
  {
   "cell_type": "code",
   "execution_count": null,
   "id": "a1a4c503",
   "metadata": {},
   "outputs": [],
   "source": [
    "# Concatenate the results dataframes "
   ]
  }
 ],
 "metadata": {
  "kernelspec": {
   "display_name": ".venv",
   "language": "python",
   "name": "python3"
  },
  "language_info": {
   "codemirror_mode": {
    "name": "ipython",
    "version": 3
   },
   "file_extension": ".py",
   "mimetype": "text/x-python",
   "name": "python",
   "nbconvert_exporter": "python",
   "pygments_lexer": "ipython3",
   "version": "3.11.8"
  }
 },
 "nbformat": 4,
 "nbformat_minor": 5
}
