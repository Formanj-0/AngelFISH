{
 "cells": [
  {
   "cell_type": "code",
   "execution_count": null,
   "id": "7d501be4",
   "metadata": {},
   "outputs": [],
   "source": [
    "import os\n",
    "import sys\n",
    "cwd = os.getcwd()\n",
    "source_path = os.path.join(cwd, '..')\n",
    "print(source_path)\n",
    "sys.path.append(source_path)\n",
    "\n",
    "import logging\n",
    "logging.getLogger('numba').setLevel(logging.WARNING)\n",
    "logging.getLogger('matplotlib').setLevel(logging.WARNING)\n",
    "\n",
    "import numpy as np\n",
    "import dask.array as da\n",
    "from joblib import Parallel, delayed\n",
    "import matplotlib.pyplot as plt\n",
    "\n",
    "from src import Data, Parameters, Pycro, DownloadData, SimpleCellposeSegmentaion, BIGFISH_SpotDetection, CellProperties, Save_Images, Save_Masks, Save_Outputs, Save_Parameters, remove_local_data, return_to_NAS\n"
   ]
  },
  {
   "cell_type": "code",
   "execution_count": null,
   "id": "763d09f9",
   "metadata": {},
   "outputs": [],
   "source": [
    "params = Parameters()\n",
    "data = Data('DEFAULT_NAME')\n",
    "\n",
    "params.num_chunks_to_run = 2"
   ]
  },
  {
   "cell_type": "code",
   "execution_count": null,
   "id": "f4324c7d",
   "metadata": {},
   "outputs": [],
   "source": [
    "params.load_in_mask = True\n",
    "params.initial_data_location = None\n",
    "params.independent_params = {}\n",
    "\n",
    "if data.images is None:\n",
    "    params.local_dataset_location = DownloadData().main(**params.__dict__)['local_dataset_location']\n",
    "    output = Pycro().main(**params.__dict__)\n",
    "    data.append(output)\n",
    "\n",
    "pp = data.images.shape[0]\n",
    "tt = data.images.shape[1]\n",
    "cc = data.images.shape[2]\n",
    "zz = data.images.shape[3]\n",
    "yy = data.images.shape[4]\n",
    "xx = data.images.shape[5]\n",
    "\n",
    "print(data)"
   ]
  },
  {
   "cell_type": "code",
   "execution_count": null,
   "id": "6f725044",
   "metadata": {},
   "outputs": [],
   "source": [
    "data.nuc_masks = da.zeros([pp, tt, yy, xx])\n",
    "params.nucChannel = 2\n",
    "\n",
    "\n",
    "def process_chunk(p, t, params):\n",
    "    output = SimpleCellposeSegmentaion().main(**params)\n",
    "    return p, t, output['nuc_mask']\n",
    "\n",
    "futures = []\n",
    "for p in range(pp):\n",
    "    for t in range(tt):\n",
    "        if len(futures) >= params.num_chunks_to_run:\n",
    "            break\n",
    "        futures.append((p, t, \n",
    "                        {**params.__dict__, \n",
    "                         **data.__dict__, \n",
    "                         'image': data.images[p, t], \n",
    "                         'fov': p, \n",
    "                         'timepoint': t}))\n",
    "\n",
    "results = Parallel(n_jobs=-1)(\n",
    "    delayed(process_chunk)(p, t, params) for p, t, params in futures\n",
    ")\n",
    "\n",
    "for p, t, nuc_mask in results:\n",
    "    data.nuc_masks[p, t, :, :] = nuc_mask\n"
   ]
  },
  {
   "cell_type": "code",
   "execution_count": null,
   "id": "d5faa401",
   "metadata": {},
   "outputs": [],
   "source": [
    "plt.imshow(data.nuc_masks[0, 0, :, :])\n",
    "plt.show()"
   ]
  },
  {
   "cell_type": "code",
   "execution_count": null,
   "id": "2d3a4492",
   "metadata": {},
   "outputs": [],
   "source": [
    "params.FISHChannel = [0]\n",
    "params.bigfish_alpha = 0.99\n",
    "params.bigfish_beta = 1\n",
    "params.bigfish_gamma = 5\n",
    "params.voxel_size_yx = 130\n",
    "params.voxel_size_z = 500\n",
    "params.spot_yx = 160\n",
    "params.spot_z = 1000\n",
    "\n",
    "def process_chunk(p, t, params):\n",
    "    output = BIGFISH_SpotDetection().main(**params)\n",
    "    return p, t, output\n",
    "\n",
    "futures = []\n",
    "for p in range(pp):\n",
    "    for t in range(tt):\n",
    "        if len(futures) >= params.num_chunks_to_run:\n",
    "            break\n",
    "        kwargs = (p, t, \n",
    "                  {**params.__dict__, \n",
    "                   **data.__dict__, \n",
    "                   'image': data.images[p, t], \n",
    "                   'fov': p, \n",
    "                   'timepoint': t,\n",
    "                   'nuc_mask': np.array(data.nuc_masks[p,t]) if data.nuc_masks is not None else None,\n",
    "                   'cell_mask': np.array(data.cell_masks[p, t]) if data.cell_masks is not None else None})\n",
    "        futures.append(kwargs)\n",
    "\n",
    "results = Parallel(n_jobs=-1)(\n",
    "    delayed(process_chunk)(p, t, params) for p, t, params in futures\n",
    ")\n",
    "\n",
    "for p, t, output in results:\n",
    "    data.append(output)\n"
   ]
  },
  {
   "cell_type": "code",
   "execution_count": null,
   "id": "4579805b",
   "metadata": {},
   "outputs": [],
   "source": [
    "def process_chunk(p, t, params):\n",
    "    output = CellProperties().main(**params)\n",
    "    return p, t, output\n",
    "\n",
    "futures = []\n",
    "for p in range(pp):\n",
    "    for t in range(tt):\n",
    "        if len(futures) >= params.num_chunks_to_run:\n",
    "            break\n",
    "        kwargs = (p, t, \n",
    "                  {**params.__dict__, \n",
    "                   **data.__dict__, \n",
    "                   'image': data.images[p, t], \n",
    "                   'fov': p, \n",
    "                   'timepoint': t,\n",
    "                   'nuc_mask': np.array(data.nuc_masks[p,t][np.newaxis, :, :]) if data.nuc_masks is not None else None,\n",
    "                   'cell_mask': np.array(data.cell_masks[p, t][np.newaxis, :, :]) if data.cell_masks is not None else None})\n",
    "        futures.append(kwargs)\n",
    "\n",
    "results = Parallel(n_jobs=-1)(\n",
    "    delayed(process_chunk)(p, t, params) for p, t, params in futures\n",
    ")\n",
    "\n",
    "for p, t, output in results:\n",
    "    data.append(output)"
   ]
  },
  {
   "cell_type": "code",
   "execution_count": null,
   "id": "b1e85e36",
   "metadata": {},
   "outputs": [],
   "source": [
    "Save_Images().main(**{**params.__dict__, **data.__dict__})\n",
    "\n",
    "Save_Masks().main(**{**params.__dict__, **data.__dict__, \n",
    "                    'masks':{'nuc_masks': data.nuc_masks}})\n",
    "\n",
    "Save_Parameters().main(params, **{**params.__dict__, **data.__dict__})\n",
    "\n",
    "Save_Outputs().main(data.__dict__, **{**params.__dict__, 'position_indexs': data.position_indexs})\n"
   ]
  },
  {
   "cell_type": "code",
   "execution_count": null,
   "id": "0455d573",
   "metadata": {},
   "outputs": [],
   "source": [
    "return_to_NAS().main(**params.__dict__)"
   ]
  },
  {
   "cell_type": "code",
   "execution_count": null,
   "id": "ba2352af",
   "metadata": {},
   "outputs": [],
   "source": [
    "print(params)\n",
    "print(data)"
   ]
  }
 ],
 "metadata": {
  "kernelspec": {
   "display_name": ".venv",
   "language": "python",
   "name": "python3"
  },
  "language_info": {
   "codemirror_mode": {
    "name": "ipython",
    "version": 3
   },
   "file_extension": ".py",
   "mimetype": "text/x-python",
   "name": "python",
   "nbconvert_exporter": "python",
   "pygments_lexer": "ipython3",
   "version": "3.12.5"
  }
 },
 "nbformat": 4,
 "nbformat_minor": 5
}
